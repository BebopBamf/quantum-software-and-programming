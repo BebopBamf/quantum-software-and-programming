{
 "cells": [
  {
   "cell_type": "markdown",
   "metadata": {
    "vscode": {
     "languageId": "raw"
    }
   },
   "source": [
    "# High-level Algorithm Design with Qmod\n",
    "# Workshop - Language Concepts"
   ]
  },
  {
   "cell_type": "markdown",
   "metadata": {},
   "source": [
    "In this workshop we will learn to use high-level quantum programming language concepts to design quantum algorithms. We will use the Qmod language to model the functionality, and the Classiq platform to synthesize it into gate-level descriptions, visualize the circuits, and execute them. We will focus on high-level quantum types and expressions in different evaluation modes.\n",
    "\n",
    "Part I is a walk through Qmod's structure and constructs, as well as some of its unique high-level concepts. We will look closely at these constructs using small examples. In Part II we will combine some of these concepts in a complete quantum algorithm.\n",
    "\n",
    "There are 5 code exercises in this notebook, split into two sections, *A* and *B*. In each exercise follow the instructions - complete the code snippet where indicated by a *TODO* comment, execute the code, and try to understand the results. Solutions are provided at the end of the notebook. Don't continue to the next exercise before you completed the previous one and compared your code and results against the solution."
   ]
  },
  {
   "cell_type": "markdown",
   "metadata": {},
   "source": [
    "## Section A *(15 minutes)*"
   ]
  },
  {
   "cell_type": "markdown",
   "metadata": {},
   "source": [
    "### Warmup: A First Qmod Program\n",
    "\n",
    "Let's start with a simple example to demonstrate the structure of Qmod code, as well as its synthesis and execution flow. We prepare and sample a **Bell state** - one of the most fundamental quantum states.\n",
    "\n",
    "Further reading:\n",
    "[Quantum Functions](https://docs.classiq.io/latest/qmod-reference/language-reference/functions/)"
   ]
  },
  {
   "cell_type": "code",
   "execution_count": 9,
   "metadata": {},
   "outputs": [],
   "source": [
    "from classiq import *\n",
    "\n",
    "\n",
    "@qfunc  # This decorator declares a quantum function\n",
    "def create_bell_state(pair: QArray[QBit, 2]):\n",
    "    H(pair[0])\n",
    "    CX(pair[0], pair[1])\n",
    "\n",
    "\n",
    "@qfunc  # Function 'main' is the entry point of our quantum program\n",
    "def main(res: Output[QArray[QBit, 2]]):\n",
    "    allocate(res)\n",
    "    create_bell_state(res)"
   ]
  },
  {
   "cell_type": "markdown",
   "metadata": {},
   "source": [
    "*<div class=\"alert alert-info\">Quantum functions in Qmod are defined using a regular Python function, decorated with **qfunc**, and their parameters must be declared with type hints.</div>*"
   ]
  },
  {
   "cell_type": "markdown",
   "metadata": {},
   "source": [
    "We can now compile with the SDK function `synthesize`. We get back an executable description called *quantum program* which we then execute on any simulation or quantum hardware. To manage the execution flow we use `ExecutionSession`. In our case, a simple sampling (using the default number of shots) of the quantum program will suffice."
   ]
  },
  {
   "cell_type": "code",
   "execution_count": 10,
   "metadata": {},
   "outputs": [
    {
     "name": "stdout",
     "output_type": "stream",
     "text": [
      "Quantum program link: https://platform.classiq.io/circuit/31oOs8PriN4eciU6OrR5HzP1Lyg\n"
     ]
    },
    {
     "data": {
      "application/vnd.classiq+qviz": "{\"version\":\"0.90.0\",\"interface_version\":\"12\",\"main_operation\":null,\"id_to_operations\":{\"0\":{\"name\":\"allocate\",\"inner_label\":null,\"qasm_name\":\"\",\"details\":\"\",\"children\":[],\"children_ids\":[],\"operation_data\":null,\"operation_links\":{\"inputs\":[],\"outputs\":[{\"label\":\"res\",\"inner_label\":\"ARG\",\"qubits\":[0,1],\"type\":\"\",\"is_captured\":false}]},\"control_qubits\":[],\"auxiliary_qubits\":[],\"target_qubits\":[0,1],\"operation_level\":\"UNKNOWN\",\"operation_type\":\"ALLOCATE\",\"gate\":\"\",\"is_daggered\":false,\"expanded\":false,\"show_expanded_label\":false,\"is_low_level_fallback\":false,\"is_measurement\":false},\"1\":{\"name\":\"H\",\"inner_label\":null,\"qasm_name\":\"h\",\"details\":\"\",\"children\":[],\"children_ids\":[],\"operation_data\":null,\"operation_links\":{\"inputs\":[{\"label\":\"pair[0]\",\"inner_label\":\"pair[0]\",\"qubits\":[0],\"type\":\"\",\"is_captured\":false}],\"outputs\":[{\"label\":\"pair[0]\",\"inner_label\":\"pair[0]\",\"qubits\":[0],\"type\":\"\",\"is_captured\":false}]},\"control_qubits\":[],\"auxiliary_qubits\":[],\"target_qubits\":[0],\"operation_level\":\"UNKNOWN\",\"operation_type\":\"ATOMIC\",\"gate\":\"H\",\"is_daggered\":false,\"expanded\":false,\"show_expanded_label\":false,\"is_low_level_fallback\":false,\"is_measurement\":false},\"2\":{\"name\":\"CX\",\"inner_label\":null,\"qasm_name\":\"cx\",\"details\":\"\",\"children\":[],\"children_ids\":[],\"operation_data\":null,\"operation_links\":{\"inputs\":[{\"label\":\"pair[1]\",\"inner_label\":\"pair\",\"qubits\":[1],\"type\":\"\",\"is_captured\":false},{\"label\":\"pair[0]\",\"inner_label\":\"pair\",\"qubits\":[0],\"type\":\"\",\"is_captured\":false}],\"outputs\":[{\"label\":\"pair[1]\",\"inner_label\":\"pair\",\"qubits\":[1],\"type\":\"\",\"is_captured\":false},{\"label\":\"pair[0]\",\"inner_label\":\"pair\",\"qubits\":[0],\"type\":\"\",\"is_captured\":false}]},\"control_qubits\":[0],\"auxiliary_qubits\":[],\"target_qubits\":[1],\"operation_level\":\"UNKNOWN\",\"operation_type\":\"ATOMIC\",\"gate\":\"CX\",\"is_daggered\":false,\"expanded\":false,\"show_expanded_label\":false,\"is_low_level_fallback\":false,\"is_measurement\":false},\"3\":{\"name\":\"pre__H__bind\",\"inner_label\":null,\"qasm_name\":\"\",\"details\":\"\",\"children\":[],\"children_ids\":[],\"operation_data\":null,\"operation_links\":{\"inputs\":[{\"label\":\"pair\",\"inner_label\":\"pair\",\"qubits\":[0,1],\"type\":\"\",\"is_captured\":false}],\"outputs\":[{\"label\":\"\",\"inner_label\":null,\"qubits\":[1],\"type\":\"\",\"is_captured\":false},{\"label\":\"pair[0]\",\"inner_label\":\"pair[0]\",\"qubits\":[0],\"type\":\"\",\"is_captured\":false}]},\"control_qubits\":[],\"auxiliary_qubits\":[],\"target_qubits\":[],\"operation_level\":\"UNKNOWN\",\"operation_type\":\"BIND\",\"gate\":\"\",\"is_daggered\":false,\"expanded\":false,\"show_expanded_label\":false,\"is_low_level_fallback\":false,\"is_measurement\":false},\"4\":{\"name\":\"pre__CX__bind\",\"inner_label\":null,\"qasm_name\":\"\",\"details\":\"\",\"children\":[],\"children_ids\":[],\"operation_data\":null,\"operation_links\":{\"inputs\":[{\"label\":\"\",\"inner_label\":null,\"qubits\":[1],\"type\":\"\",\"is_captured\":false}],\"outputs\":[{\"label\":\"pair[1]\",\"inner_label\":\"pair\",\"qubits\":[1],\"type\":\"\",\"is_captured\":false}]},\"control_qubits\":[],\"auxiliary_qubits\":[],\"target_qubits\":[],\"operation_level\":\"UNKNOWN\",\"operation_type\":\"BIND\",\"gate\":\"\",\"is_daggered\":false,\"expanded\":false,\"show_expanded_label\":false,\"is_low_level_fallback\":false,\"is_measurement\":false},\"5\":{\"name\":\"pre__output__bind\",\"inner_label\":null,\"qasm_name\":\"\",\"details\":\"\",\"children\":[],\"children_ids\":[],\"operation_data\":null,\"operation_links\":{\"inputs\":[{\"label\":\"pair[1]\",\"inner_label\":\"pair\",\"qubits\":[1],\"type\":\"\",\"is_captured\":false},{\"label\":\"pair[0]\",\"inner_label\":\"pair\",\"qubits\":[0],\"type\":\"\",\"is_captured\":false}],\"outputs\":[{\"label\":\"pair\",\"inner_label\":\"pair\",\"qubits\":[0,1],\"type\":\"\",\"is_captured\":false}]},\"control_qubits\":[],\"auxiliary_qubits\":[],\"target_qubits\":[],\"operation_level\":\"UNKNOWN\",\"operation_type\":\"BIND\",\"gate\":\"\",\"is_daggered\":false,\"expanded\":false,\"show_expanded_label\":false,\"is_low_level_fallback\":false,\"is_measurement\":false},\"6\":{\"name\":\"pre__H__CX__bind\",\"inner_label\":null,\"qasm_name\":\"\",\"details\":\"\",\"children\":[],\"children_ids\":[],\"operation_data\":null,\"operation_links\":{\"inputs\":[{\"label\":\"pair\",\"inner_label\":\"pair\",\"qubits\":[0,1],\"type\":\"\",\"is_captured\":false}],\"outputs\":[{\"label\":\"pair[1]\",\"inner_label\":\"pair\",\"qubits\":[1],\"type\":\"\",\"is_captured\":false},{\"label\":\"pair[0]\",\"inner_label\":\"pair[0]\",\"qubits\":[0],\"type\":\"\",\"is_captured\":false}]},\"control_qubits\":[],\"auxiliary_qubits\":[],\"target_qubits\":[],\"operation_level\":\"UNKNOWN\",\"operation_type\":\"BIND\",\"gate\":\"\",\"is_daggered\":false,\"expanded\":false,\"show_expanded_label\":false,\"is_low_level_fallback\":false,\"is_measurement\":false},\"7\":{\"name\":\"create_bell_state\",\"inner_label\":\"\",\"qasm_name\":\"main__create_bell_state\",\"details\":\"\",\"children\":[],\"children_ids\":[6,1,2,5],\"operation_data\":{\"approximated_depth\":null,\"width\":2,\"gate_count\":{}},\"operation_links\":{\"inputs\":[{\"label\":\"res\",\"inner_label\":\"pair\",\"qubits\":[0,1],\"type\":\"\",\"is_captured\":false}],\"outputs\":[{\"label\":\"res\",\"inner_label\":\"pair\",\"qubits\":[0,1],\"type\":\"\",\"is_captured\":false}]},\"control_qubits\":[],\"auxiliary_qubits\":[],\"target_qubits\":[0,1],\"operation_level\":\"QMOD_CALL\",\"operation_type\":\"REGULAR\",\"gate\":\"\",\"is_daggered\":false,\"expanded\":false,\"show_expanded_label\":false,\"is_low_level_fallback\":false,\"is_measurement\":false},\"8\":{\"name\":\"main\",\"inner_label\":null,\"qasm_name\":\"\",\"details\":\"\",\"children\":[],\"children_ids\":[0,7],\"operation_data\":{\"approximated_depth\":2,\"width\":2,\"gate_count\":{\"H\":1,\"CX\":1}},\"operation_links\":{\"inputs\":[],\"outputs\":[{\"label\":\"res\",\"inner_label\":\"res\",\"qubits\":[0,1],\"type\":\"\",\"is_captured\":false}]},\"control_qubits\":[],\"auxiliary_qubits\":[],\"target_qubits\":[0,1],\"operation_level\":\"QMOD_CALL\",\"operation_type\":\"REGULAR\",\"gate\":\"\",\"is_daggered\":false,\"expanded\":false,\"show_expanded_label\":false,\"is_low_level_fallback\":false,\"is_measurement\":false}},\"main_operation_id\":8,\"program_data\":{\"hardware_data\":{\"basis_gates\":[\"cy\",\"x\",\"u\",\"t\",\"sxdg\",\"ry\",\"rx\",\"cz\",\"y\",\"id\",\"r\",\"sdg\",\"s\",\"h\",\"z\",\"rz\",\"u1\",\"cx\",\"sx\",\"u2\",\"p\",\"tdg\"],\"connectivity_map\":null,\"is_symmetric_connectivity\":true,\"backend_data\":null},\"circuit_metrics\":{\"depth\":2,\"count_ops\":{\"u\":1,\"cx\":1}}}}",
      "text/plain": [
       "https://platform.classiq.io/circuit/31oOs8PriN4eciU6OrR5HzP1Lyg?login=True&version=0.90.0"
      ]
     },
     "metadata": {
      "url": "https://platform.classiq.io/circuit/31oOs8PriN4eciU6OrR5HzP1Lyg?login=True&version=0.90.0"
     },
     "output_type": "display_data"
    },
    {
     "data": {
      "text/html": [
       "<div>\n",
       "<style scoped>\n",
       "    .dataframe tbody tr th:only-of-type {\n",
       "        vertical-align: middle;\n",
       "    }\n",
       "\n",
       "    .dataframe tbody tr th {\n",
       "        vertical-align: top;\n",
       "    }\n",
       "\n",
       "    .dataframe thead th {\n",
       "        text-align: right;\n",
       "    }\n",
       "</style>\n",
       "<table border=\"1\" class=\"dataframe\">\n",
       "  <thead>\n",
       "    <tr style=\"text-align: right;\">\n",
       "      <th></th>\n",
       "      <th>res</th>\n",
       "      <th>count</th>\n",
       "      <th>probability</th>\n",
       "      <th>bitstring</th>\n",
       "    </tr>\n",
       "  </thead>\n",
       "  <tbody>\n",
       "    <tr>\n",
       "      <th>0</th>\n",
       "      <td>[0, 0]</td>\n",
       "      <td>1040</td>\n",
       "      <td>0.507812</td>\n",
       "      <td>00</td>\n",
       "    </tr>\n",
       "    <tr>\n",
       "      <th>1</th>\n",
       "      <td>[1, 1]</td>\n",
       "      <td>1008</td>\n",
       "      <td>0.492188</td>\n",
       "      <td>11</td>\n",
       "    </tr>\n",
       "  </tbody>\n",
       "</table>\n",
       "</div>"
      ],
      "text/plain": [
       "      res  count  probability bitstring\n",
       "0  [0, 0]   1040     0.507812        00\n",
       "1  [1, 1]   1008     0.492188        11"
      ]
     },
     "metadata": {},
     "output_type": "display_data"
    }
   ],
   "source": [
    "qprog = synthesize(main)\n",
    "\n",
    "show(qprog)  # Visualize the quantum program for analysis\n",
    "\n",
    "# Execute and print the results:\n",
    "with ExecutionSession(qprog) as es:\n",
    "    res = es.sample()\n",
    "    display(res.dataframe)"
   ]
  },
  {
   "cell_type": "markdown",
   "metadata": {},
   "source": [
    "*<div class=\"alert alert-primary\">You should see in approximately 50% of the samples the bit vector 00 and in 50% the bit vector 11.</div>*"
   ]
  },
  {
   "cell_type": "markdown",
   "metadata": {
    "jp-MarkdownHeadingCollapsed": true
   },
   "source": [
    "*<div class=\"alert alert-info\">Synthesis is the process of compiling a high-level description to a gate-level description. The reduction is presented graphically. The executable format can be simulated using various simulation engines, or executed on quantum hardware of choice.</div>*"
   ]
  },
  {
   "cell_type": "markdown",
   "metadata": {},
   "source": [
    "### Exercise 1: GHZ State\n",
    "\n",
    "Based on the Bell state example above, prepare a **GHZ state** with 3 qubits. The GHZ state creates maximum entanglement between three qubits: (|000⟩ + |111⟩)/√2."
   ]
  },
  {
   "cell_type": "code",
   "execution_count": 11,
   "metadata": {},
   "outputs": [],
   "source": [
    "from classiq import *\n",
    "\n",
    "\n",
    "@qfunc\n",
    "def create_ghz_state(qubits: QArray[QBit, 3]):\n",
    "    # TODO: Apply GHZ logic\n",
    "    pass\n",
    "\n",
    "\n",
    "@qfunc\n",
    "def main(res: Output[QArray[QBit, 3]]):\n",
    "    allocate(res)\n",
    "    create_ghz_state(res)\n",
    "\n",
    "\n",
    "# TODO: Synthesize the model, show, execute and print results\n",
    "# Hint: Follow the same pattern as the demonstration above"
   ]
  },
  {
   "cell_type": "markdown",
   "metadata": {},
   "source": [
    "*<div class=\"alert alert-primary\">You should see in approximately 50% of the samples the bit vector 000 and in 50% the bit vector 111.</div>*"
   ]
  },
  {
   "cell_type": "markdown",
   "metadata": {},
   "source": [
    "### Exercise 2: GHZ with Numeric Variables\n",
    "\n",
    "Define a main function that calls the `create_ghz_state` (as implemented in Exercise 1) with a ***signed*** quantum number and outputs the results.\n",
    "\n",
    "Synthesize it, analyze the quantum program, execute it and print the results. What do you expect the resulting value of `x` to be? \n",
    "\n",
    "Further reading: [Quantum Types](https://docs.classiq.io/latest/qmod-reference/language-reference/quantum-types/)"
   ]
  },
  {
   "cell_type": "code",
   "execution_count": 12,
   "metadata": {},
   "outputs": [],
   "source": [
    "from classiq import *\n",
    "\n",
    "\n",
    "@qfunc\n",
    "def main(x: Output[QNum[3, SIGNED, 0]]):\n",
    "    # TODO: Create GHZ state with QNum (gives 0 and -1)\n",
    "    # Hint: Is it any different from the previous main implementation?\n",
    "    pass\n",
    "\n",
    "\n",
    "# TODO: Synthesize the model, show, execute and print results"
   ]
  },
  {
   "cell_type": "markdown",
   "metadata": {},
   "source": [
    "*<div class=\"alert alert-secondary\">You should see approximately 50% for 0 and 50% for -1.</div>*"
   ]
  },
  {
   "cell_type": "markdown",
   "metadata": {},
   "source": [
    "*<div class=\"alert alert-info\">In Qmod function arguments are automatically cast between **QNum** and **QArray[QBit]** (and also between other quantum types).\n",
    "    The value of quantum variables is interpreted based on their type. The state $|111\\rangle$ represents 7 for an unsigned integer, and -1 as signed integer (in two's complement encoding).</div>*"
   ]
  },
  {
   "cell_type": "markdown",
   "metadata": {},
   "source": [
    "## Section B *(30 minutes)*"
   ]
  },
  {
   "cell_type": "markdown",
   "metadata": {},
   "source": [
    "### Exercise 3: Arithmetic Expressions with Automatic Type Inference"
   ]
  },
  {
   "cell_type": "markdown",
   "metadata": {},
   "source": [
    "#### Part A: Numeric type inference\n",
    "\n",
    "Create and execute a quantum program that assigns a quantum arithmetic expression to a numeric variable:\n",
    "1. Declare quantum numeric variables `a` and `b` as unsigned integers of size of 2.\n",
    "2. Apply `hadamard_transform` on `a` and `b` (to put them in uniform superposition of all possible states).\n",
    "3. Assign the value of `3*a + b` to `c`.\n",
    "4. Synthesize, show, execute and print results.\n",
    " Inspect the printouts - what numeric attributes were inferred for variable `c`? Why?\n",
    "\n",
    "Further reading: [Numeric Assignment](https://docs.classiq.io/latest/qmod-reference/language-reference/statements/numeric-assignment/)\n"
   ]
  },
  {
   "cell_type": "code",
   "execution_count": 13,
   "metadata": {},
   "outputs": [],
   "source": [
    "from classiq import *\n",
    "\n",
    "\n",
    "@qfunc\n",
    "def main(a: Output[QNum[2]], b: Output[QNum[2]], c: Output[QNum]):\n",
    "    allocate(a)\n",
    "    allocate(b)\n",
    "    # TODO: Put a and b in equal superposition\n",
    "\n",
    "    # TODO:Assign the value of 3*a + b to c\n",
    "\n",
    "    # Print out c's inferred size in qubits\n",
    "    print(f\"The size of c is {c.size}\")\n",
    "\n",
    "\n",
    "# TODO: Synthesize the model, show, execute and print results"
   ]
  },
  {
   "cell_type": "markdown",
   "metadata": {},
   "source": [
    "*<div class=\"alert alert-secondary\">The expression result ranges between 0 and 12. To represent all values variable `c` must be an unsigned integer of size 4 qubits or more.</div>*"
   ]
  },
  {
   "cell_type": "markdown",
   "metadata": {
    "jp-MarkdownHeadingCollapsed": true
   },
   "source": [
    "*<div class=\"alert alert-info\">In Qmod the size of numeric variables may be left unspecified. It is then automatically inferred to tightly fit all possible values of the expressions.</div>*"
   ]
  },
  {
   "cell_type": "markdown",
   "metadata": {},
   "source": [
    "#### Part B: Numeric type inference with fixed-point fractions\n",
    "\n",
    "Repeat *Part A*, only this time declaring `a` with 1 fraction digit and `b` with 2 fraction digits. How did the numeric attributes of `c` change? What are the corresponding sampled values for `c` in the result?\n"
   ]
  },
  {
   "cell_type": "code",
   "execution_count": 14,
   "metadata": {},
   "outputs": [],
   "source": [
    "from classiq import *\n",
    "\n",
    "\n",
    "@qfunc\n",
    "def main(\n",
    "    a: Output[QNum[2, UNSIGNED, 1]], b: Output[QNum[2, UNSIGNED, 2]], c: Output[QNum]\n",
    "):\n",
    "    allocate(a)\n",
    "    allocate(b)\n",
    "    # TODO: Put a and b in equal superposition\n",
    "\n",
    "    # TODO: Assign the value of 3*a + b to c\n",
    "    # Hint: Is it any different from the previous main implementation?\n",
    "\n",
    "    # Print out the numeric attributes of the inferred type\n",
    "    print(\"Numeric attributes of c:\")\n",
    "    print(\n",
    "        f\"size={c.size}, is_signed={c.is_signed}, fraction_digits={c.fraction_digits}\"\n",
    "    )\n",
    "\n",
    "\n",
    "# TODO: Synthesize the model, show, execute and print results"
   ]
  },
  {
   "cell_type": "markdown",
   "metadata": {},
   "source": [
    "*<div class=\"alert alert-secondary\">Variable `c` should be of size 5, unsigend, and with 2 fraction digits. This is the minimal type that covers the expression's domain.</div>*"
   ]
  },
  {
   "cell_type": "markdown",
   "metadata": {
    "jp-MarkdownHeadingCollapsed": true
   },
   "source": [
    "*<div class=\"alert alert-info\">In Qmod, numeric variables can represent arbitrary fixed-point values. Arithemetic expression and type inference also accommodate for different decimal point locations.</div>*"
   ]
  },
  {
   "cell_type": "markdown",
   "metadata": {},
   "source": [
    "### Exercise 4: Conditional Operations\n",
    "\n",
    "Define a main function that initializes a quantum variable `x` (a 3-qubit signed number with 2 binary fraction digits) in an equal superposition of all states, then conditionally flips a single-qubit variable named `flag` when the value of x is less than 0.5. Inspect the execution results - how is `flag` entangled with `x`?\n",
    "\n",
    "Further reading: [Control Statement](https://docs.classiq.io/latest/qmod-reference/language-reference/statements/control/)"
   ]
  },
  {
   "cell_type": "code",
   "execution_count": 15,
   "metadata": {},
   "outputs": [],
   "source": [
    "from classiq import *\n",
    "\n",
    "\n",
    "@qfunc\n",
    "def main(x: Output[QNum[3, SIGNED, 2]], flag: Output[QBit]):\n",
    "    allocate(x)\n",
    "    hadamard_transform(x)\n",
    "\n",
    "    allocate(flag)\n",
    "    # TODO : Flip the state of flag if x < 0.5\n",
    "\n",
    "\n",
    "# TODO: Synthesize the model, show, execute and print results"
   ]
  },
  {
   "cell_type": "markdown",
   "metadata": {},
   "source": [
    "*<div class=\"alert alert-secondary\">You should see that `x` is evenly distributed across the 8 values, and `flag` is flipped in 6 out of the 8 cases.</div>*"
   ]
  },
  {
   "cell_type": "markdown",
   "metadata": {},
   "source": [
    "*<div class=\"alert alert-info\">The **control** statement in Qmod is similar to classical **if** statement, where a statement block is applied conditionally, depending on a Boolean expression, and optionally an else-block is applied otherwise. The difference is that the operations are applied in superposition, corresponding to the condition.</div>*\n"
   ]
  },
  {
   "cell_type": "markdown",
   "metadata": {},
   "source": [
    "### Exercise 5: Computing x² Using Phase Operations"
   ]
  },
  {
   "cell_type": "markdown",
   "metadata": {},
   "source": [
    "#### Part A: Phase Encoding x²\n",
    "\n",
    "Compute x² in the phase of its state. To actually view the phases of the states simulate the program using state-vector simulation.\n",
    "Expand the quantum program visualization down to the gate-level implementation. How is the 'phase' statement synthesized?\n",
    "Inspect the resulting phases of the different states. Do they match the phase expression?\n",
    "\n",
    "Further reading: [Phase Statement](https://docs.classiq.io/latest/qmod-reference/language-reference/statements/phase/)"
   ]
  },
  {
   "cell_type": "code",
   "execution_count": 16,
   "metadata": {},
   "outputs": [
    {
     "name": "stdout",
     "output_type": "stream",
     "text": [
      "Quantum program link: https://platform.classiq.io/circuit/31oOskef6bqoQRifgrQYM6PR7rB\n"
     ]
    },
    {
     "data": {
      "application/vnd.classiq+qviz": "{\"version\":\"0.90.0\",\"interface_version\":\"12\",\"main_operation\":null,\"id_to_operations\":{\"0\":{\"name\":\"allocate\",\"inner_label\":null,\"qasm_name\":\"\",\"details\":\"\",\"children\":[],\"children_ids\":[],\"operation_data\":null,\"operation_links\":{\"inputs\":[],\"outputs\":[{\"label\":\"x\",\"inner_label\":\"ARG\",\"qubits\":[0,1,2],\"type\":\"\",\"is_captured\":false}]},\"control_qubits\":[],\"auxiliary_qubits\":[],\"target_qubits\":[0,1,2],\"operation_level\":\"UNKNOWN\",\"operation_type\":\"ALLOCATE\",\"gate\":\"\",\"is_daggered\":false,\"expanded\":false,\"show_expanded_label\":false,\"is_low_level_fallback\":false,\"is_measurement\":false},\"1\":{\"name\":\"main\",\"inner_label\":null,\"qasm_name\":\"\",\"details\":\"\",\"children\":[],\"children_ids\":[0],\"operation_data\":{\"approximated_depth\":0,\"width\":3,\"gate_count\":{}},\"operation_links\":{\"inputs\":[],\"outputs\":[{\"label\":\"x\",\"inner_label\":\"x\",\"qubits\":[0,1,2],\"type\":\"\",\"is_captured\":false}]},\"control_qubits\":[],\"auxiliary_qubits\":[],\"target_qubits\":[0,1,2],\"operation_level\":\"QMOD_CALL\",\"operation_type\":\"REGULAR\",\"gate\":\"\",\"is_daggered\":false,\"expanded\":false,\"show_expanded_label\":false,\"is_low_level_fallback\":false,\"is_measurement\":false}},\"main_operation_id\":1,\"program_data\":{\"hardware_data\":{\"basis_gates\":[\"cy\",\"x\",\"u\",\"t\",\"sxdg\",\"ry\",\"rx\",\"cz\",\"y\",\"id\",\"r\",\"sdg\",\"s\",\"h\",\"z\",\"rz\",\"u1\",\"cx\",\"sx\",\"u2\",\"p\",\"tdg\"],\"connectivity_map\":null,\"is_symmetric_connectivity\":true,\"backend_data\":null},\"circuit_metrics\":{\"depth\":0,\"count_ops\":{}}}}",
      "text/plain": [
       "https://platform.classiq.io/circuit/31oOskef6bqoQRifgrQYM6PR7rB?login=True&version=0.90.0"
      ]
     },
     "metadata": {
      "url": "https://platform.classiq.io/circuit/31oOskef6bqoQRifgrQYM6PR7rB?login=True&version=0.90.0"
     },
     "output_type": "display_data"
    },
    {
     "data": {
      "text/html": [
       "<div>\n",
       "<style scoped>\n",
       "    .dataframe tbody tr th:only-of-type {\n",
       "        vertical-align: middle;\n",
       "    }\n",
       "\n",
       "    .dataframe tbody tr th {\n",
       "        vertical-align: top;\n",
       "    }\n",
       "\n",
       "    .dataframe thead th {\n",
       "        text-align: right;\n",
       "    }\n",
       "</style>\n",
       "<table border=\"1\" class=\"dataframe\">\n",
       "  <thead>\n",
       "    <tr style=\"text-align: right;\">\n",
       "      <th></th>\n",
       "      <th>x</th>\n",
       "      <th>amplitude</th>\n",
       "      <th>probability</th>\n",
       "      <th>bitstring</th>\n",
       "    </tr>\n",
       "  </thead>\n",
       "  <tbody>\n",
       "    <tr>\n",
       "      <th>0</th>\n",
       "      <td>0</td>\n",
       "      <td>1.0+0.0j</td>\n",
       "      <td>1.0</td>\n",
       "      <td>000</td>\n",
       "    </tr>\n",
       "  </tbody>\n",
       "</table>\n",
       "</div>"
      ],
      "text/plain": [
       "   x  amplitude  probability bitstring\n",
       "0  0   1.0+0.0j          1.0       000"
      ]
     },
     "metadata": {},
     "output_type": "display_data"
    }
   ],
   "source": [
    "import numpy as np\n",
    "\n",
    "from classiq import *\n",
    "from classiq.execution import ClassiqBackendPreferences, ExecutionPreferences\n",
    "\n",
    "\n",
    "@qfunc\n",
    "def main(x: Output[QNum[3]]):\n",
    "    allocate(x)\n",
    "    # TODO: put x in uniform superposition\n",
    "\n",
    "    # TODO: Encode x² into the phase\n",
    "\n",
    "\n",
    "# Synthesize the model and show\n",
    "qprog = synthesize(main)\n",
    "show(qprog)\n",
    "\n",
    "# Specify execution preferences for state vector simulation\n",
    "preferences = ExecutionPreferences(\n",
    "    num_shots=1,\n",
    "    backend_preferences=ClassiqBackendPreferences(backend_name=\"simulator_statevector\"),\n",
    ")\n",
    "\n",
    "# Execute and print results:\n",
    "with ExecutionSession(qprog, preferences) as es:\n",
    "    res = es.sample()\n",
    "    display(res.dataframe)"
   ]
  },
  {
   "cell_type": "markdown",
   "metadata": {},
   "source": [
    "\n",
    "*<div class=\"alert alert-secondary\">The resulting state phases should show x² rotation of the respective computational-state value, modulo 8 (determined by the domain of variable `x`). The steps are a 1/8 of a full $2\\pi$ rotation</div>*"
   ]
  },
  {
   "cell_type": "markdown",
   "metadata": {},
   "source": [
    "*<div class=\"alert alert-info\">The **phase** statement can operate on an arbitrary polynomials over quantum numeric variables, introducing the corresponding Z rotations on the respective states.</div>*"
   ]
  },
  {
   "cell_type": "markdown",
   "metadata": {},
   "source": [
    "#### Bonus: Fourier Arithmetic\n",
    "\n",
    "Create a quantum program that computes res = x² by encoding the result in the phase of a Fourier basis. Then transform the result back to the computational basis. Inspect the execution results to validate the correctness of your algorithm."
   ]
  },
  {
   "cell_type": "code",
   "execution_count": 17,
   "metadata": {},
   "outputs": [
    {
     "data": {
      "text/html": [
       "<div>\n",
       "<style scoped>\n",
       "    .dataframe tbody tr th:only-of-type {\n",
       "        vertical-align: middle;\n",
       "    }\n",
       "\n",
       "    .dataframe tbody tr th {\n",
       "        vertical-align: top;\n",
       "    }\n",
       "\n",
       "    .dataframe thead th {\n",
       "        text-align: right;\n",
       "    }\n",
       "</style>\n",
       "<table border=\"1\" class=\"dataframe\">\n",
       "  <thead>\n",
       "    <tr style=\"text-align: right;\">\n",
       "      <th></th>\n",
       "      <th>x</th>\n",
       "      <th>res</th>\n",
       "      <th>count</th>\n",
       "      <th>probability</th>\n",
       "      <th>bitstring</th>\n",
       "    </tr>\n",
       "  </thead>\n",
       "  <tbody>\n",
       "    <tr>\n",
       "      <th>0</th>\n",
       "      <td>7</td>\n",
       "      <td>0</td>\n",
       "      <td>272</td>\n",
       "      <td>0.132812</td>\n",
       "      <td>0000111</td>\n",
       "    </tr>\n",
       "    <tr>\n",
       "      <th>1</th>\n",
       "      <td>4</td>\n",
       "      <td>0</td>\n",
       "      <td>271</td>\n",
       "      <td>0.132324</td>\n",
       "      <td>0000100</td>\n",
       "    </tr>\n",
       "    <tr>\n",
       "      <th>2</th>\n",
       "      <td>2</td>\n",
       "      <td>0</td>\n",
       "      <td>267</td>\n",
       "      <td>0.130371</td>\n",
       "      <td>0000010</td>\n",
       "    </tr>\n",
       "    <tr>\n",
       "      <th>3</th>\n",
       "      <td>6</td>\n",
       "      <td>0</td>\n",
       "      <td>259</td>\n",
       "      <td>0.126465</td>\n",
       "      <td>0000110</td>\n",
       "    </tr>\n",
       "    <tr>\n",
       "      <th>4</th>\n",
       "      <td>1</td>\n",
       "      <td>0</td>\n",
       "      <td>251</td>\n",
       "      <td>0.122559</td>\n",
       "      <td>0000001</td>\n",
       "    </tr>\n",
       "    <tr>\n",
       "      <th>5</th>\n",
       "      <td>5</td>\n",
       "      <td>0</td>\n",
       "      <td>251</td>\n",
       "      <td>0.122559</td>\n",
       "      <td>0000101</td>\n",
       "    </tr>\n",
       "    <tr>\n",
       "      <th>6</th>\n",
       "      <td>0</td>\n",
       "      <td>0</td>\n",
       "      <td>241</td>\n",
       "      <td>0.117676</td>\n",
       "      <td>0000000</td>\n",
       "    </tr>\n",
       "    <tr>\n",
       "      <th>7</th>\n",
       "      <td>3</td>\n",
       "      <td>0</td>\n",
       "      <td>236</td>\n",
       "      <td>0.115234</td>\n",
       "      <td>0000011</td>\n",
       "    </tr>\n",
       "  </tbody>\n",
       "</table>\n",
       "</div>"
      ],
      "text/plain": [
       "   x  res  count  probability bitstring\n",
       "0  7    0    272     0.132812   0000111\n",
       "1  4    0    271     0.132324   0000100\n",
       "2  2    0    267     0.130371   0000010\n",
       "3  6    0    259     0.126465   0000110\n",
       "4  1    0    251     0.122559   0000001\n",
       "5  5    0    251     0.122559   0000101\n",
       "6  0    0    241     0.117676   0000000\n",
       "7  3    0    236     0.115234   0000011"
      ]
     },
     "metadata": {},
     "output_type": "display_data"
    }
   ],
   "source": [
    "import numpy as np\n",
    "\n",
    "from classiq import *\n",
    "\n",
    "\n",
    "@qfunc\n",
    "def main(x: Output[QNum[3]], res: Output[QNum[4]]):\n",
    "    allocate(x)\n",
    "    hadamard_transform(x)\n",
    "    allocate(res)\n",
    "\n",
    "    # TODO: Use within_apply with QFT and phase operations\n",
    "\n",
    "\n",
    "# Synthesize the model and show\n",
    "qprog = synthesize(main)\n",
    "# show(qprog)\n",
    "\n",
    "# Synthesize the model, show, execute and print results\n",
    "with ExecutionSession(qprog) as es:\n",
    "    res = es.sample()\n",
    "    display(res.dataframe)"
   ]
  },
  {
   "cell_type": "markdown",
   "metadata": {},
   "source": [
    "*<div class=\"alert alert-info\">The **phase** statement can be used to implement modular arithmetic in the Fourier basis.</div>*"
   ]
  },
  {
   "cell_type": "markdown",
   "metadata": {},
   "source": [
    "## Solutions"
   ]
  },
  {
   "cell_type": "markdown",
   "metadata": {},
   "source": [
    "### Solution 1: GHZ State\n"
   ]
  },
  {
   "cell_type": "code",
   "execution_count": 18,
   "metadata": {},
   "outputs": [
    {
     "name": "stderr",
     "output_type": "stream",
     "text": [
      "Task exception was never retrieved\n",
      "future: <Task finished name='Task-54' coro=<ApiWrapper.call_create_session_job() done, defined at /home/openvscode-server/classiq-venv/lib/python3.12/site-packages/classiq/_internals/api_wrapper.py:227> exception=ReadError('')>\n",
      "Traceback (most recent call last):\n",
      "  File \"/home/openvscode-server/classiq-venv/lib/python3.12/site-packages/httpx/_transports/default.py\", line 101, in map_httpcore_exceptions\n",
      "    yield\n",
      "  File \"/home/openvscode-server/classiq-venv/lib/python3.12/site-packages/httpx/_transports/default.py\", line 394, in handle_async_request\n",
      "    resp = await self._pool.handle_async_request(req)\n",
      "           ^^^^^^^^^^^^^^^^^^^^^^^^^^^^^^^^^^^^^^^^^^\n",
      "  File \"/home/openvscode-server/classiq-venv/lib/python3.12/site-packages/httpcore/_async/connection_pool.py\", line 256, in handle_async_request\n",
      "    raise exc from None\n",
      "  File \"/home/openvscode-server/classiq-venv/lib/python3.12/site-packages/httpcore/_async/connection_pool.py\", line 236, in handle_async_request\n",
      "    response = await connection.handle_async_request(\n",
      "               ^^^^^^^^^^^^^^^^^^^^^^^^^^^^^^^^^^^^^^\n",
      "  File \"/home/openvscode-server/classiq-venv/lib/python3.12/site-packages/httpcore/_async/connection.py\", line 103, in handle_async_request\n",
      "    return await self._connection.handle_async_request(request)\n",
      "           ^^^^^^^^^^^^^^^^^^^^^^^^^^^^^^^^^^^^^^^^^^^^^^^^^^^^\n",
      "  File \"/home/openvscode-server/classiq-venv/lib/python3.12/site-packages/httpcore/_async/http11.py\", line 136, in handle_async_request\n",
      "    raise exc\n",
      "  File \"/home/openvscode-server/classiq-venv/lib/python3.12/site-packages/httpcore/_async/http11.py\", line 106, in handle_async_request\n",
      "    ) = await self._receive_response_headers(**kwargs)\n",
      "        ^^^^^^^^^^^^^^^^^^^^^^^^^^^^^^^^^^^^^^^^^^^^^^\n",
      "  File \"/home/openvscode-server/classiq-venv/lib/python3.12/site-packages/httpcore/_async/http11.py\", line 177, in _receive_response_headers\n",
      "    event = await self._receive_event(timeout=timeout)\n",
      "            ^^^^^^^^^^^^^^^^^^^^^^^^^^^^^^^^^^^^^^^^^^\n",
      "  File \"/home/openvscode-server/classiq-venv/lib/python3.12/site-packages/httpcore/_async/http11.py\", line 217, in _receive_event\n",
      "    data = await self._network_stream.read(\n",
      "           ^^^^^^^^^^^^^^^^^^^^^^^^^^^^^^^^\n",
      "  File \"/home/openvscode-server/classiq-venv/lib/python3.12/site-packages/httpcore/_backends/anyio.py\", line 32, in read\n",
      "    with map_exceptions(exc_map):\n",
      "         ^^^^^^^^^^^^^^^^^^^^^^^\n",
      "  File \"/usr/lib/python3.12/contextlib.py\", line 158, in __exit__\n",
      "    self.gen.throw(value)\n",
      "  File \"/home/openvscode-server/classiq-venv/lib/python3.12/site-packages/httpcore/_exceptions.py\", line 14, in map_exceptions\n",
      "    raise to_exc(exc) from exc\n",
      "httpcore.ReadError\n",
      "\n",
      "The above exception was the direct cause of the following exception:\n",
      "\n",
      "Traceback (most recent call last):\n",
      "  File \"/usr/lib/python3.12/asyncio/tasks.py\", line 314, in __step_run_and_handle_result\n",
      "    result = coro.send(None)\n",
      "             ^^^^^^^^^^^^^^^\n",
      "  File \"/home/openvscode-server/classiq-venv/lib/python3.12/site-packages/classiq/_internals/api_wrapper.py\", line 234, in call_create_session_job\n",
      "    data = await cls._call_task_pydantic(\n",
      "           ^^^^^^^^^^^^^^^^^^^^^^^^^^^^^^\n",
      "  File \"/home/openvscode-server/classiq-venv/lib/python3.12/site-packages/classiq/_internals/api_wrapper.py\", line 85, in _call_task_pydantic\n",
      "    return await cls._call_task(\n",
      "           ^^^^^^^^^^^^^^^^^^^^^\n",
      "  File \"/home/openvscode-server/classiq-venv/lib/python3.12/site-packages/classiq/_internals/api_wrapper.py\", line 105, in _call_task\n",
      "    res: Any = await client().call_api(\n",
      "               ^^^^^^^^^^^^^^^^^^^^^^^^\n",
      "  File \"/home/openvscode-server/classiq-venv/lib/python3.12/site-packages/classiq/_internals/client.py\", line 277, in call_api\n",
      "    response = await self.request(\n",
      "               ^^^^^^^^^^^^^^^^^^^\n",
      "  File \"/home/openvscode-server/classiq-venv/lib/python3.12/site-packages/classiq/_internals/client.py\", line 115, in wrapper\n",
      "    return await func(*args, **kwargs)\n",
      "           ^^^^^^^^^^^^^^^^^^^^^^^^^^^\n",
      "  File \"/home/openvscode-server/classiq-venv/lib/python3.12/site-packages/classiq/_internals/client.py\", line 240, in request\n",
      "    response = await http_client.request(\n",
      "               ^^^^^^^^^^^^^^^^^^^^^^^^^^\n",
      "  File \"/home/openvscode-server/classiq-venv/lib/python3.12/site-packages/httpx/_client.py\", line 1540, in request\n",
      "    return await self.send(request, auth=auth, follow_redirects=follow_redirects)\n",
      "           ^^^^^^^^^^^^^^^^^^^^^^^^^^^^^^^^^^^^^^^^^^^^^^^^^^^^^^^^^^^^^^^^^^^^^^\n",
      "  File \"/home/openvscode-server/classiq-venv/lib/python3.12/site-packages/httpx/_client.py\", line 1629, in send\n",
      "    response = await self._send_handling_auth(\n",
      "               ^^^^^^^^^^^^^^^^^^^^^^^^^^^^^^^\n",
      "  File \"/home/openvscode-server/classiq-venv/lib/python3.12/site-packages/httpx/_client.py\", line 1657, in _send_handling_auth\n",
      "    response = await self._send_handling_redirects(\n",
      "               ^^^^^^^^^^^^^^^^^^^^^^^^^^^^^^^^^^^^\n",
      "  File \"/home/openvscode-server/classiq-venv/lib/python3.12/site-packages/httpx/_client.py\", line 1694, in _send_handling_redirects\n",
      "    response = await self._send_single_request(request)\n",
      "               ^^^^^^^^^^^^^^^^^^^^^^^^^^^^^^^^^^^^^^^^\n",
      "  File \"/home/openvscode-server/classiq-venv/lib/python3.12/site-packages/httpx/_client.py\", line 1730, in _send_single_request\n",
      "    response = await transport.handle_async_request(request)\n",
      "               ^^^^^^^^^^^^^^^^^^^^^^^^^^^^^^^^^^^^^^^^^^^^^\n",
      "  File \"/home/openvscode-server/classiq-venv/lib/python3.12/site-packages/httpx/_transports/default.py\", line 393, in handle_async_request\n",
      "    with map_httpcore_exceptions():\n",
      "         ^^^^^^^^^^^^^^^^^^^^^^^^^\n",
      "  File \"/usr/lib/python3.12/contextlib.py\", line 158, in __exit__\n",
      "    self.gen.throw(value)\n",
      "  File \"/home/openvscode-server/classiq-venv/lib/python3.12/site-packages/httpx/_transports/default.py\", line 118, in map_httpcore_exceptions\n",
      "    raise mapped_exc(message) from exc\n",
      "httpx.ReadError\n"
     ]
    },
    {
     "name": "stdout",
     "output_type": "stream",
     "text": [
      "Quantum program link: https://platform.classiq.io/circuit/31oOtYmg0CSU2gJj2ix3yjIrvaI\n"
     ]
    },
    {
     "data": {
      "application/vnd.classiq+qviz": "{\"version\":\"0.90.0\",\"interface_version\":\"12\",\"main_operation\":null,\"id_to_operations\":{\"0\":{\"name\":\"allocate\",\"inner_label\":null,\"qasm_name\":\"\",\"details\":\"\",\"children\":[],\"children_ids\":[],\"operation_data\":null,\"operation_links\":{\"inputs\":[],\"outputs\":[{\"label\":\"res\",\"inner_label\":\"ARG\",\"qubits\":[0,1,2],\"type\":\"\",\"is_captured\":false}]},\"control_qubits\":[],\"auxiliary_qubits\":[],\"target_qubits\":[0,1,2],\"operation_level\":\"UNKNOWN\",\"operation_type\":\"ALLOCATE\",\"gate\":\"\",\"is_daggered\":false,\"expanded\":false,\"show_expanded_label\":false,\"is_low_level_fallback\":false,\"is_measurement\":false},\"1\":{\"name\":\"H\",\"inner_label\":null,\"qasm_name\":\"h\",\"details\":\"\",\"children\":[],\"children_ids\":[],\"operation_data\":null,\"operation_links\":{\"inputs\":[{\"label\":\"qubits[0]\",\"inner_label\":\"qubits[0]\",\"qubits\":[0],\"type\":\"\",\"is_captured\":false}],\"outputs\":[{\"label\":\"qubits[0]\",\"inner_label\":\"qubits[0]\",\"qubits\":[0],\"type\":\"\",\"is_captured\":false}]},\"control_qubits\":[],\"auxiliary_qubits\":[],\"target_qubits\":[0],\"operation_level\":\"UNKNOWN\",\"operation_type\":\"ATOMIC\",\"gate\":\"H\",\"is_daggered\":false,\"expanded\":false,\"show_expanded_label\":false,\"is_low_level_fallback\":false,\"is_measurement\":false},\"2\":{\"name\":\"CX\",\"inner_label\":null,\"qasm_name\":\"cx\",\"details\":\"\",\"children\":[],\"children_ids\":[],\"operation_data\":null,\"operation_links\":{\"inputs\":[{\"label\":\"qubits[1]\",\"inner_label\":\"qubits\",\"qubits\":[1],\"type\":\"\",\"is_captured\":false},{\"label\":\"qubits[0]\",\"inner_label\":\"qubits\",\"qubits\":[0],\"type\":\"\",\"is_captured\":false}],\"outputs\":[{\"label\":\"qubits[1]\",\"inner_label\":\"qubits\",\"qubits\":[1],\"type\":\"\",\"is_captured\":false},{\"label\":\"qubits[0]\",\"inner_label\":\"qubits\",\"qubits\":[0],\"type\":\"\",\"is_captured\":false}]},\"control_qubits\":[0],\"auxiliary_qubits\":[],\"target_qubits\":[1],\"operation_level\":\"UNKNOWN\",\"operation_type\":\"ATOMIC\",\"gate\":\"CX\",\"is_daggered\":false,\"expanded\":false,\"show_expanded_label\":false,\"is_low_level_fallback\":false,\"is_measurement\":false},\"3\":{\"name\":\"CX\",\"inner_label\":null,\"qasm_name\":\"cx\",\"details\":\"\",\"children\":[],\"children_ids\":[],\"operation_data\":null,\"operation_links\":{\"inputs\":[{\"label\":\"qubits[0]\",\"inner_label\":\"qubits\",\"qubits\":[1],\"type\":\"\",\"is_captured\":false},{\"label\":\"qubits[1]\",\"inner_label\":\"qubits\",\"qubits\":[2],\"type\":\"\",\"is_captured\":false}],\"outputs\":[{\"label\":\"qubits[0]\",\"inner_label\":\"qubits\",\"qubits\":[1],\"type\":\"\",\"is_captured\":false},{\"label\":\"qubits[1]\",\"inner_label\":\"qubits\",\"qubits\":[2],\"type\":\"\",\"is_captured\":false}]},\"control_qubits\":[1],\"auxiliary_qubits\":[],\"target_qubits\":[2],\"operation_level\":\"UNKNOWN\",\"operation_type\":\"ATOMIC\",\"gate\":\"CX\",\"is_daggered\":false,\"expanded\":false,\"show_expanded_label\":false,\"is_low_level_fallback\":false,\"is_measurement\":false},\"4\":{\"name\":\"pre__H__bind\",\"inner_label\":null,\"qasm_name\":\"\",\"details\":\"\",\"children\":[],\"children_ids\":[],\"operation_data\":null,\"operation_links\":{\"inputs\":[{\"label\":\"qubits\",\"inner_label\":\"qubits\",\"qubits\":[0,1,2],\"type\":\"\",\"is_captured\":false}],\"outputs\":[{\"label\":\"qubits[0]\",\"inner_label\":\"qubits[0]\",\"qubits\":[0],\"type\":\"\",\"is_captured\":false},{\"label\":\"\",\"inner_label\":null,\"qubits\":[1,2],\"type\":\"\",\"is_captured\":false}]},\"control_qubits\":[],\"auxiliary_qubits\":[],\"target_qubits\":[],\"operation_level\":\"UNKNOWN\",\"operation_type\":\"BIND\",\"gate\":\"\",\"is_daggered\":false,\"expanded\":false,\"show_expanded_label\":false,\"is_low_level_fallback\":false,\"is_measurement\":false},\"5\":{\"name\":\"pre__CX__bind\",\"inner_label\":null,\"qasm_name\":\"\",\"details\":\"\",\"children\":[],\"children_ids\":[],\"operation_data\":null,\"operation_links\":{\"inputs\":[{\"label\":\"\",\"inner_label\":null,\"qubits\":[1,2],\"type\":\"\",\"is_captured\":false}],\"outputs\":[{\"label\":\"\",\"inner_label\":null,\"qubits\":[2],\"type\":\"\",\"is_captured\":false},{\"label\":\"qubits[1]\",\"inner_label\":\"qubits\",\"qubits\":[1],\"type\":\"\",\"is_captured\":false}]},\"control_qubits\":[],\"auxiliary_qubits\":[],\"target_qubits\":[],\"operation_level\":\"UNKNOWN\",\"operation_type\":\"BIND\",\"gate\":\"\",\"is_daggered\":false,\"expanded\":false,\"show_expanded_label\":false,\"is_low_level_fallback\":false,\"is_measurement\":false},\"6\":{\"name\":\"pre__CX__bind\",\"inner_label\":null,\"qasm_name\":\"\",\"details\":\"\",\"children\":[],\"children_ids\":[],\"operation_data\":null,\"operation_links\":{\"inputs\":[{\"label\":\"\",\"inner_label\":null,\"qubits\":[2],\"type\":\"\",\"is_captured\":false}],\"outputs\":[{\"label\":\"qubits[1]\",\"inner_label\":\"qubits\",\"qubits\":[2],\"type\":\"\",\"is_captured\":false}]},\"control_qubits\":[],\"auxiliary_qubits\":[],\"target_qubits\":[],\"operation_level\":\"UNKNOWN\",\"operation_type\":\"BIND\",\"gate\":\"\",\"is_daggered\":false,\"expanded\":false,\"show_expanded_label\":false,\"is_low_level_fallback\":false,\"is_measurement\":false},\"7\":{\"name\":\"pre__CX__bind\",\"inner_label\":null,\"qasm_name\":\"\",\"details\":\"\",\"children\":[],\"children_ids\":[],\"operation_data\":null,\"operation_links\":{\"inputs\":[{\"label\":\"qubits[1]\",\"inner_label\":\"qubits\",\"qubits\":[1],\"type\":\"\",\"is_captured\":false}],\"outputs\":[{\"label\":\"qubits[0]\",\"inner_label\":\"qubits\",\"qubits\":[1],\"type\":\"\",\"is_captured\":false}]},\"control_qubits\":[],\"auxiliary_qubits\":[],\"target_qubits\":[],\"operation_level\":\"UNKNOWN\",\"operation_type\":\"BIND\",\"gate\":\"\",\"is_daggered\":false,\"expanded\":false,\"show_expanded_label\":false,\"is_low_level_fallback\":false,\"is_measurement\":false},\"8\":{\"name\":\"pre__output__bind\",\"inner_label\":null,\"qasm_name\":\"\",\"details\":\"\",\"children\":[],\"children_ids\":[],\"operation_data\":null,\"operation_links\":{\"inputs\":[{\"label\":\"qubits[0]\",\"inner_label\":\"qubits\",\"qubits\":[1],\"type\":\"\",\"is_captured\":false},{\"label\":\"qubits[1]\",\"inner_label\":\"qubits\",\"qubits\":[2],\"type\":\"\",\"is_captured\":false},{\"label\":\"qubits[0]\",\"inner_label\":\"qubits\",\"qubits\":[0],\"type\":\"\",\"is_captured\":false}],\"outputs\":[{\"label\":\"qubits\",\"inner_label\":\"qubits\",\"qubits\":[0,1,2],\"type\":\"\",\"is_captured\":false}]},\"control_qubits\":[],\"auxiliary_qubits\":[],\"target_qubits\":[],\"operation_level\":\"UNKNOWN\",\"operation_type\":\"BIND\",\"gate\":\"\",\"is_daggered\":false,\"expanded\":false,\"show_expanded_label\":false,\"is_low_level_fallback\":false,\"is_measurement\":false},\"9\":{\"name\":\"pre__H__CX__bind\",\"inner_label\":null,\"qasm_name\":\"\",\"details\":\"\",\"children\":[],\"children_ids\":[],\"operation_data\":null,\"operation_links\":{\"inputs\":[{\"label\":\"qubits\",\"inner_label\":\"qubits\",\"qubits\":[0,1,2],\"type\":\"\",\"is_captured\":false}],\"outputs\":[{\"label\":\"\",\"inner_label\":null,\"qubits\":[2],\"type\":\"\",\"is_captured\":false},{\"label\":\"qubits[1]\",\"inner_label\":\"qubits\",\"qubits\":[1],\"type\":\"\",\"is_captured\":false},{\"label\":\"qubits[0]\",\"inner_label\":\"qubits[0]\",\"qubits\":[0],\"type\":\"\",\"is_captured\":false}]},\"control_qubits\":[],\"auxiliary_qubits\":[],\"target_qubits\":[],\"operation_level\":\"UNKNOWN\",\"operation_type\":\"BIND\",\"gate\":\"\",\"is_daggered\":false,\"expanded\":false,\"show_expanded_label\":false,\"is_low_level_fallback\":false,\"is_measurement\":false},\"10\":{\"name\":\"pre__H__CX__CX__bind\",\"inner_label\":null,\"qasm_name\":\"\",\"details\":\"\",\"children\":[],\"children_ids\":[],\"operation_data\":null,\"operation_links\":{\"inputs\":[{\"label\":\"qubits\",\"inner_label\":\"qubits\",\"qubits\":[0,1,2],\"type\":\"\",\"is_captured\":false}],\"outputs\":[{\"label\":\"qubits[1]\",\"inner_label\":\"qubits\",\"qubits\":[1],\"type\":\"\",\"is_captured\":false},{\"label\":\"qubits[1]\",\"inner_label\":\"qubits\",\"qubits\":[2],\"type\":\"\",\"is_captured\":false},{\"label\":\"qubits[0]\",\"inner_label\":\"qubits[0]\",\"qubits\":[0],\"type\":\"\",\"is_captured\":false}]},\"control_qubits\":[],\"auxiliary_qubits\":[],\"target_qubits\":[],\"operation_level\":\"UNKNOWN\",\"operation_type\":\"BIND\",\"gate\":\"\",\"is_daggered\":false,\"expanded\":false,\"show_expanded_label\":false,\"is_low_level_fallback\":false,\"is_measurement\":false},\"11\":{\"name\":\"create_ghz_state\",\"inner_label\":\"\",\"qasm_name\":\"main__create_ghz_state\",\"details\":\"\",\"children\":[],\"children_ids\":[10,1,2,7,3,8],\"operation_data\":{\"approximated_depth\":null,\"width\":3,\"gate_count\":{}},\"operation_links\":{\"inputs\":[{\"label\":\"res\",\"inner_label\":\"qubits\",\"qubits\":[0,1,2],\"type\":\"\",\"is_captured\":false}],\"outputs\":[{\"label\":\"res\",\"inner_label\":\"qubits\",\"qubits\":[0,1,2],\"type\":\"\",\"is_captured\":false}]},\"control_qubits\":[],\"auxiliary_qubits\":[],\"target_qubits\":[0,1,2],\"operation_level\":\"QMOD_CALL\",\"operation_type\":\"REGULAR\",\"gate\":\"\",\"is_daggered\":false,\"expanded\":false,\"show_expanded_label\":false,\"is_low_level_fallback\":false,\"is_measurement\":false},\"12\":{\"name\":\"main\",\"inner_label\":null,\"qasm_name\":\"\",\"details\":\"\",\"children\":[],\"children_ids\":[0,11],\"operation_data\":{\"approximated_depth\":2,\"width\":3,\"gate_count\":{\"H\":1,\"CX\":2}},\"operation_links\":{\"inputs\":[],\"outputs\":[{\"label\":\"res\",\"inner_label\":\"res\",\"qubits\":[0,1,2],\"type\":\"\",\"is_captured\":false}]},\"control_qubits\":[],\"auxiliary_qubits\":[],\"target_qubits\":[0,1,2],\"operation_level\":\"QMOD_CALL\",\"operation_type\":\"REGULAR\",\"gate\":\"\",\"is_daggered\":false,\"expanded\":false,\"show_expanded_label\":false,\"is_low_level_fallback\":false,\"is_measurement\":false}},\"main_operation_id\":12,\"program_data\":{\"hardware_data\":{\"basis_gates\":[\"x\",\"sxdg\",\"s\",\"sx\",\"sdg\",\"ry\",\"tdg\",\"rz\",\"p\",\"r\",\"cz\",\"cy\",\"cx\",\"u1\",\"z\",\"t\",\"rx\",\"h\",\"y\",\"u\",\"u2\",\"id\"],\"connectivity_map\":null,\"is_symmetric_connectivity\":true,\"backend_data\":null},\"circuit_metrics\":{\"depth\":3,\"count_ops\":{\"u\":1,\"cx\":2}}}}",
      "text/plain": [
       "https://platform.classiq.io/circuit/31oOtYmg0CSU2gJj2ix3yjIrvaI?login=True&version=0.90.0"
      ]
     },
     "metadata": {
      "url": "https://platform.classiq.io/circuit/31oOtYmg0CSU2gJj2ix3yjIrvaI?login=True&version=0.90.0"
     },
     "output_type": "display_data"
    },
    {
     "name": "stdout",
     "output_type": "stream",
     "text": [
      "Ex.1 Results:\n"
     ]
    },
    {
     "data": {
      "text/html": [
       "<div>\n",
       "<style scoped>\n",
       "    .dataframe tbody tr th:only-of-type {\n",
       "        vertical-align: middle;\n",
       "    }\n",
       "\n",
       "    .dataframe tbody tr th {\n",
       "        vertical-align: top;\n",
       "    }\n",
       "\n",
       "    .dataframe thead th {\n",
       "        text-align: right;\n",
       "    }\n",
       "</style>\n",
       "<table border=\"1\" class=\"dataframe\">\n",
       "  <thead>\n",
       "    <tr style=\"text-align: right;\">\n",
       "      <th></th>\n",
       "      <th>res</th>\n",
       "      <th>count</th>\n",
       "      <th>probability</th>\n",
       "      <th>bitstring</th>\n",
       "    </tr>\n",
       "  </thead>\n",
       "  <tbody>\n",
       "    <tr>\n",
       "      <th>0</th>\n",
       "      <td>[0, 0, 0]</td>\n",
       "      <td>1031</td>\n",
       "      <td>0.503418</td>\n",
       "      <td>000</td>\n",
       "    </tr>\n",
       "    <tr>\n",
       "      <th>1</th>\n",
       "      <td>[1, 1, 1]</td>\n",
       "      <td>1017</td>\n",
       "      <td>0.496582</td>\n",
       "      <td>111</td>\n",
       "    </tr>\n",
       "  </tbody>\n",
       "</table>\n",
       "</div>"
      ],
      "text/plain": [
       "         res  count  probability bitstring\n",
       "0  [0, 0, 0]   1031     0.503418       000\n",
       "1  [1, 1, 1]   1017     0.496582       111"
      ]
     },
     "metadata": {},
     "output_type": "display_data"
    }
   ],
   "source": [
    "from classiq import *\n",
    "\n",
    "\n",
    "@qfunc\n",
    "def create_ghz_state(qubits: QArray[QBit, 3]):\n",
    "    # Apply GHZ logic\n",
    "    H(qubits[0])\n",
    "    CX(qubits[0], qubits[1])\n",
    "    CX(qubits[1], qubits[2])\n",
    "\n",
    "\n",
    "@qfunc\n",
    "def main(res: Output[QArray[QBit, 3]]):\n",
    "    allocate(res)\n",
    "    create_ghz_state(res)\n",
    "\n",
    "\n",
    "# Synthesize the model, show, execute and print results\n",
    "qprog = synthesize(main)\n",
    "show(qprog)\n",
    "\n",
    "with ExecutionSession(qprog) as es:\n",
    "    res = es.sample()\n",
    "    print(\"Ex.1 Results:\")\n",
    "    display(res.dataframe)"
   ]
  },
  {
   "cell_type": "markdown",
   "metadata": {},
   "source": [
    "### Solution 2: GHZ with Quantum Numbers\n"
   ]
  },
  {
   "cell_type": "code",
   "execution_count": 19,
   "metadata": {},
   "outputs": [
    {
     "name": "stdout",
     "output_type": "stream",
     "text": [
      "Quantum program link: https://platform.classiq.io/circuit/31oOtvlDpg1wzlcFyxTlQYneZsT\n"
     ]
    },
    {
     "data": {
      "application/vnd.classiq+qviz": "{\"version\":\"0.90.0\",\"interface_version\":\"12\",\"main_operation\":null,\"id_to_operations\":{\"0\":{\"name\":\"allocate\",\"inner_label\":null,\"qasm_name\":\"\",\"details\":\"\",\"children\":[],\"children_ids\":[],\"operation_data\":null,\"operation_links\":{\"inputs\":[],\"outputs\":[{\"label\":\"x\",\"inner_label\":\"ARG\",\"qubits\":[0,1,2],\"type\":\"\",\"is_captured\":false}]},\"control_qubits\":[],\"auxiliary_qubits\":[],\"target_qubits\":[0,1,2],\"operation_level\":\"UNKNOWN\",\"operation_type\":\"ALLOCATE\",\"gate\":\"\",\"is_daggered\":false,\"expanded\":false,\"show_expanded_label\":false,\"is_low_level_fallback\":false,\"is_measurement\":false},\"1\":{\"name\":\"H\",\"inner_label\":null,\"qasm_name\":\"h\",\"details\":\"\",\"children\":[],\"children_ids\":[],\"operation_data\":null,\"operation_links\":{\"inputs\":[{\"label\":\"qubits[0]\",\"inner_label\":\"qubits[0]\",\"qubits\":[0],\"type\":\"\",\"is_captured\":false}],\"outputs\":[{\"label\":\"qubits[0]\",\"inner_label\":\"qubits[0]\",\"qubits\":[0],\"type\":\"\",\"is_captured\":false}]},\"control_qubits\":[],\"auxiliary_qubits\":[],\"target_qubits\":[0],\"operation_level\":\"UNKNOWN\",\"operation_type\":\"ATOMIC\",\"gate\":\"H\",\"is_daggered\":false,\"expanded\":false,\"show_expanded_label\":false,\"is_low_level_fallback\":false,\"is_measurement\":false},\"2\":{\"name\":\"CX\",\"inner_label\":null,\"qasm_name\":\"cx\",\"details\":\"\",\"children\":[],\"children_ids\":[],\"operation_data\":null,\"operation_links\":{\"inputs\":[{\"label\":\"qubits[1]\",\"inner_label\":\"qubits\",\"qubits\":[1],\"type\":\"\",\"is_captured\":false},{\"label\":\"qubits[0]\",\"inner_label\":\"qubits\",\"qubits\":[0],\"type\":\"\",\"is_captured\":false}],\"outputs\":[{\"label\":\"qubits[1]\",\"inner_label\":\"qubits\",\"qubits\":[1],\"type\":\"\",\"is_captured\":false},{\"label\":\"qubits[0]\",\"inner_label\":\"qubits\",\"qubits\":[0],\"type\":\"\",\"is_captured\":false}]},\"control_qubits\":[0],\"auxiliary_qubits\":[],\"target_qubits\":[1],\"operation_level\":\"UNKNOWN\",\"operation_type\":\"ATOMIC\",\"gate\":\"CX\",\"is_daggered\":false,\"expanded\":false,\"show_expanded_label\":false,\"is_low_level_fallback\":false,\"is_measurement\":false},\"3\":{\"name\":\"CX\",\"inner_label\":null,\"qasm_name\":\"cx\",\"details\":\"\",\"children\":[],\"children_ids\":[],\"operation_data\":null,\"operation_links\":{\"inputs\":[{\"label\":\"qubits[0]\",\"inner_label\":\"qubits\",\"qubits\":[1],\"type\":\"\",\"is_captured\":false},{\"label\":\"qubits[1]\",\"inner_label\":\"qubits\",\"qubits\":[2],\"type\":\"\",\"is_captured\":false}],\"outputs\":[{\"label\":\"qubits[0]\",\"inner_label\":\"qubits\",\"qubits\":[1],\"type\":\"\",\"is_captured\":false},{\"label\":\"qubits[1]\",\"inner_label\":\"qubits\",\"qubits\":[2],\"type\":\"\",\"is_captured\":false}]},\"control_qubits\":[1],\"auxiliary_qubits\":[],\"target_qubits\":[2],\"operation_level\":\"UNKNOWN\",\"operation_type\":\"ATOMIC\",\"gate\":\"CX\",\"is_daggered\":false,\"expanded\":false,\"show_expanded_label\":false,\"is_low_level_fallback\":false,\"is_measurement\":false},\"4\":{\"name\":\"pre__H__bind\",\"inner_label\":null,\"qasm_name\":\"\",\"details\":\"\",\"children\":[],\"children_ids\":[],\"operation_data\":null,\"operation_links\":{\"inputs\":[{\"label\":\"qubits\",\"inner_label\":\"qubits\",\"qubits\":[0,1,2],\"type\":\"\",\"is_captured\":false}],\"outputs\":[{\"label\":\"qubits[0]\",\"inner_label\":\"qubits[0]\",\"qubits\":[0],\"type\":\"\",\"is_captured\":false},{\"label\":\"\",\"inner_label\":null,\"qubits\":[1,2],\"type\":\"\",\"is_captured\":false}]},\"control_qubits\":[],\"auxiliary_qubits\":[],\"target_qubits\":[],\"operation_level\":\"UNKNOWN\",\"operation_type\":\"BIND\",\"gate\":\"\",\"is_daggered\":false,\"expanded\":false,\"show_expanded_label\":false,\"is_low_level_fallback\":false,\"is_measurement\":false},\"5\":{\"name\":\"pre__CX__bind\",\"inner_label\":null,\"qasm_name\":\"\",\"details\":\"\",\"children\":[],\"children_ids\":[],\"operation_data\":null,\"operation_links\":{\"inputs\":[{\"label\":\"\",\"inner_label\":null,\"qubits\":[1,2],\"type\":\"\",\"is_captured\":false}],\"outputs\":[{\"label\":\"\",\"inner_label\":null,\"qubits\":[2],\"type\":\"\",\"is_captured\":false},{\"label\":\"qubits[1]\",\"inner_label\":\"qubits\",\"qubits\":[1],\"type\":\"\",\"is_captured\":false}]},\"control_qubits\":[],\"auxiliary_qubits\":[],\"target_qubits\":[],\"operation_level\":\"UNKNOWN\",\"operation_type\":\"BIND\",\"gate\":\"\",\"is_daggered\":false,\"expanded\":false,\"show_expanded_label\":false,\"is_low_level_fallback\":false,\"is_measurement\":false},\"6\":{\"name\":\"pre__CX__bind\",\"inner_label\":null,\"qasm_name\":\"\",\"details\":\"\",\"children\":[],\"children_ids\":[],\"operation_data\":null,\"operation_links\":{\"inputs\":[{\"label\":\"\",\"inner_label\":null,\"qubits\":[2],\"type\":\"\",\"is_captured\":false}],\"outputs\":[{\"label\":\"qubits[1]\",\"inner_label\":\"qubits\",\"qubits\":[2],\"type\":\"\",\"is_captured\":false}]},\"control_qubits\":[],\"auxiliary_qubits\":[],\"target_qubits\":[],\"operation_level\":\"UNKNOWN\",\"operation_type\":\"BIND\",\"gate\":\"\",\"is_daggered\":false,\"expanded\":false,\"show_expanded_label\":false,\"is_low_level_fallback\":false,\"is_measurement\":false},\"7\":{\"name\":\"pre__CX__bind\",\"inner_label\":null,\"qasm_name\":\"\",\"details\":\"\",\"children\":[],\"children_ids\":[],\"operation_data\":null,\"operation_links\":{\"inputs\":[{\"label\":\"qubits[1]\",\"inner_label\":\"qubits\",\"qubits\":[1],\"type\":\"\",\"is_captured\":false}],\"outputs\":[{\"label\":\"qubits[0]\",\"inner_label\":\"qubits\",\"qubits\":[1],\"type\":\"\",\"is_captured\":false}]},\"control_qubits\":[],\"auxiliary_qubits\":[],\"target_qubits\":[],\"operation_level\":\"UNKNOWN\",\"operation_type\":\"BIND\",\"gate\":\"\",\"is_daggered\":false,\"expanded\":false,\"show_expanded_label\":false,\"is_low_level_fallback\":false,\"is_measurement\":false},\"8\":{\"name\":\"pre__output__bind\",\"inner_label\":null,\"qasm_name\":\"\",\"details\":\"\",\"children\":[],\"children_ids\":[],\"operation_data\":null,\"operation_links\":{\"inputs\":[{\"label\":\"qubits[0]\",\"inner_label\":\"qubits\",\"qubits\":[1],\"type\":\"\",\"is_captured\":false},{\"label\":\"qubits[1]\",\"inner_label\":\"qubits\",\"qubits\":[2],\"type\":\"\",\"is_captured\":false},{\"label\":\"qubits[0]\",\"inner_label\":\"qubits\",\"qubits\":[0],\"type\":\"\",\"is_captured\":false}],\"outputs\":[{\"label\":\"qubits\",\"inner_label\":\"qubits\",\"qubits\":[0,1,2],\"type\":\"\",\"is_captured\":false}]},\"control_qubits\":[],\"auxiliary_qubits\":[],\"target_qubits\":[],\"operation_level\":\"UNKNOWN\",\"operation_type\":\"BIND\",\"gate\":\"\",\"is_daggered\":false,\"expanded\":false,\"show_expanded_label\":false,\"is_low_level_fallback\":false,\"is_measurement\":false},\"9\":{\"name\":\"pre__H__CX__bind\",\"inner_label\":null,\"qasm_name\":\"\",\"details\":\"\",\"children\":[],\"children_ids\":[],\"operation_data\":null,\"operation_links\":{\"inputs\":[{\"label\":\"qubits\",\"inner_label\":\"qubits\",\"qubits\":[0,1,2],\"type\":\"\",\"is_captured\":false}],\"outputs\":[{\"label\":\"\",\"inner_label\":null,\"qubits\":[2],\"type\":\"\",\"is_captured\":false},{\"label\":\"qubits[1]\",\"inner_label\":\"qubits\",\"qubits\":[1],\"type\":\"\",\"is_captured\":false},{\"label\":\"qubits[0]\",\"inner_label\":\"qubits[0]\",\"qubits\":[0],\"type\":\"\",\"is_captured\":false}]},\"control_qubits\":[],\"auxiliary_qubits\":[],\"target_qubits\":[],\"operation_level\":\"UNKNOWN\",\"operation_type\":\"BIND\",\"gate\":\"\",\"is_daggered\":false,\"expanded\":false,\"show_expanded_label\":false,\"is_low_level_fallback\":false,\"is_measurement\":false},\"10\":{\"name\":\"pre__H__CX__CX__bind\",\"inner_label\":null,\"qasm_name\":\"\",\"details\":\"\",\"children\":[],\"children_ids\":[],\"operation_data\":null,\"operation_links\":{\"inputs\":[{\"label\":\"qubits\",\"inner_label\":\"qubits\",\"qubits\":[0,1,2],\"type\":\"\",\"is_captured\":false}],\"outputs\":[{\"label\":\"qubits[1]\",\"inner_label\":\"qubits\",\"qubits\":[1],\"type\":\"\",\"is_captured\":false},{\"label\":\"qubits[1]\",\"inner_label\":\"qubits\",\"qubits\":[2],\"type\":\"\",\"is_captured\":false},{\"label\":\"qubits[0]\",\"inner_label\":\"qubits[0]\",\"qubits\":[0],\"type\":\"\",\"is_captured\":false}]},\"control_qubits\":[],\"auxiliary_qubits\":[],\"target_qubits\":[],\"operation_level\":\"UNKNOWN\",\"operation_type\":\"BIND\",\"gate\":\"\",\"is_daggered\":false,\"expanded\":false,\"show_expanded_label\":false,\"is_low_level_fallback\":false,\"is_measurement\":false},\"11\":{\"name\":\"create_ghz_state\",\"inner_label\":\"\",\"qasm_name\":\"main__create_ghz_state\",\"details\":\"\",\"children\":[],\"children_ids\":[10,1,2,7,3,8],\"operation_data\":{\"approximated_depth\":null,\"width\":3,\"gate_count\":{}},\"operation_links\":{\"inputs\":[{\"label\":\"x\",\"inner_label\":\"qubits\",\"qubits\":[0,1,2],\"type\":\"\",\"is_captured\":false}],\"outputs\":[{\"label\":\"x\",\"inner_label\":\"qubits\",\"qubits\":[0,1,2],\"type\":\"\",\"is_captured\":false}]},\"control_qubits\":[],\"auxiliary_qubits\":[],\"target_qubits\":[0,1,2],\"operation_level\":\"QMOD_CALL\",\"operation_type\":\"REGULAR\",\"gate\":\"\",\"is_daggered\":false,\"expanded\":false,\"show_expanded_label\":false,\"is_low_level_fallback\":false,\"is_measurement\":false},\"12\":{\"name\":\"main\",\"inner_label\":null,\"qasm_name\":\"\",\"details\":\"\",\"children\":[],\"children_ids\":[0,11],\"operation_data\":{\"approximated_depth\":2,\"width\":3,\"gate_count\":{\"H\":1,\"CX\":2}},\"operation_links\":{\"inputs\":[],\"outputs\":[{\"label\":\"x\",\"inner_label\":\"x\",\"qubits\":[0,1,2],\"type\":\"\",\"is_captured\":false}]},\"control_qubits\":[],\"auxiliary_qubits\":[],\"target_qubits\":[0,1,2],\"operation_level\":\"QMOD_CALL\",\"operation_type\":\"REGULAR\",\"gate\":\"\",\"is_daggered\":false,\"expanded\":false,\"show_expanded_label\":false,\"is_low_level_fallback\":false,\"is_measurement\":false}},\"main_operation_id\":12,\"program_data\":{\"hardware_data\":{\"basis_gates\":[\"cy\",\"x\",\"u\",\"t\",\"sxdg\",\"ry\",\"rx\",\"cz\",\"y\",\"id\",\"r\",\"sdg\",\"s\",\"h\",\"z\",\"rz\",\"u1\",\"cx\",\"sx\",\"u2\",\"p\",\"tdg\"],\"connectivity_map\":null,\"is_symmetric_connectivity\":true,\"backend_data\":null},\"circuit_metrics\":{\"depth\":3,\"count_ops\":{\"u\":1,\"cx\":2}}}}",
      "text/plain": [
       "https://platform.classiq.io/circuit/31oOtvlDpg1wzlcFyxTlQYneZsT?login=True&version=0.90.0"
      ]
     },
     "metadata": {
      "url": "https://platform.classiq.io/circuit/31oOtvlDpg1wzlcFyxTlQYneZsT?login=True&version=0.90.0"
     },
     "output_type": "display_data"
    },
    {
     "name": "stdout",
     "output_type": "stream",
     "text": [
      "Ex.2 Results:\n"
     ]
    },
    {
     "data": {
      "text/html": [
       "<div>\n",
       "<style scoped>\n",
       "    .dataframe tbody tr th:only-of-type {\n",
       "        vertical-align: middle;\n",
       "    }\n",
       "\n",
       "    .dataframe tbody tr th {\n",
       "        vertical-align: top;\n",
       "    }\n",
       "\n",
       "    .dataframe thead th {\n",
       "        text-align: right;\n",
       "    }\n",
       "</style>\n",
       "<table border=\"1\" class=\"dataframe\">\n",
       "  <thead>\n",
       "    <tr style=\"text-align: right;\">\n",
       "      <th></th>\n",
       "      <th>x</th>\n",
       "      <th>count</th>\n",
       "      <th>probability</th>\n",
       "      <th>bitstring</th>\n",
       "    </tr>\n",
       "  </thead>\n",
       "  <tbody>\n",
       "    <tr>\n",
       "      <th>0</th>\n",
       "      <td>-1</td>\n",
       "      <td>1053</td>\n",
       "      <td>0.51416</td>\n",
       "      <td>111</td>\n",
       "    </tr>\n",
       "    <tr>\n",
       "      <th>1</th>\n",
       "      <td>0</td>\n",
       "      <td>995</td>\n",
       "      <td>0.48584</td>\n",
       "      <td>000</td>\n",
       "    </tr>\n",
       "  </tbody>\n",
       "</table>\n",
       "</div>"
      ],
      "text/plain": [
       "   x  count  probability bitstring\n",
       "0 -1   1053      0.51416       111\n",
       "1  0    995      0.48584       000"
      ]
     },
     "metadata": {},
     "output_type": "display_data"
    }
   ],
   "source": [
    "from classiq import *\n",
    "\n",
    "\n",
    "@qfunc\n",
    "def main(x: Output[QNum[3, SIGNED, 0]]):\n",
    "    # Create GHZ state with QNum (gives 0 and -1)\n",
    "    allocate(x)\n",
    "    create_ghz_state(x)\n",
    "\n",
    "\n",
    "# Synthesize the model, show, execute and print results\n",
    "qprog = synthesize(main)\n",
    "show(qprog)\n",
    "\n",
    "with ExecutionSession(qprog) as es:\n",
    "    res = es.sample()\n",
    "    print(\"Ex.2 Results:\")\n",
    "    display(res.dataframe)"
   ]
  },
  {
   "cell_type": "markdown",
   "metadata": {},
   "source": [
    "### Solution 3: Arithmetic Expressions with Automatic Type Inference"
   ]
  },
  {
   "cell_type": "markdown",
   "metadata": {},
   "source": [
    "#### Part A: Numeric type inference"
   ]
  },
  {
   "cell_type": "code",
   "execution_count": 20,
   "metadata": {},
   "outputs": [
    {
     "name": "stdout",
     "output_type": "stream",
     "text": [
      "The size of c is 4\n",
      "Quantum program link: https://platform.classiq.io/circuit/31oOuSva3La4Eec6VwsnrShUsEq\n"
     ]
    },
    {
     "data": {
      "application/vnd.classiq+qviz": "{\"version\":\"0.90.0\",\"interface_version\":\"12\",\"main_operation\":null,\"id_to_operations\":{\"0\":{\"name\":\"allocate\",\"inner_label\":null,\"qasm_name\":\"\",\"details\":\"\",\"children\":[],\"children_ids\":[],\"operation_data\":null,\"operation_links\":{\"inputs\":[],\"outputs\":[{\"label\":\"a\",\"inner_label\":\"ARG\",\"qubits\":[0,1],\"type\":\"\",\"is_captured\":false}]},\"control_qubits\":[],\"auxiliary_qubits\":[],\"target_qubits\":[0,1],\"operation_level\":\"UNKNOWN\",\"operation_type\":\"ALLOCATE\",\"gate\":\"\",\"is_daggered\":false,\"expanded\":false,\"show_expanded_label\":false,\"is_low_level_fallback\":false,\"is_measurement\":false},\"1\":{\"name\":\"allocate\",\"inner_label\":null,\"qasm_name\":\"\",\"details\":\"\",\"children\":[],\"children_ids\":[],\"operation_data\":null,\"operation_links\":{\"inputs\":[],\"outputs\":[{\"label\":\"b\",\"inner_label\":\"ARG\",\"qubits\":[2,3],\"type\":\"\",\"is_captured\":false}]},\"control_qubits\":[],\"auxiliary_qubits\":[],\"target_qubits\":[2,3],\"operation_level\":\"UNKNOWN\",\"operation_type\":\"ALLOCATE\",\"gate\":\"\",\"is_daggered\":false,\"expanded\":false,\"show_expanded_label\":false,\"is_low_level_fallback\":false,\"is_measurement\":false},\"2\":{\"name\":\"H\",\"inner_label\":null,\"qasm_name\":\"h\",\"details\":\"\",\"children\":[],\"children_ids\":[],\"operation_data\":null,\"operation_links\":{\"inputs\":[{\"label\":\"target[0]\",\"inner_label\":\"target[0]\",\"qubits\":[0],\"type\":\"\",\"is_captured\":false}],\"outputs\":[{\"label\":\"target[0]\",\"inner_label\":\"target[0]\",\"qubits\":[0],\"type\":\"\",\"is_captured\":false}]},\"control_qubits\":[],\"auxiliary_qubits\":[],\"target_qubits\":[0],\"operation_level\":\"UNKNOWN\",\"operation_type\":\"ATOMIC\",\"gate\":\"H\",\"is_daggered\":false,\"expanded\":false,\"show_expanded_label\":false,\"is_low_level_fallback\":false,\"is_measurement\":false},\"3\":{\"name\":\"H\",\"inner_label\":null,\"qasm_name\":\"h\",\"details\":\"\",\"children\":[],\"children_ids\":[],\"operation_data\":null,\"operation_links\":{\"inputs\":[{\"label\":\"target[1]\",\"inner_label\":\"target[1]\",\"qubits\":[1],\"type\":\"\",\"is_captured\":false}],\"outputs\":[{\"label\":\"target[1]\",\"inner_label\":\"target[1]\",\"qubits\":[1],\"type\":\"\",\"is_captured\":false}]},\"control_qubits\":[],\"auxiliary_qubits\":[],\"target_qubits\":[1],\"operation_level\":\"UNKNOWN\",\"operation_type\":\"ATOMIC\",\"gate\":\"H\",\"is_daggered\":false,\"expanded\":false,\"show_expanded_label\":false,\"is_low_level_fallback\":false,\"is_measurement\":false},\"4\":{\"name\":\"pre__H__bind\",\"inner_label\":null,\"qasm_name\":\"\",\"details\":\"\",\"children\":[],\"children_ids\":[],\"operation_data\":null,\"operation_links\":{\"inputs\":[{\"label\":\"target\",\"inner_label\":\"target\",\"qubits\":[0,1],\"type\":\"\",\"is_captured\":false}],\"outputs\":[{\"label\":\"target[0]\",\"inner_label\":\"target[0]\",\"qubits\":[0],\"type\":\"\",\"is_captured\":false},{\"label\":\"\",\"inner_label\":null,\"qubits\":[1],\"type\":\"\",\"is_captured\":false}]},\"control_qubits\":[],\"auxiliary_qubits\":[],\"target_qubits\":[],\"operation_level\":\"UNKNOWN\",\"operation_type\":\"BIND\",\"gate\":\"\",\"is_daggered\":false,\"expanded\":false,\"show_expanded_label\":false,\"is_low_level_fallback\":false,\"is_measurement\":false},\"5\":{\"name\":\"pre__H__bind\",\"inner_label\":null,\"qasm_name\":\"\",\"details\":\"\",\"children\":[],\"children_ids\":[],\"operation_data\":null,\"operation_links\":{\"inputs\":[{\"label\":\"\",\"inner_label\":null,\"qubits\":[1],\"type\":\"\",\"is_captured\":false}],\"outputs\":[{\"label\":\"target[1]\",\"inner_label\":\"target[1]\",\"qubits\":[1],\"type\":\"\",\"is_captured\":false}]},\"control_qubits\":[],\"auxiliary_qubits\":[],\"target_qubits\":[],\"operation_level\":\"UNKNOWN\",\"operation_type\":\"BIND\",\"gate\":\"\",\"is_daggered\":false,\"expanded\":false,\"show_expanded_label\":false,\"is_low_level_fallback\":false,\"is_measurement\":false},\"6\":{\"name\":\"pre__output__bind\",\"inner_label\":null,\"qasm_name\":\"\",\"details\":\"\",\"children\":[],\"children_ids\":[],\"operation_data\":null,\"operation_links\":{\"inputs\":[{\"label\":\"target[1]\",\"inner_label\":\"target[1]\",\"qubits\":[1],\"type\":\"\",\"is_captured\":false},{\"label\":\"target[0]\",\"inner_label\":\"target[0]\",\"qubits\":[0],\"type\":\"\",\"is_captured\":false}],\"outputs\":[{\"label\":\"target\",\"inner_label\":\"target\",\"qubits\":[0,1],\"type\":\"\",\"is_captured\":false}]},\"control_qubits\":[],\"auxiliary_qubits\":[],\"target_qubits\":[],\"operation_level\":\"UNKNOWN\",\"operation_type\":\"BIND\",\"gate\":\"\",\"is_daggered\":false,\"expanded\":false,\"show_expanded_label\":false,\"is_low_level_fallback\":false,\"is_measurement\":false},\"7\":{\"name\":\"pre__H__H__bind\",\"inner_label\":null,\"qasm_name\":\"\",\"details\":\"\",\"children\":[],\"children_ids\":[],\"operation_data\":null,\"operation_links\":{\"inputs\":[{\"label\":\"target\",\"inner_label\":\"target\",\"qubits\":[0,1],\"type\":\"\",\"is_captured\":false}],\"outputs\":[{\"label\":\"target[1]\",\"inner_label\":\"target[1]\",\"qubits\":[1],\"type\":\"\",\"is_captured\":false},{\"label\":\"target[0]\",\"inner_label\":\"target[0]\",\"qubits\":[0],\"type\":\"\",\"is_captured\":false}]},\"control_qubits\":[],\"auxiliary_qubits\":[],\"target_qubits\":[],\"operation_level\":\"UNKNOWN\",\"operation_type\":\"BIND\",\"gate\":\"\",\"is_daggered\":false,\"expanded\":false,\"show_expanded_label\":false,\"is_low_level_fallback\":false,\"is_measurement\":false},\"8\":{\"name\":\"hadamard_transform\",\"inner_label\":\"\",\"qasm_name\":\"main__hadamard_transform_0\",\"details\":\"\",\"children\":[],\"children_ids\":[7,2,3,6],\"operation_data\":{\"approximated_depth\":null,\"width\":2,\"gate_count\":{}},\"operation_links\":{\"inputs\":[{\"label\":\"a\",\"inner_label\":\"target\",\"qubits\":[0,1],\"type\":\"\",\"is_captured\":false}],\"outputs\":[{\"label\":\"a\",\"inner_label\":\"target\",\"qubits\":[0,1],\"type\":\"\",\"is_captured\":false}]},\"control_qubits\":[],\"auxiliary_qubits\":[],\"target_qubits\":[0,1],\"operation_level\":\"QMOD_CALL\",\"operation_type\":\"REGULAR\",\"gate\":\"\",\"is_daggered\":false,\"expanded\":false,\"show_expanded_label\":false,\"is_low_level_fallback\":false,\"is_measurement\":false},\"9\":{\"name\":\"H\",\"inner_label\":null,\"qasm_name\":\"h\",\"details\":\"\",\"children\":[],\"children_ids\":[],\"operation_data\":null,\"operation_links\":{\"inputs\":[{\"label\":\"target[0]\",\"inner_label\":\"target[0]\",\"qubits\":[2],\"type\":\"\",\"is_captured\":false}],\"outputs\":[{\"label\":\"target[0]\",\"inner_label\":\"target[0]\",\"qubits\":[2],\"type\":\"\",\"is_captured\":false}]},\"control_qubits\":[],\"auxiliary_qubits\":[],\"target_qubits\":[2],\"operation_level\":\"UNKNOWN\",\"operation_type\":\"ATOMIC\",\"gate\":\"H\",\"is_daggered\":false,\"expanded\":false,\"show_expanded_label\":false,\"is_low_level_fallback\":false,\"is_measurement\":false},\"10\":{\"name\":\"H\",\"inner_label\":null,\"qasm_name\":\"h\",\"details\":\"\",\"children\":[],\"children_ids\":[],\"operation_data\":null,\"operation_links\":{\"inputs\":[{\"label\":\"target[1]\",\"inner_label\":\"target[1]\",\"qubits\":[3],\"type\":\"\",\"is_captured\":false}],\"outputs\":[{\"label\":\"target[1]\",\"inner_label\":\"target[1]\",\"qubits\":[3],\"type\":\"\",\"is_captured\":false}]},\"control_qubits\":[],\"auxiliary_qubits\":[],\"target_qubits\":[3],\"operation_level\":\"UNKNOWN\",\"operation_type\":\"ATOMIC\",\"gate\":\"H\",\"is_daggered\":false,\"expanded\":false,\"show_expanded_label\":false,\"is_low_level_fallback\":false,\"is_measurement\":false},\"11\":{\"name\":\"pre__H__bind\",\"inner_label\":null,\"qasm_name\":\"\",\"details\":\"\",\"children\":[],\"children_ids\":[],\"operation_data\":null,\"operation_links\":{\"inputs\":[{\"label\":\"target\",\"inner_label\":\"target\",\"qubits\":[2,3],\"type\":\"\",\"is_captured\":false}],\"outputs\":[{\"label\":\"\",\"inner_label\":null,\"qubits\":[3],\"type\":\"\",\"is_captured\":false},{\"label\":\"target[0]\",\"inner_label\":\"target[0]\",\"qubits\":[2],\"type\":\"\",\"is_captured\":false}]},\"control_qubits\":[],\"auxiliary_qubits\":[],\"target_qubits\":[],\"operation_level\":\"UNKNOWN\",\"operation_type\":\"BIND\",\"gate\":\"\",\"is_daggered\":false,\"expanded\":false,\"show_expanded_label\":false,\"is_low_level_fallback\":false,\"is_measurement\":false},\"12\":{\"name\":\"pre__H__bind\",\"inner_label\":null,\"qasm_name\":\"\",\"details\":\"\",\"children\":[],\"children_ids\":[],\"operation_data\":null,\"operation_links\":{\"inputs\":[{\"label\":\"\",\"inner_label\":null,\"qubits\":[3],\"type\":\"\",\"is_captured\":false}],\"outputs\":[{\"label\":\"target[1]\",\"inner_label\":\"target[1]\",\"qubits\":[3],\"type\":\"\",\"is_captured\":false}]},\"control_qubits\":[],\"auxiliary_qubits\":[],\"target_qubits\":[],\"operation_level\":\"UNKNOWN\",\"operation_type\":\"BIND\",\"gate\":\"\",\"is_daggered\":false,\"expanded\":false,\"show_expanded_label\":false,\"is_low_level_fallback\":false,\"is_measurement\":false},\"13\":{\"name\":\"pre__output__bind\",\"inner_label\":null,\"qasm_name\":\"\",\"details\":\"\",\"children\":[],\"children_ids\":[],\"operation_data\":null,\"operation_links\":{\"inputs\":[{\"label\":\"target[0]\",\"inner_label\":\"target[0]\",\"qubits\":[2],\"type\":\"\",\"is_captured\":false},{\"label\":\"target[1]\",\"inner_label\":\"target[1]\",\"qubits\":[3],\"type\":\"\",\"is_captured\":false}],\"outputs\":[{\"label\":\"target\",\"inner_label\":\"target\",\"qubits\":[2,3],\"type\":\"\",\"is_captured\":false}]},\"control_qubits\":[],\"auxiliary_qubits\":[],\"target_qubits\":[],\"operation_level\":\"UNKNOWN\",\"operation_type\":\"BIND\",\"gate\":\"\",\"is_daggered\":false,\"expanded\":false,\"show_expanded_label\":false,\"is_low_level_fallback\":false,\"is_measurement\":false},\"14\":{\"name\":\"pre__H__H__bind\",\"inner_label\":null,\"qasm_name\":\"\",\"details\":\"\",\"children\":[],\"children_ids\":[],\"operation_data\":null,\"operation_links\":{\"inputs\":[{\"label\":\"target\",\"inner_label\":\"target\",\"qubits\":[2,3],\"type\":\"\",\"is_captured\":false}],\"outputs\":[{\"label\":\"target[0]\",\"inner_label\":\"target[0]\",\"qubits\":[2],\"type\":\"\",\"is_captured\":false},{\"label\":\"target[1]\",\"inner_label\":\"target[1]\",\"qubits\":[3],\"type\":\"\",\"is_captured\":false}]},\"control_qubits\":[],\"auxiliary_qubits\":[],\"target_qubits\":[],\"operation_level\":\"UNKNOWN\",\"operation_type\":\"BIND\",\"gate\":\"\",\"is_daggered\":false,\"expanded\":false,\"show_expanded_label\":false,\"is_low_level_fallback\":false,\"is_measurement\":false},\"15\":{\"name\":\"hadamard_transform\",\"inner_label\":\"\",\"qasm_name\":\"main__hadamard_transform_0\",\"details\":\"\",\"children\":[],\"children_ids\":[14,9,10,13],\"operation_data\":{\"approximated_depth\":null,\"width\":2,\"gate_count\":{}},\"operation_links\":{\"inputs\":[{\"label\":\"b\",\"inner_label\":\"target\",\"qubits\":[2,3],\"type\":\"\",\"is_captured\":false}],\"outputs\":[{\"label\":\"b\",\"inner_label\":\"target\",\"qubits\":[2,3],\"type\":\"\",\"is_captured\":false}]},\"control_qubits\":[],\"auxiliary_qubits\":[],\"target_qubits\":[2,3],\"operation_level\":\"QMOD_CALL\",\"operation_type\":\"REGULAR\",\"gate\":\"\",\"is_daggered\":false,\"expanded\":false,\"show_expanded_label\":false,\"is_low_level_fallback\":false,\"is_measurement\":false},\"16\":{\"name\":\"h\",\"inner_label\":null,\"qasm_name\":\"h\",\"details\":\"\",\"children\":[],\"children_ids\":[],\"operation_data\":null,\"operation_links\":{\"inputs\":[{\"label\":\"\",\"inner_label\":null,\"qubits\":[4],\"type\":\"\",\"is_captured\":false}],\"outputs\":[{\"label\":\"\",\"inner_label\":null,\"qubits\":[4],\"type\":\"\",\"is_captured\":false}]},\"control_qubits\":[],\"auxiliary_qubits\":[],\"target_qubits\":[4],\"operation_level\":\"UNKNOWN\",\"operation_type\":\"ATOMIC\",\"gate\":\"H\",\"is_daggered\":false,\"expanded\":false,\"show_expanded_label\":false,\"is_low_level_fallback\":false,\"is_measurement\":false},\"17\":{\"name\":\"h\",\"inner_label\":null,\"qasm_name\":\"h\",\"details\":\"\",\"children\":[],\"children_ids\":[],\"operation_data\":null,\"operation_links\":{\"inputs\":[{\"label\":\"\",\"inner_label\":null,\"qubits\":[5],\"type\":\"\",\"is_captured\":false}],\"outputs\":[{\"label\":\"\",\"inner_label\":null,\"qubits\":[5],\"type\":\"\",\"is_captured\":false}]},\"control_qubits\":[],\"auxiliary_qubits\":[],\"target_qubits\":[5],\"operation_level\":\"UNKNOWN\",\"operation_type\":\"ATOMIC\",\"gate\":\"H\",\"is_daggered\":false,\"expanded\":false,\"show_expanded_label\":false,\"is_low_level_fallback\":false,\"is_measurement\":false},\"18\":{\"name\":\"h\",\"inner_label\":null,\"qasm_name\":\"h\",\"details\":\"\",\"children\":[],\"children_ids\":[],\"operation_data\":null,\"operation_links\":{\"inputs\":[{\"label\":\"\",\"inner_label\":null,\"qubits\":[6],\"type\":\"\",\"is_captured\":false}],\"outputs\":[{\"label\":\"\",\"inner_label\":null,\"qubits\":[6],\"type\":\"\",\"is_captured\":false}]},\"control_qubits\":[],\"auxiliary_qubits\":[],\"target_qubits\":[6],\"operation_level\":\"UNKNOWN\",\"operation_type\":\"ATOMIC\",\"gate\":\"H\",\"is_daggered\":false,\"expanded\":false,\"show_expanded_label\":false,\"is_low_level_fallback\":false,\"is_measurement\":false},\"19\":{\"name\":\"h\",\"inner_label\":null,\"qasm_name\":\"h\",\"details\":\"\",\"children\":[],\"children_ids\":[],\"operation_data\":null,\"operation_links\":{\"inputs\":[{\"label\":\"\",\"inner_label\":null,\"qubits\":[7],\"type\":\"\",\"is_captured\":false}],\"outputs\":[{\"label\":\"\",\"inner_label\":null,\"qubits\":[7],\"type\":\"\",\"is_captured\":false}]},\"control_qubits\":[],\"auxiliary_qubits\":[],\"target_qubits\":[7],\"operation_level\":\"UNKNOWN\",\"operation_type\":\"ATOMIC\",\"gate\":\"H\",\"is_daggered\":false,\"expanded\":false,\"show_expanded_label\":false,\"is_low_level_fallback\":false,\"is_measurement\":false},\"20\":{\"name\":\"cp\",\"inner_label\":null,\"qasm_name\":\"cp\",\"details\":\"(π)\",\"children\":[],\"children_ids\":[],\"operation_data\":null,\"operation_links\":{\"inputs\":[{\"label\":\"\",\"inner_label\":null,\"qubits\":[4],\"type\":\"\",\"is_captured\":false},{\"label\":\"\",\"inner_label\":null,\"qubits\":[0],\"type\":\"\",\"is_captured\":false}],\"outputs\":[{\"label\":\"\",\"inner_label\":null,\"qubits\":[4],\"type\":\"\",\"is_captured\":false},{\"label\":\"\",\"inner_label\":null,\"qubits\":[0],\"type\":\"\",\"is_captured\":false}]},\"control_qubits\":[0],\"auxiliary_qubits\":[],\"target_qubits\":[4],\"operation_level\":\"UNKNOWN\",\"operation_type\":\"ATOMIC\",\"gate\":\"CPHASE\",\"is_daggered\":false,\"expanded\":false,\"show_expanded_label\":false,\"is_low_level_fallback\":false,\"is_measurement\":false},\"21\":{\"name\":\"cp\",\"inner_label\":null,\"qasm_name\":\"cp\",\"details\":\"(π)\",\"children\":[],\"children_ids\":[],\"operation_data\":null,\"operation_links\":{\"inputs\":[{\"label\":\"\",\"inner_label\":null,\"qubits\":[1],\"type\":\"\",\"is_captured\":false},{\"label\":\"\",\"inner_label\":null,\"qubits\":[5],\"type\":\"\",\"is_captured\":false}],\"outputs\":[{\"label\":\"\",\"inner_label\":null,\"qubits\":[1],\"type\":\"\",\"is_captured\":false},{\"label\":\"\",\"inner_label\":null,\"qubits\":[5],\"type\":\"\",\"is_captured\":false}]},\"control_qubits\":[1],\"auxiliary_qubits\":[],\"target_qubits\":[5],\"operation_level\":\"UNKNOWN\",\"operation_type\":\"ATOMIC\",\"gate\":\"CPHASE\",\"is_daggered\":false,\"expanded\":false,\"show_expanded_label\":false,\"is_low_level_fallback\":false,\"is_measurement\":false},\"22\":{\"name\":\"cp\",\"inner_label\":null,\"qasm_name\":\"cp\",\"details\":\"(3π/2)\",\"children\":[],\"children_ids\":[],\"operation_data\":null,\"operation_links\":{\"inputs\":[{\"label\":\"\",\"inner_label\":null,\"qubits\":[0],\"type\":\"\",\"is_captured\":false},{\"label\":\"\",\"inner_label\":null,\"qubits\":[5],\"type\":\"\",\"is_captured\":false}],\"outputs\":[{\"label\":\"\",\"inner_label\":null,\"qubits\":[0],\"type\":\"\",\"is_captured\":false},{\"label\":\"\",\"inner_label\":null,\"qubits\":[5],\"type\":\"\",\"is_captured\":false}]},\"control_qubits\":[0],\"auxiliary_qubits\":[],\"target_qubits\":[5],\"operation_level\":\"UNKNOWN\",\"operation_type\":\"ATOMIC\",\"gate\":\"CPHASE\",\"is_daggered\":false,\"expanded\":false,\"show_expanded_label\":false,\"is_low_level_fallback\":false,\"is_measurement\":false},\"23\":{\"name\":\"cp\",\"inner_label\":null,\"qasm_name\":\"cp\",\"details\":\"(3π/2)\",\"children\":[],\"children_ids\":[],\"operation_data\":null,\"operation_links\":{\"inputs\":[{\"label\":\"\",\"inner_label\":null,\"qubits\":[1],\"type\":\"\",\"is_captured\":false},{\"label\":\"\",\"inner_label\":null,\"qubits\":[6],\"type\":\"\",\"is_captured\":false}],\"outputs\":[{\"label\":\"\",\"inner_label\":null,\"qubits\":[1],\"type\":\"\",\"is_captured\":false},{\"label\":\"\",\"inner_label\":null,\"qubits\":[6],\"type\":\"\",\"is_captured\":false}]},\"control_qubits\":[1],\"auxiliary_qubits\":[],\"target_qubits\":[6],\"operation_level\":\"UNKNOWN\",\"operation_type\":\"ATOMIC\",\"gate\":\"CPHASE\",\"is_daggered\":false,\"expanded\":false,\"show_expanded_label\":false,\"is_low_level_fallback\":false,\"is_measurement\":false},\"24\":{\"name\":\"cp\",\"inner_label\":null,\"qasm_name\":\"cp\",\"details\":\"(3π/4)\",\"children\":[],\"children_ids\":[],\"operation_data\":null,\"operation_links\":{\"inputs\":[{\"label\":\"\",\"inner_label\":null,\"qubits\":[0],\"type\":\"\",\"is_captured\":false},{\"label\":\"\",\"inner_label\":null,\"qubits\":[6],\"type\":\"\",\"is_captured\":false}],\"outputs\":[{\"label\":\"\",\"inner_label\":null,\"qubits\":[0],\"type\":\"\",\"is_captured\":false},{\"label\":\"\",\"inner_label\":null,\"qubits\":[6],\"type\":\"\",\"is_captured\":false}]},\"control_qubits\":[0],\"auxiliary_qubits\":[],\"target_qubits\":[6],\"operation_level\":\"UNKNOWN\",\"operation_type\":\"ATOMIC\",\"gate\":\"CPHASE\",\"is_daggered\":false,\"expanded\":false,\"show_expanded_label\":false,\"is_low_level_fallback\":false,\"is_measurement\":false},\"25\":{\"name\":\"cp\",\"inner_label\":null,\"qasm_name\":\"cp\",\"details\":\"(3π/4)\",\"children\":[],\"children_ids\":[],\"operation_data\":null,\"operation_links\":{\"inputs\":[{\"label\":\"\",\"inner_label\":null,\"qubits\":[1],\"type\":\"\",\"is_captured\":false},{\"label\":\"\",\"inner_label\":null,\"qubits\":[7],\"type\":\"\",\"is_captured\":false}],\"outputs\":[{\"label\":\"\",\"inner_label\":null,\"qubits\":[1],\"type\":\"\",\"is_captured\":false},{\"label\":\"\",\"inner_label\":null,\"qubits\":[7],\"type\":\"\",\"is_captured\":false}]},\"control_qubits\":[1],\"auxiliary_qubits\":[],\"target_qubits\":[7],\"operation_level\":\"UNKNOWN\",\"operation_type\":\"ATOMIC\",\"gate\":\"CPHASE\",\"is_daggered\":false,\"expanded\":false,\"show_expanded_label\":false,\"is_low_level_fallback\":false,\"is_measurement\":false},\"26\":{\"name\":\"cp\",\"inner_label\":null,\"qasm_name\":\"cp\",\"details\":\"(3π/8)\",\"children\":[],\"children_ids\":[],\"operation_data\":null,\"operation_links\":{\"inputs\":[{\"label\":\"\",\"inner_label\":null,\"qubits\":[0],\"type\":\"\",\"is_captured\":false},{\"label\":\"\",\"inner_label\":null,\"qubits\":[7],\"type\":\"\",\"is_captured\":false}],\"outputs\":[{\"label\":\"\",\"inner_label\":null,\"qubits\":[0],\"type\":\"\",\"is_captured\":false},{\"label\":\"\",\"inner_label\":null,\"qubits\":[7],\"type\":\"\",\"is_captured\":false}]},\"control_qubits\":[0],\"auxiliary_qubits\":[],\"target_qubits\":[7],\"operation_level\":\"UNKNOWN\",\"operation_type\":\"ATOMIC\",\"gate\":\"CPHASE\",\"is_daggered\":false,\"expanded\":false,\"show_expanded_label\":false,\"is_low_level_fallback\":false,\"is_measurement\":false},\"28\":{\"name\":\"cp\",\"inner_label\":null,\"qasm_name\":\"cp\",\"details\":\"(-π/2)\",\"children\":[],\"children_ids\":[],\"operation_data\":null,\"operation_links\":{\"inputs\":[{\"label\":\"\",\"inner_label\":null,\"qubits\":[4],\"type\":\"\",\"is_captured\":false},{\"label\":\"\",\"inner_label\":null,\"qubits\":[5],\"type\":\"\",\"is_captured\":false}],\"outputs\":[{\"label\":\"\",\"inner_label\":null,\"qubits\":[4],\"type\":\"\",\"is_captured\":false},{\"label\":\"\",\"inner_label\":null,\"qubits\":[5],\"type\":\"\",\"is_captured\":false}]},\"control_qubits\":[5],\"auxiliary_qubits\":[],\"target_qubits\":[4],\"operation_level\":\"UNKNOWN\",\"operation_type\":\"ATOMIC\",\"gate\":\"CPHASE\",\"is_daggered\":false,\"expanded\":false,\"show_expanded_label\":false,\"is_low_level_fallback\":false,\"is_measurement\":false},\"30\":{\"name\":\"cp\",\"inner_label\":null,\"qasm_name\":\"cp\",\"details\":\"(-π/4)\",\"children\":[],\"children_ids\":[],\"operation_data\":null,\"operation_links\":{\"inputs\":[{\"label\":\"\",\"inner_label\":null,\"qubits\":[4],\"type\":\"\",\"is_captured\":false},{\"label\":\"\",\"inner_label\":null,\"qubits\":[6],\"type\":\"\",\"is_captured\":false}],\"outputs\":[{\"label\":\"\",\"inner_label\":null,\"qubits\":[4],\"type\":\"\",\"is_captured\":false},{\"label\":\"\",\"inner_label\":null,\"qubits\":[6],\"type\":\"\",\"is_captured\":false}]},\"control_qubits\":[6],\"auxiliary_qubits\":[],\"target_qubits\":[4],\"operation_level\":\"UNKNOWN\",\"operation_type\":\"ATOMIC\",\"gate\":\"CPHASE\",\"is_daggered\":false,\"expanded\":false,\"show_expanded_label\":false,\"is_low_level_fallback\":false,\"is_measurement\":false},\"31\":{\"name\":\"cp\",\"inner_label\":null,\"qasm_name\":\"cp\",\"details\":\"(-π/2)\",\"children\":[],\"children_ids\":[],\"operation_data\":null,\"operation_links\":{\"inputs\":[{\"label\":\"\",\"inner_label\":null,\"qubits\":[6],\"type\":\"\",\"is_captured\":false},{\"label\":\"\",\"inner_label\":null,\"qubits\":[5],\"type\":\"\",\"is_captured\":false}],\"outputs\":[{\"label\":\"\",\"inner_label\":null,\"qubits\":[6],\"type\":\"\",\"is_captured\":false},{\"label\":\"\",\"inner_label\":null,\"qubits\":[5],\"type\":\"\",\"is_captured\":false}]},\"control_qubits\":[6],\"auxiliary_qubits\":[],\"target_qubits\":[5],\"operation_level\":\"UNKNOWN\",\"operation_type\":\"ATOMIC\",\"gate\":\"CPHASE\",\"is_daggered\":false,\"expanded\":false,\"show_expanded_label\":false,\"is_low_level_fallback\":false,\"is_measurement\":false},\"33\":{\"name\":\"cp\",\"inner_label\":null,\"qasm_name\":\"cp\",\"details\":\"(-π/8)\",\"children\":[],\"children_ids\":[],\"operation_data\":null,\"operation_links\":{\"inputs\":[{\"label\":\"\",\"inner_label\":null,\"qubits\":[4],\"type\":\"\",\"is_captured\":false},{\"label\":\"\",\"inner_label\":null,\"qubits\":[7],\"type\":\"\",\"is_captured\":false}],\"outputs\":[{\"label\":\"\",\"inner_label\":null,\"qubits\":[4],\"type\":\"\",\"is_captured\":false},{\"label\":\"\",\"inner_label\":null,\"qubits\":[7],\"type\":\"\",\"is_captured\":false}]},\"control_qubits\":[7],\"auxiliary_qubits\":[],\"target_qubits\":[4],\"operation_level\":\"UNKNOWN\",\"operation_type\":\"ATOMIC\",\"gate\":\"CPHASE\",\"is_daggered\":false,\"expanded\":false,\"show_expanded_label\":false,\"is_low_level_fallback\":false,\"is_measurement\":false},\"34\":{\"name\":\"cp\",\"inner_label\":null,\"qasm_name\":\"cp\",\"details\":\"(-π/4)\",\"children\":[],\"children_ids\":[],\"operation_data\":null,\"operation_links\":{\"inputs\":[{\"label\":\"\",\"inner_label\":null,\"qubits\":[7],\"type\":\"\",\"is_captured\":false},{\"label\":\"\",\"inner_label\":null,\"qubits\":[5],\"type\":\"\",\"is_captured\":false}],\"outputs\":[{\"label\":\"\",\"inner_label\":null,\"qubits\":[7],\"type\":\"\",\"is_captured\":false},{\"label\":\"\",\"inner_label\":null,\"qubits\":[5],\"type\":\"\",\"is_captured\":false}]},\"control_qubits\":[7],\"auxiliary_qubits\":[],\"target_qubits\":[5],\"operation_level\":\"UNKNOWN\",\"operation_type\":\"ATOMIC\",\"gate\":\"CPHASE\",\"is_daggered\":false,\"expanded\":false,\"show_expanded_label\":false,\"is_low_level_fallback\":false,\"is_measurement\":false},\"35\":{\"name\":\"cp\",\"inner_label\":null,\"qasm_name\":\"cp\",\"details\":\"(-π/2)\",\"children\":[],\"children_ids\":[],\"operation_data\":null,\"operation_links\":{\"inputs\":[{\"label\":\"\",\"inner_label\":null,\"qubits\":[7],\"type\":\"\",\"is_captured\":false},{\"label\":\"\",\"inner_label\":null,\"qubits\":[6],\"type\":\"\",\"is_captured\":false}],\"outputs\":[{\"label\":\"\",\"inner_label\":null,\"qubits\":[7],\"type\":\"\",\"is_captured\":false},{\"label\":\"\",\"inner_label\":null,\"qubits\":[6],\"type\":\"\",\"is_captured\":false}]},\"control_qubits\":[7],\"auxiliary_qubits\":[],\"target_qubits\":[6],\"operation_level\":\"UNKNOWN\",\"operation_type\":\"ATOMIC\",\"gate\":\"CPHASE\",\"is_daggered\":false,\"expanded\":false,\"show_expanded_label\":false,\"is_low_level_fallback\":false,\"is_measurement\":false},\"37\":{\"name\":\"qft4_dg_dg\",\"inner_label\":null,\"qasm_name\":\"qft4_dg_dg\",\"details\":\"\",\"children\":[],\"children_ids\":[16,28,17,30,31,18,33,34,35,19],\"operation_data\":null,\"operation_links\":{\"inputs\":[{\"label\":\"\",\"inner_label\":null,\"qubits\":[4],\"type\":\"\",\"is_captured\":false},{\"label\":\"\",\"inner_label\":null,\"qubits\":[7],\"type\":\"\",\"is_captured\":false},{\"label\":\"\",\"inner_label\":null,\"qubits\":[6],\"type\":\"\",\"is_captured\":false},{\"label\":\"\",\"inner_label\":null,\"qubits\":[5],\"type\":\"\",\"is_captured\":false}],\"outputs\":[{\"label\":\"\",\"inner_label\":null,\"qubits\":[4],\"type\":\"\",\"is_captured\":false},{\"label\":\"\",\"inner_label\":null,\"qubits\":[7],\"type\":\"\",\"is_captured\":false},{\"label\":\"\",\"inner_label\":null,\"qubits\":[6],\"type\":\"\",\"is_captured\":false},{\"label\":\"\",\"inner_label\":null,\"qubits\":[5],\"type\":\"\",\"is_captured\":false}]},\"control_qubits\":[],\"auxiliary_qubits\":[],\"target_qubits\":[4,5,6,7],\"operation_level\":\"ENGINE_CALL\",\"operation_type\":\"REGULAR\",\"gate\":\"\",\"is_daggered\":false,\"expanded\":false,\"show_expanded_label\":false,\"is_low_level_fallback\":false,\"is_measurement\":false},\"38\":{\"name\":\"Split\",\"inner_label\":null,\"qasm_name\":\"\",\"details\":\"\",\"children\":[],\"children_ids\":[],\"operation_data\":null,\"operation_links\":{\"inputs\":[{\"label\":\"right_arg\",\"inner_label\":\"right_arg\",\"qubits\":[0,1],\"type\":\"\",\"is_captured\":false}],\"outputs\":[{\"label\":\"\",\"inner_label\":null,\"qubits\":[1],\"type\":\"\",\"is_captured\":false},{\"label\":\"\",\"inner_label\":null,\"qubits\":[0],\"type\":\"\",\"is_captured\":false}]},\"control_qubits\":[],\"auxiliary_qubits\":[],\"target_qubits\":[0,1],\"operation_level\":\"UNKNOWN\",\"operation_type\":\"BIND\",\"gate\":\"\",\"is_daggered\":false,\"expanded\":false,\"show_expanded_label\":false,\"is_low_level_fallback\":false,\"is_measurement\":false},\"39\":{\"name\":\"Split\",\"inner_label\":null,\"qasm_name\":\"\",\"details\":\"\",\"children\":[],\"children_ids\":[],\"operation_data\":null,\"operation_links\":{\"inputs\":[{\"label\":\"zero_product\",\"inner_label\":\"zero_product\",\"qubits\":[4,5,6,7],\"type\":\"\",\"is_captured\":false}],\"outputs\":[{\"label\":\"\",\"inner_label\":null,\"qubits\":[4],\"type\":\"\",\"is_captured\":false},{\"label\":\"\",\"inner_label\":null,\"qubits\":[7],\"type\":\"\",\"is_captured\":false},{\"label\":\"\",\"inner_label\":null,\"qubits\":[6],\"type\":\"\",\"is_captured\":false},{\"label\":\"\",\"inner_label\":null,\"qubits\":[5],\"type\":\"\",\"is_captured\":false}]},\"control_qubits\":[],\"auxiliary_qubits\":[],\"target_qubits\":[4,5,6,7],\"operation_level\":\"UNKNOWN\",\"operation_type\":\"BIND\",\"gate\":\"\",\"is_daggered\":false,\"expanded\":false,\"show_expanded_label\":false,\"is_low_level_fallback\":false,\"is_measurement\":false},\"40\":{\"name\":\"Merge\",\"inner_label\":null,\"qasm_name\":\"\",\"details\":\"\",\"children\":[],\"children_ids\":[],\"operation_data\":null,\"operation_links\":{\"inputs\":[{\"label\":\"\",\"inner_label\":null,\"qubits\":[1],\"type\":\"\",\"is_captured\":false},{\"label\":\"\",\"inner_label\":null,\"qubits\":[0],\"type\":\"\",\"is_captured\":false}],\"outputs\":[{\"label\":\"right_arg\",\"inner_label\":\"right_arg\",\"qubits\":[0,1],\"type\":\"\",\"is_captured\":false}]},\"control_qubits\":[],\"auxiliary_qubits\":[],\"target_qubits\":[0,1],\"operation_level\":\"UNKNOWN\",\"operation_type\":\"BIND\",\"gate\":\"\",\"is_daggered\":false,\"expanded\":false,\"show_expanded_label\":false,\"is_low_level_fallback\":false,\"is_measurement\":false},\"41\":{\"name\":\"Merge\",\"inner_label\":null,\"qasm_name\":\"\",\"details\":\"\",\"children\":[],\"children_ids\":[],\"operation_data\":null,\"operation_links\":{\"inputs\":[{\"label\":\"\",\"inner_label\":null,\"qubits\":[4],\"type\":\"\",\"is_captured\":false},{\"label\":\"\",\"inner_label\":null,\"qubits\":[7],\"type\":\"\",\"is_captured\":false},{\"label\":\"\",\"inner_label\":null,\"qubits\":[6],\"type\":\"\",\"is_captured\":false},{\"label\":\"\",\"inner_label\":null,\"qubits\":[5],\"type\":\"\",\"is_captured\":false}],\"outputs\":[{\"label\":\"product\",\"inner_label\":\"product\",\"qubits\":[4,5,6,7],\"type\":\"\",\"is_captured\":false}]},\"control_qubits\":[],\"auxiliary_qubits\":[],\"target_qubits\":[4,5,6,7],\"operation_level\":\"UNKNOWN\",\"operation_type\":\"BIND\",\"gate\":\"\",\"is_daggered\":false,\"expanded\":false,\"show_expanded_label\":false,\"is_low_level_fallback\":false,\"is_measurement\":false},\"42\":{\"name\":\"allocate\",\"inner_label\":null,\"qasm_name\":\"\",\"details\":\"\",\"children\":[],\"children_ids\":[],\"operation_data\":null,\"operation_links\":{\"inputs\":[],\"outputs\":[{\"label\":\"zero_product\",\"inner_label\":\"zero_product\",\"qubits\":[4,5,6,7],\"type\":\"\",\"is_captured\":false}]},\"control_qubits\":[],\"auxiliary_qubits\":[],\"target_qubits\":[4,5,6,7],\"operation_level\":\"UNKNOWN\",\"operation_type\":\"ALLOCATE\",\"gate\":\"\",\"is_daggered\":false,\"expanded\":false,\"show_expanded_label\":false,\"is_low_level_fallback\":false,\"is_measurement\":false},\"43\":{\"name\":\"Multiplier\",\"inner_label\":\"\",\"qasm_name\":\"arithmetic__multiplier\",\"details\":\"\",\"children\":[],\"children_ids\":[42,38,39,16,17,18,19,20,21,22,23,24,25,26,37,40,41],\"operation_data\":{\"approximated_depth\":6,\"width\":6,\"gate_count\":{}},\"operation_links\":{\"inputs\":[{\"label\":\"a\",\"inner_label\":\"right_arg\",\"qubits\":[0,1],\"type\":\"\",\"is_captured\":false}],\"outputs\":[{\"label\":\"product\",\"inner_label\":\"product\",\"qubits\":[4,5,6,7],\"type\":\"\",\"is_captured\":false},{\"label\":\"a\",\"inner_label\":\"right_arg\",\"qubits\":[0,1],\"type\":\"\",\"is_captured\":false}]},\"control_qubits\":[],\"auxiliary_qubits\":[],\"target_qubits\":[0,1,4,5,6,7],\"operation_level\":\"ENGINE_CALL\",\"operation_type\":\"REGULAR\",\"gate\":\"\",\"is_daggered\":false,\"expanded\":false,\"show_expanded_label\":false,\"is_low_level_fallback\":false,\"is_measurement\":false},\"44\":{\"name\":\"cx\",\"inner_label\":null,\"qasm_name\":\"cx\",\"details\":\"\",\"children\":[],\"children_ids\":[],\"operation_data\":null,\"operation_links\":{\"inputs\":[{\"label\":\"\",\"inner_label\":null,\"qubits\":[4],\"type\":\"\",\"is_captured\":false},{\"label\":\"\",\"inner_label\":null,\"qubits\":[2],\"type\":\"\",\"is_captured\":false}],\"outputs\":[{\"label\":\"\",\"inner_label\":null,\"qubits\":[4],\"type\":\"\",\"is_captured\":false},{\"label\":\"\",\"inner_label\":null,\"qubits\":[2],\"type\":\"\",\"is_captured\":false}]},\"control_qubits\":[2],\"auxiliary_qubits\":[],\"target_qubits\":[4],\"operation_level\":\"UNKNOWN\",\"operation_type\":\"ATOMIC\",\"gate\":\"CX\",\"is_daggered\":false,\"expanded\":false,\"show_expanded_label\":false,\"is_low_level_fallback\":false,\"is_measurement\":false},\"45\":{\"name\":\"cx\",\"inner_label\":null,\"qasm_name\":\"cx\",\"details\":\"\",\"children\":[],\"children_ids\":[],\"operation_data\":null,\"operation_links\":{\"inputs\":[{\"label\":\"\",\"inner_label\":null,\"qubits\":[2],\"type\":\"\",\"is_captured\":false},{\"label\":\"\",\"inner_label\":null,\"qubits\":[9],\"type\":\"\",\"is_captured\":false}],\"outputs\":[{\"label\":\"\",\"inner_label\":null,\"qubits\":[2],\"type\":\"\",\"is_captured\":false},{\"label\":\"\",\"inner_label\":null,\"qubits\":[9],\"type\":\"\",\"is_captured\":false}]},\"control_qubits\":[2],\"auxiliary_qubits\":[],\"target_qubits\":[9],\"operation_level\":\"UNKNOWN\",\"operation_type\":\"ATOMIC\",\"gate\":\"CX\",\"is_daggered\":false,\"expanded\":false,\"show_expanded_label\":false,\"is_low_level_fallback\":false,\"is_measurement\":false},\"46\":{\"name\":\"h\",\"inner_label\":null,\"qasm_name\":\"h\",\"details\":\"\",\"children\":[],\"children_ids\":[],\"operation_data\":null,\"operation_links\":{\"inputs\":[{\"label\":\"\",\"inner_label\":null,\"qubits\":[2],\"type\":\"\",\"is_captured\":false}],\"outputs\":[{\"label\":\"\",\"inner_label\":null,\"qubits\":[2],\"type\":\"\",\"is_captured\":false}]},\"control_qubits\":[],\"auxiliary_qubits\":[],\"target_qubits\":[2],\"operation_level\":\"UNKNOWN\",\"operation_type\":\"ATOMIC\",\"gate\":\"H\",\"is_daggered\":false,\"expanded\":false,\"show_expanded_label\":false,\"is_low_level_fallback\":false,\"is_measurement\":false},\"47\":{\"name\":\"cx\",\"inner_label\":null,\"qasm_name\":\"cx\",\"details\":\"\",\"children\":[],\"children_ids\":[],\"operation_data\":null,\"operation_links\":{\"inputs\":[{\"label\":\"\",\"inner_label\":null,\"qubits\":[4],\"type\":\"\",\"is_captured\":false},{\"label\":\"\",\"inner_label\":null,\"qubits\":[2],\"type\":\"\",\"is_captured\":false}],\"outputs\":[{\"label\":\"\",\"inner_label\":null,\"qubits\":[4],\"type\":\"\",\"is_captured\":false},{\"label\":\"\",\"inner_label\":null,\"qubits\":[2],\"type\":\"\",\"is_captured\":false}]},\"control_qubits\":[4],\"auxiliary_qubits\":[],\"target_qubits\":[2],\"operation_level\":\"UNKNOWN\",\"operation_type\":\"ATOMIC\",\"gate\":\"CX\",\"is_daggered\":false,\"expanded\":false,\"show_expanded_label\":false,\"is_low_level_fallback\":false,\"is_measurement\":false},\"48\":{\"name\":\"tdg\",\"inner_label\":null,\"qasm_name\":\"tdg\",\"details\":\"\",\"children\":[],\"children_ids\":[],\"operation_data\":null,\"operation_links\":{\"inputs\":[{\"label\":\"\",\"inner_label\":null,\"qubits\":[2],\"type\":\"\",\"is_captured\":false}],\"outputs\":[{\"label\":\"\",\"inner_label\":null,\"qubits\":[2],\"type\":\"\",\"is_captured\":false}]},\"control_qubits\":[],\"auxiliary_qubits\":[],\"target_qubits\":[2],\"operation_level\":\"UNKNOWN\",\"operation_type\":\"ATOMIC\",\"gate\":\"TDG\",\"is_daggered\":false,\"expanded\":false,\"show_expanded_label\":false,\"is_low_level_fallback\":false,\"is_measurement\":false},\"49\":{\"name\":\"cx\",\"inner_label\":null,\"qasm_name\":\"cx\",\"details\":\"\",\"children\":[],\"children_ids\":[],\"operation_data\":null,\"operation_links\":{\"inputs\":[{\"label\":\"\",\"inner_label\":null,\"qubits\":[2],\"type\":\"\",\"is_captured\":false},{\"label\":\"\",\"inner_label\":null,\"qubits\":[9],\"type\":\"\",\"is_captured\":false}],\"outputs\":[{\"label\":\"\",\"inner_label\":null,\"qubits\":[2],\"type\":\"\",\"is_captured\":false},{\"label\":\"\",\"inner_label\":null,\"qubits\":[9],\"type\":\"\",\"is_captured\":false}]},\"control_qubits\":[9],\"auxiliary_qubits\":[],\"target_qubits\":[2],\"operation_level\":\"UNKNOWN\",\"operation_type\":\"ATOMIC\",\"gate\":\"CX\",\"is_daggered\":false,\"expanded\":false,\"show_expanded_label\":false,\"is_low_level_fallback\":false,\"is_measurement\":false},\"50\":{\"name\":\"t\",\"inner_label\":null,\"qasm_name\":\"t\",\"details\":\"\",\"children\":[],\"children_ids\":[],\"operation_data\":null,\"operation_links\":{\"inputs\":[{\"label\":\"\",\"inner_label\":null,\"qubits\":[2],\"type\":\"\",\"is_captured\":false}],\"outputs\":[{\"label\":\"\",\"inner_label\":null,\"qubits\":[2],\"type\":\"\",\"is_captured\":false}]},\"control_qubits\":[],\"auxiliary_qubits\":[],\"target_qubits\":[2],\"operation_level\":\"UNKNOWN\",\"operation_type\":\"ATOMIC\",\"gate\":\"T\",\"is_daggered\":false,\"expanded\":false,\"show_expanded_label\":false,\"is_low_level_fallback\":false,\"is_measurement\":false},\"54\":{\"name\":\"t\",\"inner_label\":null,\"qasm_name\":\"t\",\"details\":\"\",\"children\":[],\"children_ids\":[],\"operation_data\":null,\"operation_links\":{\"inputs\":[{\"label\":\"\",\"inner_label\":null,\"qubits\":[4],\"type\":\"\",\"is_captured\":false}],\"outputs\":[{\"label\":\"\",\"inner_label\":null,\"qubits\":[4],\"type\":\"\",\"is_captured\":false}]},\"control_qubits\":[],\"auxiliary_qubits\":[],\"target_qubits\":[4],\"operation_level\":\"UNKNOWN\",\"operation_type\":\"ATOMIC\",\"gate\":\"T\",\"is_daggered\":false,\"expanded\":false,\"show_expanded_label\":false,\"is_low_level_fallback\":false,\"is_measurement\":false},\"57\":{\"name\":\"cx\",\"inner_label\":null,\"qasm_name\":\"cx\",\"details\":\"\",\"children\":[],\"children_ids\":[],\"operation_data\":null,\"operation_links\":{\"inputs\":[{\"label\":\"\",\"inner_label\":null,\"qubits\":[4],\"type\":\"\",\"is_captured\":false},{\"label\":\"\",\"inner_label\":null,\"qubits\":[9],\"type\":\"\",\"is_captured\":false}],\"outputs\":[{\"label\":\"\",\"inner_label\":null,\"qubits\":[4],\"type\":\"\",\"is_captured\":false},{\"label\":\"\",\"inner_label\":null,\"qubits\":[9],\"type\":\"\",\"is_captured\":false}]},\"control_qubits\":[9],\"auxiliary_qubits\":[],\"target_qubits\":[4],\"operation_level\":\"UNKNOWN\",\"operation_type\":\"ATOMIC\",\"gate\":\"CX\",\"is_daggered\":false,\"expanded\":false,\"show_expanded_label\":false,\"is_low_level_fallback\":false,\"is_measurement\":false},\"58\":{\"name\":\"t\",\"inner_label\":null,\"qasm_name\":\"t\",\"details\":\"\",\"children\":[],\"children_ids\":[],\"operation_data\":null,\"operation_links\":{\"inputs\":[{\"label\":\"\",\"inner_label\":null,\"qubits\":[9],\"type\":\"\",\"is_captured\":false}],\"outputs\":[{\"label\":\"\",\"inner_label\":null,\"qubits\":[9],\"type\":\"\",\"is_captured\":false}]},\"control_qubits\":[],\"auxiliary_qubits\":[],\"target_qubits\":[9],\"operation_level\":\"UNKNOWN\",\"operation_type\":\"ATOMIC\",\"gate\":\"T\",\"is_daggered\":false,\"expanded\":false,\"show_expanded_label\":false,\"is_low_level_fallback\":false,\"is_measurement\":false},\"59\":{\"name\":\"tdg\",\"inner_label\":null,\"qasm_name\":\"tdg\",\"details\":\"\",\"children\":[],\"children_ids\":[],\"operation_data\":null,\"operation_links\":{\"inputs\":[{\"label\":\"\",\"inner_label\":null,\"qubits\":[4],\"type\":\"\",\"is_captured\":false}],\"outputs\":[{\"label\":\"\",\"inner_label\":null,\"qubits\":[4],\"type\":\"\",\"is_captured\":false}]},\"control_qubits\":[],\"auxiliary_qubits\":[],\"target_qubits\":[4],\"operation_level\":\"UNKNOWN\",\"operation_type\":\"ATOMIC\",\"gate\":\"TDG\",\"is_daggered\":false,\"expanded\":false,\"show_expanded_label\":false,\"is_low_level_fallback\":false,\"is_measurement\":false},\"61\":{\"name\":\"ccx\",\"inner_label\":null,\"qasm_name\":\"ccx\",\"details\":\"\",\"children\":[],\"children_ids\":[46,47,48,49,50,47,48,49,54,50,46,57,58,59,57],\"operation_data\":null,\"operation_links\":{\"inputs\":[{\"label\":\"\",\"inner_label\":null,\"qubits\":[4],\"type\":\"\",\"is_captured\":false},{\"label\":\"\",\"inner_label\":null,\"qubits\":[2],\"type\":\"\",\"is_captured\":false},{\"label\":\"\",\"inner_label\":null,\"qubits\":[9],\"type\":\"\",\"is_captured\":false}],\"outputs\":[{\"label\":\"\",\"inner_label\":null,\"qubits\":[4],\"type\":\"\",\"is_captured\":false},{\"label\":\"\",\"inner_label\":null,\"qubits\":[2],\"type\":\"\",\"is_captured\":false},{\"label\":\"\",\"inner_label\":null,\"qubits\":[9],\"type\":\"\",\"is_captured\":false}]},\"control_qubits\":[],\"auxiliary_qubits\":[],\"target_qubits\":[2],\"operation_level\":\"ENGINE_CALL\",\"operation_type\":\"REGULAR\",\"gate\":\"\",\"is_daggered\":false,\"expanded\":false,\"show_expanded_label\":false,\"is_low_level_fallback\":false,\"is_measurement\":false},\"62\":{\"name\":\"cx\",\"inner_label\":null,\"qasm_name\":\"cx\",\"details\":\"\",\"children\":[],\"children_ids\":[],\"operation_data\":null,\"operation_links\":{\"inputs\":[{\"label\":\"\",\"inner_label\":null,\"qubits\":[3],\"type\":\"\",\"is_captured\":false},{\"label\":\"\",\"inner_label\":null,\"qubits\":[5],\"type\":\"\",\"is_captured\":false}],\"outputs\":[{\"label\":\"\",\"inner_label\":null,\"qubits\":[3],\"type\":\"\",\"is_captured\":false},{\"label\":\"\",\"inner_label\":null,\"qubits\":[5],\"type\":\"\",\"is_captured\":false}]},\"control_qubits\":[3],\"auxiliary_qubits\":[],\"target_qubits\":[5],\"operation_level\":\"UNKNOWN\",\"operation_type\":\"ATOMIC\",\"gate\":\"CX\",\"is_daggered\":false,\"expanded\":false,\"show_expanded_label\":false,\"is_low_level_fallback\":false,\"is_measurement\":false},\"63\":{\"name\":\"cx\",\"inner_label\":null,\"qasm_name\":\"cx\",\"details\":\"\",\"children\":[],\"children_ids\":[],\"operation_data\":null,\"operation_links\":{\"inputs\":[{\"label\":\"\",\"inner_label\":null,\"qubits\":[3],\"type\":\"\",\"is_captured\":false},{\"label\":\"\",\"inner_label\":null,\"qubits\":[2],\"type\":\"\",\"is_captured\":false}],\"outputs\":[{\"label\":\"\",\"inner_label\":null,\"qubits\":[3],\"type\":\"\",\"is_captured\":false},{\"label\":\"\",\"inner_label\":null,\"qubits\":[2],\"type\":\"\",\"is_captured\":false}]},\"control_qubits\":[3],\"auxiliary_qubits\":[],\"target_qubits\":[2],\"operation_level\":\"UNKNOWN\",\"operation_type\":\"ATOMIC\",\"gate\":\"CX\",\"is_daggered\":false,\"expanded\":false,\"show_expanded_label\":false,\"is_low_level_fallback\":false,\"is_measurement\":false},\"64\":{\"name\":\"h\",\"inner_label\":null,\"qasm_name\":\"h\",\"details\":\"\",\"children\":[],\"children_ids\":[],\"operation_data\":null,\"operation_links\":{\"inputs\":[{\"label\":\"\",\"inner_label\":null,\"qubits\":[3],\"type\":\"\",\"is_captured\":false}],\"outputs\":[{\"label\":\"\",\"inner_label\":null,\"qubits\":[3],\"type\":\"\",\"is_captured\":false}]},\"control_qubits\":[],\"auxiliary_qubits\":[],\"target_qubits\":[3],\"operation_level\":\"UNKNOWN\",\"operation_type\":\"ATOMIC\",\"gate\":\"H\",\"is_daggered\":false,\"expanded\":false,\"show_expanded_label\":false,\"is_low_level_fallback\":false,\"is_measurement\":false},\"65\":{\"name\":\"cx\",\"inner_label\":null,\"qasm_name\":\"cx\",\"details\":\"\",\"children\":[],\"children_ids\":[],\"operation_data\":null,\"operation_links\":{\"inputs\":[{\"label\":\"\",\"inner_label\":null,\"qubits\":[3],\"type\":\"\",\"is_captured\":false},{\"label\":\"\",\"inner_label\":null,\"qubits\":[5],\"type\":\"\",\"is_captured\":false}],\"outputs\":[{\"label\":\"\",\"inner_label\":null,\"qubits\":[3],\"type\":\"\",\"is_captured\":false},{\"label\":\"\",\"inner_label\":null,\"qubits\":[5],\"type\":\"\",\"is_captured\":false}]},\"control_qubits\":[5],\"auxiliary_qubits\":[],\"target_qubits\":[3],\"operation_level\":\"UNKNOWN\",\"operation_type\":\"ATOMIC\",\"gate\":\"CX\",\"is_daggered\":false,\"expanded\":false,\"show_expanded_label\":false,\"is_low_level_fallback\":false,\"is_measurement\":false},\"66\":{\"name\":\"tdg\",\"inner_label\":null,\"qasm_name\":\"tdg\",\"details\":\"\",\"children\":[],\"children_ids\":[],\"operation_data\":null,\"operation_links\":{\"inputs\":[{\"label\":\"\",\"inner_label\":null,\"qubits\":[3],\"type\":\"\",\"is_captured\":false}],\"outputs\":[{\"label\":\"\",\"inner_label\":null,\"qubits\":[3],\"type\":\"\",\"is_captured\":false}]},\"control_qubits\":[],\"auxiliary_qubits\":[],\"target_qubits\":[3],\"operation_level\":\"UNKNOWN\",\"operation_type\":\"ATOMIC\",\"gate\":\"TDG\",\"is_daggered\":false,\"expanded\":false,\"show_expanded_label\":false,\"is_low_level_fallback\":false,\"is_measurement\":false},\"67\":{\"name\":\"cx\",\"inner_label\":null,\"qasm_name\":\"cx\",\"details\":\"\",\"children\":[],\"children_ids\":[],\"operation_data\":null,\"operation_links\":{\"inputs\":[{\"label\":\"\",\"inner_label\":null,\"qubits\":[3],\"type\":\"\",\"is_captured\":false},{\"label\":\"\",\"inner_label\":null,\"qubits\":[2],\"type\":\"\",\"is_captured\":false}],\"outputs\":[{\"label\":\"\",\"inner_label\":null,\"qubits\":[3],\"type\":\"\",\"is_captured\":false},{\"label\":\"\",\"inner_label\":null,\"qubits\":[2],\"type\":\"\",\"is_captured\":false}]},\"control_qubits\":[2],\"auxiliary_qubits\":[],\"target_qubits\":[3],\"operation_level\":\"UNKNOWN\",\"operation_type\":\"ATOMIC\",\"gate\":\"CX\",\"is_daggered\":false,\"expanded\":false,\"show_expanded_label\":false,\"is_low_level_fallback\":false,\"is_measurement\":false},\"68\":{\"name\":\"t\",\"inner_label\":null,\"qasm_name\":\"t\",\"details\":\"\",\"children\":[],\"children_ids\":[],\"operation_data\":null,\"operation_links\":{\"inputs\":[{\"label\":\"\",\"inner_label\":null,\"qubits\":[3],\"type\":\"\",\"is_captured\":false}],\"outputs\":[{\"label\":\"\",\"inner_label\":null,\"qubits\":[3],\"type\":\"\",\"is_captured\":false}]},\"control_qubits\":[],\"auxiliary_qubits\":[],\"target_qubits\":[3],\"operation_level\":\"UNKNOWN\",\"operation_type\":\"ATOMIC\",\"gate\":\"T\",\"is_daggered\":false,\"expanded\":false,\"show_expanded_label\":false,\"is_low_level_fallback\":false,\"is_measurement\":false},\"72\":{\"name\":\"t\",\"inner_label\":null,\"qasm_name\":\"t\",\"details\":\"\",\"children\":[],\"children_ids\":[],\"operation_data\":null,\"operation_links\":{\"inputs\":[{\"label\":\"\",\"inner_label\":null,\"qubits\":[5],\"type\":\"\",\"is_captured\":false}],\"outputs\":[{\"label\":\"\",\"inner_label\":null,\"qubits\":[5],\"type\":\"\",\"is_captured\":false}]},\"control_qubits\":[],\"auxiliary_qubits\":[],\"target_qubits\":[5],\"operation_level\":\"UNKNOWN\",\"operation_type\":\"ATOMIC\",\"gate\":\"T\",\"is_daggered\":false,\"expanded\":false,\"show_expanded_label\":false,\"is_low_level_fallback\":false,\"is_measurement\":false},\"75\":{\"name\":\"cx\",\"inner_label\":null,\"qasm_name\":\"cx\",\"details\":\"\",\"children\":[],\"children_ids\":[],\"operation_data\":null,\"operation_links\":{\"inputs\":[{\"label\":\"\",\"inner_label\":null,\"qubits\":[2],\"type\":\"\",\"is_captured\":false},{\"label\":\"\",\"inner_label\":null,\"qubits\":[5],\"type\":\"\",\"is_captured\":false}],\"outputs\":[{\"label\":\"\",\"inner_label\":null,\"qubits\":[2],\"type\":\"\",\"is_captured\":false},{\"label\":\"\",\"inner_label\":null,\"qubits\":[5],\"type\":\"\",\"is_captured\":false}]},\"control_qubits\":[2],\"auxiliary_qubits\":[],\"target_qubits\":[5],\"operation_level\":\"UNKNOWN\",\"operation_type\":\"ATOMIC\",\"gate\":\"CX\",\"is_daggered\":false,\"expanded\":false,\"show_expanded_label\":false,\"is_low_level_fallback\":false,\"is_measurement\":false},\"77\":{\"name\":\"tdg\",\"inner_label\":null,\"qasm_name\":\"tdg\",\"details\":\"\",\"children\":[],\"children_ids\":[],\"operation_data\":null,\"operation_links\":{\"inputs\":[{\"label\":\"\",\"inner_label\":null,\"qubits\":[5],\"type\":\"\",\"is_captured\":false}],\"outputs\":[{\"label\":\"\",\"inner_label\":null,\"qubits\":[5],\"type\":\"\",\"is_captured\":false}]},\"control_qubits\":[],\"auxiliary_qubits\":[],\"target_qubits\":[5],\"operation_level\":\"UNKNOWN\",\"operation_type\":\"ATOMIC\",\"gate\":\"TDG\",\"is_daggered\":false,\"expanded\":false,\"show_expanded_label\":false,\"is_low_level_fallback\":false,\"is_measurement\":false},\"79\":{\"name\":\"ccx\",\"inner_label\":null,\"qasm_name\":\"ccx\",\"details\":\"\",\"children\":[],\"children_ids\":[64,65,66,67,68,65,66,67,72,68,64,75,50,77,75],\"operation_data\":null,\"operation_links\":{\"inputs\":[{\"label\":\"\",\"inner_label\":null,\"qubits\":[3],\"type\":\"\",\"is_captured\":false},{\"label\":\"\",\"inner_label\":null,\"qubits\":[2],\"type\":\"\",\"is_captured\":false},{\"label\":\"\",\"inner_label\":null,\"qubits\":[5],\"type\":\"\",\"is_captured\":false}],\"outputs\":[{\"label\":\"\",\"inner_label\":null,\"qubits\":[3],\"type\":\"\",\"is_captured\":false},{\"label\":\"\",\"inner_label\":null,\"qubits\":[2],\"type\":\"\",\"is_captured\":false},{\"label\":\"\",\"inner_label\":null,\"qubits\":[5],\"type\":\"\",\"is_captured\":false}]},\"control_qubits\":[],\"auxiliary_qubits\":[],\"target_qubits\":[3],\"operation_level\":\"ENGINE_CALL\",\"operation_type\":\"REGULAR\",\"gate\":\"\",\"is_daggered\":false,\"expanded\":false,\"show_expanded_label\":false,\"is_low_level_fallback\":false,\"is_measurement\":false},\"80\":{\"name\":\"cx\",\"inner_label\":null,\"qasm_name\":\"cx\",\"details\":\"\",\"children\":[],\"children_ids\":[],\"operation_data\":null,\"operation_links\":{\"inputs\":[{\"label\":\"\",\"inner_label\":null,\"qubits\":[8],\"type\":\"\",\"is_captured\":false},{\"label\":\"\",\"inner_label\":null,\"qubits\":[6],\"type\":\"\",\"is_captured\":false}],\"outputs\":[{\"label\":\"\",\"inner_label\":null,\"qubits\":[8],\"type\":\"\",\"is_captured\":false},{\"label\":\"\",\"inner_label\":null,\"qubits\":[6],\"type\":\"\",\"is_captured\":false}]},\"control_qubits\":[8],\"auxiliary_qubits\":[],\"target_qubits\":[6],\"operation_level\":\"UNKNOWN\",\"operation_type\":\"ATOMIC\",\"gate\":\"CX\",\"is_daggered\":false,\"expanded\":false,\"show_expanded_label\":false,\"is_low_level_fallback\":false,\"is_measurement\":false},\"81\":{\"name\":\"cx\",\"inner_label\":null,\"qasm_name\":\"cx\",\"details\":\"\",\"children\":[],\"children_ids\":[],\"operation_data\":null,\"operation_links\":{\"inputs\":[{\"label\":\"\",\"inner_label\":null,\"qubits\":[3],\"type\":\"\",\"is_captured\":false},{\"label\":\"\",\"inner_label\":null,\"qubits\":[8],\"type\":\"\",\"is_captured\":false}],\"outputs\":[{\"label\":\"\",\"inner_label\":null,\"qubits\":[3],\"type\":\"\",\"is_captured\":false},{\"label\":\"\",\"inner_label\":null,\"qubits\":[8],\"type\":\"\",\"is_captured\":false}]},\"control_qubits\":[8],\"auxiliary_qubits\":[],\"target_qubits\":[3],\"operation_level\":\"UNKNOWN\",\"operation_type\":\"ATOMIC\",\"gate\":\"CX\",\"is_daggered\":false,\"expanded\":false,\"show_expanded_label\":false,\"is_low_level_fallback\":false,\"is_measurement\":false},\"82\":{\"name\":\"h\",\"inner_label\":null,\"qasm_name\":\"h\",\"details\":\"\",\"children\":[],\"children_ids\":[],\"operation_data\":null,\"operation_links\":{\"inputs\":[{\"label\":\"\",\"inner_label\":null,\"qubits\":[8],\"type\":\"\",\"is_captured\":false}],\"outputs\":[{\"label\":\"\",\"inner_label\":null,\"qubits\":[8],\"type\":\"\",\"is_captured\":false}]},\"control_qubits\":[],\"auxiliary_qubits\":[],\"target_qubits\":[8],\"operation_level\":\"UNKNOWN\",\"operation_type\":\"ATOMIC\",\"gate\":\"H\",\"is_daggered\":false,\"expanded\":false,\"show_expanded_label\":false,\"is_low_level_fallback\":false,\"is_measurement\":false},\"83\":{\"name\":\"cx\",\"inner_label\":null,\"qasm_name\":\"cx\",\"details\":\"\",\"children\":[],\"children_ids\":[],\"operation_data\":null,\"operation_links\":{\"inputs\":[{\"label\":\"\",\"inner_label\":null,\"qubits\":[8],\"type\":\"\",\"is_captured\":false},{\"label\":\"\",\"inner_label\":null,\"qubits\":[6],\"type\":\"\",\"is_captured\":false}],\"outputs\":[{\"label\":\"\",\"inner_label\":null,\"qubits\":[8],\"type\":\"\",\"is_captured\":false},{\"label\":\"\",\"inner_label\":null,\"qubits\":[6],\"type\":\"\",\"is_captured\":false}]},\"control_qubits\":[6],\"auxiliary_qubits\":[],\"target_qubits\":[8],\"operation_level\":\"UNKNOWN\",\"operation_type\":\"ATOMIC\",\"gate\":\"CX\",\"is_daggered\":false,\"expanded\":false,\"show_expanded_label\":false,\"is_low_level_fallback\":false,\"is_measurement\":false},\"84\":{\"name\":\"tdg\",\"inner_label\":null,\"qasm_name\":\"tdg\",\"details\":\"\",\"children\":[],\"children_ids\":[],\"operation_data\":null,\"operation_links\":{\"inputs\":[{\"label\":\"\",\"inner_label\":null,\"qubits\":[8],\"type\":\"\",\"is_captured\":false}],\"outputs\":[{\"label\":\"\",\"inner_label\":null,\"qubits\":[8],\"type\":\"\",\"is_captured\":false}]},\"control_qubits\":[],\"auxiliary_qubits\":[],\"target_qubits\":[8],\"operation_level\":\"UNKNOWN\",\"operation_type\":\"ATOMIC\",\"gate\":\"TDG\",\"is_daggered\":false,\"expanded\":false,\"show_expanded_label\":false,\"is_low_level_fallback\":false,\"is_measurement\":false},\"85\":{\"name\":\"cx\",\"inner_label\":null,\"qasm_name\":\"cx\",\"details\":\"\",\"children\":[],\"children_ids\":[],\"operation_data\":null,\"operation_links\":{\"inputs\":[{\"label\":\"\",\"inner_label\":null,\"qubits\":[3],\"type\":\"\",\"is_captured\":false},{\"label\":\"\",\"inner_label\":null,\"qubits\":[8],\"type\":\"\",\"is_captured\":false}],\"outputs\":[{\"label\":\"\",\"inner_label\":null,\"qubits\":[3],\"type\":\"\",\"is_captured\":false},{\"label\":\"\",\"inner_label\":null,\"qubits\":[8],\"type\":\"\",\"is_captured\":false}]},\"control_qubits\":[3],\"auxiliary_qubits\":[],\"target_qubits\":[8],\"operation_level\":\"UNKNOWN\",\"operation_type\":\"ATOMIC\",\"gate\":\"CX\",\"is_daggered\":false,\"expanded\":false,\"show_expanded_label\":false,\"is_low_level_fallback\":false,\"is_measurement\":false},\"86\":{\"name\":\"t\",\"inner_label\":null,\"qasm_name\":\"t\",\"details\":\"\",\"children\":[],\"children_ids\":[],\"operation_data\":null,\"operation_links\":{\"inputs\":[{\"label\":\"\",\"inner_label\":null,\"qubits\":[8],\"type\":\"\",\"is_captured\":false}],\"outputs\":[{\"label\":\"\",\"inner_label\":null,\"qubits\":[8],\"type\":\"\",\"is_captured\":false}]},\"control_qubits\":[],\"auxiliary_qubits\":[],\"target_qubits\":[8],\"operation_level\":\"UNKNOWN\",\"operation_type\":\"ATOMIC\",\"gate\":\"T\",\"is_daggered\":false,\"expanded\":false,\"show_expanded_label\":false,\"is_low_level_fallback\":false,\"is_measurement\":false},\"90\":{\"name\":\"t\",\"inner_label\":null,\"qasm_name\":\"t\",\"details\":\"\",\"children\":[],\"children_ids\":[],\"operation_data\":null,\"operation_links\":{\"inputs\":[{\"label\":\"\",\"inner_label\":null,\"qubits\":[6],\"type\":\"\",\"is_captured\":false}],\"outputs\":[{\"label\":\"\",\"inner_label\":null,\"qubits\":[6],\"type\":\"\",\"is_captured\":false}]},\"control_qubits\":[],\"auxiliary_qubits\":[],\"target_qubits\":[6],\"operation_level\":\"UNKNOWN\",\"operation_type\":\"ATOMIC\",\"gate\":\"T\",\"is_daggered\":false,\"expanded\":false,\"show_expanded_label\":false,\"is_low_level_fallback\":false,\"is_measurement\":false},\"93\":{\"name\":\"cx\",\"inner_label\":null,\"qasm_name\":\"cx\",\"details\":\"\",\"children\":[],\"children_ids\":[],\"operation_data\":null,\"operation_links\":{\"inputs\":[{\"label\":\"\",\"inner_label\":null,\"qubits\":[3],\"type\":\"\",\"is_captured\":false},{\"label\":\"\",\"inner_label\":null,\"qubits\":[6],\"type\":\"\",\"is_captured\":false}],\"outputs\":[{\"label\":\"\",\"inner_label\":null,\"qubits\":[3],\"type\":\"\",\"is_captured\":false},{\"label\":\"\",\"inner_label\":null,\"qubits\":[6],\"type\":\"\",\"is_captured\":false}]},\"control_qubits\":[3],\"auxiliary_qubits\":[],\"target_qubits\":[6],\"operation_level\":\"UNKNOWN\",\"operation_type\":\"ATOMIC\",\"gate\":\"CX\",\"is_daggered\":false,\"expanded\":false,\"show_expanded_label\":false,\"is_low_level_fallback\":false,\"is_measurement\":false},\"95\":{\"name\":\"tdg\",\"inner_label\":null,\"qasm_name\":\"tdg\",\"details\":\"\",\"children\":[],\"children_ids\":[],\"operation_data\":null,\"operation_links\":{\"inputs\":[{\"label\":\"\",\"inner_label\":null,\"qubits\":[6],\"type\":\"\",\"is_captured\":false}],\"outputs\":[{\"label\":\"\",\"inner_label\":null,\"qubits\":[6],\"type\":\"\",\"is_captured\":false}]},\"control_qubits\":[],\"auxiliary_qubits\":[],\"target_qubits\":[6],\"operation_level\":\"UNKNOWN\",\"operation_type\":\"ATOMIC\",\"gate\":\"TDG\",\"is_daggered\":false,\"expanded\":false,\"show_expanded_label\":false,\"is_low_level_fallback\":false,\"is_measurement\":false},\"97\":{\"name\":\"ccx\",\"inner_label\":null,\"qasm_name\":\"ccx\",\"details\":\"\",\"children\":[],\"children_ids\":[82,83,84,85,86,83,84,85,90,86,82,93,68,95,93],\"operation_data\":null,\"operation_links\":{\"inputs\":[{\"label\":\"\",\"inner_label\":null,\"qubits\":[3],\"type\":\"\",\"is_captured\":false},{\"label\":\"\",\"inner_label\":null,\"qubits\":[8],\"type\":\"\",\"is_captured\":false},{\"label\":\"\",\"inner_label\":null,\"qubits\":[6],\"type\":\"\",\"is_captured\":false}],\"outputs\":[{\"label\":\"\",\"inner_label\":null,\"qubits\":[3],\"type\":\"\",\"is_captured\":false},{\"label\":\"\",\"inner_label\":null,\"qubits\":[8],\"type\":\"\",\"is_captured\":false},{\"label\":\"\",\"inner_label\":null,\"qubits\":[6],\"type\":\"\",\"is_captured\":false}]},\"control_qubits\":[],\"auxiliary_qubits\":[],\"target_qubits\":[8],\"operation_level\":\"ENGINE_CALL\",\"operation_type\":\"REGULAR\",\"gate\":\"\",\"is_daggered\":false,\"expanded\":false,\"show_expanded_label\":false,\"is_low_level_fallback\":false,\"is_measurement\":false},\"98\":{\"name\":\"cx\",\"inner_label\":null,\"qasm_name\":\"cx\",\"details\":\"\",\"children\":[],\"children_ids\":[],\"operation_data\":null,\"operation_links\":{\"inputs\":[{\"label\":\"\",\"inner_label\":null,\"qubits\":[8],\"type\":\"\",\"is_captured\":false},{\"label\":\"\",\"inner_label\":null,\"qubits\":[7],\"type\":\"\",\"is_captured\":false}],\"outputs\":[{\"label\":\"\",\"inner_label\":null,\"qubits\":[8],\"type\":\"\",\"is_captured\":false},{\"label\":\"\",\"inner_label\":null,\"qubits\":[7],\"type\":\"\",\"is_captured\":false}]},\"control_qubits\":[8],\"auxiliary_qubits\":[],\"target_qubits\":[7],\"operation_level\":\"UNKNOWN\",\"operation_type\":\"ATOMIC\",\"gate\":\"CX\",\"is_daggered\":false,\"expanded\":false,\"show_expanded_label\":false,\"is_low_level_fallback\":false,\"is_measurement\":false},\"153\":{\"name\":\"Split\",\"inner_label\":null,\"qasm_name\":\"\",\"details\":\"\",\"children\":[],\"children_ids\":[],\"operation_data\":null,\"operation_links\":{\"inputs\":[{\"label\":\"left_arg\",\"inner_label\":\"left_arg\",\"qubits\":[4,5,6,7],\"type\":\"\",\"is_captured\":false}],\"outputs\":[{\"label\":\"\",\"inner_label\":null,\"qubits\":[4],\"type\":\"\",\"is_captured\":false},{\"label\":\"\",\"inner_label\":null,\"qubits\":[7],\"type\":\"\",\"is_captured\":false},{\"label\":\"\",\"inner_label\":null,\"qubits\":[6],\"type\":\"\",\"is_captured\":false},{\"label\":\"\",\"inner_label\":null,\"qubits\":[5],\"type\":\"\",\"is_captured\":false}]},\"control_qubits\":[],\"auxiliary_qubits\":[],\"target_qubits\":[4,5,6,7],\"operation_level\":\"UNKNOWN\",\"operation_type\":\"BIND\",\"gate\":\"\",\"is_daggered\":false,\"expanded\":false,\"show_expanded_label\":false,\"is_low_level_fallback\":false,\"is_measurement\":false},\"154\":{\"name\":\"Split\",\"inner_label\":null,\"qasm_name\":\"\",\"details\":\"\",\"children\":[],\"children_ids\":[],\"operation_data\":null,\"operation_links\":{\"inputs\":[{\"label\":\"right_arg\",\"inner_label\":\"right_arg\",\"qubits\":[2,3],\"type\":\"\",\"is_captured\":false}],\"outputs\":[{\"label\":\"\",\"inner_label\":null,\"qubits\":[3],\"type\":\"\",\"is_captured\":false},{\"label\":\"\",\"inner_label\":null,\"qubits\":[2],\"type\":\"\",\"is_captured\":false}]},\"control_qubits\":[],\"auxiliary_qubits\":[],\"target_qubits\":[2,3],\"operation_level\":\"UNKNOWN\",\"operation_type\":\"BIND\",\"gate\":\"\",\"is_daggered\":false,\"expanded\":false,\"show_expanded_label\":false,\"is_low_level_fallback\":false,\"is_measurement\":false},\"155\":{\"name\":\"Split\",\"inner_label\":null,\"qasm_name\":\"\",\"details\":\"\",\"children\":[],\"children_ids\":[],\"operation_data\":null,\"operation_links\":{\"inputs\":[{\"label\":\"aux\",\"inner_label\":\"aux\",\"qubits\":[8,9],\"type\":\"\",\"is_captured\":false}],\"outputs\":[{\"label\":\"\",\"inner_label\":null,\"qubits\":[8],\"type\":\"\",\"is_captured\":false},{\"label\":\"\",\"inner_label\":null,\"qubits\":[9],\"type\":\"\",\"is_captured\":false}]},\"control_qubits\":[],\"auxiliary_qubits\":[],\"target_qubits\":[8,9],\"operation_level\":\"UNKNOWN\",\"operation_type\":\"BIND\",\"gate\":\"\",\"is_daggered\":false,\"expanded\":false,\"show_expanded_label\":false,\"is_low_level_fallback\":false,\"is_measurement\":false},\"156\":{\"name\":\"Merge\",\"inner_label\":null,\"qasm_name\":\"\",\"details\":\"\",\"children\":[],\"children_ids\":[],\"operation_data\":null,\"operation_links\":{\"inputs\":[{\"label\":\"\",\"inner_label\":null,\"qubits\":[4],\"type\":\"\",\"is_captured\":false},{\"label\":\"\",\"inner_label\":null,\"qubits\":[7],\"type\":\"\",\"is_captured\":false},{\"label\":\"\",\"inner_label\":null,\"qubits\":[6],\"type\":\"\",\"is_captured\":false},{\"label\":\"\",\"inner_label\":null,\"qubits\":[5],\"type\":\"\",\"is_captured\":false}],\"outputs\":[{\"label\":\"sum\",\"inner_label\":\"sum\",\"qubits\":[4,5,6,7],\"type\":\"\",\"is_captured\":false}]},\"control_qubits\":[],\"auxiliary_qubits\":[],\"target_qubits\":[4,5,6,7],\"operation_level\":\"UNKNOWN\",\"operation_type\":\"BIND\",\"gate\":\"\",\"is_daggered\":false,\"expanded\":false,\"show_expanded_label\":false,\"is_low_level_fallback\":false,\"is_measurement\":false},\"157\":{\"name\":\"Merge\",\"inner_label\":null,\"qasm_name\":\"\",\"details\":\"\",\"children\":[],\"children_ids\":[],\"operation_data\":null,\"operation_links\":{\"inputs\":[{\"label\":\"\",\"inner_label\":null,\"qubits\":[3],\"type\":\"\",\"is_captured\":false},{\"label\":\"\",\"inner_label\":null,\"qubits\":[2],\"type\":\"\",\"is_captured\":false}],\"outputs\":[{\"label\":\"right_arg\",\"inner_label\":\"right_arg\",\"qubits\":[2,3],\"type\":\"\",\"is_captured\":false}]},\"control_qubits\":[],\"auxiliary_qubits\":[],\"target_qubits\":[2,3],\"operation_level\":\"UNKNOWN\",\"operation_type\":\"BIND\",\"gate\":\"\",\"is_daggered\":false,\"expanded\":false,\"show_expanded_label\":false,\"is_low_level_fallback\":false,\"is_measurement\":false},\"158\":{\"name\":\"Merge\",\"inner_label\":null,\"qasm_name\":\"\",\"details\":\"\",\"children\":[],\"children_ids\":[],\"operation_data\":null,\"operation_links\":{\"inputs\":[{\"label\":\"\",\"inner_label\":null,\"qubits\":[8],\"type\":\"\",\"is_captured\":false},{\"label\":\"\",\"inner_label\":null,\"qubits\":[9],\"type\":\"\",\"is_captured\":false}],\"outputs\":[{\"label\":\"aux\",\"inner_label\":\"aux\",\"qubits\":[8,9],\"type\":\"\",\"is_captured\":false}]},\"control_qubits\":[],\"auxiliary_qubits\":[],\"target_qubits\":[8,9],\"operation_level\":\"UNKNOWN\",\"operation_type\":\"BIND\",\"gate\":\"\",\"is_daggered\":false,\"expanded\":false,\"show_expanded_label\":false,\"is_low_level_fallback\":false,\"is_measurement\":false},\"159\":{\"name\":\"allocate\",\"inner_label\":null,\"qasm_name\":\"\",\"details\":\"\",\"children\":[],\"children_ids\":[],\"operation_data\":null,\"operation_links\":{\"inputs\":[],\"outputs\":[{\"label\":\"aux\",\"inner_label\":\"aux\",\"qubits\":[8,9],\"type\":\"\",\"is_captured\":false}]},\"control_qubits\":[],\"auxiliary_qubits\":[],\"target_qubits\":[8,9],\"operation_level\":\"UNKNOWN\",\"operation_type\":\"ALLOCATE\",\"gate\":\"\",\"is_daggered\":false,\"expanded\":false,\"show_expanded_label\":false,\"is_low_level_fallback\":false,\"is_measurement\":false},\"160\":{\"name\":\"free\",\"inner_label\":null,\"qasm_name\":\"\",\"details\":\"\",\"children\":[],\"children_ids\":[],\"operation_data\":null,\"operation_links\":{\"inputs\":[{\"label\":\"aux\",\"inner_label\":\"aux\",\"qubits\":[8,9],\"type\":\"\",\"is_captured\":false}],\"outputs\":[]},\"control_qubits\":[],\"auxiliary_qubits\":[],\"target_qubits\":[8,9],\"operation_level\":\"UNKNOWN\",\"operation_type\":\"FREE\",\"gate\":\"\",\"is_daggered\":false,\"expanded\":false,\"show_expanded_label\":false,\"is_low_level_fallback\":false,\"is_measurement\":false},\"161\":{\"name\":\"Adder\",\"inner_label\":\"\",\"qasm_name\":\"arithmetic__adder\",\"details\":\"\",\"children\":[],\"children_ids\":[159,153,154,155,44,45,61,62,63,79,80,81,97,98,97,81,93,79,63,75,61,45,57,156,157,158,160],\"operation_data\":{\"approximated_depth\":17,\"width\":8,\"gate_count\":{}},\"operation_links\":{\"inputs\":[{\"label\":\"product\",\"inner_label\":\"left_arg\",\"qubits\":[4,5,6,7],\"type\":\"\",\"is_captured\":false},{\"label\":\"b\",\"inner_label\":\"right_arg\",\"qubits\":[2,3],\"type\":\"\",\"is_captured\":false}],\"outputs\":[{\"label\":\"b\",\"inner_label\":\"right_arg\",\"qubits\":[2,3],\"type\":\"\",\"is_captured\":false},{\"label\":\"expression_result\",\"inner_label\":\"sum\",\"qubits\":[4,5,6,7],\"type\":\"\",\"is_captured\":false}]},\"control_qubits\":[],\"auxiliary_qubits\":[8,9],\"target_qubits\":[4,5,6,7,2,3,8,9],\"operation_level\":\"ENGINE_CALL\",\"operation_type\":\"REGULAR\",\"gate\":\"\",\"is_daggered\":false,\"expanded\":false,\"show_expanded_label\":false,\"is_low_level_fallback\":false,\"is_measurement\":false},\"162\":{\"name\":\"assign\",\"inner_label\":\"\",\"qasm_name\":\"main__arithmetic\",\"details\":\"(3 * a) + b\",\"children\":[],\"children_ids\":[43,161],\"operation_data\":{\"approximated_depth\":null,\"width\":10,\"gate_count\":{}},\"operation_links\":{\"inputs\":[{\"label\":\"b\",\"inner_label\":\"b\",\"qubits\":[2,3],\"type\":\"\",\"is_captured\":false},{\"label\":\"a\",\"inner_label\":\"a\",\"qubits\":[0,1],\"type\":\"\",\"is_captured\":false}],\"outputs\":[{\"label\":\"c\",\"inner_label\":\"expression_result\",\"qubits\":[4,5,6,7],\"type\":\"\",\"is_captured\":false},{\"label\":\"b\",\"inner_label\":\"b\",\"qubits\":[2,3],\"type\":\"\",\"is_captured\":false},{\"label\":\"a\",\"inner_label\":\"a\",\"qubits\":[0,1],\"type\":\"\",\"is_captured\":false}]},\"control_qubits\":[],\"auxiliary_qubits\":[8,9],\"target_qubits\":[0,1,2,3,4,5,6,7,8,9],\"operation_level\":\"QMOD_STATEMENT\",\"operation_type\":\"REGULAR\",\"gate\":\"\",\"is_daggered\":false,\"expanded\":false,\"show_expanded_label\":false,\"is_low_level_fallback\":false,\"is_measurement\":false},\"163\":{\"name\":\"main\",\"inner_label\":null,\"qasm_name\":\"\",\"details\":\"\",\"children\":[],\"children_ids\":[0,1,8,15,162],\"operation_data\":{\"approximated_depth\":37,\"width\":10,\"gate_count\":{\"H\":24,\"CPHASE\":13,\"CX\":49,\"TDG\":18,\"T\":24}},\"operation_links\":{\"inputs\":[],\"outputs\":[{\"label\":\"c\",\"inner_label\":\"c\",\"qubits\":[4,5,6,7],\"type\":\"\",\"is_captured\":false},{\"label\":\"b\",\"inner_label\":\"b\",\"qubits\":[2,3],\"type\":\"\",\"is_captured\":false},{\"label\":\"a\",\"inner_label\":\"a\",\"qubits\":[0,1],\"type\":\"\",\"is_captured\":false}]},\"control_qubits\":[],\"auxiliary_qubits\":[],\"target_qubits\":[0,1,2,3,4,5,6,7,8,9],\"operation_level\":\"QMOD_CALL\",\"operation_type\":\"REGULAR\",\"gate\":\"\",\"is_daggered\":false,\"expanded\":false,\"show_expanded_label\":false,\"is_low_level_fallback\":false,\"is_measurement\":false}},\"main_operation_id\":163,\"program_data\":{\"hardware_data\":{\"basis_gates\":[\"x\",\"sxdg\",\"s\",\"sx\",\"sdg\",\"ry\",\"tdg\",\"rz\",\"p\",\"r\",\"cz\",\"cy\",\"cx\",\"u1\",\"z\",\"t\",\"rx\",\"h\",\"y\",\"u\",\"u2\",\"id\"],\"connectivity_map\":null,\"is_symmetric_connectivity\":true,\"backend_data\":null},\"circuit_metrics\":{\"depth\":93,\"count_ops\":{\"u\":81,\"cx\":75}}}}",
      "text/plain": [
       "https://platform.classiq.io/circuit/31oOuSva3La4Eec6VwsnrShUsEq?login=True&version=0.90.0"
      ]
     },
     "metadata": {
      "url": "https://platform.classiq.io/circuit/31oOuSva3La4Eec6VwsnrShUsEq?login=True&version=0.90.0"
     },
     "output_type": "display_data"
    },
    {
     "name": "stdout",
     "output_type": "stream",
     "text": [
      "Ex.4A Results:\n"
     ]
    },
    {
     "data": {
      "text/html": [
       "<div>\n",
       "<style scoped>\n",
       "    .dataframe tbody tr th:only-of-type {\n",
       "        vertical-align: middle;\n",
       "    }\n",
       "\n",
       "    .dataframe tbody tr th {\n",
       "        vertical-align: top;\n",
       "    }\n",
       "\n",
       "    .dataframe thead th {\n",
       "        text-align: right;\n",
       "    }\n",
       "</style>\n",
       "<table border=\"1\" class=\"dataframe\">\n",
       "  <thead>\n",
       "    <tr style=\"text-align: right;\">\n",
       "      <th></th>\n",
       "      <th>a</th>\n",
       "      <th>b</th>\n",
       "      <th>c</th>\n",
       "      <th>count</th>\n",
       "      <th>probability</th>\n",
       "      <th>bitstring</th>\n",
       "    </tr>\n",
       "  </thead>\n",
       "  <tbody>\n",
       "    <tr>\n",
       "      <th>0</th>\n",
       "      <td>3</td>\n",
       "      <td>3</td>\n",
       "      <td>12</td>\n",
       "      <td>149</td>\n",
       "      <td>0.072754</td>\n",
       "      <td>11001111</td>\n",
       "    </tr>\n",
       "    <tr>\n",
       "      <th>1</th>\n",
       "      <td>3</td>\n",
       "      <td>1</td>\n",
       "      <td>10</td>\n",
       "      <td>140</td>\n",
       "      <td>0.068359</td>\n",
       "      <td>10100111</td>\n",
       "    </tr>\n",
       "    <tr>\n",
       "      <th>2</th>\n",
       "      <td>0</td>\n",
       "      <td>2</td>\n",
       "      <td>2</td>\n",
       "      <td>139</td>\n",
       "      <td>0.067871</td>\n",
       "      <td>00101000</td>\n",
       "    </tr>\n",
       "    <tr>\n",
       "      <th>3</th>\n",
       "      <td>2</td>\n",
       "      <td>1</td>\n",
       "      <td>7</td>\n",
       "      <td>138</td>\n",
       "      <td>0.067383</td>\n",
       "      <td>01110110</td>\n",
       "    </tr>\n",
       "    <tr>\n",
       "      <th>4</th>\n",
       "      <td>1</td>\n",
       "      <td>0</td>\n",
       "      <td>3</td>\n",
       "      <td>135</td>\n",
       "      <td>0.065918</td>\n",
       "      <td>00110001</td>\n",
       "    </tr>\n",
       "    <tr>\n",
       "      <th>5</th>\n",
       "      <td>0</td>\n",
       "      <td>3</td>\n",
       "      <td>3</td>\n",
       "      <td>133</td>\n",
       "      <td>0.064941</td>\n",
       "      <td>00111100</td>\n",
       "    </tr>\n",
       "    <tr>\n",
       "      <th>6</th>\n",
       "      <td>0</td>\n",
       "      <td>1</td>\n",
       "      <td>1</td>\n",
       "      <td>129</td>\n",
       "      <td>0.062988</td>\n",
       "      <td>00010100</td>\n",
       "    </tr>\n",
       "    <tr>\n",
       "      <th>7</th>\n",
       "      <td>2</td>\n",
       "      <td>2</td>\n",
       "      <td>8</td>\n",
       "      <td>129</td>\n",
       "      <td>0.062988</td>\n",
       "      <td>10001010</td>\n",
       "    </tr>\n",
       "    <tr>\n",
       "      <th>8</th>\n",
       "      <td>2</td>\n",
       "      <td>3</td>\n",
       "      <td>9</td>\n",
       "      <td>129</td>\n",
       "      <td>0.062988</td>\n",
       "      <td>10011110</td>\n",
       "    </tr>\n",
       "    <tr>\n",
       "      <th>9</th>\n",
       "      <td>2</td>\n",
       "      <td>0</td>\n",
       "      <td>6</td>\n",
       "      <td>128</td>\n",
       "      <td>0.062500</td>\n",
       "      <td>01100010</td>\n",
       "    </tr>\n",
       "    <tr>\n",
       "      <th>10</th>\n",
       "      <td>1</td>\n",
       "      <td>1</td>\n",
       "      <td>4</td>\n",
       "      <td>123</td>\n",
       "      <td>0.060059</td>\n",
       "      <td>01000101</td>\n",
       "    </tr>\n",
       "    <tr>\n",
       "      <th>11</th>\n",
       "      <td>3</td>\n",
       "      <td>0</td>\n",
       "      <td>9</td>\n",
       "      <td>118</td>\n",
       "      <td>0.057617</td>\n",
       "      <td>10010011</td>\n",
       "    </tr>\n",
       "    <tr>\n",
       "      <th>12</th>\n",
       "      <td>1</td>\n",
       "      <td>2</td>\n",
       "      <td>5</td>\n",
       "      <td>117</td>\n",
       "      <td>0.057129</td>\n",
       "      <td>01011001</td>\n",
       "    </tr>\n",
       "    <tr>\n",
       "      <th>13</th>\n",
       "      <td>1</td>\n",
       "      <td>3</td>\n",
       "      <td>6</td>\n",
       "      <td>116</td>\n",
       "      <td>0.056641</td>\n",
       "      <td>01101101</td>\n",
       "    </tr>\n",
       "    <tr>\n",
       "      <th>14</th>\n",
       "      <td>3</td>\n",
       "      <td>2</td>\n",
       "      <td>11</td>\n",
       "      <td>116</td>\n",
       "      <td>0.056641</td>\n",
       "      <td>10111011</td>\n",
       "    </tr>\n",
       "    <tr>\n",
       "      <th>15</th>\n",
       "      <td>0</td>\n",
       "      <td>0</td>\n",
       "      <td>0</td>\n",
       "      <td>109</td>\n",
       "      <td>0.053223</td>\n",
       "      <td>00000000</td>\n",
       "    </tr>\n",
       "  </tbody>\n",
       "</table>\n",
       "</div>"
      ],
      "text/plain": [
       "    a  b   c  count  probability bitstring\n",
       "0   3  3  12    149     0.072754  11001111\n",
       "1   3  1  10    140     0.068359  10100111\n",
       "2   0  2   2    139     0.067871  00101000\n",
       "3   2  1   7    138     0.067383  01110110\n",
       "4   1  0   3    135     0.065918  00110001\n",
       "5   0  3   3    133     0.064941  00111100\n",
       "6   0  1   1    129     0.062988  00010100\n",
       "7   2  2   8    129     0.062988  10001010\n",
       "8   2  3   9    129     0.062988  10011110\n",
       "9   2  0   6    128     0.062500  01100010\n",
       "10  1  1   4    123     0.060059  01000101\n",
       "11  3  0   9    118     0.057617  10010011\n",
       "12  1  2   5    117     0.057129  01011001\n",
       "13  1  3   6    116     0.056641  01101101\n",
       "14  3  2  11    116     0.056641  10111011\n",
       "15  0  0   0    109     0.053223  00000000"
      ]
     },
     "metadata": {},
     "output_type": "display_data"
    }
   ],
   "source": [
    "from classiq import *\n",
    "\n",
    "\n",
    "@qfunc\n",
    "def main(a: Output[QNum[2]], b: Output[QNum[2]], c: Output[QNum]):\n",
    "    allocate(a)\n",
    "    allocate(b)\n",
    "    # Put a and b in equal superposition\n",
    "    hadamard_transform(a)\n",
    "    hadamard_transform(b)\n",
    "\n",
    "    # Assign the value of 3*a + b to c\n",
    "    c |= 3 * a + b\n",
    "\n",
    "    # Print out c's inferred size in qubits\n",
    "    print(f\"The size of c is {c.size}\")\n",
    "\n",
    "\n",
    "# Synthesize the model, show, execute and print results\n",
    "qprog = synthesize(main)\n",
    "show(qprog)\n",
    "\n",
    "with ExecutionSession(qprog) as es:\n",
    "    res = es.sample()\n",
    "    print(\"Ex.4A Results:\")\n",
    "    display(res.dataframe)"
   ]
  },
  {
   "cell_type": "markdown",
   "metadata": {},
   "source": [
    "#### Part B: Numeric type inference with fixed-point fractions"
   ]
  },
  {
   "cell_type": "code",
   "execution_count": 21,
   "metadata": {},
   "outputs": [
    {
     "name": "stdout",
     "output_type": "stream",
     "text": [
      "Numeric attributes of c:\n",
      "size: 5, is_signed: False, fraction_digits: 2\n",
      "Quantum program link: https://platform.classiq.io/circuit/31oOurORrD3BjMH0lY2OKB4irYP\n"
     ]
    },
    {
     "data": {
      "application/vnd.classiq+qviz": "{\"version\":\"0.90.0\",\"interface_version\":\"12\",\"main_operation\":null,\"id_to_operations\":{\"0\":{\"name\":\"allocate\",\"inner_label\":null,\"qasm_name\":\"\",\"details\":\"\",\"children\":[],\"children_ids\":[],\"operation_data\":null,\"operation_links\":{\"inputs\":[],\"outputs\":[{\"label\":\"a\",\"inner_label\":\"ARG\",\"qubits\":[0,1],\"type\":\"\",\"is_captured\":false}]},\"control_qubits\":[],\"auxiliary_qubits\":[],\"target_qubits\":[0,1],\"operation_level\":\"UNKNOWN\",\"operation_type\":\"ALLOCATE\",\"gate\":\"\",\"is_daggered\":false,\"expanded\":false,\"show_expanded_label\":false,\"is_low_level_fallback\":false,\"is_measurement\":false},\"1\":{\"name\":\"allocate\",\"inner_label\":null,\"qasm_name\":\"\",\"details\":\"\",\"children\":[],\"children_ids\":[],\"operation_data\":null,\"operation_links\":{\"inputs\":[],\"outputs\":[{\"label\":\"b\",\"inner_label\":\"ARG\",\"qubits\":[2,3],\"type\":\"\",\"is_captured\":false}]},\"control_qubits\":[],\"auxiliary_qubits\":[],\"target_qubits\":[2,3],\"operation_level\":\"UNKNOWN\",\"operation_type\":\"ALLOCATE\",\"gate\":\"\",\"is_daggered\":false,\"expanded\":false,\"show_expanded_label\":false,\"is_low_level_fallback\":false,\"is_measurement\":false},\"2\":{\"name\":\"H\",\"inner_label\":null,\"qasm_name\":\"h\",\"details\":\"\",\"children\":[],\"children_ids\":[],\"operation_data\":null,\"operation_links\":{\"inputs\":[{\"label\":\"target[0]\",\"inner_label\":\"target[0]\",\"qubits\":[0],\"type\":\"\",\"is_captured\":false}],\"outputs\":[{\"label\":\"target[0]\",\"inner_label\":\"target[0]\",\"qubits\":[0],\"type\":\"\",\"is_captured\":false}]},\"control_qubits\":[],\"auxiliary_qubits\":[],\"target_qubits\":[0],\"operation_level\":\"UNKNOWN\",\"operation_type\":\"ATOMIC\",\"gate\":\"H\",\"is_daggered\":false,\"expanded\":false,\"show_expanded_label\":false,\"is_low_level_fallback\":false,\"is_measurement\":false},\"3\":{\"name\":\"H\",\"inner_label\":null,\"qasm_name\":\"h\",\"details\":\"\",\"children\":[],\"children_ids\":[],\"operation_data\":null,\"operation_links\":{\"inputs\":[{\"label\":\"target[1]\",\"inner_label\":\"target[1]\",\"qubits\":[1],\"type\":\"\",\"is_captured\":false}],\"outputs\":[{\"label\":\"target[1]\",\"inner_label\":\"target[1]\",\"qubits\":[1],\"type\":\"\",\"is_captured\":false}]},\"control_qubits\":[],\"auxiliary_qubits\":[],\"target_qubits\":[1],\"operation_level\":\"UNKNOWN\",\"operation_type\":\"ATOMIC\",\"gate\":\"H\",\"is_daggered\":false,\"expanded\":false,\"show_expanded_label\":false,\"is_low_level_fallback\":false,\"is_measurement\":false},\"4\":{\"name\":\"pre__H__bind\",\"inner_label\":null,\"qasm_name\":\"\",\"details\":\"\",\"children\":[],\"children_ids\":[],\"operation_data\":null,\"operation_links\":{\"inputs\":[{\"label\":\"target\",\"inner_label\":\"target\",\"qubits\":[0,1],\"type\":\"\",\"is_captured\":false}],\"outputs\":[{\"label\":\"target[0]\",\"inner_label\":\"target[0]\",\"qubits\":[0],\"type\":\"\",\"is_captured\":false},{\"label\":\"\",\"inner_label\":null,\"qubits\":[1],\"type\":\"\",\"is_captured\":false}]},\"control_qubits\":[],\"auxiliary_qubits\":[],\"target_qubits\":[],\"operation_level\":\"UNKNOWN\",\"operation_type\":\"BIND\",\"gate\":\"\",\"is_daggered\":false,\"expanded\":false,\"show_expanded_label\":false,\"is_low_level_fallback\":false,\"is_measurement\":false},\"5\":{\"name\":\"pre__H__bind\",\"inner_label\":null,\"qasm_name\":\"\",\"details\":\"\",\"children\":[],\"children_ids\":[],\"operation_data\":null,\"operation_links\":{\"inputs\":[{\"label\":\"\",\"inner_label\":null,\"qubits\":[1],\"type\":\"\",\"is_captured\":false}],\"outputs\":[{\"label\":\"target[1]\",\"inner_label\":\"target[1]\",\"qubits\":[1],\"type\":\"\",\"is_captured\":false}]},\"control_qubits\":[],\"auxiliary_qubits\":[],\"target_qubits\":[],\"operation_level\":\"UNKNOWN\",\"operation_type\":\"BIND\",\"gate\":\"\",\"is_daggered\":false,\"expanded\":false,\"show_expanded_label\":false,\"is_low_level_fallback\":false,\"is_measurement\":false},\"6\":{\"name\":\"pre__output__bind\",\"inner_label\":null,\"qasm_name\":\"\",\"details\":\"\",\"children\":[],\"children_ids\":[],\"operation_data\":null,\"operation_links\":{\"inputs\":[{\"label\":\"target[1]\",\"inner_label\":\"target[1]\",\"qubits\":[1],\"type\":\"\",\"is_captured\":false},{\"label\":\"target[0]\",\"inner_label\":\"target[0]\",\"qubits\":[0],\"type\":\"\",\"is_captured\":false}],\"outputs\":[{\"label\":\"target\",\"inner_label\":\"target\",\"qubits\":[0,1],\"type\":\"\",\"is_captured\":false}]},\"control_qubits\":[],\"auxiliary_qubits\":[],\"target_qubits\":[],\"operation_level\":\"UNKNOWN\",\"operation_type\":\"BIND\",\"gate\":\"\",\"is_daggered\":false,\"expanded\":false,\"show_expanded_label\":false,\"is_low_level_fallback\":false,\"is_measurement\":false},\"7\":{\"name\":\"pre__H__H__bind\",\"inner_label\":null,\"qasm_name\":\"\",\"details\":\"\",\"children\":[],\"children_ids\":[],\"operation_data\":null,\"operation_links\":{\"inputs\":[{\"label\":\"target\",\"inner_label\":\"target\",\"qubits\":[0,1],\"type\":\"\",\"is_captured\":false}],\"outputs\":[{\"label\":\"target[1]\",\"inner_label\":\"target[1]\",\"qubits\":[1],\"type\":\"\",\"is_captured\":false},{\"label\":\"target[0]\",\"inner_label\":\"target[0]\",\"qubits\":[0],\"type\":\"\",\"is_captured\":false}]},\"control_qubits\":[],\"auxiliary_qubits\":[],\"target_qubits\":[],\"operation_level\":\"UNKNOWN\",\"operation_type\":\"BIND\",\"gate\":\"\",\"is_daggered\":false,\"expanded\":false,\"show_expanded_label\":false,\"is_low_level_fallback\":false,\"is_measurement\":false},\"8\":{\"name\":\"hadamard_transform\",\"inner_label\":\"\",\"qasm_name\":\"main__hadamard_transform_0\",\"details\":\"\",\"children\":[],\"children_ids\":[7,2,3,6],\"operation_data\":{\"approximated_depth\":null,\"width\":2,\"gate_count\":{}},\"operation_links\":{\"inputs\":[{\"label\":\"a\",\"inner_label\":\"target\",\"qubits\":[0,1],\"type\":\"\",\"is_captured\":false}],\"outputs\":[{\"label\":\"a\",\"inner_label\":\"target\",\"qubits\":[0,1],\"type\":\"\",\"is_captured\":false}]},\"control_qubits\":[],\"auxiliary_qubits\":[],\"target_qubits\":[0,1],\"operation_level\":\"QMOD_CALL\",\"operation_type\":\"REGULAR\",\"gate\":\"\",\"is_daggered\":false,\"expanded\":false,\"show_expanded_label\":false,\"is_low_level_fallback\":false,\"is_measurement\":false},\"9\":{\"name\":\"H\",\"inner_label\":null,\"qasm_name\":\"h\",\"details\":\"\",\"children\":[],\"children_ids\":[],\"operation_data\":null,\"operation_links\":{\"inputs\":[{\"label\":\"target[0]\",\"inner_label\":\"target[0]\",\"qubits\":[2],\"type\":\"\",\"is_captured\":false}],\"outputs\":[{\"label\":\"target[0]\",\"inner_label\":\"target[0]\",\"qubits\":[2],\"type\":\"\",\"is_captured\":false}]},\"control_qubits\":[],\"auxiliary_qubits\":[],\"target_qubits\":[2],\"operation_level\":\"UNKNOWN\",\"operation_type\":\"ATOMIC\",\"gate\":\"H\",\"is_daggered\":false,\"expanded\":false,\"show_expanded_label\":false,\"is_low_level_fallback\":false,\"is_measurement\":false},\"10\":{\"name\":\"H\",\"inner_label\":null,\"qasm_name\":\"h\",\"details\":\"\",\"children\":[],\"children_ids\":[],\"operation_data\":null,\"operation_links\":{\"inputs\":[{\"label\":\"target[1]\",\"inner_label\":\"target[1]\",\"qubits\":[3],\"type\":\"\",\"is_captured\":false}],\"outputs\":[{\"label\":\"target[1]\",\"inner_label\":\"target[1]\",\"qubits\":[3],\"type\":\"\",\"is_captured\":false}]},\"control_qubits\":[],\"auxiliary_qubits\":[],\"target_qubits\":[3],\"operation_level\":\"UNKNOWN\",\"operation_type\":\"ATOMIC\",\"gate\":\"H\",\"is_daggered\":false,\"expanded\":false,\"show_expanded_label\":false,\"is_low_level_fallback\":false,\"is_measurement\":false},\"11\":{\"name\":\"pre__H__bind\",\"inner_label\":null,\"qasm_name\":\"\",\"details\":\"\",\"children\":[],\"children_ids\":[],\"operation_data\":null,\"operation_links\":{\"inputs\":[{\"label\":\"target\",\"inner_label\":\"target\",\"qubits\":[2,3],\"type\":\"\",\"is_captured\":false}],\"outputs\":[{\"label\":\"\",\"inner_label\":null,\"qubits\":[3],\"type\":\"\",\"is_captured\":false},{\"label\":\"target[0]\",\"inner_label\":\"target[0]\",\"qubits\":[2],\"type\":\"\",\"is_captured\":false}]},\"control_qubits\":[],\"auxiliary_qubits\":[],\"target_qubits\":[],\"operation_level\":\"UNKNOWN\",\"operation_type\":\"BIND\",\"gate\":\"\",\"is_daggered\":false,\"expanded\":false,\"show_expanded_label\":false,\"is_low_level_fallback\":false,\"is_measurement\":false},\"12\":{\"name\":\"pre__H__bind\",\"inner_label\":null,\"qasm_name\":\"\",\"details\":\"\",\"children\":[],\"children_ids\":[],\"operation_data\":null,\"operation_links\":{\"inputs\":[{\"label\":\"\",\"inner_label\":null,\"qubits\":[3],\"type\":\"\",\"is_captured\":false}],\"outputs\":[{\"label\":\"target[1]\",\"inner_label\":\"target[1]\",\"qubits\":[3],\"type\":\"\",\"is_captured\":false}]},\"control_qubits\":[],\"auxiliary_qubits\":[],\"target_qubits\":[],\"operation_level\":\"UNKNOWN\",\"operation_type\":\"BIND\",\"gate\":\"\",\"is_daggered\":false,\"expanded\":false,\"show_expanded_label\":false,\"is_low_level_fallback\":false,\"is_measurement\":false},\"13\":{\"name\":\"pre__output__bind\",\"inner_label\":null,\"qasm_name\":\"\",\"details\":\"\",\"children\":[],\"children_ids\":[],\"operation_data\":null,\"operation_links\":{\"inputs\":[{\"label\":\"target[0]\",\"inner_label\":\"target[0]\",\"qubits\":[2],\"type\":\"\",\"is_captured\":false},{\"label\":\"target[1]\",\"inner_label\":\"target[1]\",\"qubits\":[3],\"type\":\"\",\"is_captured\":false}],\"outputs\":[{\"label\":\"target\",\"inner_label\":\"target\",\"qubits\":[2,3],\"type\":\"\",\"is_captured\":false}]},\"control_qubits\":[],\"auxiliary_qubits\":[],\"target_qubits\":[],\"operation_level\":\"UNKNOWN\",\"operation_type\":\"BIND\",\"gate\":\"\",\"is_daggered\":false,\"expanded\":false,\"show_expanded_label\":false,\"is_low_level_fallback\":false,\"is_measurement\":false},\"14\":{\"name\":\"pre__H__H__bind\",\"inner_label\":null,\"qasm_name\":\"\",\"details\":\"\",\"children\":[],\"children_ids\":[],\"operation_data\":null,\"operation_links\":{\"inputs\":[{\"label\":\"target\",\"inner_label\":\"target\",\"qubits\":[2,3],\"type\":\"\",\"is_captured\":false}],\"outputs\":[{\"label\":\"target[0]\",\"inner_label\":\"target[0]\",\"qubits\":[2],\"type\":\"\",\"is_captured\":false},{\"label\":\"target[1]\",\"inner_label\":\"target[1]\",\"qubits\":[3],\"type\":\"\",\"is_captured\":false}]},\"control_qubits\":[],\"auxiliary_qubits\":[],\"target_qubits\":[],\"operation_level\":\"UNKNOWN\",\"operation_type\":\"BIND\",\"gate\":\"\",\"is_daggered\":false,\"expanded\":false,\"show_expanded_label\":false,\"is_low_level_fallback\":false,\"is_measurement\":false},\"15\":{\"name\":\"hadamard_transform\",\"inner_label\":\"\",\"qasm_name\":\"main__hadamard_transform_0\",\"details\":\"\",\"children\":[],\"children_ids\":[14,9,10,13],\"operation_data\":{\"approximated_depth\":null,\"width\":2,\"gate_count\":{}},\"operation_links\":{\"inputs\":[{\"label\":\"b\",\"inner_label\":\"target\",\"qubits\":[2,3],\"type\":\"\",\"is_captured\":false}],\"outputs\":[{\"label\":\"b\",\"inner_label\":\"target\",\"qubits\":[2,3],\"type\":\"\",\"is_captured\":false}]},\"control_qubits\":[],\"auxiliary_qubits\":[],\"target_qubits\":[2,3],\"operation_level\":\"QMOD_CALL\",\"operation_type\":\"REGULAR\",\"gate\":\"\",\"is_daggered\":false,\"expanded\":false,\"show_expanded_label\":false,\"is_low_level_fallback\":false,\"is_measurement\":false},\"16\":{\"name\":\"h\",\"inner_label\":null,\"qasm_name\":\"h\",\"details\":\"\",\"children\":[],\"children_ids\":[],\"operation_data\":null,\"operation_links\":{\"inputs\":[{\"label\":\"\",\"inner_label\":null,\"qubits\":[4],\"type\":\"\",\"is_captured\":false}],\"outputs\":[{\"label\":\"\",\"inner_label\":null,\"qubits\":[4],\"type\":\"\",\"is_captured\":false}]},\"control_qubits\":[],\"auxiliary_qubits\":[],\"target_qubits\":[4],\"operation_level\":\"UNKNOWN\",\"operation_type\":\"ATOMIC\",\"gate\":\"H\",\"is_daggered\":false,\"expanded\":false,\"show_expanded_label\":false,\"is_low_level_fallback\":false,\"is_measurement\":false},\"17\":{\"name\":\"h\",\"inner_label\":null,\"qasm_name\":\"h\",\"details\":\"\",\"children\":[],\"children_ids\":[],\"operation_data\":null,\"operation_links\":{\"inputs\":[{\"label\":\"\",\"inner_label\":null,\"qubits\":[5],\"type\":\"\",\"is_captured\":false}],\"outputs\":[{\"label\":\"\",\"inner_label\":null,\"qubits\":[5],\"type\":\"\",\"is_captured\":false}]},\"control_qubits\":[],\"auxiliary_qubits\":[],\"target_qubits\":[5],\"operation_level\":\"UNKNOWN\",\"operation_type\":\"ATOMIC\",\"gate\":\"H\",\"is_daggered\":false,\"expanded\":false,\"show_expanded_label\":false,\"is_low_level_fallback\":false,\"is_measurement\":false},\"18\":{\"name\":\"h\",\"inner_label\":null,\"qasm_name\":\"h\",\"details\":\"\",\"children\":[],\"children_ids\":[],\"operation_data\":null,\"operation_links\":{\"inputs\":[{\"label\":\"\",\"inner_label\":null,\"qubits\":[6],\"type\":\"\",\"is_captured\":false}],\"outputs\":[{\"label\":\"\",\"inner_label\":null,\"qubits\":[6],\"type\":\"\",\"is_captured\":false}]},\"control_qubits\":[],\"auxiliary_qubits\":[],\"target_qubits\":[6],\"operation_level\":\"UNKNOWN\",\"operation_type\":\"ATOMIC\",\"gate\":\"H\",\"is_daggered\":false,\"expanded\":false,\"show_expanded_label\":false,\"is_low_level_fallback\":false,\"is_measurement\":false},\"19\":{\"name\":\"h\",\"inner_label\":null,\"qasm_name\":\"h\",\"details\":\"\",\"children\":[],\"children_ids\":[],\"operation_data\":null,\"operation_links\":{\"inputs\":[{\"label\":\"\",\"inner_label\":null,\"qubits\":[7],\"type\":\"\",\"is_captured\":false}],\"outputs\":[{\"label\":\"\",\"inner_label\":null,\"qubits\":[7],\"type\":\"\",\"is_captured\":false}]},\"control_qubits\":[],\"auxiliary_qubits\":[],\"target_qubits\":[7],\"operation_level\":\"UNKNOWN\",\"operation_type\":\"ATOMIC\",\"gate\":\"H\",\"is_daggered\":false,\"expanded\":false,\"show_expanded_label\":false,\"is_low_level_fallback\":false,\"is_measurement\":false},\"20\":{\"name\":\"cp\",\"inner_label\":null,\"qasm_name\":\"cp\",\"details\":\"(π)\",\"children\":[],\"children_ids\":[],\"operation_data\":null,\"operation_links\":{\"inputs\":[{\"label\":\"\",\"inner_label\":null,\"qubits\":[4],\"type\":\"\",\"is_captured\":false},{\"label\":\"\",\"inner_label\":null,\"qubits\":[0],\"type\":\"\",\"is_captured\":false}],\"outputs\":[{\"label\":\"\",\"inner_label\":null,\"qubits\":[4],\"type\":\"\",\"is_captured\":false},{\"label\":\"\",\"inner_label\":null,\"qubits\":[0],\"type\":\"\",\"is_captured\":false}]},\"control_qubits\":[0],\"auxiliary_qubits\":[],\"target_qubits\":[4],\"operation_level\":\"UNKNOWN\",\"operation_type\":\"ATOMIC\",\"gate\":\"CPHASE\",\"is_daggered\":false,\"expanded\":false,\"show_expanded_label\":false,\"is_low_level_fallback\":false,\"is_measurement\":false},\"21\":{\"name\":\"cp\",\"inner_label\":null,\"qasm_name\":\"cp\",\"details\":\"(π)\",\"children\":[],\"children_ids\":[],\"operation_data\":null,\"operation_links\":{\"inputs\":[{\"label\":\"\",\"inner_label\":null,\"qubits\":[1],\"type\":\"\",\"is_captured\":false},{\"label\":\"\",\"inner_label\":null,\"qubits\":[5],\"type\":\"\",\"is_captured\":false}],\"outputs\":[{\"label\":\"\",\"inner_label\":null,\"qubits\":[1],\"type\":\"\",\"is_captured\":false},{\"label\":\"\",\"inner_label\":null,\"qubits\":[5],\"type\":\"\",\"is_captured\":false}]},\"control_qubits\":[1],\"auxiliary_qubits\":[],\"target_qubits\":[5],\"operation_level\":\"UNKNOWN\",\"operation_type\":\"ATOMIC\",\"gate\":\"CPHASE\",\"is_daggered\":false,\"expanded\":false,\"show_expanded_label\":false,\"is_low_level_fallback\":false,\"is_measurement\":false},\"22\":{\"name\":\"cp\",\"inner_label\":null,\"qasm_name\":\"cp\",\"details\":\"(3π/2)\",\"children\":[],\"children_ids\":[],\"operation_data\":null,\"operation_links\":{\"inputs\":[{\"label\":\"\",\"inner_label\":null,\"qubits\":[0],\"type\":\"\",\"is_captured\":false},{\"label\":\"\",\"inner_label\":null,\"qubits\":[5],\"type\":\"\",\"is_captured\":false}],\"outputs\":[{\"label\":\"\",\"inner_label\":null,\"qubits\":[0],\"type\":\"\",\"is_captured\":false},{\"label\":\"\",\"inner_label\":null,\"qubits\":[5],\"type\":\"\",\"is_captured\":false}]},\"control_qubits\":[0],\"auxiliary_qubits\":[],\"target_qubits\":[5],\"operation_level\":\"UNKNOWN\",\"operation_type\":\"ATOMIC\",\"gate\":\"CPHASE\",\"is_daggered\":false,\"expanded\":false,\"show_expanded_label\":false,\"is_low_level_fallback\":false,\"is_measurement\":false},\"23\":{\"name\":\"cp\",\"inner_label\":null,\"qasm_name\":\"cp\",\"details\":\"(3π/2)\",\"children\":[],\"children_ids\":[],\"operation_data\":null,\"operation_links\":{\"inputs\":[{\"label\":\"\",\"inner_label\":null,\"qubits\":[1],\"type\":\"\",\"is_captured\":false},{\"label\":\"\",\"inner_label\":null,\"qubits\":[6],\"type\":\"\",\"is_captured\":false}],\"outputs\":[{\"label\":\"\",\"inner_label\":null,\"qubits\":[1],\"type\":\"\",\"is_captured\":false},{\"label\":\"\",\"inner_label\":null,\"qubits\":[6],\"type\":\"\",\"is_captured\":false}]},\"control_qubits\":[1],\"auxiliary_qubits\":[],\"target_qubits\":[6],\"operation_level\":\"UNKNOWN\",\"operation_type\":\"ATOMIC\",\"gate\":\"CPHASE\",\"is_daggered\":false,\"expanded\":false,\"show_expanded_label\":false,\"is_low_level_fallback\":false,\"is_measurement\":false},\"24\":{\"name\":\"cp\",\"inner_label\":null,\"qasm_name\":\"cp\",\"details\":\"(3π/4)\",\"children\":[],\"children_ids\":[],\"operation_data\":null,\"operation_links\":{\"inputs\":[{\"label\":\"\",\"inner_label\":null,\"qubits\":[0],\"type\":\"\",\"is_captured\":false},{\"label\":\"\",\"inner_label\":null,\"qubits\":[6],\"type\":\"\",\"is_captured\":false}],\"outputs\":[{\"label\":\"\",\"inner_label\":null,\"qubits\":[0],\"type\":\"\",\"is_captured\":false},{\"label\":\"\",\"inner_label\":null,\"qubits\":[6],\"type\":\"\",\"is_captured\":false}]},\"control_qubits\":[0],\"auxiliary_qubits\":[],\"target_qubits\":[6],\"operation_level\":\"UNKNOWN\",\"operation_type\":\"ATOMIC\",\"gate\":\"CPHASE\",\"is_daggered\":false,\"expanded\":false,\"show_expanded_label\":false,\"is_low_level_fallback\":false,\"is_measurement\":false},\"25\":{\"name\":\"cp\",\"inner_label\":null,\"qasm_name\":\"cp\",\"details\":\"(3π/4)\",\"children\":[],\"children_ids\":[],\"operation_data\":null,\"operation_links\":{\"inputs\":[{\"label\":\"\",\"inner_label\":null,\"qubits\":[1],\"type\":\"\",\"is_captured\":false},{\"label\":\"\",\"inner_label\":null,\"qubits\":[7],\"type\":\"\",\"is_captured\":false}],\"outputs\":[{\"label\":\"\",\"inner_label\":null,\"qubits\":[1],\"type\":\"\",\"is_captured\":false},{\"label\":\"\",\"inner_label\":null,\"qubits\":[7],\"type\":\"\",\"is_captured\":false}]},\"control_qubits\":[1],\"auxiliary_qubits\":[],\"target_qubits\":[7],\"operation_level\":\"UNKNOWN\",\"operation_type\":\"ATOMIC\",\"gate\":\"CPHASE\",\"is_daggered\":false,\"expanded\":false,\"show_expanded_label\":false,\"is_low_level_fallback\":false,\"is_measurement\":false},\"26\":{\"name\":\"cp\",\"inner_label\":null,\"qasm_name\":\"cp\",\"details\":\"(3π/8)\",\"children\":[],\"children_ids\":[],\"operation_data\":null,\"operation_links\":{\"inputs\":[{\"label\":\"\",\"inner_label\":null,\"qubits\":[0],\"type\":\"\",\"is_captured\":false},{\"label\":\"\",\"inner_label\":null,\"qubits\":[7],\"type\":\"\",\"is_captured\":false}],\"outputs\":[{\"label\":\"\",\"inner_label\":null,\"qubits\":[0],\"type\":\"\",\"is_captured\":false},{\"label\":\"\",\"inner_label\":null,\"qubits\":[7],\"type\":\"\",\"is_captured\":false}]},\"control_qubits\":[0],\"auxiliary_qubits\":[],\"target_qubits\":[7],\"operation_level\":\"UNKNOWN\",\"operation_type\":\"ATOMIC\",\"gate\":\"CPHASE\",\"is_daggered\":false,\"expanded\":false,\"show_expanded_label\":false,\"is_low_level_fallback\":false,\"is_measurement\":false},\"28\":{\"name\":\"cp\",\"inner_label\":null,\"qasm_name\":\"cp\",\"details\":\"(-π/2)\",\"children\":[],\"children_ids\":[],\"operation_data\":null,\"operation_links\":{\"inputs\":[{\"label\":\"\",\"inner_label\":null,\"qubits\":[4],\"type\":\"\",\"is_captured\":false},{\"label\":\"\",\"inner_label\":null,\"qubits\":[5],\"type\":\"\",\"is_captured\":false}],\"outputs\":[{\"label\":\"\",\"inner_label\":null,\"qubits\":[4],\"type\":\"\",\"is_captured\":false},{\"label\":\"\",\"inner_label\":null,\"qubits\":[5],\"type\":\"\",\"is_captured\":false}]},\"control_qubits\":[5],\"auxiliary_qubits\":[],\"target_qubits\":[4],\"operation_level\":\"UNKNOWN\",\"operation_type\":\"ATOMIC\",\"gate\":\"CPHASE\",\"is_daggered\":false,\"expanded\":false,\"show_expanded_label\":false,\"is_low_level_fallback\":false,\"is_measurement\":false},\"30\":{\"name\":\"cp\",\"inner_label\":null,\"qasm_name\":\"cp\",\"details\":\"(-π/4)\",\"children\":[],\"children_ids\":[],\"operation_data\":null,\"operation_links\":{\"inputs\":[{\"label\":\"\",\"inner_label\":null,\"qubits\":[4],\"type\":\"\",\"is_captured\":false},{\"label\":\"\",\"inner_label\":null,\"qubits\":[6],\"type\":\"\",\"is_captured\":false}],\"outputs\":[{\"label\":\"\",\"inner_label\":null,\"qubits\":[4],\"type\":\"\",\"is_captured\":false},{\"label\":\"\",\"inner_label\":null,\"qubits\":[6],\"type\":\"\",\"is_captured\":false}]},\"control_qubits\":[6],\"auxiliary_qubits\":[],\"target_qubits\":[4],\"operation_level\":\"UNKNOWN\",\"operation_type\":\"ATOMIC\",\"gate\":\"CPHASE\",\"is_daggered\":false,\"expanded\":false,\"show_expanded_label\":false,\"is_low_level_fallback\":false,\"is_measurement\":false},\"31\":{\"name\":\"cp\",\"inner_label\":null,\"qasm_name\":\"cp\",\"details\":\"(-π/2)\",\"children\":[],\"children_ids\":[],\"operation_data\":null,\"operation_links\":{\"inputs\":[{\"label\":\"\",\"inner_label\":null,\"qubits\":[6],\"type\":\"\",\"is_captured\":false},{\"label\":\"\",\"inner_label\":null,\"qubits\":[5],\"type\":\"\",\"is_captured\":false}],\"outputs\":[{\"label\":\"\",\"inner_label\":null,\"qubits\":[6],\"type\":\"\",\"is_captured\":false},{\"label\":\"\",\"inner_label\":null,\"qubits\":[5],\"type\":\"\",\"is_captured\":false}]},\"control_qubits\":[6],\"auxiliary_qubits\":[],\"target_qubits\":[5],\"operation_level\":\"UNKNOWN\",\"operation_type\":\"ATOMIC\",\"gate\":\"CPHASE\",\"is_daggered\":false,\"expanded\":false,\"show_expanded_label\":false,\"is_low_level_fallback\":false,\"is_measurement\":false},\"33\":{\"name\":\"cp\",\"inner_label\":null,\"qasm_name\":\"cp\",\"details\":\"(-π/8)\",\"children\":[],\"children_ids\":[],\"operation_data\":null,\"operation_links\":{\"inputs\":[{\"label\":\"\",\"inner_label\":null,\"qubits\":[4],\"type\":\"\",\"is_captured\":false},{\"label\":\"\",\"inner_label\":null,\"qubits\":[7],\"type\":\"\",\"is_captured\":false}],\"outputs\":[{\"label\":\"\",\"inner_label\":null,\"qubits\":[4],\"type\":\"\",\"is_captured\":false},{\"label\":\"\",\"inner_label\":null,\"qubits\":[7],\"type\":\"\",\"is_captured\":false}]},\"control_qubits\":[7],\"auxiliary_qubits\":[],\"target_qubits\":[4],\"operation_level\":\"UNKNOWN\",\"operation_type\":\"ATOMIC\",\"gate\":\"CPHASE\",\"is_daggered\":false,\"expanded\":false,\"show_expanded_label\":false,\"is_low_level_fallback\":false,\"is_measurement\":false},\"34\":{\"name\":\"cp\",\"inner_label\":null,\"qasm_name\":\"cp\",\"details\":\"(-π/4)\",\"children\":[],\"children_ids\":[],\"operation_data\":null,\"operation_links\":{\"inputs\":[{\"label\":\"\",\"inner_label\":null,\"qubits\":[7],\"type\":\"\",\"is_captured\":false},{\"label\":\"\",\"inner_label\":null,\"qubits\":[5],\"type\":\"\",\"is_captured\":false}],\"outputs\":[{\"label\":\"\",\"inner_label\":null,\"qubits\":[7],\"type\":\"\",\"is_captured\":false},{\"label\":\"\",\"inner_label\":null,\"qubits\":[5],\"type\":\"\",\"is_captured\":false}]},\"control_qubits\":[7],\"auxiliary_qubits\":[],\"target_qubits\":[5],\"operation_level\":\"UNKNOWN\",\"operation_type\":\"ATOMIC\",\"gate\":\"CPHASE\",\"is_daggered\":false,\"expanded\":false,\"show_expanded_label\":false,\"is_low_level_fallback\":false,\"is_measurement\":false},\"35\":{\"name\":\"cp\",\"inner_label\":null,\"qasm_name\":\"cp\",\"details\":\"(-π/2)\",\"children\":[],\"children_ids\":[],\"operation_data\":null,\"operation_links\":{\"inputs\":[{\"label\":\"\",\"inner_label\":null,\"qubits\":[7],\"type\":\"\",\"is_captured\":false},{\"label\":\"\",\"inner_label\":null,\"qubits\":[6],\"type\":\"\",\"is_captured\":false}],\"outputs\":[{\"label\":\"\",\"inner_label\":null,\"qubits\":[7],\"type\":\"\",\"is_captured\":false},{\"label\":\"\",\"inner_label\":null,\"qubits\":[6],\"type\":\"\",\"is_captured\":false}]},\"control_qubits\":[7],\"auxiliary_qubits\":[],\"target_qubits\":[6],\"operation_level\":\"UNKNOWN\",\"operation_type\":\"ATOMIC\",\"gate\":\"CPHASE\",\"is_daggered\":false,\"expanded\":false,\"show_expanded_label\":false,\"is_low_level_fallback\":false,\"is_measurement\":false},\"37\":{\"name\":\"qft4_dg_dg\",\"inner_label\":null,\"qasm_name\":\"qft4_dg_dg\",\"details\":\"\",\"children\":[],\"children_ids\":[16,28,17,30,31,18,33,34,35,19],\"operation_data\":null,\"operation_links\":{\"inputs\":[{\"label\":\"\",\"inner_label\":null,\"qubits\":[4],\"type\":\"\",\"is_captured\":false},{\"label\":\"\",\"inner_label\":null,\"qubits\":[7],\"type\":\"\",\"is_captured\":false},{\"label\":\"\",\"inner_label\":null,\"qubits\":[6],\"type\":\"\",\"is_captured\":false},{\"label\":\"\",\"inner_label\":null,\"qubits\":[5],\"type\":\"\",\"is_captured\":false}],\"outputs\":[{\"label\":\"\",\"inner_label\":null,\"qubits\":[4],\"type\":\"\",\"is_captured\":false},{\"label\":\"\",\"inner_label\":null,\"qubits\":[7],\"type\":\"\",\"is_captured\":false},{\"label\":\"\",\"inner_label\":null,\"qubits\":[6],\"type\":\"\",\"is_captured\":false},{\"label\":\"\",\"inner_label\":null,\"qubits\":[5],\"type\":\"\",\"is_captured\":false}]},\"control_qubits\":[],\"auxiliary_qubits\":[],\"target_qubits\":[4,5,6,7],\"operation_level\":\"ENGINE_CALL\",\"operation_type\":\"REGULAR\",\"gate\":\"\",\"is_daggered\":false,\"expanded\":false,\"show_expanded_label\":false,\"is_low_level_fallback\":false,\"is_measurement\":false},\"38\":{\"name\":\"Split\",\"inner_label\":null,\"qasm_name\":\"\",\"details\":\"\",\"children\":[],\"children_ids\":[],\"operation_data\":null,\"operation_links\":{\"inputs\":[{\"label\":\"right_arg\",\"inner_label\":\"right_arg\",\"qubits\":[0,1],\"type\":\"\",\"is_captured\":false}],\"outputs\":[{\"label\":\"\",\"inner_label\":null,\"qubits\":[1],\"type\":\"\",\"is_captured\":false},{\"label\":\"\",\"inner_label\":null,\"qubits\":[0],\"type\":\"\",\"is_captured\":false}]},\"control_qubits\":[],\"auxiliary_qubits\":[],\"target_qubits\":[0,1],\"operation_level\":\"UNKNOWN\",\"operation_type\":\"BIND\",\"gate\":\"\",\"is_daggered\":false,\"expanded\":false,\"show_expanded_label\":false,\"is_low_level_fallback\":false,\"is_measurement\":false},\"39\":{\"name\":\"Split\",\"inner_label\":null,\"qasm_name\":\"\",\"details\":\"\",\"children\":[],\"children_ids\":[],\"operation_data\":null,\"operation_links\":{\"inputs\":[{\"label\":\"zero_product\",\"inner_label\":\"zero_product\",\"qubits\":[4,5,6,7],\"type\":\"\",\"is_captured\":false}],\"outputs\":[{\"label\":\"\",\"inner_label\":null,\"qubits\":[4],\"type\":\"\",\"is_captured\":false},{\"label\":\"\",\"inner_label\":null,\"qubits\":[7],\"type\":\"\",\"is_captured\":false},{\"label\":\"\",\"inner_label\":null,\"qubits\":[6],\"type\":\"\",\"is_captured\":false},{\"label\":\"\",\"inner_label\":null,\"qubits\":[5],\"type\":\"\",\"is_captured\":false}]},\"control_qubits\":[],\"auxiliary_qubits\":[],\"target_qubits\":[4,5,6,7],\"operation_level\":\"UNKNOWN\",\"operation_type\":\"BIND\",\"gate\":\"\",\"is_daggered\":false,\"expanded\":false,\"show_expanded_label\":false,\"is_low_level_fallback\":false,\"is_measurement\":false},\"40\":{\"name\":\"Merge\",\"inner_label\":null,\"qasm_name\":\"\",\"details\":\"\",\"children\":[],\"children_ids\":[],\"operation_data\":null,\"operation_links\":{\"inputs\":[{\"label\":\"\",\"inner_label\":null,\"qubits\":[1],\"type\":\"\",\"is_captured\":false},{\"label\":\"\",\"inner_label\":null,\"qubits\":[0],\"type\":\"\",\"is_captured\":false}],\"outputs\":[{\"label\":\"right_arg\",\"inner_label\":\"right_arg\",\"qubits\":[0,1],\"type\":\"\",\"is_captured\":false}]},\"control_qubits\":[],\"auxiliary_qubits\":[],\"target_qubits\":[0,1],\"operation_level\":\"UNKNOWN\",\"operation_type\":\"BIND\",\"gate\":\"\",\"is_daggered\":false,\"expanded\":false,\"show_expanded_label\":false,\"is_low_level_fallback\":false,\"is_measurement\":false},\"41\":{\"name\":\"Merge\",\"inner_label\":null,\"qasm_name\":\"\",\"details\":\"\",\"children\":[],\"children_ids\":[],\"operation_data\":null,\"operation_links\":{\"inputs\":[{\"label\":\"\",\"inner_label\":null,\"qubits\":[4],\"type\":\"\",\"is_captured\":false},{\"label\":\"\",\"inner_label\":null,\"qubits\":[7],\"type\":\"\",\"is_captured\":false},{\"label\":\"\",\"inner_label\":null,\"qubits\":[6],\"type\":\"\",\"is_captured\":false},{\"label\":\"\",\"inner_label\":null,\"qubits\":[5],\"type\":\"\",\"is_captured\":false}],\"outputs\":[{\"label\":\"product\",\"inner_label\":\"product\",\"qubits\":[4,5,6,7],\"type\":\"\",\"is_captured\":false}]},\"control_qubits\":[],\"auxiliary_qubits\":[],\"target_qubits\":[4,5,6,7],\"operation_level\":\"UNKNOWN\",\"operation_type\":\"BIND\",\"gate\":\"\",\"is_daggered\":false,\"expanded\":false,\"show_expanded_label\":false,\"is_low_level_fallback\":false,\"is_measurement\":false},\"42\":{\"name\":\"allocate\",\"inner_label\":null,\"qasm_name\":\"\",\"details\":\"\",\"children\":[],\"children_ids\":[],\"operation_data\":null,\"operation_links\":{\"inputs\":[],\"outputs\":[{\"label\":\"zero_product\",\"inner_label\":\"zero_product\",\"qubits\":[4,5,6,7],\"type\":\"\",\"is_captured\":false}]},\"control_qubits\":[],\"auxiliary_qubits\":[],\"target_qubits\":[4,5,6,7],\"operation_level\":\"UNKNOWN\",\"operation_type\":\"ALLOCATE\",\"gate\":\"\",\"is_daggered\":false,\"expanded\":false,\"show_expanded_label\":false,\"is_low_level_fallback\":false,\"is_measurement\":false},\"43\":{\"name\":\"Multiplier\",\"inner_label\":\"\",\"qasm_name\":\"arithmetic__multiplier\",\"details\":\"\",\"children\":[],\"children_ids\":[42,38,39,16,17,18,19,20,21,22,23,24,25,26,37,40,41],\"operation_data\":{\"approximated_depth\":6,\"width\":6,\"gate_count\":{}},\"operation_links\":{\"inputs\":[{\"label\":\"a\",\"inner_label\":\"right_arg\",\"qubits\":[0,1],\"type\":\"\",\"is_captured\":false}],\"outputs\":[{\"label\":\"product\",\"inner_label\":\"product\",\"qubits\":[4,5,6,7],\"type\":\"\",\"is_captured\":false},{\"label\":\"a\",\"inner_label\":\"right_arg\",\"qubits\":[0,1],\"type\":\"\",\"is_captured\":false}]},\"control_qubits\":[],\"auxiliary_qubits\":[],\"target_qubits\":[0,1,4,5,6,7],\"operation_level\":\"ENGINE_CALL\",\"operation_type\":\"REGULAR\",\"gate\":\"\",\"is_daggered\":false,\"expanded\":false,\"show_expanded_label\":false,\"is_low_level_fallback\":false,\"is_measurement\":false},\"44\":{\"name\":\"cx\",\"inner_label\":null,\"qasm_name\":\"cx\",\"details\":\"\",\"children\":[],\"children_ids\":[],\"operation_data\":null,\"operation_links\":{\"inputs\":[{\"label\":\"\",\"inner_label\":null,\"qubits\":[2],\"type\":\"\",\"is_captured\":false},{\"label\":\"\",\"inner_label\":null,\"qubits\":[8],\"type\":\"\",\"is_captured\":false}],\"outputs\":[{\"label\":\"\",\"inner_label\":null,\"qubits\":[2],\"type\":\"\",\"is_captured\":false},{\"label\":\"\",\"inner_label\":null,\"qubits\":[8],\"type\":\"\",\"is_captured\":false}]},\"control_qubits\":[2],\"auxiliary_qubits\":[],\"target_qubits\":[8],\"operation_level\":\"UNKNOWN\",\"operation_type\":\"ATOMIC\",\"gate\":\"CX\",\"is_daggered\":false,\"expanded\":false,\"show_expanded_label\":false,\"is_low_level_fallback\":false,\"is_measurement\":false},\"45\":{\"name\":\"cx\",\"inner_label\":null,\"qasm_name\":\"cx\",\"details\":\"\",\"children\":[],\"children_ids\":[],\"operation_data\":null,\"operation_links\":{\"inputs\":[{\"label\":\"\",\"inner_label\":null,\"qubits\":[3],\"type\":\"\",\"is_captured\":false},{\"label\":\"\",\"inner_label\":null,\"qubits\":[4],\"type\":\"\",\"is_captured\":false}],\"outputs\":[{\"label\":\"\",\"inner_label\":null,\"qubits\":[3],\"type\":\"\",\"is_captured\":false},{\"label\":\"\",\"inner_label\":null,\"qubits\":[4],\"type\":\"\",\"is_captured\":false}]},\"control_qubits\":[3],\"auxiliary_qubits\":[],\"target_qubits\":[4],\"operation_level\":\"UNKNOWN\",\"operation_type\":\"ATOMIC\",\"gate\":\"CX\",\"is_daggered\":false,\"expanded\":false,\"show_expanded_label\":false,\"is_low_level_fallback\":false,\"is_measurement\":false},\"46\":{\"name\":\"cx\",\"inner_label\":null,\"qasm_name\":\"cx\",\"details\":\"\",\"children\":[],\"children_ids\":[],\"operation_data\":null,\"operation_links\":{\"inputs\":[{\"label\":\"\",\"inner_label\":null,\"qubits\":[3],\"type\":\"\",\"is_captured\":false},{\"label\":\"\",\"inner_label\":null,\"qubits\":[12],\"type\":\"\",\"is_captured\":false}],\"outputs\":[{\"label\":\"\",\"inner_label\":null,\"qubits\":[3],\"type\":\"\",\"is_captured\":false},{\"label\":\"\",\"inner_label\":null,\"qubits\":[12],\"type\":\"\",\"is_captured\":false}]},\"control_qubits\":[3],\"auxiliary_qubits\":[],\"target_qubits\":[12],\"operation_level\":\"UNKNOWN\",\"operation_type\":\"ATOMIC\",\"gate\":\"CX\",\"is_daggered\":false,\"expanded\":false,\"show_expanded_label\":false,\"is_low_level_fallback\":false,\"is_measurement\":false},\"47\":{\"name\":\"h\",\"inner_label\":null,\"qasm_name\":\"h\",\"details\":\"\",\"children\":[],\"children_ids\":[],\"operation_data\":null,\"operation_links\":{\"inputs\":[{\"label\":\"\",\"inner_label\":null,\"qubits\":[3],\"type\":\"\",\"is_captured\":false}],\"outputs\":[{\"label\":\"\",\"inner_label\":null,\"qubits\":[3],\"type\":\"\",\"is_captured\":false}]},\"control_qubits\":[],\"auxiliary_qubits\":[],\"target_qubits\":[3],\"operation_level\":\"UNKNOWN\",\"operation_type\":\"ATOMIC\",\"gate\":\"H\",\"is_daggered\":false,\"expanded\":false,\"show_expanded_label\":false,\"is_low_level_fallback\":false,\"is_measurement\":false},\"48\":{\"name\":\"cx\",\"inner_label\":null,\"qasm_name\":\"cx\",\"details\":\"\",\"children\":[],\"children_ids\":[],\"operation_data\":null,\"operation_links\":{\"inputs\":[{\"label\":\"\",\"inner_label\":null,\"qubits\":[3],\"type\":\"\",\"is_captured\":false},{\"label\":\"\",\"inner_label\":null,\"qubits\":[4],\"type\":\"\",\"is_captured\":false}],\"outputs\":[{\"label\":\"\",\"inner_label\":null,\"qubits\":[3],\"type\":\"\",\"is_captured\":false},{\"label\":\"\",\"inner_label\":null,\"qubits\":[4],\"type\":\"\",\"is_captured\":false}]},\"control_qubits\":[4],\"auxiliary_qubits\":[],\"target_qubits\":[3],\"operation_level\":\"UNKNOWN\",\"operation_type\":\"ATOMIC\",\"gate\":\"CX\",\"is_daggered\":false,\"expanded\":false,\"show_expanded_label\":false,\"is_low_level_fallback\":false,\"is_measurement\":false},\"49\":{\"name\":\"tdg\",\"inner_label\":null,\"qasm_name\":\"tdg\",\"details\":\"\",\"children\":[],\"children_ids\":[],\"operation_data\":null,\"operation_links\":{\"inputs\":[{\"label\":\"\",\"inner_label\":null,\"qubits\":[3],\"type\":\"\",\"is_captured\":false}],\"outputs\":[{\"label\":\"\",\"inner_label\":null,\"qubits\":[3],\"type\":\"\",\"is_captured\":false}]},\"control_qubits\":[],\"auxiliary_qubits\":[],\"target_qubits\":[3],\"operation_level\":\"UNKNOWN\",\"operation_type\":\"ATOMIC\",\"gate\":\"TDG\",\"is_daggered\":false,\"expanded\":false,\"show_expanded_label\":false,\"is_low_level_fallback\":false,\"is_measurement\":false},\"50\":{\"name\":\"cx\",\"inner_label\":null,\"qasm_name\":\"cx\",\"details\":\"\",\"children\":[],\"children_ids\":[],\"operation_data\":null,\"operation_links\":{\"inputs\":[{\"label\":\"\",\"inner_label\":null,\"qubits\":[3],\"type\":\"\",\"is_captured\":false},{\"label\":\"\",\"inner_label\":null,\"qubits\":[12],\"type\":\"\",\"is_captured\":false}],\"outputs\":[{\"label\":\"\",\"inner_label\":null,\"qubits\":[3],\"type\":\"\",\"is_captured\":false},{\"label\":\"\",\"inner_label\":null,\"qubits\":[12],\"type\":\"\",\"is_captured\":false}]},\"control_qubits\":[12],\"auxiliary_qubits\":[],\"target_qubits\":[3],\"operation_level\":\"UNKNOWN\",\"operation_type\":\"ATOMIC\",\"gate\":\"CX\",\"is_daggered\":false,\"expanded\":false,\"show_expanded_label\":false,\"is_low_level_fallback\":false,\"is_measurement\":false},\"51\":{\"name\":\"t\",\"inner_label\":null,\"qasm_name\":\"t\",\"details\":\"\",\"children\":[],\"children_ids\":[],\"operation_data\":null,\"operation_links\":{\"inputs\":[{\"label\":\"\",\"inner_label\":null,\"qubits\":[3],\"type\":\"\",\"is_captured\":false}],\"outputs\":[{\"label\":\"\",\"inner_label\":null,\"qubits\":[3],\"type\":\"\",\"is_captured\":false}]},\"control_qubits\":[],\"auxiliary_qubits\":[],\"target_qubits\":[3],\"operation_level\":\"UNKNOWN\",\"operation_type\":\"ATOMIC\",\"gate\":\"T\",\"is_daggered\":false,\"expanded\":false,\"show_expanded_label\":false,\"is_low_level_fallback\":false,\"is_measurement\":false},\"55\":{\"name\":\"t\",\"inner_label\":null,\"qasm_name\":\"t\",\"details\":\"\",\"children\":[],\"children_ids\":[],\"operation_data\":null,\"operation_links\":{\"inputs\":[{\"label\":\"\",\"inner_label\":null,\"qubits\":[4],\"type\":\"\",\"is_captured\":false}],\"outputs\":[{\"label\":\"\",\"inner_label\":null,\"qubits\":[4],\"type\":\"\",\"is_captured\":false}]},\"control_qubits\":[],\"auxiliary_qubits\":[],\"target_qubits\":[4],\"operation_level\":\"UNKNOWN\",\"operation_type\":\"ATOMIC\",\"gate\":\"T\",\"is_daggered\":false,\"expanded\":false,\"show_expanded_label\":false,\"is_low_level_fallback\":false,\"is_measurement\":false},\"58\":{\"name\":\"cx\",\"inner_label\":null,\"qasm_name\":\"cx\",\"details\":\"\",\"children\":[],\"children_ids\":[],\"operation_data\":null,\"operation_links\":{\"inputs\":[{\"label\":\"\",\"inner_label\":null,\"qubits\":[4],\"type\":\"\",\"is_captured\":false},{\"label\":\"\",\"inner_label\":null,\"qubits\":[12],\"type\":\"\",\"is_captured\":false}],\"outputs\":[{\"label\":\"\",\"inner_label\":null,\"qubits\":[4],\"type\":\"\",\"is_captured\":false},{\"label\":\"\",\"inner_label\":null,\"qubits\":[12],\"type\":\"\",\"is_captured\":false}]},\"control_qubits\":[12],\"auxiliary_qubits\":[],\"target_qubits\":[4],\"operation_level\":\"UNKNOWN\",\"operation_type\":\"ATOMIC\",\"gate\":\"CX\",\"is_daggered\":false,\"expanded\":false,\"show_expanded_label\":false,\"is_low_level_fallback\":false,\"is_measurement\":false},\"59\":{\"name\":\"t\",\"inner_label\":null,\"qasm_name\":\"t\",\"details\":\"\",\"children\":[],\"children_ids\":[],\"operation_data\":null,\"operation_links\":{\"inputs\":[{\"label\":\"\",\"inner_label\":null,\"qubits\":[12],\"type\":\"\",\"is_captured\":false}],\"outputs\":[{\"label\":\"\",\"inner_label\":null,\"qubits\":[12],\"type\":\"\",\"is_captured\":false}]},\"control_qubits\":[],\"auxiliary_qubits\":[],\"target_qubits\":[12],\"operation_level\":\"UNKNOWN\",\"operation_type\":\"ATOMIC\",\"gate\":\"T\",\"is_daggered\":false,\"expanded\":false,\"show_expanded_label\":false,\"is_low_level_fallback\":false,\"is_measurement\":false},\"60\":{\"name\":\"tdg\",\"inner_label\":null,\"qasm_name\":\"tdg\",\"details\":\"\",\"children\":[],\"children_ids\":[],\"operation_data\":null,\"operation_links\":{\"inputs\":[{\"label\":\"\",\"inner_label\":null,\"qubits\":[4],\"type\":\"\",\"is_captured\":false}],\"outputs\":[{\"label\":\"\",\"inner_label\":null,\"qubits\":[4],\"type\":\"\",\"is_captured\":false}]},\"control_qubits\":[],\"auxiliary_qubits\":[],\"target_qubits\":[4],\"operation_level\":\"UNKNOWN\",\"operation_type\":\"ATOMIC\",\"gate\":\"TDG\",\"is_daggered\":false,\"expanded\":false,\"show_expanded_label\":false,\"is_low_level_fallback\":false,\"is_measurement\":false},\"62\":{\"name\":\"ccx\",\"inner_label\":null,\"qasm_name\":\"ccx\",\"details\":\"\",\"children\":[],\"children_ids\":[47,48,49,50,51,48,49,50,55,51,47,58,59,60,58],\"operation_data\":null,\"operation_links\":{\"inputs\":[{\"label\":\"\",\"inner_label\":null,\"qubits\":[3],\"type\":\"\",\"is_captured\":false},{\"label\":\"\",\"inner_label\":null,\"qubits\":[4],\"type\":\"\",\"is_captured\":false},{\"label\":\"\",\"inner_label\":null,\"qubits\":[12],\"type\":\"\",\"is_captured\":false}],\"outputs\":[{\"label\":\"\",\"inner_label\":null,\"qubits\":[3],\"type\":\"\",\"is_captured\":false},{\"label\":\"\",\"inner_label\":null,\"qubits\":[4],\"type\":\"\",\"is_captured\":false},{\"label\":\"\",\"inner_label\":null,\"qubits\":[12],\"type\":\"\",\"is_captured\":false}]},\"control_qubits\":[],\"auxiliary_qubits\":[],\"target_qubits\":[3],\"operation_level\":\"ENGINE_CALL\",\"operation_type\":\"REGULAR\",\"gate\":\"\",\"is_daggered\":false,\"expanded\":false,\"show_expanded_label\":false,\"is_low_level_fallback\":false,\"is_measurement\":false},\"63\":{\"name\":\"cx\",\"inner_label\":null,\"qasm_name\":\"cx\",\"details\":\"\",\"children\":[],\"children_ids\":[],\"operation_data\":null,\"operation_links\":{\"inputs\":[{\"label\":\"\",\"inner_label\":null,\"qubits\":[9],\"type\":\"\",\"is_captured\":false},{\"label\":\"\",\"inner_label\":null,\"qubits\":[5],\"type\":\"\",\"is_captured\":false}],\"outputs\":[{\"label\":\"\",\"inner_label\":null,\"qubits\":[9],\"type\":\"\",\"is_captured\":false},{\"label\":\"\",\"inner_label\":null,\"qubits\":[5],\"type\":\"\",\"is_captured\":false}]},\"control_qubits\":[9],\"auxiliary_qubits\":[],\"target_qubits\":[5],\"operation_level\":\"UNKNOWN\",\"operation_type\":\"ATOMIC\",\"gate\":\"CX\",\"is_daggered\":false,\"expanded\":false,\"show_expanded_label\":false,\"is_low_level_fallback\":false,\"is_measurement\":false},\"64\":{\"name\":\"cx\",\"inner_label\":null,\"qasm_name\":\"cx\",\"details\":\"\",\"children\":[],\"children_ids\":[],\"operation_data\":null,\"operation_links\":{\"inputs\":[{\"label\":\"\",\"inner_label\":null,\"qubits\":[3],\"type\":\"\",\"is_captured\":false},{\"label\":\"\",\"inner_label\":null,\"qubits\":[9],\"type\":\"\",\"is_captured\":false}],\"outputs\":[{\"label\":\"\",\"inner_label\":null,\"qubits\":[3],\"type\":\"\",\"is_captured\":false},{\"label\":\"\",\"inner_label\":null,\"qubits\":[9],\"type\":\"\",\"is_captured\":false}]},\"control_qubits\":[9],\"auxiliary_qubits\":[],\"target_qubits\":[3],\"operation_level\":\"UNKNOWN\",\"operation_type\":\"ATOMIC\",\"gate\":\"CX\",\"is_daggered\":false,\"expanded\":false,\"show_expanded_label\":false,\"is_low_level_fallback\":false,\"is_measurement\":false},\"65\":{\"name\":\"h\",\"inner_label\":null,\"qasm_name\":\"h\",\"details\":\"\",\"children\":[],\"children_ids\":[],\"operation_data\":null,\"operation_links\":{\"inputs\":[{\"label\":\"\",\"inner_label\":null,\"qubits\":[9],\"type\":\"\",\"is_captured\":false}],\"outputs\":[{\"label\":\"\",\"inner_label\":null,\"qubits\":[9],\"type\":\"\",\"is_captured\":false}]},\"control_qubits\":[],\"auxiliary_qubits\":[],\"target_qubits\":[9],\"operation_level\":\"UNKNOWN\",\"operation_type\":\"ATOMIC\",\"gate\":\"H\",\"is_daggered\":false,\"expanded\":false,\"show_expanded_label\":false,\"is_low_level_fallback\":false,\"is_measurement\":false},\"66\":{\"name\":\"cx\",\"inner_label\":null,\"qasm_name\":\"cx\",\"details\":\"\",\"children\":[],\"children_ids\":[],\"operation_data\":null,\"operation_links\":{\"inputs\":[{\"label\":\"\",\"inner_label\":null,\"qubits\":[9],\"type\":\"\",\"is_captured\":false},{\"label\":\"\",\"inner_label\":null,\"qubits\":[5],\"type\":\"\",\"is_captured\":false}],\"outputs\":[{\"label\":\"\",\"inner_label\":null,\"qubits\":[9],\"type\":\"\",\"is_captured\":false},{\"label\":\"\",\"inner_label\":null,\"qubits\":[5],\"type\":\"\",\"is_captured\":false}]},\"control_qubits\":[5],\"auxiliary_qubits\":[],\"target_qubits\":[9],\"operation_level\":\"UNKNOWN\",\"operation_type\":\"ATOMIC\",\"gate\":\"CX\",\"is_daggered\":false,\"expanded\":false,\"show_expanded_label\":false,\"is_low_level_fallback\":false,\"is_measurement\":false},\"67\":{\"name\":\"tdg\",\"inner_label\":null,\"qasm_name\":\"tdg\",\"details\":\"\",\"children\":[],\"children_ids\":[],\"operation_data\":null,\"operation_links\":{\"inputs\":[{\"label\":\"\",\"inner_label\":null,\"qubits\":[9],\"type\":\"\",\"is_captured\":false}],\"outputs\":[{\"label\":\"\",\"inner_label\":null,\"qubits\":[9],\"type\":\"\",\"is_captured\":false}]},\"control_qubits\":[],\"auxiliary_qubits\":[],\"target_qubits\":[9],\"operation_level\":\"UNKNOWN\",\"operation_type\":\"ATOMIC\",\"gate\":\"TDG\",\"is_daggered\":false,\"expanded\":false,\"show_expanded_label\":false,\"is_low_level_fallback\":false,\"is_measurement\":false},\"68\":{\"name\":\"cx\",\"inner_label\":null,\"qasm_name\":\"cx\",\"details\":\"\",\"children\":[],\"children_ids\":[],\"operation_data\":null,\"operation_links\":{\"inputs\":[{\"label\":\"\",\"inner_label\":null,\"qubits\":[3],\"type\":\"\",\"is_captured\":false},{\"label\":\"\",\"inner_label\":null,\"qubits\":[9],\"type\":\"\",\"is_captured\":false}],\"outputs\":[{\"label\":\"\",\"inner_label\":null,\"qubits\":[3],\"type\":\"\",\"is_captured\":false},{\"label\":\"\",\"inner_label\":null,\"qubits\":[9],\"type\":\"\",\"is_captured\":false}]},\"control_qubits\":[3],\"auxiliary_qubits\":[],\"target_qubits\":[9],\"operation_level\":\"UNKNOWN\",\"operation_type\":\"ATOMIC\",\"gate\":\"CX\",\"is_daggered\":false,\"expanded\":false,\"show_expanded_label\":false,\"is_low_level_fallback\":false,\"is_measurement\":false},\"69\":{\"name\":\"t\",\"inner_label\":null,\"qasm_name\":\"t\",\"details\":\"\",\"children\":[],\"children_ids\":[],\"operation_data\":null,\"operation_links\":{\"inputs\":[{\"label\":\"\",\"inner_label\":null,\"qubits\":[9],\"type\":\"\",\"is_captured\":false}],\"outputs\":[{\"label\":\"\",\"inner_label\":null,\"qubits\":[9],\"type\":\"\",\"is_captured\":false}]},\"control_qubits\":[],\"auxiliary_qubits\":[],\"target_qubits\":[9],\"operation_level\":\"UNKNOWN\",\"operation_type\":\"ATOMIC\",\"gate\":\"T\",\"is_daggered\":false,\"expanded\":false,\"show_expanded_label\":false,\"is_low_level_fallback\":false,\"is_measurement\":false},\"73\":{\"name\":\"t\",\"inner_label\":null,\"qasm_name\":\"t\",\"details\":\"\",\"children\":[],\"children_ids\":[],\"operation_data\":null,\"operation_links\":{\"inputs\":[{\"label\":\"\",\"inner_label\":null,\"qubits\":[5],\"type\":\"\",\"is_captured\":false}],\"outputs\":[{\"label\":\"\",\"inner_label\":null,\"qubits\":[5],\"type\":\"\",\"is_captured\":false}]},\"control_qubits\":[],\"auxiliary_qubits\":[],\"target_qubits\":[5],\"operation_level\":\"UNKNOWN\",\"operation_type\":\"ATOMIC\",\"gate\":\"T\",\"is_daggered\":false,\"expanded\":false,\"show_expanded_label\":false,\"is_low_level_fallback\":false,\"is_measurement\":false},\"76\":{\"name\":\"cx\",\"inner_label\":null,\"qasm_name\":\"cx\",\"details\":\"\",\"children\":[],\"children_ids\":[],\"operation_data\":null,\"operation_links\":{\"inputs\":[{\"label\":\"\",\"inner_label\":null,\"qubits\":[3],\"type\":\"\",\"is_captured\":false},{\"label\":\"\",\"inner_label\":null,\"qubits\":[5],\"type\":\"\",\"is_captured\":false}],\"outputs\":[{\"label\":\"\",\"inner_label\":null,\"qubits\":[3],\"type\":\"\",\"is_captured\":false},{\"label\":\"\",\"inner_label\":null,\"qubits\":[5],\"type\":\"\",\"is_captured\":false}]},\"control_qubits\":[3],\"auxiliary_qubits\":[],\"target_qubits\":[5],\"operation_level\":\"UNKNOWN\",\"operation_type\":\"ATOMIC\",\"gate\":\"CX\",\"is_daggered\":false,\"expanded\":false,\"show_expanded_label\":false,\"is_low_level_fallback\":false,\"is_measurement\":false},\"78\":{\"name\":\"tdg\",\"inner_label\":null,\"qasm_name\":\"tdg\",\"details\":\"\",\"children\":[],\"children_ids\":[],\"operation_data\":null,\"operation_links\":{\"inputs\":[{\"label\":\"\",\"inner_label\":null,\"qubits\":[5],\"type\":\"\",\"is_captured\":false}],\"outputs\":[{\"label\":\"\",\"inner_label\":null,\"qubits\":[5],\"type\":\"\",\"is_captured\":false}]},\"control_qubits\":[],\"auxiliary_qubits\":[],\"target_qubits\":[5],\"operation_level\":\"UNKNOWN\",\"operation_type\":\"ATOMIC\",\"gate\":\"TDG\",\"is_daggered\":false,\"expanded\":false,\"show_expanded_label\":false,\"is_low_level_fallback\":false,\"is_measurement\":false},\"80\":{\"name\":\"ccx\",\"inner_label\":null,\"qasm_name\":\"ccx\",\"details\":\"\",\"children\":[],\"children_ids\":[65,66,67,68,69,66,67,68,73,69,65,76,51,78,76],\"operation_data\":null,\"operation_links\":{\"inputs\":[{\"label\":\"\",\"inner_label\":null,\"qubits\":[3],\"type\":\"\",\"is_captured\":false},{\"label\":\"\",\"inner_label\":null,\"qubits\":[9],\"type\":\"\",\"is_captured\":false},{\"label\":\"\",\"inner_label\":null,\"qubits\":[5],\"type\":\"\",\"is_captured\":false}],\"outputs\":[{\"label\":\"\",\"inner_label\":null,\"qubits\":[3],\"type\":\"\",\"is_captured\":false},{\"label\":\"\",\"inner_label\":null,\"qubits\":[9],\"type\":\"\",\"is_captured\":false},{\"label\":\"\",\"inner_label\":null,\"qubits\":[5],\"type\":\"\",\"is_captured\":false}]},\"control_qubits\":[],\"auxiliary_qubits\":[],\"target_qubits\":[9],\"operation_level\":\"ENGINE_CALL\",\"operation_type\":\"REGULAR\",\"gate\":\"\",\"is_daggered\":false,\"expanded\":false,\"show_expanded_label\":false,\"is_low_level_fallback\":false,\"is_measurement\":false},\"81\":{\"name\":\"cx\",\"inner_label\":null,\"qasm_name\":\"cx\",\"details\":\"\",\"children\":[],\"children_ids\":[],\"operation_data\":null,\"operation_links\":{\"inputs\":[{\"label\":\"\",\"inner_label\":null,\"qubits\":[10],\"type\":\"\",\"is_captured\":false},{\"label\":\"\",\"inner_label\":null,\"qubits\":[6],\"type\":\"\",\"is_captured\":false}],\"outputs\":[{\"label\":\"\",\"inner_label\":null,\"qubits\":[10],\"type\":\"\",\"is_captured\":false},{\"label\":\"\",\"inner_label\":null,\"qubits\":[6],\"type\":\"\",\"is_captured\":false}]},\"control_qubits\":[10],\"auxiliary_qubits\":[],\"target_qubits\":[6],\"operation_level\":\"UNKNOWN\",\"operation_type\":\"ATOMIC\",\"gate\":\"CX\",\"is_daggered\":false,\"expanded\":false,\"show_expanded_label\":false,\"is_low_level_fallback\":false,\"is_measurement\":false},\"82\":{\"name\":\"cx\",\"inner_label\":null,\"qasm_name\":\"cx\",\"details\":\"\",\"children\":[],\"children_ids\":[],\"operation_data\":null,\"operation_links\":{\"inputs\":[{\"label\":\"\",\"inner_label\":null,\"qubits\":[10],\"type\":\"\",\"is_captured\":false},{\"label\":\"\",\"inner_label\":null,\"qubits\":[9],\"type\":\"\",\"is_captured\":false}],\"outputs\":[{\"label\":\"\",\"inner_label\":null,\"qubits\":[10],\"type\":\"\",\"is_captured\":false},{\"label\":\"\",\"inner_label\":null,\"qubits\":[9],\"type\":\"\",\"is_captured\":false}]},\"control_qubits\":[10],\"auxiliary_qubits\":[],\"target_qubits\":[9],\"operation_level\":\"UNKNOWN\",\"operation_type\":\"ATOMIC\",\"gate\":\"CX\",\"is_daggered\":false,\"expanded\":false,\"show_expanded_label\":false,\"is_low_level_fallback\":false,\"is_measurement\":false},\"83\":{\"name\":\"h\",\"inner_label\":null,\"qasm_name\":\"h\",\"details\":\"\",\"children\":[],\"children_ids\":[],\"operation_data\":null,\"operation_links\":{\"inputs\":[{\"label\":\"\",\"inner_label\":null,\"qubits\":[10],\"type\":\"\",\"is_captured\":false}],\"outputs\":[{\"label\":\"\",\"inner_label\":null,\"qubits\":[10],\"type\":\"\",\"is_captured\":false}]},\"control_qubits\":[],\"auxiliary_qubits\":[],\"target_qubits\":[10],\"operation_level\":\"UNKNOWN\",\"operation_type\":\"ATOMIC\",\"gate\":\"H\",\"is_daggered\":false,\"expanded\":false,\"show_expanded_label\":false,\"is_low_level_fallback\":false,\"is_measurement\":false},\"84\":{\"name\":\"cx\",\"inner_label\":null,\"qasm_name\":\"cx\",\"details\":\"\",\"children\":[],\"children_ids\":[],\"operation_data\":null,\"operation_links\":{\"inputs\":[{\"label\":\"\",\"inner_label\":null,\"qubits\":[10],\"type\":\"\",\"is_captured\":false},{\"label\":\"\",\"inner_label\":null,\"qubits\":[6],\"type\":\"\",\"is_captured\":false}],\"outputs\":[{\"label\":\"\",\"inner_label\":null,\"qubits\":[10],\"type\":\"\",\"is_captured\":false},{\"label\":\"\",\"inner_label\":null,\"qubits\":[6],\"type\":\"\",\"is_captured\":false}]},\"control_qubits\":[6],\"auxiliary_qubits\":[],\"target_qubits\":[10],\"operation_level\":\"UNKNOWN\",\"operation_type\":\"ATOMIC\",\"gate\":\"CX\",\"is_daggered\":false,\"expanded\":false,\"show_expanded_label\":false,\"is_low_level_fallback\":false,\"is_measurement\":false},\"85\":{\"name\":\"tdg\",\"inner_label\":null,\"qasm_name\":\"tdg\",\"details\":\"\",\"children\":[],\"children_ids\":[],\"operation_data\":null,\"operation_links\":{\"inputs\":[{\"label\":\"\",\"inner_label\":null,\"qubits\":[10],\"type\":\"\",\"is_captured\":false}],\"outputs\":[{\"label\":\"\",\"inner_label\":null,\"qubits\":[10],\"type\":\"\",\"is_captured\":false}]},\"control_qubits\":[],\"auxiliary_qubits\":[],\"target_qubits\":[10],\"operation_level\":\"UNKNOWN\",\"operation_type\":\"ATOMIC\",\"gate\":\"TDG\",\"is_daggered\":false,\"expanded\":false,\"show_expanded_label\":false,\"is_low_level_fallback\":false,\"is_measurement\":false},\"86\":{\"name\":\"cx\",\"inner_label\":null,\"qasm_name\":\"cx\",\"details\":\"\",\"children\":[],\"children_ids\":[],\"operation_data\":null,\"operation_links\":{\"inputs\":[{\"label\":\"\",\"inner_label\":null,\"qubits\":[10],\"type\":\"\",\"is_captured\":false},{\"label\":\"\",\"inner_label\":null,\"qubits\":[9],\"type\":\"\",\"is_captured\":false}],\"outputs\":[{\"label\":\"\",\"inner_label\":null,\"qubits\":[10],\"type\":\"\",\"is_captured\":false},{\"label\":\"\",\"inner_label\":null,\"qubits\":[9],\"type\":\"\",\"is_captured\":false}]},\"control_qubits\":[9],\"auxiliary_qubits\":[],\"target_qubits\":[10],\"operation_level\":\"UNKNOWN\",\"operation_type\":\"ATOMIC\",\"gate\":\"CX\",\"is_daggered\":false,\"expanded\":false,\"show_expanded_label\":false,\"is_low_level_fallback\":false,\"is_measurement\":false},\"87\":{\"name\":\"t\",\"inner_label\":null,\"qasm_name\":\"t\",\"details\":\"\",\"children\":[],\"children_ids\":[],\"operation_data\":null,\"operation_links\":{\"inputs\":[{\"label\":\"\",\"inner_label\":null,\"qubits\":[10],\"type\":\"\",\"is_captured\":false}],\"outputs\":[{\"label\":\"\",\"inner_label\":null,\"qubits\":[10],\"type\":\"\",\"is_captured\":false}]},\"control_qubits\":[],\"auxiliary_qubits\":[],\"target_qubits\":[10],\"operation_level\":\"UNKNOWN\",\"operation_type\":\"ATOMIC\",\"gate\":\"T\",\"is_daggered\":false,\"expanded\":false,\"show_expanded_label\":false,\"is_low_level_fallback\":false,\"is_measurement\":false},\"91\":{\"name\":\"t\",\"inner_label\":null,\"qasm_name\":\"t\",\"details\":\"\",\"children\":[],\"children_ids\":[],\"operation_data\":null,\"operation_links\":{\"inputs\":[{\"label\":\"\",\"inner_label\":null,\"qubits\":[6],\"type\":\"\",\"is_captured\":false}],\"outputs\":[{\"label\":\"\",\"inner_label\":null,\"qubits\":[6],\"type\":\"\",\"is_captured\":false}]},\"control_qubits\":[],\"auxiliary_qubits\":[],\"target_qubits\":[6],\"operation_level\":\"UNKNOWN\",\"operation_type\":\"ATOMIC\",\"gate\":\"T\",\"is_daggered\":false,\"expanded\":false,\"show_expanded_label\":false,\"is_low_level_fallback\":false,\"is_measurement\":false},\"94\":{\"name\":\"cx\",\"inner_label\":null,\"qasm_name\":\"cx\",\"details\":\"\",\"children\":[],\"children_ids\":[],\"operation_data\":null,\"operation_links\":{\"inputs\":[{\"label\":\"\",\"inner_label\":null,\"qubits\":[9],\"type\":\"\",\"is_captured\":false},{\"label\":\"\",\"inner_label\":null,\"qubits\":[6],\"type\":\"\",\"is_captured\":false}],\"outputs\":[{\"label\":\"\",\"inner_label\":null,\"qubits\":[9],\"type\":\"\",\"is_captured\":false},{\"label\":\"\",\"inner_label\":null,\"qubits\":[6],\"type\":\"\",\"is_captured\":false}]},\"control_qubits\":[9],\"auxiliary_qubits\":[],\"target_qubits\":[6],\"operation_level\":\"UNKNOWN\",\"operation_type\":\"ATOMIC\",\"gate\":\"CX\",\"is_daggered\":false,\"expanded\":false,\"show_expanded_label\":false,\"is_low_level_fallback\":false,\"is_measurement\":false},\"96\":{\"name\":\"tdg\",\"inner_label\":null,\"qasm_name\":\"tdg\",\"details\":\"\",\"children\":[],\"children_ids\":[],\"operation_data\":null,\"operation_links\":{\"inputs\":[{\"label\":\"\",\"inner_label\":null,\"qubits\":[6],\"type\":\"\",\"is_captured\":false}],\"outputs\":[{\"label\":\"\",\"inner_label\":null,\"qubits\":[6],\"type\":\"\",\"is_captured\":false}]},\"control_qubits\":[],\"auxiliary_qubits\":[],\"target_qubits\":[6],\"operation_level\":\"UNKNOWN\",\"operation_type\":\"ATOMIC\",\"gate\":\"TDG\",\"is_daggered\":false,\"expanded\":false,\"show_expanded_label\":false,\"is_low_level_fallback\":false,\"is_measurement\":false},\"98\":{\"name\":\"ccx\",\"inner_label\":null,\"qasm_name\":\"ccx\",\"details\":\"\",\"children\":[],\"children_ids\":[83,84,85,86,87,84,85,86,91,87,83,94,69,96,94],\"operation_data\":null,\"operation_links\":{\"inputs\":[{\"label\":\"\",\"inner_label\":null,\"qubits\":[10],\"type\":\"\",\"is_captured\":false},{\"label\":\"\",\"inner_label\":null,\"qubits\":[9],\"type\":\"\",\"is_captured\":false},{\"label\":\"\",\"inner_label\":null,\"qubits\":[6],\"type\":\"\",\"is_captured\":false}],\"outputs\":[{\"label\":\"\",\"inner_label\":null,\"qubits\":[10],\"type\":\"\",\"is_captured\":false},{\"label\":\"\",\"inner_label\":null,\"qubits\":[9],\"type\":\"\",\"is_captured\":false},{\"label\":\"\",\"inner_label\":null,\"qubits\":[6],\"type\":\"\",\"is_captured\":false}]},\"control_qubits\":[],\"auxiliary_qubits\":[],\"target_qubits\":[10],\"operation_level\":\"ENGINE_CALL\",\"operation_type\":\"REGULAR\",\"gate\":\"\",\"is_daggered\":false,\"expanded\":false,\"show_expanded_label\":false,\"is_low_level_fallback\":false,\"is_measurement\":false},\"99\":{\"name\":\"cx\",\"inner_label\":null,\"qasm_name\":\"cx\",\"details\":\"\",\"children\":[],\"children_ids\":[],\"operation_data\":null,\"operation_links\":{\"inputs\":[{\"label\":\"\",\"inner_label\":null,\"qubits\":[7],\"type\":\"\",\"is_captured\":false},{\"label\":\"\",\"inner_label\":null,\"qubits\":[11],\"type\":\"\",\"is_captured\":false}],\"outputs\":[{\"label\":\"\",\"inner_label\":null,\"qubits\":[7],\"type\":\"\",\"is_captured\":false},{\"label\":\"\",\"inner_label\":null,\"qubits\":[11],\"type\":\"\",\"is_captured\":false}]},\"control_qubits\":[11],\"auxiliary_qubits\":[],\"target_qubits\":[7],\"operation_level\":\"UNKNOWN\",\"operation_type\":\"ATOMIC\",\"gate\":\"CX\",\"is_daggered\":false,\"expanded\":false,\"show_expanded_label\":false,\"is_low_level_fallback\":false,\"is_measurement\":false},\"100\":{\"name\":\"cx\",\"inner_label\":null,\"qasm_name\":\"cx\",\"details\":\"\",\"children\":[],\"children_ids\":[],\"operation_data\":null,\"operation_links\":{\"inputs\":[{\"label\":\"\",\"inner_label\":null,\"qubits\":[10],\"type\":\"\",\"is_captured\":false},{\"label\":\"\",\"inner_label\":null,\"qubits\":[7],\"type\":\"\",\"is_captured\":false}],\"outputs\":[{\"label\":\"\",\"inner_label\":null,\"qubits\":[10],\"type\":\"\",\"is_captured\":false},{\"label\":\"\",\"inner_label\":null,\"qubits\":[7],\"type\":\"\",\"is_captured\":false}]},\"control_qubits\":[10],\"auxiliary_qubits\":[],\"target_qubits\":[7],\"operation_level\":\"UNKNOWN\",\"operation_type\":\"ATOMIC\",\"gate\":\"CX\",\"is_daggered\":false,\"expanded\":false,\"show_expanded_label\":false,\"is_low_level_fallback\":false,\"is_measurement\":false},\"155\":{\"name\":\"Split\",\"inner_label\":null,\"qasm_name\":\"\",\"details\":\"\",\"children\":[],\"children_ids\":[],\"operation_data\":null,\"operation_links\":{\"inputs\":[{\"label\":\"left_arg\",\"inner_label\":\"left_arg\",\"qubits\":[4,5,6,7],\"type\":\"\",\"is_captured\":false}],\"outputs\":[{\"label\":\"\",\"inner_label\":null,\"qubits\":[4],\"type\":\"\",\"is_captured\":false},{\"label\":\"\",\"inner_label\":null,\"qubits\":[7],\"type\":\"\",\"is_captured\":false},{\"label\":\"\",\"inner_label\":null,\"qubits\":[6],\"type\":\"\",\"is_captured\":false},{\"label\":\"\",\"inner_label\":null,\"qubits\":[5],\"type\":\"\",\"is_captured\":false}]},\"control_qubits\":[],\"auxiliary_qubits\":[],\"target_qubits\":[4,5,6,7],\"operation_level\":\"UNKNOWN\",\"operation_type\":\"BIND\",\"gate\":\"\",\"is_daggered\":false,\"expanded\":false,\"show_expanded_label\":false,\"is_low_level_fallback\":false,\"is_measurement\":false},\"156\":{\"name\":\"Split\",\"inner_label\":null,\"qasm_name\":\"\",\"details\":\"\",\"children\":[],\"children_ids\":[],\"operation_data\":null,\"operation_links\":{\"inputs\":[{\"label\":\"right_arg\",\"inner_label\":\"right_arg\",\"qubits\":[2,3],\"type\":\"\",\"is_captured\":false}],\"outputs\":[{\"label\":\"\",\"inner_label\":null,\"qubits\":[3],\"type\":\"\",\"is_captured\":false},{\"label\":\"\",\"inner_label\":null,\"qubits\":[2],\"type\":\"\",\"is_captured\":false}]},\"control_qubits\":[],\"auxiliary_qubits\":[],\"target_qubits\":[2,3],\"operation_level\":\"UNKNOWN\",\"operation_type\":\"BIND\",\"gate\":\"\",\"is_daggered\":false,\"expanded\":false,\"show_expanded_label\":false,\"is_low_level_fallback\":false,\"is_measurement\":false},\"157\":{\"name\":\"Split\",\"inner_label\":null,\"qasm_name\":\"\",\"details\":\"\",\"children\":[],\"children_ids\":[],\"operation_data\":null,\"operation_links\":{\"inputs\":[{\"label\":\"aux\",\"inner_label\":\"aux\",\"qubits\":[10,11,12,9],\"type\":\"\",\"is_captured\":false}],\"outputs\":[{\"label\":\"\",\"inner_label\":null,\"qubits\":[10],\"type\":\"\",\"is_captured\":false},{\"label\":\"\",\"inner_label\":null,\"qubits\":[11],\"type\":\"\",\"is_captured\":false},{\"label\":\"\",\"inner_label\":null,\"qubits\":[12],\"type\":\"\",\"is_captured\":false},{\"label\":\"\",\"inner_label\":null,\"qubits\":[9],\"type\":\"\",\"is_captured\":false}]},\"control_qubits\":[],\"auxiliary_qubits\":[],\"target_qubits\":[10,11,12,9],\"operation_level\":\"UNKNOWN\",\"operation_type\":\"BIND\",\"gate\":\"\",\"is_daggered\":false,\"expanded\":false,\"show_expanded_label\":false,\"is_low_level_fallback\":false,\"is_measurement\":false},\"158\":{\"name\":\"Merge\",\"inner_label\":null,\"qasm_name\":\"\",\"details\":\"\",\"children\":[],\"children_ids\":[],\"operation_data\":null,\"operation_links\":{\"inputs\":[{\"label\":\"\",\"inner_label\":null,\"qubits\":[4],\"type\":\"\",\"is_captured\":false},{\"label\":\"\",\"inner_label\":null,\"qubits\":[8],\"type\":\"\",\"is_captured\":false},{\"label\":\"\",\"inner_label\":null,\"qubits\":[7],\"type\":\"\",\"is_captured\":false},{\"label\":\"\",\"inner_label\":null,\"qubits\":[6],\"type\":\"\",\"is_captured\":false},{\"label\":\"\",\"inner_label\":null,\"qubits\":[5],\"type\":\"\",\"is_captured\":false}],\"outputs\":[{\"label\":\"sum\",\"inner_label\":\"sum\",\"qubits\":[8,4,5,6,7],\"type\":\"\",\"is_captured\":false}]},\"control_qubits\":[],\"auxiliary_qubits\":[],\"target_qubits\":[8,4,5,6,7],\"operation_level\":\"UNKNOWN\",\"operation_type\":\"BIND\",\"gate\":\"\",\"is_daggered\":false,\"expanded\":false,\"show_expanded_label\":false,\"is_low_level_fallback\":false,\"is_measurement\":false},\"159\":{\"name\":\"Merge\",\"inner_label\":null,\"qasm_name\":\"\",\"details\":\"\",\"children\":[],\"children_ids\":[],\"operation_data\":null,\"operation_links\":{\"inputs\":[{\"label\":\"\",\"inner_label\":null,\"qubits\":[3],\"type\":\"\",\"is_captured\":false},{\"label\":\"\",\"inner_label\":null,\"qubits\":[2],\"type\":\"\",\"is_captured\":false}],\"outputs\":[{\"label\":\"right_arg\",\"inner_label\":\"right_arg\",\"qubits\":[2,3],\"type\":\"\",\"is_captured\":false}]},\"control_qubits\":[],\"auxiliary_qubits\":[],\"target_qubits\":[2,3],\"operation_level\":\"UNKNOWN\",\"operation_type\":\"BIND\",\"gate\":\"\",\"is_daggered\":false,\"expanded\":false,\"show_expanded_label\":false,\"is_low_level_fallback\":false,\"is_measurement\":false},\"160\":{\"name\":\"Merge\",\"inner_label\":null,\"qasm_name\":\"\",\"details\":\"\",\"children\":[],\"children_ids\":[],\"operation_data\":null,\"operation_links\":{\"inputs\":[{\"label\":\"\",\"inner_label\":null,\"qubits\":[10],\"type\":\"\",\"is_captured\":false},{\"label\":\"\",\"inner_label\":null,\"qubits\":[11],\"type\":\"\",\"is_captured\":false},{\"label\":\"\",\"inner_label\":null,\"qubits\":[12],\"type\":\"\",\"is_captured\":false},{\"label\":\"\",\"inner_label\":null,\"qubits\":[9],\"type\":\"\",\"is_captured\":false}],\"outputs\":[{\"label\":\"aux\",\"inner_label\":\"aux\",\"qubits\":[10,11,12,9],\"type\":\"\",\"is_captured\":false}]},\"control_qubits\":[],\"auxiliary_qubits\":[],\"target_qubits\":[10,11,12,9],\"operation_level\":\"UNKNOWN\",\"operation_type\":\"BIND\",\"gate\":\"\",\"is_daggered\":false,\"expanded\":false,\"show_expanded_label\":false,\"is_low_level_fallback\":false,\"is_measurement\":false},\"161\":{\"name\":\"allocate\",\"inner_label\":null,\"qasm_name\":\"\",\"details\":\"\",\"children\":[],\"children_ids\":[],\"operation_data\":null,\"operation_links\":{\"inputs\":[],\"outputs\":[{\"label\":\"aux\",\"inner_label\":\"aux\",\"qubits\":[10,11,12,9],\"type\":\"\",\"is_captured\":false}]},\"control_qubits\":[],\"auxiliary_qubits\":[],\"target_qubits\":[10,11,12,9],\"operation_level\":\"UNKNOWN\",\"operation_type\":\"ALLOCATE\",\"gate\":\"\",\"is_daggered\":false,\"expanded\":false,\"show_expanded_label\":false,\"is_low_level_fallback\":false,\"is_measurement\":false},\"162\":{\"name\":\"free\",\"inner_label\":null,\"qasm_name\":\"\",\"details\":\"\",\"children\":[],\"children_ids\":[],\"operation_data\":null,\"operation_links\":{\"inputs\":[{\"label\":\"aux\",\"inner_label\":\"aux\",\"qubits\":[10,11,12,9],\"type\":\"\",\"is_captured\":false}],\"outputs\":[]},\"control_qubits\":[],\"auxiliary_qubits\":[],\"target_qubits\":[10,11,12,9],\"operation_level\":\"UNKNOWN\",\"operation_type\":\"FREE\",\"gate\":\"\",\"is_daggered\":false,\"expanded\":false,\"show_expanded_label\":false,\"is_low_level_fallback\":false,\"is_measurement\":false},\"163\":{\"name\":\"allocate\",\"inner_label\":null,\"qasm_name\":\"\",\"details\":\"\",\"children\":[],\"children_ids\":[],\"operation_data\":null,\"operation_links\":{\"inputs\":[],\"outputs\":[{\"label\":\"zero_sum\",\"inner_label\":\"zero_sum\",\"qubits\":[8],\"type\":\"\",\"is_captured\":false}]},\"control_qubits\":[],\"auxiliary_qubits\":[],\"target_qubits\":[8],\"operation_level\":\"UNKNOWN\",\"operation_type\":\"ALLOCATE\",\"gate\":\"\",\"is_daggered\":false,\"expanded\":false,\"show_expanded_label\":false,\"is_low_level_fallback\":false,\"is_measurement\":false},\"164\":{\"name\":\"Adder\",\"inner_label\":\"\",\"qasm_name\":\"arithmetic__adder\",\"details\":\"\",\"children\":[],\"children_ids\":[161,163,155,156,157,44,45,46,62,63,64,80,81,82,98,99,100,98,82,94,80,64,76,62,46,58,158,159,160,162],\"operation_data\":{\"approximated_depth\":17,\"width\":11,\"gate_count\":{}},\"operation_links\":{\"inputs\":[{\"label\":\"product\",\"inner_label\":\"left_arg\",\"qubits\":[4,5,6,7],\"type\":\"\",\"is_captured\":false},{\"label\":\"b\",\"inner_label\":\"right_arg\",\"qubits\":[2,3],\"type\":\"\",\"is_captured\":false}],\"outputs\":[{\"label\":\"expression_result\",\"inner_label\":\"sum\",\"qubits\":[8,4,5,6,7],\"type\":\"\",\"is_captured\":false},{\"label\":\"b\",\"inner_label\":\"right_arg\",\"qubits\":[2,3],\"type\":\"\",\"is_captured\":false}]},\"control_qubits\":[],\"auxiliary_qubits\":[10,11,12,9],\"target_qubits\":[8,4,5,6,7,2,3,9,10,11,12],\"operation_level\":\"ENGINE_CALL\",\"operation_type\":\"REGULAR\",\"gate\":\"\",\"is_daggered\":false,\"expanded\":false,\"show_expanded_label\":false,\"is_low_level_fallback\":false,\"is_measurement\":false},\"165\":{\"name\":\"assign\",\"inner_label\":\"\",\"qasm_name\":\"main__arithmetic\",\"details\":\"(3 * a) + b\",\"children\":[],\"children_ids\":[43,164],\"operation_data\":{\"approximated_depth\":null,\"width\":13,\"gate_count\":{}},\"operation_links\":{\"inputs\":[{\"label\":\"b\",\"inner_label\":\"b\",\"qubits\":[2,3],\"type\":\"\",\"is_captured\":false},{\"label\":\"a\",\"inner_label\":\"a\",\"qubits\":[0,1],\"type\":\"\",\"is_captured\":false}],\"outputs\":[{\"label\":\"b\",\"inner_label\":\"b\",\"qubits\":[2,3],\"type\":\"\",\"is_captured\":false},{\"label\":\"a\",\"inner_label\":\"a\",\"qubits\":[0,1],\"type\":\"\",\"is_captured\":false},{\"label\":\"c\",\"inner_label\":\"expression_result\",\"qubits\":[8,4,5,6,7],\"type\":\"\",\"is_captured\":false}]},\"control_qubits\":[],\"auxiliary_qubits\":[9,10,11,12],\"target_qubits\":[0,1,2,3,4,5,6,7,8,9,10,11,12],\"operation_level\":\"QMOD_STATEMENT\",\"operation_type\":\"REGULAR\",\"gate\":\"\",\"is_daggered\":false,\"expanded\":false,\"show_expanded_label\":false,\"is_low_level_fallback\":false,\"is_measurement\":false},\"166\":{\"name\":\"main\",\"inner_label\":null,\"qasm_name\":\"\",\"details\":\"\",\"children\":[],\"children_ids\":[0,1,8,15,165],\"operation_data\":{\"approximated_depth\":37,\"width\":13,\"gate_count\":{\"H\":24,\"CPHASE\":13,\"CX\":51,\"TDG\":18,\"T\":24}},\"operation_links\":{\"inputs\":[],\"outputs\":[{\"label\":\"b\",\"inner_label\":\"b\",\"qubits\":[2,3],\"type\":\"\",\"is_captured\":false},{\"label\":\"a\",\"inner_label\":\"a\",\"qubits\":[0,1],\"type\":\"\",\"is_captured\":false},{\"label\":\"c\",\"inner_label\":\"c\",\"qubits\":[8,4,5,6,7],\"type\":\"\",\"is_captured\":false}]},\"control_qubits\":[],\"auxiliary_qubits\":[],\"target_qubits\":[0,1,2,3,4,5,6,7,8,9,10,11,12],\"operation_level\":\"QMOD_CALL\",\"operation_type\":\"REGULAR\",\"gate\":\"\",\"is_daggered\":false,\"expanded\":false,\"show_expanded_label\":false,\"is_low_level_fallback\":false,\"is_measurement\":false}},\"main_operation_id\":166,\"program_data\":{\"hardware_data\":{\"basis_gates\":[\"z\",\"s\",\"tdg\",\"p\",\"t\",\"id\",\"sx\",\"r\",\"y\",\"rx\",\"u2\",\"h\",\"sxdg\",\"ry\",\"cz\",\"rz\",\"u\",\"sdg\",\"cx\",\"cy\",\"x\",\"u1\"],\"connectivity_map\":null,\"is_symmetric_connectivity\":true,\"backend_data\":null},\"circuit_metrics\":{\"depth\":93,\"count_ops\":{\"u\":81,\"cx\":77}}}}",
      "text/plain": [
       "https://platform.classiq.io/circuit/31oOurORrD3BjMH0lY2OKB4irYP?login=True&version=0.90.0"
      ]
     },
     "metadata": {
      "url": "https://platform.classiq.io/circuit/31oOurORrD3BjMH0lY2OKB4irYP?login=True&version=0.90.0"
     },
     "output_type": "display_data"
    },
    {
     "name": "stdout",
     "output_type": "stream",
     "text": [
      "Ex.4B Results:\n"
     ]
    },
    {
     "data": {
      "text/html": [
       "<div>\n",
       "<style scoped>\n",
       "    .dataframe tbody tr th:only-of-type {\n",
       "        vertical-align: middle;\n",
       "    }\n",
       "\n",
       "    .dataframe tbody tr th {\n",
       "        vertical-align: top;\n",
       "    }\n",
       "\n",
       "    .dataframe thead th {\n",
       "        text-align: right;\n",
       "    }\n",
       "</style>\n",
       "<table border=\"1\" class=\"dataframe\">\n",
       "  <thead>\n",
       "    <tr style=\"text-align: right;\">\n",
       "      <th></th>\n",
       "      <th>a</th>\n",
       "      <th>b</th>\n",
       "      <th>c</th>\n",
       "      <th>count</th>\n",
       "      <th>probability</th>\n",
       "      <th>bitstring</th>\n",
       "    </tr>\n",
       "  </thead>\n",
       "  <tbody>\n",
       "    <tr>\n",
       "      <th>0</th>\n",
       "      <td>0.0</td>\n",
       "      <td>0.50</td>\n",
       "      <td>0.50</td>\n",
       "      <td>152</td>\n",
       "      <td>0.074219</td>\n",
       "      <td>000101000</td>\n",
       "    </tr>\n",
       "    <tr>\n",
       "      <th>1</th>\n",
       "      <td>0.5</td>\n",
       "      <td>0.00</td>\n",
       "      <td>1.50</td>\n",
       "      <td>147</td>\n",
       "      <td>0.071777</td>\n",
       "      <td>001100001</td>\n",
       "    </tr>\n",
       "    <tr>\n",
       "      <th>2</th>\n",
       "      <td>1.0</td>\n",
       "      <td>0.75</td>\n",
       "      <td>3.75</td>\n",
       "      <td>140</td>\n",
       "      <td>0.068359</td>\n",
       "      <td>011111110</td>\n",
       "    </tr>\n",
       "    <tr>\n",
       "      <th>3</th>\n",
       "      <td>0.0</td>\n",
       "      <td>0.25</td>\n",
       "      <td>0.25</td>\n",
       "      <td>135</td>\n",
       "      <td>0.065918</td>\n",
       "      <td>000010100</td>\n",
       "    </tr>\n",
       "    <tr>\n",
       "      <th>4</th>\n",
       "      <td>1.0</td>\n",
       "      <td>0.50</td>\n",
       "      <td>3.50</td>\n",
       "      <td>134</td>\n",
       "      <td>0.065430</td>\n",
       "      <td>011101010</td>\n",
       "    </tr>\n",
       "    <tr>\n",
       "      <th>5</th>\n",
       "      <td>1.0</td>\n",
       "      <td>0.00</td>\n",
       "      <td>3.00</td>\n",
       "      <td>131</td>\n",
       "      <td>0.063965</td>\n",
       "      <td>011000010</td>\n",
       "    </tr>\n",
       "    <tr>\n",
       "      <th>6</th>\n",
       "      <td>0.5</td>\n",
       "      <td>0.50</td>\n",
       "      <td>2.00</td>\n",
       "      <td>129</td>\n",
       "      <td>0.062988</td>\n",
       "      <td>010001001</td>\n",
       "    </tr>\n",
       "    <tr>\n",
       "      <th>7</th>\n",
       "      <td>0.0</td>\n",
       "      <td>0.00</td>\n",
       "      <td>0.00</td>\n",
       "      <td>127</td>\n",
       "      <td>0.062012</td>\n",
       "      <td>000000000</td>\n",
       "    </tr>\n",
       "    <tr>\n",
       "      <th>8</th>\n",
       "      <td>1.5</td>\n",
       "      <td>0.25</td>\n",
       "      <td>4.75</td>\n",
       "      <td>127</td>\n",
       "      <td>0.062012</td>\n",
       "      <td>100110111</td>\n",
       "    </tr>\n",
       "    <tr>\n",
       "      <th>9</th>\n",
       "      <td>1.0</td>\n",
       "      <td>0.25</td>\n",
       "      <td>3.25</td>\n",
       "      <td>126</td>\n",
       "      <td>0.061523</td>\n",
       "      <td>011010110</td>\n",
       "    </tr>\n",
       "    <tr>\n",
       "      <th>10</th>\n",
       "      <td>1.5</td>\n",
       "      <td>0.50</td>\n",
       "      <td>5.00</td>\n",
       "      <td>126</td>\n",
       "      <td>0.061523</td>\n",
       "      <td>101001011</td>\n",
       "    </tr>\n",
       "    <tr>\n",
       "      <th>11</th>\n",
       "      <td>0.5</td>\n",
       "      <td>0.75</td>\n",
       "      <td>2.25</td>\n",
       "      <td>122</td>\n",
       "      <td>0.059570</td>\n",
       "      <td>010011101</td>\n",
       "    </tr>\n",
       "    <tr>\n",
       "      <th>12</th>\n",
       "      <td>0.5</td>\n",
       "      <td>0.25</td>\n",
       "      <td>1.75</td>\n",
       "      <td>121</td>\n",
       "      <td>0.059082</td>\n",
       "      <td>001110101</td>\n",
       "    </tr>\n",
       "    <tr>\n",
       "      <th>13</th>\n",
       "      <td>1.5</td>\n",
       "      <td>0.00</td>\n",
       "      <td>4.50</td>\n",
       "      <td>113</td>\n",
       "      <td>0.055176</td>\n",
       "      <td>100100011</td>\n",
       "    </tr>\n",
       "    <tr>\n",
       "      <th>14</th>\n",
       "      <td>0.0</td>\n",
       "      <td>0.75</td>\n",
       "      <td>0.75</td>\n",
       "      <td>110</td>\n",
       "      <td>0.053711</td>\n",
       "      <td>000111100</td>\n",
       "    </tr>\n",
       "    <tr>\n",
       "      <th>15</th>\n",
       "      <td>1.5</td>\n",
       "      <td>0.75</td>\n",
       "      <td>5.25</td>\n",
       "      <td>108</td>\n",
       "      <td>0.052734</td>\n",
       "      <td>101011111</td>\n",
       "    </tr>\n",
       "  </tbody>\n",
       "</table>\n",
       "</div>"
      ],
      "text/plain": [
       "      a     b     c  count  probability  bitstring\n",
       "0   0.0  0.50  0.50    152     0.074219  000101000\n",
       "1   0.5  0.00  1.50    147     0.071777  001100001\n",
       "2   1.0  0.75  3.75    140     0.068359  011111110\n",
       "3   0.0  0.25  0.25    135     0.065918  000010100\n",
       "4   1.0  0.50  3.50    134     0.065430  011101010\n",
       "5   1.0  0.00  3.00    131     0.063965  011000010\n",
       "6   0.5  0.50  2.00    129     0.062988  010001001\n",
       "7   0.0  0.00  0.00    127     0.062012  000000000\n",
       "8   1.5  0.25  4.75    127     0.062012  100110111\n",
       "9   1.0  0.25  3.25    126     0.061523  011010110\n",
       "10  1.5  0.50  5.00    126     0.061523  101001011\n",
       "11  0.5  0.75  2.25    122     0.059570  010011101\n",
       "12  0.5  0.25  1.75    121     0.059082  001110101\n",
       "13  1.5  0.00  4.50    113     0.055176  100100011\n",
       "14  0.0  0.75  0.75    110     0.053711  000111100\n",
       "15  1.5  0.75  5.25    108     0.052734  101011111"
      ]
     },
     "metadata": {},
     "output_type": "display_data"
    }
   ],
   "source": [
    "# Part B: Fractioned quantum numbers (explicit syntax)\n",
    "from classiq import *\n",
    "\n",
    "\n",
    "@qfunc\n",
    "def main(\n",
    "    a: Output[QNum[2, UNSIGNED, 1]], b: Output[QNum[2, UNSIGNED, 2]], c: Output[QNum]\n",
    "):\n",
    "    # Allocate a and b, then put in superposition\n",
    "    allocate(a)\n",
    "    allocate(b)\n",
    "    hadamard_transform(a)\n",
    "    hadamard_transform(b)\n",
    "\n",
    "    # Assign the value of 3*a + b to c\n",
    "    c |= 3 * a + b\n",
    "\n",
    "    # Print out the numeric attributes of the inferred type\n",
    "    print(\"Numeric attributes of c:\")\n",
    "    print(\n",
    "        f\"size: {c.size}, is_signed: {c.is_signed}, fraction_digits: {c.fraction_digits}\"\n",
    "    )\n",
    "\n",
    "\n",
    "# Synthesize the model, show, execute and print results\n",
    "qprog = synthesize(main)\n",
    "show(qprog)\n",
    "\n",
    "with ExecutionSession(qprog) as es:\n",
    "    res = es.sample()\n",
    "    print(\"Ex.4B Results:\")\n",
    "    display(res.dataframe)"
   ]
  },
  {
   "cell_type": "markdown",
   "metadata": {},
   "source": [
    "### Solution 4: Conditional Operations\n"
   ]
  },
  {
   "cell_type": "code",
   "execution_count": 22,
   "metadata": {},
   "outputs": [
    {
     "name": "stdout",
     "output_type": "stream",
     "text": [
      "Quantum program link: https://platform.classiq.io/circuit/31oOvG1Sigdbup1veciDPF6JMFa\n"
     ]
    },
    {
     "data": {
      "application/vnd.classiq+qviz": "{\"version\":\"0.90.0\",\"interface_version\":\"12\",\"main_operation\":null,\"id_to_operations\":{\"0\":{\"name\":\"allocate\",\"inner_label\":null,\"qasm_name\":\"\",\"details\":\"\",\"children\":[],\"children_ids\":[],\"operation_data\":null,\"operation_links\":{\"inputs\":[],\"outputs\":[{\"label\":\"x\",\"inner_label\":\"ARG\",\"qubits\":[0,1,2],\"type\":\"\",\"is_captured\":false}]},\"control_qubits\":[],\"auxiliary_qubits\":[],\"target_qubits\":[0,1,2],\"operation_level\":\"UNKNOWN\",\"operation_type\":\"ALLOCATE\",\"gate\":\"\",\"is_daggered\":false,\"expanded\":false,\"show_expanded_label\":false,\"is_low_level_fallback\":false,\"is_measurement\":false},\"1\":{\"name\":\"H\",\"inner_label\":null,\"qasm_name\":\"h\",\"details\":\"\",\"children\":[],\"children_ids\":[],\"operation_data\":null,\"operation_links\":{\"inputs\":[{\"label\":\"target[0]\",\"inner_label\":\"target[0]\",\"qubits\":[0],\"type\":\"\",\"is_captured\":false}],\"outputs\":[{\"label\":\"target[0]\",\"inner_label\":\"target[0]\",\"qubits\":[0],\"type\":\"\",\"is_captured\":false}]},\"control_qubits\":[],\"auxiliary_qubits\":[],\"target_qubits\":[0],\"operation_level\":\"UNKNOWN\",\"operation_type\":\"ATOMIC\",\"gate\":\"H\",\"is_daggered\":false,\"expanded\":false,\"show_expanded_label\":false,\"is_low_level_fallback\":false,\"is_measurement\":false},\"2\":{\"name\":\"H\",\"inner_label\":null,\"qasm_name\":\"h\",\"details\":\"\",\"children\":[],\"children_ids\":[],\"operation_data\":null,\"operation_links\":{\"inputs\":[{\"label\":\"target[1]\",\"inner_label\":\"target[1]\",\"qubits\":[1],\"type\":\"\",\"is_captured\":false}],\"outputs\":[{\"label\":\"target[1]\",\"inner_label\":\"target[1]\",\"qubits\":[1],\"type\":\"\",\"is_captured\":false}]},\"control_qubits\":[],\"auxiliary_qubits\":[],\"target_qubits\":[1],\"operation_level\":\"UNKNOWN\",\"operation_type\":\"ATOMIC\",\"gate\":\"H\",\"is_daggered\":false,\"expanded\":false,\"show_expanded_label\":false,\"is_low_level_fallback\":false,\"is_measurement\":false},\"3\":{\"name\":\"H\",\"inner_label\":null,\"qasm_name\":\"h\",\"details\":\"\",\"children\":[],\"children_ids\":[],\"operation_data\":null,\"operation_links\":{\"inputs\":[{\"label\":\"target[2]\",\"inner_label\":\"target[2]\",\"qubits\":[2],\"type\":\"\",\"is_captured\":false}],\"outputs\":[{\"label\":\"target[2]\",\"inner_label\":\"target[2]\",\"qubits\":[2],\"type\":\"\",\"is_captured\":false}]},\"control_qubits\":[],\"auxiliary_qubits\":[],\"target_qubits\":[2],\"operation_level\":\"UNKNOWN\",\"operation_type\":\"ATOMIC\",\"gate\":\"H\",\"is_daggered\":false,\"expanded\":false,\"show_expanded_label\":false,\"is_low_level_fallback\":false,\"is_measurement\":false},\"4\":{\"name\":\"pre__H__bind\",\"inner_label\":null,\"qasm_name\":\"\",\"details\":\"\",\"children\":[],\"children_ids\":[],\"operation_data\":null,\"operation_links\":{\"inputs\":[{\"label\":\"target\",\"inner_label\":\"target\",\"qubits\":[0,1,2],\"type\":\"\",\"is_captured\":false}],\"outputs\":[{\"label\":\"target[0]\",\"inner_label\":\"target[0]\",\"qubits\":[0],\"type\":\"\",\"is_captured\":false},{\"label\":\"\",\"inner_label\":null,\"qubits\":[1,2],\"type\":\"\",\"is_captured\":false}]},\"control_qubits\":[],\"auxiliary_qubits\":[],\"target_qubits\":[],\"operation_level\":\"UNKNOWN\",\"operation_type\":\"BIND\",\"gate\":\"\",\"is_daggered\":false,\"expanded\":false,\"show_expanded_label\":false,\"is_low_level_fallback\":false,\"is_measurement\":false},\"5\":{\"name\":\"pre__H__bind\",\"inner_label\":null,\"qasm_name\":\"\",\"details\":\"\",\"children\":[],\"children_ids\":[],\"operation_data\":null,\"operation_links\":{\"inputs\":[{\"label\":\"\",\"inner_label\":null,\"qubits\":[1,2],\"type\":\"\",\"is_captured\":false}],\"outputs\":[{\"label\":\"target[1]\",\"inner_label\":\"target[1]\",\"qubits\":[1],\"type\":\"\",\"is_captured\":false},{\"label\":\"\",\"inner_label\":null,\"qubits\":[2],\"type\":\"\",\"is_captured\":false}]},\"control_qubits\":[],\"auxiliary_qubits\":[],\"target_qubits\":[],\"operation_level\":\"UNKNOWN\",\"operation_type\":\"BIND\",\"gate\":\"\",\"is_daggered\":false,\"expanded\":false,\"show_expanded_label\":false,\"is_low_level_fallback\":false,\"is_measurement\":false},\"6\":{\"name\":\"pre__H__bind\",\"inner_label\":null,\"qasm_name\":\"\",\"details\":\"\",\"children\":[],\"children_ids\":[],\"operation_data\":null,\"operation_links\":{\"inputs\":[{\"label\":\"\",\"inner_label\":null,\"qubits\":[2],\"type\":\"\",\"is_captured\":false}],\"outputs\":[{\"label\":\"target[2]\",\"inner_label\":\"target[2]\",\"qubits\":[2],\"type\":\"\",\"is_captured\":false}]},\"control_qubits\":[],\"auxiliary_qubits\":[],\"target_qubits\":[],\"operation_level\":\"UNKNOWN\",\"operation_type\":\"BIND\",\"gate\":\"\",\"is_daggered\":false,\"expanded\":false,\"show_expanded_label\":false,\"is_low_level_fallback\":false,\"is_measurement\":false},\"7\":{\"name\":\"pre__output__bind\",\"inner_label\":null,\"qasm_name\":\"\",\"details\":\"\",\"children\":[],\"children_ids\":[],\"operation_data\":null,\"operation_links\":{\"inputs\":[{\"label\":\"target[1]\",\"inner_label\":\"target[1]\",\"qubits\":[1],\"type\":\"\",\"is_captured\":false},{\"label\":\"target[0]\",\"inner_label\":\"target[0]\",\"qubits\":[0],\"type\":\"\",\"is_captured\":false},{\"label\":\"target[2]\",\"inner_label\":\"target[2]\",\"qubits\":[2],\"type\":\"\",\"is_captured\":false}],\"outputs\":[{\"label\":\"target\",\"inner_label\":\"target\",\"qubits\":[0,1,2],\"type\":\"\",\"is_captured\":false}]},\"control_qubits\":[],\"auxiliary_qubits\":[],\"target_qubits\":[],\"operation_level\":\"UNKNOWN\",\"operation_type\":\"BIND\",\"gate\":\"\",\"is_daggered\":false,\"expanded\":false,\"show_expanded_label\":false,\"is_low_level_fallback\":false,\"is_measurement\":false},\"8\":{\"name\":\"pre__H__H__bind\",\"inner_label\":null,\"qasm_name\":\"\",\"details\":\"\",\"children\":[],\"children_ids\":[],\"operation_data\":null,\"operation_links\":{\"inputs\":[{\"label\":\"target\",\"inner_label\":\"target\",\"qubits\":[0,1,2],\"type\":\"\",\"is_captured\":false}],\"outputs\":[{\"label\":\"target[1]\",\"inner_label\":\"target[1]\",\"qubits\":[1],\"type\":\"\",\"is_captured\":false},{\"label\":\"target[0]\",\"inner_label\":\"target[0]\",\"qubits\":[0],\"type\":\"\",\"is_captured\":false},{\"label\":\"\",\"inner_label\":null,\"qubits\":[2],\"type\":\"\",\"is_captured\":false}]},\"control_qubits\":[],\"auxiliary_qubits\":[],\"target_qubits\":[],\"operation_level\":\"UNKNOWN\",\"operation_type\":\"BIND\",\"gate\":\"\",\"is_daggered\":false,\"expanded\":false,\"show_expanded_label\":false,\"is_low_level_fallback\":false,\"is_measurement\":false},\"9\":{\"name\":\"pre__H__H__H__bind\",\"inner_label\":null,\"qasm_name\":\"\",\"details\":\"\",\"children\":[],\"children_ids\":[],\"operation_data\":null,\"operation_links\":{\"inputs\":[{\"label\":\"target\",\"inner_label\":\"target\",\"qubits\":[0,1,2],\"type\":\"\",\"is_captured\":false}],\"outputs\":[{\"label\":\"target[1]\",\"inner_label\":\"target[1]\",\"qubits\":[1],\"type\":\"\",\"is_captured\":false},{\"label\":\"target[0]\",\"inner_label\":\"target[0]\",\"qubits\":[0],\"type\":\"\",\"is_captured\":false},{\"label\":\"target[2]\",\"inner_label\":\"target[2]\",\"qubits\":[2],\"type\":\"\",\"is_captured\":false}]},\"control_qubits\":[],\"auxiliary_qubits\":[],\"target_qubits\":[],\"operation_level\":\"UNKNOWN\",\"operation_type\":\"BIND\",\"gate\":\"\",\"is_daggered\":false,\"expanded\":false,\"show_expanded_label\":false,\"is_low_level_fallback\":false,\"is_measurement\":false},\"10\":{\"name\":\"hadamard_transform\",\"inner_label\":\"\",\"qasm_name\":\"main__hadamard_transform\",\"details\":\"\",\"children\":[],\"children_ids\":[9,1,2,3,7],\"operation_data\":{\"approximated_depth\":null,\"width\":3,\"gate_count\":{}},\"operation_links\":{\"inputs\":[{\"label\":\"x\",\"inner_label\":\"target\",\"qubits\":[0,1,2],\"type\":\"\",\"is_captured\":false}],\"outputs\":[{\"label\":\"x\",\"inner_label\":\"target\",\"qubits\":[0,1,2],\"type\":\"\",\"is_captured\":false}]},\"control_qubits\":[],\"auxiliary_qubits\":[],\"target_qubits\":[0,1,2],\"operation_level\":\"QMOD_CALL\",\"operation_type\":\"REGULAR\",\"gate\":\"\",\"is_daggered\":false,\"expanded\":false,\"show_expanded_label\":false,\"is_low_level_fallback\":false,\"is_measurement\":false},\"11\":{\"name\":\"cx\",\"inner_label\":null,\"qasm_name\":\"cx\",\"details\":\"\",\"children\":[],\"children_ids\":[],\"operation_data\":null,\"operation_links\":{\"inputs\":[{\"label\":\"\",\"inner_label\":null,\"qubits\":[3],\"type\":\"\",\"is_captured\":false},{\"label\":\"\",\"inner_label\":null,\"qubits\":[2],\"type\":\"\",\"is_captured\":false}],\"outputs\":[{\"label\":\"\",\"inner_label\":null,\"qubits\":[3],\"type\":\"\",\"is_captured\":false},{\"label\":\"\",\"inner_label\":null,\"qubits\":[2],\"type\":\"\",\"is_captured\":false}]},\"control_qubits\":[2],\"auxiliary_qubits\":[],\"target_qubits\":[3],\"operation_level\":\"UNKNOWN\",\"operation_type\":\"ATOMIC\",\"gate\":\"CX\",\"is_daggered\":false,\"expanded\":false,\"show_expanded_label\":false,\"is_low_level_fallback\":false,\"is_measurement\":false},\"12\":{\"name\":\"x\",\"inner_label\":null,\"qasm_name\":\"x\",\"details\":\"\",\"children\":[],\"children_ids\":[],\"operation_data\":null,\"operation_links\":{\"inputs\":[{\"label\":\"\",\"inner_label\":null,\"qubits\":[4],\"type\":\"\",\"is_captured\":false}],\"outputs\":[{\"label\":\"\",\"inner_label\":null,\"qubits\":[4],\"type\":\"\",\"is_captured\":false}]},\"control_qubits\":[],\"auxiliary_qubits\":[],\"target_qubits\":[4],\"operation_level\":\"UNKNOWN\",\"operation_type\":\"ATOMIC\",\"gate\":\"X\",\"is_daggered\":false,\"expanded\":false,\"show_expanded_label\":false,\"is_low_level_fallback\":false,\"is_measurement\":false},\"13\":{\"name\":\"x\",\"inner_label\":null,\"qasm_name\":\"x\",\"details\":\"\",\"children\":[],\"children_ids\":[],\"operation_data\":null,\"operation_links\":{\"inputs\":[{\"label\":\"\",\"inner_label\":null,\"qubits\":[5],\"type\":\"\",\"is_captured\":false}],\"outputs\":[{\"label\":\"\",\"inner_label\":null,\"qubits\":[5],\"type\":\"\",\"is_captured\":false}]},\"control_qubits\":[],\"auxiliary_qubits\":[],\"target_qubits\":[5],\"operation_level\":\"UNKNOWN\",\"operation_type\":\"ATOMIC\",\"gate\":\"X\",\"is_daggered\":false,\"expanded\":false,\"show_expanded_label\":false,\"is_low_level_fallback\":false,\"is_measurement\":false},\"14\":{\"name\":\"x\",\"inner_label\":null,\"qasm_name\":\"x\",\"details\":\"\",\"children\":[],\"children_ids\":[],\"operation_data\":null,\"operation_links\":{\"inputs\":[{\"label\":\"\",\"inner_label\":null,\"qubits\":[6],\"type\":\"\",\"is_captured\":false}],\"outputs\":[{\"label\":\"\",\"inner_label\":null,\"qubits\":[6],\"type\":\"\",\"is_captured\":false}]},\"control_qubits\":[],\"auxiliary_qubits\":[],\"target_qubits\":[6],\"operation_level\":\"UNKNOWN\",\"operation_type\":\"ATOMIC\",\"gate\":\"X\",\"is_daggered\":false,\"expanded\":false,\"show_expanded_label\":false,\"is_low_level_fallback\":false,\"is_measurement\":false},\"15\":{\"name\":\"cx\",\"inner_label\":null,\"qasm_name\":\"cx\",\"details\":\"\",\"children\":[],\"children_ids\":[],\"operation_data\":null,\"operation_links\":{\"inputs\":[{\"label\":\"\",\"inner_label\":null,\"qubits\":[4],\"type\":\"\",\"is_captured\":false},{\"label\":\"\",\"inner_label\":null,\"qubits\":[1],\"type\":\"\",\"is_captured\":false}],\"outputs\":[{\"label\":\"\",\"inner_label\":null,\"qubits\":[4],\"type\":\"\",\"is_captured\":false},{\"label\":\"\",\"inner_label\":null,\"qubits\":[1],\"type\":\"\",\"is_captured\":false}]},\"control_qubits\":[4],\"auxiliary_qubits\":[],\"target_qubits\":[1],\"operation_level\":\"UNKNOWN\",\"operation_type\":\"ATOMIC\",\"gate\":\"CX\",\"is_daggered\":false,\"expanded\":false,\"show_expanded_label\":false,\"is_low_level_fallback\":false,\"is_measurement\":false},\"16\":{\"name\":\"cx\",\"inner_label\":null,\"qasm_name\":\"cx\",\"details\":\"\",\"children\":[],\"children_ids\":[],\"operation_data\":null,\"operation_links\":{\"inputs\":[{\"label\":\"\",\"inner_label\":null,\"qubits\":[4],\"type\":\"\",\"is_captured\":false},{\"label\":\"\",\"inner_label\":null,\"qubits\":[7],\"type\":\"\",\"is_captured\":false}],\"outputs\":[{\"label\":\"\",\"inner_label\":null,\"qubits\":[4],\"type\":\"\",\"is_captured\":false},{\"label\":\"\",\"inner_label\":null,\"qubits\":[7],\"type\":\"\",\"is_captured\":false}]},\"control_qubits\":[4],\"auxiliary_qubits\":[],\"target_qubits\":[7],\"operation_level\":\"UNKNOWN\",\"operation_type\":\"ATOMIC\",\"gate\":\"CX\",\"is_daggered\":false,\"expanded\":false,\"show_expanded_label\":false,\"is_low_level_fallback\":false,\"is_measurement\":false},\"17\":{\"name\":\"h\",\"inner_label\":null,\"qasm_name\":\"h\",\"details\":\"\",\"children\":[],\"children_ids\":[],\"operation_data\":null,\"operation_links\":{\"inputs\":[{\"label\":\"\",\"inner_label\":null,\"qubits\":[4],\"type\":\"\",\"is_captured\":false}],\"outputs\":[{\"label\":\"\",\"inner_label\":null,\"qubits\":[4],\"type\":\"\",\"is_captured\":false}]},\"control_qubits\":[],\"auxiliary_qubits\":[],\"target_qubits\":[4],\"operation_level\":\"UNKNOWN\",\"operation_type\":\"ATOMIC\",\"gate\":\"H\",\"is_daggered\":false,\"expanded\":false,\"show_expanded_label\":false,\"is_low_level_fallback\":false,\"is_measurement\":false},\"18\":{\"name\":\"cx\",\"inner_label\":null,\"qasm_name\":\"cx\",\"details\":\"\",\"children\":[],\"children_ids\":[],\"operation_data\":null,\"operation_links\":{\"inputs\":[{\"label\":\"\",\"inner_label\":null,\"qubits\":[4],\"type\":\"\",\"is_captured\":false},{\"label\":\"\",\"inner_label\":null,\"qubits\":[1],\"type\":\"\",\"is_captured\":false}],\"outputs\":[{\"label\":\"\",\"inner_label\":null,\"qubits\":[4],\"type\":\"\",\"is_captured\":false},{\"label\":\"\",\"inner_label\":null,\"qubits\":[1],\"type\":\"\",\"is_captured\":false}]},\"control_qubits\":[1],\"auxiliary_qubits\":[],\"target_qubits\":[4],\"operation_level\":\"UNKNOWN\",\"operation_type\":\"ATOMIC\",\"gate\":\"CX\",\"is_daggered\":false,\"expanded\":false,\"show_expanded_label\":false,\"is_low_level_fallback\":false,\"is_measurement\":false},\"19\":{\"name\":\"tdg\",\"inner_label\":null,\"qasm_name\":\"tdg\",\"details\":\"\",\"children\":[],\"children_ids\":[],\"operation_data\":null,\"operation_links\":{\"inputs\":[{\"label\":\"\",\"inner_label\":null,\"qubits\":[4],\"type\":\"\",\"is_captured\":false}],\"outputs\":[{\"label\":\"\",\"inner_label\":null,\"qubits\":[4],\"type\":\"\",\"is_captured\":false}]},\"control_qubits\":[],\"auxiliary_qubits\":[],\"target_qubits\":[4],\"operation_level\":\"UNKNOWN\",\"operation_type\":\"ATOMIC\",\"gate\":\"TDG\",\"is_daggered\":false,\"expanded\":false,\"show_expanded_label\":false,\"is_low_level_fallback\":false,\"is_measurement\":false},\"20\":{\"name\":\"cx\",\"inner_label\":null,\"qasm_name\":\"cx\",\"details\":\"\",\"children\":[],\"children_ids\":[],\"operation_data\":null,\"operation_links\":{\"inputs\":[{\"label\":\"\",\"inner_label\":null,\"qubits\":[4],\"type\":\"\",\"is_captured\":false},{\"label\":\"\",\"inner_label\":null,\"qubits\":[7],\"type\":\"\",\"is_captured\":false}],\"outputs\":[{\"label\":\"\",\"inner_label\":null,\"qubits\":[4],\"type\":\"\",\"is_captured\":false},{\"label\":\"\",\"inner_label\":null,\"qubits\":[7],\"type\":\"\",\"is_captured\":false}]},\"control_qubits\":[7],\"auxiliary_qubits\":[],\"target_qubits\":[4],\"operation_level\":\"UNKNOWN\",\"operation_type\":\"ATOMIC\",\"gate\":\"CX\",\"is_daggered\":false,\"expanded\":false,\"show_expanded_label\":false,\"is_low_level_fallback\":false,\"is_measurement\":false},\"21\":{\"name\":\"t\",\"inner_label\":null,\"qasm_name\":\"t\",\"details\":\"\",\"children\":[],\"children_ids\":[],\"operation_data\":null,\"operation_links\":{\"inputs\":[{\"label\":\"\",\"inner_label\":null,\"qubits\":[4],\"type\":\"\",\"is_captured\":false}],\"outputs\":[{\"label\":\"\",\"inner_label\":null,\"qubits\":[4],\"type\":\"\",\"is_captured\":false}]},\"control_qubits\":[],\"auxiliary_qubits\":[],\"target_qubits\":[4],\"operation_level\":\"UNKNOWN\",\"operation_type\":\"ATOMIC\",\"gate\":\"T\",\"is_daggered\":false,\"expanded\":false,\"show_expanded_label\":false,\"is_low_level_fallback\":false,\"is_measurement\":false},\"25\":{\"name\":\"t\",\"inner_label\":null,\"qasm_name\":\"t\",\"details\":\"\",\"children\":[],\"children_ids\":[],\"operation_data\":null,\"operation_links\":{\"inputs\":[{\"label\":\"\",\"inner_label\":null,\"qubits\":[1],\"type\":\"\",\"is_captured\":false}],\"outputs\":[{\"label\":\"\",\"inner_label\":null,\"qubits\":[1],\"type\":\"\",\"is_captured\":false}]},\"control_qubits\":[],\"auxiliary_qubits\":[],\"target_qubits\":[1],\"operation_level\":\"UNKNOWN\",\"operation_type\":\"ATOMIC\",\"gate\":\"T\",\"is_daggered\":false,\"expanded\":false,\"show_expanded_label\":false,\"is_low_level_fallback\":false,\"is_measurement\":false},\"28\":{\"name\":\"cx\",\"inner_label\":null,\"qasm_name\":\"cx\",\"details\":\"\",\"children\":[],\"children_ids\":[],\"operation_data\":null,\"operation_links\":{\"inputs\":[{\"label\":\"\",\"inner_label\":null,\"qubits\":[1],\"type\":\"\",\"is_captured\":false},{\"label\":\"\",\"inner_label\":null,\"qubits\":[7],\"type\":\"\",\"is_captured\":false}],\"outputs\":[{\"label\":\"\",\"inner_label\":null,\"qubits\":[1],\"type\":\"\",\"is_captured\":false},{\"label\":\"\",\"inner_label\":null,\"qubits\":[7],\"type\":\"\",\"is_captured\":false}]},\"control_qubits\":[7],\"auxiliary_qubits\":[],\"target_qubits\":[1],\"operation_level\":\"UNKNOWN\",\"operation_type\":\"ATOMIC\",\"gate\":\"CX\",\"is_daggered\":false,\"expanded\":false,\"show_expanded_label\":false,\"is_low_level_fallback\":false,\"is_measurement\":false},\"29\":{\"name\":\"t\",\"inner_label\":null,\"qasm_name\":\"t\",\"details\":\"\",\"children\":[],\"children_ids\":[],\"operation_data\":null,\"operation_links\":{\"inputs\":[{\"label\":\"\",\"inner_label\":null,\"qubits\":[7],\"type\":\"\",\"is_captured\":false}],\"outputs\":[{\"label\":\"\",\"inner_label\":null,\"qubits\":[7],\"type\":\"\",\"is_captured\":false}]},\"control_qubits\":[],\"auxiliary_qubits\":[],\"target_qubits\":[7],\"operation_level\":\"UNKNOWN\",\"operation_type\":\"ATOMIC\",\"gate\":\"T\",\"is_daggered\":false,\"expanded\":false,\"show_expanded_label\":false,\"is_low_level_fallback\":false,\"is_measurement\":false},\"30\":{\"name\":\"tdg\",\"inner_label\":null,\"qasm_name\":\"tdg\",\"details\":\"\",\"children\":[],\"children_ids\":[],\"operation_data\":null,\"operation_links\":{\"inputs\":[{\"label\":\"\",\"inner_label\":null,\"qubits\":[1],\"type\":\"\",\"is_captured\":false}],\"outputs\":[{\"label\":\"\",\"inner_label\":null,\"qubits\":[1],\"type\":\"\",\"is_captured\":false}]},\"control_qubits\":[],\"auxiliary_qubits\":[],\"target_qubits\":[1],\"operation_level\":\"UNKNOWN\",\"operation_type\":\"ATOMIC\",\"gate\":\"TDG\",\"is_daggered\":false,\"expanded\":false,\"show_expanded_label\":false,\"is_low_level_fallback\":false,\"is_measurement\":false},\"32\":{\"name\":\"ccx\",\"inner_label\":null,\"qasm_name\":\"ccx\",\"details\":\"\",\"children\":[],\"children_ids\":[17,18,19,20,21,18,19,20,25,21,17,28,29,30,28],\"operation_data\":null,\"operation_links\":{\"inputs\":[{\"label\":\"\",\"inner_label\":null,\"qubits\":[4],\"type\":\"\",\"is_captured\":false},{\"label\":\"\",\"inner_label\":null,\"qubits\":[1],\"type\":\"\",\"is_captured\":false},{\"label\":\"\",\"inner_label\":null,\"qubits\":[7],\"type\":\"\",\"is_captured\":false}],\"outputs\":[{\"label\":\"\",\"inner_label\":null,\"qubits\":[4],\"type\":\"\",\"is_captured\":false},{\"label\":\"\",\"inner_label\":null,\"qubits\":[1],\"type\":\"\",\"is_captured\":false},{\"label\":\"\",\"inner_label\":null,\"qubits\":[7],\"type\":\"\",\"is_captured\":false}]},\"control_qubits\":[],\"auxiliary_qubits\":[],\"target_qubits\":[4],\"operation_level\":\"ENGINE_CALL\",\"operation_type\":\"REGULAR\",\"gate\":\"\",\"is_daggered\":false,\"expanded\":false,\"show_expanded_label\":false,\"is_low_level_fallback\":false,\"is_measurement\":false},\"33\":{\"name\":\"cx\",\"inner_label\":null,\"qasm_name\":\"cx\",\"details\":\"\",\"children\":[],\"children_ids\":[],\"operation_data\":null,\"operation_links\":{\"inputs\":[{\"label\":\"\",\"inner_label\":null,\"qubits\":[2],\"type\":\"\",\"is_captured\":false},{\"label\":\"\",\"inner_label\":null,\"qubits\":[5],\"type\":\"\",\"is_captured\":false}],\"outputs\":[{\"label\":\"\",\"inner_label\":null,\"qubits\":[2],\"type\":\"\",\"is_captured\":false},{\"label\":\"\",\"inner_label\":null,\"qubits\":[5],\"type\":\"\",\"is_captured\":false}]},\"control_qubits\":[5],\"auxiliary_qubits\":[],\"target_qubits\":[2],\"operation_level\":\"UNKNOWN\",\"operation_type\":\"ATOMIC\",\"gate\":\"CX\",\"is_daggered\":false,\"expanded\":false,\"show_expanded_label\":false,\"is_low_level_fallback\":false,\"is_measurement\":false},\"34\":{\"name\":\"cx\",\"inner_label\":null,\"qasm_name\":\"cx\",\"details\":\"\",\"children\":[],\"children_ids\":[],\"operation_data\":null,\"operation_links\":{\"inputs\":[{\"label\":\"\",\"inner_label\":null,\"qubits\":[4],\"type\":\"\",\"is_captured\":false},{\"label\":\"\",\"inner_label\":null,\"qubits\":[5],\"type\":\"\",\"is_captured\":false}],\"outputs\":[{\"label\":\"\",\"inner_label\":null,\"qubits\":[4],\"type\":\"\",\"is_captured\":false},{\"label\":\"\",\"inner_label\":null,\"qubits\":[5],\"type\":\"\",\"is_captured\":false}]},\"control_qubits\":[5],\"auxiliary_qubits\":[],\"target_qubits\":[4],\"operation_level\":\"UNKNOWN\",\"operation_type\":\"ATOMIC\",\"gate\":\"CX\",\"is_daggered\":false,\"expanded\":false,\"show_expanded_label\":false,\"is_low_level_fallback\":false,\"is_measurement\":false},\"35\":{\"name\":\"h\",\"inner_label\":null,\"qasm_name\":\"h\",\"details\":\"\",\"children\":[],\"children_ids\":[],\"operation_data\":null,\"operation_links\":{\"inputs\":[{\"label\":\"\",\"inner_label\":null,\"qubits\":[5],\"type\":\"\",\"is_captured\":false}],\"outputs\":[{\"label\":\"\",\"inner_label\":null,\"qubits\":[5],\"type\":\"\",\"is_captured\":false}]},\"control_qubits\":[],\"auxiliary_qubits\":[],\"target_qubits\":[5],\"operation_level\":\"UNKNOWN\",\"operation_type\":\"ATOMIC\",\"gate\":\"H\",\"is_daggered\":false,\"expanded\":false,\"show_expanded_label\":false,\"is_low_level_fallback\":false,\"is_measurement\":false},\"36\":{\"name\":\"cx\",\"inner_label\":null,\"qasm_name\":\"cx\",\"details\":\"\",\"children\":[],\"children_ids\":[],\"operation_data\":null,\"operation_links\":{\"inputs\":[{\"label\":\"\",\"inner_label\":null,\"qubits\":[2],\"type\":\"\",\"is_captured\":false},{\"label\":\"\",\"inner_label\":null,\"qubits\":[5],\"type\":\"\",\"is_captured\":false}],\"outputs\":[{\"label\":\"\",\"inner_label\":null,\"qubits\":[2],\"type\":\"\",\"is_captured\":false},{\"label\":\"\",\"inner_label\":null,\"qubits\":[5],\"type\":\"\",\"is_captured\":false}]},\"control_qubits\":[2],\"auxiliary_qubits\":[],\"target_qubits\":[5],\"operation_level\":\"UNKNOWN\",\"operation_type\":\"ATOMIC\",\"gate\":\"CX\",\"is_daggered\":false,\"expanded\":false,\"show_expanded_label\":false,\"is_low_level_fallback\":false,\"is_measurement\":false},\"37\":{\"name\":\"tdg\",\"inner_label\":null,\"qasm_name\":\"tdg\",\"details\":\"\",\"children\":[],\"children_ids\":[],\"operation_data\":null,\"operation_links\":{\"inputs\":[{\"label\":\"\",\"inner_label\":null,\"qubits\":[5],\"type\":\"\",\"is_captured\":false}],\"outputs\":[{\"label\":\"\",\"inner_label\":null,\"qubits\":[5],\"type\":\"\",\"is_captured\":false}]},\"control_qubits\":[],\"auxiliary_qubits\":[],\"target_qubits\":[5],\"operation_level\":\"UNKNOWN\",\"operation_type\":\"ATOMIC\",\"gate\":\"TDG\",\"is_daggered\":false,\"expanded\":false,\"show_expanded_label\":false,\"is_low_level_fallback\":false,\"is_measurement\":false},\"38\":{\"name\":\"cx\",\"inner_label\":null,\"qasm_name\":\"cx\",\"details\":\"\",\"children\":[],\"children_ids\":[],\"operation_data\":null,\"operation_links\":{\"inputs\":[{\"label\":\"\",\"inner_label\":null,\"qubits\":[4],\"type\":\"\",\"is_captured\":false},{\"label\":\"\",\"inner_label\":null,\"qubits\":[5],\"type\":\"\",\"is_captured\":false}],\"outputs\":[{\"label\":\"\",\"inner_label\":null,\"qubits\":[4],\"type\":\"\",\"is_captured\":false},{\"label\":\"\",\"inner_label\":null,\"qubits\":[5],\"type\":\"\",\"is_captured\":false}]},\"control_qubits\":[4],\"auxiliary_qubits\":[],\"target_qubits\":[5],\"operation_level\":\"UNKNOWN\",\"operation_type\":\"ATOMIC\",\"gate\":\"CX\",\"is_daggered\":false,\"expanded\":false,\"show_expanded_label\":false,\"is_low_level_fallback\":false,\"is_measurement\":false},\"39\":{\"name\":\"t\",\"inner_label\":null,\"qasm_name\":\"t\",\"details\":\"\",\"children\":[],\"children_ids\":[],\"operation_data\":null,\"operation_links\":{\"inputs\":[{\"label\":\"\",\"inner_label\":null,\"qubits\":[5],\"type\":\"\",\"is_captured\":false}],\"outputs\":[{\"label\":\"\",\"inner_label\":null,\"qubits\":[5],\"type\":\"\",\"is_captured\":false}]},\"control_qubits\":[],\"auxiliary_qubits\":[],\"target_qubits\":[5],\"operation_level\":\"UNKNOWN\",\"operation_type\":\"ATOMIC\",\"gate\":\"T\",\"is_daggered\":false,\"expanded\":false,\"show_expanded_label\":false,\"is_low_level_fallback\":false,\"is_measurement\":false},\"43\":{\"name\":\"t\",\"inner_label\":null,\"qasm_name\":\"t\",\"details\":\"\",\"children\":[],\"children_ids\":[],\"operation_data\":null,\"operation_links\":{\"inputs\":[{\"label\":\"\",\"inner_label\":null,\"qubits\":[2],\"type\":\"\",\"is_captured\":false}],\"outputs\":[{\"label\":\"\",\"inner_label\":null,\"qubits\":[2],\"type\":\"\",\"is_captured\":false}]},\"control_qubits\":[],\"auxiliary_qubits\":[],\"target_qubits\":[2],\"operation_level\":\"UNKNOWN\",\"operation_type\":\"ATOMIC\",\"gate\":\"T\",\"is_daggered\":false,\"expanded\":false,\"show_expanded_label\":false,\"is_low_level_fallback\":false,\"is_measurement\":false},\"46\":{\"name\":\"cx\",\"inner_label\":null,\"qasm_name\":\"cx\",\"details\":\"\",\"children\":[],\"children_ids\":[],\"operation_data\":null,\"operation_links\":{\"inputs\":[{\"label\":\"\",\"inner_label\":null,\"qubits\":[4],\"type\":\"\",\"is_captured\":false},{\"label\":\"\",\"inner_label\":null,\"qubits\":[2],\"type\":\"\",\"is_captured\":false}],\"outputs\":[{\"label\":\"\",\"inner_label\":null,\"qubits\":[4],\"type\":\"\",\"is_captured\":false},{\"label\":\"\",\"inner_label\":null,\"qubits\":[2],\"type\":\"\",\"is_captured\":false}]},\"control_qubits\":[4],\"auxiliary_qubits\":[],\"target_qubits\":[2],\"operation_level\":\"UNKNOWN\",\"operation_type\":\"ATOMIC\",\"gate\":\"CX\",\"is_daggered\":false,\"expanded\":false,\"show_expanded_label\":false,\"is_low_level_fallback\":false,\"is_measurement\":false},\"48\":{\"name\":\"tdg\",\"inner_label\":null,\"qasm_name\":\"tdg\",\"details\":\"\",\"children\":[],\"children_ids\":[],\"operation_data\":null,\"operation_links\":{\"inputs\":[{\"label\":\"\",\"inner_label\":null,\"qubits\":[2],\"type\":\"\",\"is_captured\":false}],\"outputs\":[{\"label\":\"\",\"inner_label\":null,\"qubits\":[2],\"type\":\"\",\"is_captured\":false}]},\"control_qubits\":[],\"auxiliary_qubits\":[],\"target_qubits\":[2],\"operation_level\":\"UNKNOWN\",\"operation_type\":\"ATOMIC\",\"gate\":\"TDG\",\"is_daggered\":false,\"expanded\":false,\"show_expanded_label\":false,\"is_low_level_fallback\":false,\"is_measurement\":false},\"50\":{\"name\":\"ccx\",\"inner_label\":null,\"qasm_name\":\"ccx\",\"details\":\"\",\"children\":[],\"children_ids\":[35,36,37,38,39,36,37,38,43,39,35,46,21,48,46],\"operation_data\":null,\"operation_links\":{\"inputs\":[{\"label\":\"\",\"inner_label\":null,\"qubits\":[4],\"type\":\"\",\"is_captured\":false},{\"label\":\"\",\"inner_label\":null,\"qubits\":[2],\"type\":\"\",\"is_captured\":false},{\"label\":\"\",\"inner_label\":null,\"qubits\":[5],\"type\":\"\",\"is_captured\":false}],\"outputs\":[{\"label\":\"\",\"inner_label\":null,\"qubits\":[4],\"type\":\"\",\"is_captured\":false},{\"label\":\"\",\"inner_label\":null,\"qubits\":[2],\"type\":\"\",\"is_captured\":false},{\"label\":\"\",\"inner_label\":null,\"qubits\":[5],\"type\":\"\",\"is_captured\":false}]},\"control_qubits\":[],\"auxiliary_qubits\":[],\"target_qubits\":[5],\"operation_level\":\"ENGINE_CALL\",\"operation_type\":\"REGULAR\",\"gate\":\"\",\"is_daggered\":false,\"expanded\":false,\"show_expanded_label\":false,\"is_low_level_fallback\":false,\"is_measurement\":false},\"51\":{\"name\":\"cx\",\"inner_label\":null,\"qasm_name\":\"cx\",\"details\":\"\",\"children\":[],\"children_ids\":[],\"operation_data\":null,\"operation_links\":{\"inputs\":[{\"label\":\"\",\"inner_label\":null,\"qubits\":[3],\"type\":\"\",\"is_captured\":false},{\"label\":\"\",\"inner_label\":null,\"qubits\":[6],\"type\":\"\",\"is_captured\":false}],\"outputs\":[{\"label\":\"\",\"inner_label\":null,\"qubits\":[3],\"type\":\"\",\"is_captured\":false},{\"label\":\"\",\"inner_label\":null,\"qubits\":[6],\"type\":\"\",\"is_captured\":false}]},\"control_qubits\":[6],\"auxiliary_qubits\":[],\"target_qubits\":[3],\"operation_level\":\"UNKNOWN\",\"operation_type\":\"ATOMIC\",\"gate\":\"CX\",\"is_daggered\":false,\"expanded\":false,\"show_expanded_label\":false,\"is_low_level_fallback\":false,\"is_measurement\":false},\"52\":{\"name\":\"cx\",\"inner_label\":null,\"qasm_name\":\"cx\",\"details\":\"\",\"children\":[],\"children_ids\":[],\"operation_data\":null,\"operation_links\":{\"inputs\":[{\"label\":\"\",\"inner_label\":null,\"qubits\":[3],\"type\":\"\",\"is_captured\":false},{\"label\":\"\",\"inner_label\":null,\"qubits\":[5],\"type\":\"\",\"is_captured\":false}],\"outputs\":[{\"label\":\"\",\"inner_label\":null,\"qubits\":[3],\"type\":\"\",\"is_captured\":false},{\"label\":\"\",\"inner_label\":null,\"qubits\":[5],\"type\":\"\",\"is_captured\":false}]},\"control_qubits\":[5],\"auxiliary_qubits\":[],\"target_qubits\":[3],\"operation_level\":\"UNKNOWN\",\"operation_type\":\"ATOMIC\",\"gate\":\"CX\",\"is_daggered\":false,\"expanded\":false,\"show_expanded_label\":false,\"is_low_level_fallback\":false,\"is_measurement\":false},\"92\":{\"name\":\"Split\",\"inner_label\":null,\"qasm_name\":\"\",\"details\":\"\",\"children\":[],\"children_ids\":[],\"operation_data\":null,\"operation_links\":{\"inputs\":[{\"label\":\"left_arg\",\"inner_label\":\"left_arg\",\"qubits\":[0,1,2],\"type\":\"\",\"is_captured\":false}],\"outputs\":[{\"label\":\"\",\"inner_label\":null,\"qubits\":[2],\"type\":\"\",\"is_captured\":false},{\"label\":\"\",\"inner_label\":null,\"qubits\":[1],\"type\":\"\",\"is_captured\":false},{\"label\":\"\",\"inner_label\":null,\"qubits\":[0],\"type\":\"\",\"is_captured\":false}]},\"control_qubits\":[],\"auxiliary_qubits\":[],\"target_qubits\":[0,1,2],\"operation_level\":\"UNKNOWN\",\"operation_type\":\"BIND\",\"gate\":\"\",\"is_daggered\":false,\"expanded\":false,\"show_expanded_label\":false,\"is_low_level_fallback\":false,\"is_measurement\":false},\"93\":{\"name\":\"Split\",\"inner_label\":null,\"qasm_name\":\"\",\"details\":\"\",\"children\":[],\"children_ids\":[],\"operation_data\":null,\"operation_links\":{\"inputs\":[{\"label\":\"aux\",\"inner_label\":\"aux\",\"qubits\":[4,5,6,7],\"type\":\"\",\"is_captured\":false}],\"outputs\":[{\"label\":\"\",\"inner_label\":null,\"qubits\":[4],\"type\":\"\",\"is_captured\":false},{\"label\":\"\",\"inner_label\":null,\"qubits\":[7],\"type\":\"\",\"is_captured\":false},{\"label\":\"\",\"inner_label\":null,\"qubits\":[6],\"type\":\"\",\"is_captured\":false},{\"label\":\"\",\"inner_label\":null,\"qubits\":[5],\"type\":\"\",\"is_captured\":false}]},\"control_qubits\":[],\"auxiliary_qubits\":[],\"target_qubits\":[4,5,6,7],\"operation_level\":\"UNKNOWN\",\"operation_type\":\"BIND\",\"gate\":\"\",\"is_daggered\":false,\"expanded\":false,\"show_expanded_label\":false,\"is_low_level_fallback\":false,\"is_measurement\":false},\"94\":{\"name\":\"Merge\",\"inner_label\":null,\"qasm_name\":\"\",\"details\":\"\",\"children\":[],\"children_ids\":[],\"operation_data\":null,\"operation_links\":{\"inputs\":[{\"label\":\"\",\"inner_label\":null,\"qubits\":[3],\"type\":\"\",\"is_captured\":false},{\"label\":\"\",\"inner_label\":null,\"qubits\":[2],\"type\":\"\",\"is_captured\":false},{\"label\":\"\",\"inner_label\":null,\"qubits\":[1],\"type\":\"\",\"is_captured\":false},{\"label\":\"\",\"inner_label\":null,\"qubits\":[0],\"type\":\"\",\"is_captured\":false}],\"outputs\":[{\"label\":\"sum\",\"inner_label\":\"sum\",\"qubits\":[0,1,2,3],\"type\":\"\",\"is_captured\":false}]},\"control_qubits\":[],\"auxiliary_qubits\":[],\"target_qubits\":[0,1,2,3],\"operation_level\":\"UNKNOWN\",\"operation_type\":\"BIND\",\"gate\":\"\",\"is_daggered\":false,\"expanded\":false,\"show_expanded_label\":false,\"is_low_level_fallback\":false,\"is_measurement\":false},\"95\":{\"name\":\"Merge\",\"inner_label\":null,\"qasm_name\":\"\",\"details\":\"\",\"children\":[],\"children_ids\":[],\"operation_data\":null,\"operation_links\":{\"inputs\":[{\"label\":\"\",\"inner_label\":null,\"qubits\":[4],\"type\":\"\",\"is_captured\":false},{\"label\":\"\",\"inner_label\":null,\"qubits\":[7],\"type\":\"\",\"is_captured\":false},{\"label\":\"\",\"inner_label\":null,\"qubits\":[6],\"type\":\"\",\"is_captured\":false},{\"label\":\"\",\"inner_label\":null,\"qubits\":[5],\"type\":\"\",\"is_captured\":false}],\"outputs\":[{\"label\":\"aux\",\"inner_label\":\"aux\",\"qubits\":[4,5,6,7],\"type\":\"\",\"is_captured\":false}]},\"control_qubits\":[],\"auxiliary_qubits\":[],\"target_qubits\":[4,5,6,7],\"operation_level\":\"UNKNOWN\",\"operation_type\":\"BIND\",\"gate\":\"\",\"is_daggered\":false,\"expanded\":false,\"show_expanded_label\":false,\"is_low_level_fallback\":false,\"is_measurement\":false},\"96\":{\"name\":\"allocate\",\"inner_label\":null,\"qasm_name\":\"\",\"details\":\"\",\"children\":[],\"children_ids\":[],\"operation_data\":null,\"operation_links\":{\"inputs\":[],\"outputs\":[{\"label\":\"aux\",\"inner_label\":\"aux\",\"qubits\":[4,5,6,7],\"type\":\"\",\"is_captured\":false}]},\"control_qubits\":[],\"auxiliary_qubits\":[],\"target_qubits\":[4,5,6,7],\"operation_level\":\"UNKNOWN\",\"operation_type\":\"ALLOCATE\",\"gate\":\"\",\"is_daggered\":false,\"expanded\":false,\"show_expanded_label\":false,\"is_low_level_fallback\":false,\"is_measurement\":false},\"97\":{\"name\":\"free\",\"inner_label\":null,\"qasm_name\":\"\",\"details\":\"\",\"children\":[],\"children_ids\":[],\"operation_data\":null,\"operation_links\":{\"inputs\":[{\"label\":\"aux\",\"inner_label\":\"aux\",\"qubits\":[4,5,6,7],\"type\":\"\",\"is_captured\":false}],\"outputs\":[]},\"control_qubits\":[],\"auxiliary_qubits\":[],\"target_qubits\":[4,5,6,7],\"operation_level\":\"UNKNOWN\",\"operation_type\":\"FREE\",\"gate\":\"\",\"is_daggered\":false,\"expanded\":false,\"show_expanded_label\":false,\"is_low_level_fallback\":false,\"is_measurement\":false},\"98\":{\"name\":\"Adder\",\"inner_label\":\"\",\"qasm_name\":\"block_wrapper_5276fc27c48e4e7aa5cf39d74cbac03f__block_wrapper_343aa54b6e104e32ab54c43a749954f5__arithmetic__lessthan__subtractor_0__adder\",\"details\":\"\",\"children\":[],\"children_ids\":[96,92,93,11,12,13,14,15,16,32,33,34,50,51,52,50,34,46,32,16,28,12,13,14,94,95,97],\"operation_data\":{\"approximated_depth\":13,\"width\":8,\"gate_count\":{}},\"operation_links\":{\"inputs\":[{\"label\":\"zero_difference\",\"inner_label\":\"zero_sum\",\"qubits\":[3],\"type\":\"\",\"is_captured\":false},{\"label\":\"left_arg\",\"inner_label\":\"left_arg\",\"qubits\":[0,1,2],\"type\":\"\",\"is_captured\":false}],\"outputs\":[{\"label\":\"difference\",\"inner_label\":\"sum\",\"qubits\":[0,1,2,3],\"type\":\"\",\"is_captured\":false}]},\"control_qubits\":[],\"auxiliary_qubits\":[4,5,6,7],\"target_qubits\":[0,1,2,3,4,5,6,7],\"operation_level\":\"ENGINE_CALL\",\"operation_type\":\"REGULAR\",\"gate\":\"\",\"is_daggered\":false,\"expanded\":false,\"show_expanded_label\":false,\"is_low_level_fallback\":false,\"is_measurement\":false},\"99\":{\"name\":\"allocate\",\"inner_label\":null,\"qasm_name\":\"\",\"details\":\"\",\"children\":[],\"children_ids\":[],\"operation_data\":null,\"operation_links\":{\"inputs\":[],\"outputs\":[{\"label\":\"zero_difference\",\"inner_label\":\"zero_sum\",\"qubits\":[3],\"type\":\"\",\"is_captured\":false}]},\"control_qubits\":[],\"auxiliary_qubits\":[],\"target_qubits\":[3],\"operation_level\":\"UNKNOWN\",\"operation_type\":\"ALLOCATE\",\"gate\":\"\",\"is_daggered\":false,\"expanded\":false,\"show_expanded_label\":false,\"is_low_level_fallback\":false,\"is_measurement\":false},\"100\":{\"name\":\"Subtractor_0\",\"inner_label\":\"\",\"qasm_name\":\"block_wrapper_5276fc27c48e4e7aa5cf39d74cbac03f__block_wrapper_343aa54b6e104e32ab54c43a749954f5__arithmetic__lessthan__subtractor_0\",\"details\":\"\",\"children\":[],\"children_ids\":[99,98],\"operation_data\":{\"approximated_depth\":null,\"width\":8,\"gate_count\":{}},\"operation_links\":{\"inputs\":[{\"label\":\"left_arg\",\"inner_label\":\"left_arg\",\"qubits\":[0,1,2],\"type\":\"\",\"is_captured\":false}],\"outputs\":[{\"label\":\"difference\",\"inner_label\":\"difference\",\"qubits\":[0,1,2,3],\"type\":\"\",\"is_captured\":false}]},\"control_qubits\":[],\"auxiliary_qubits\":[4,5,6,7],\"target_qubits\":[0,1,2,3,4,5,6,7],\"operation_level\":\"ENGINE_CALL\",\"operation_type\":\"REGULAR\",\"gate\":\"\",\"is_daggered\":false,\"expanded\":false,\"show_expanded_label\":false,\"is_low_level_fallback\":false,\"is_measurement\":false},\"101\":{\"name\":\"cx\",\"inner_label\":null,\"qasm_name\":\"cx\",\"details\":\"\",\"children\":[],\"children_ids\":[],\"operation_data\":null,\"operation_links\":{\"inputs\":[{\"label\":\"\",\"inner_label\":null,\"qubits\":[3],\"type\":\"\",\"is_captured\":false},{\"label\":\"\",\"inner_label\":null,\"qubits\":[7],\"type\":\"\",\"is_captured\":false}],\"outputs\":[{\"label\":\"\",\"inner_label\":null,\"qubits\":[3],\"type\":\"\",\"is_captured\":false},{\"label\":\"\",\"inner_label\":null,\"qubits\":[7],\"type\":\"\",\"is_captured\":false}]},\"control_qubits\":[3],\"auxiliary_qubits\":[],\"target_qubits\":[7],\"operation_level\":\"UNKNOWN\",\"operation_type\":\"ATOMIC\",\"gate\":\"CX\",\"is_daggered\":false,\"expanded\":false,\"show_expanded_label\":false,\"is_low_level_fallback\":false,\"is_measurement\":false},\"102\":{\"name\":\"Split\",\"inner_label\":null,\"qasm_name\":\"\",\"details\":\"\",\"children\":[],\"children_ids\":[],\"operation_data\":null,\"operation_links\":{\"inputs\":[{\"label\":\"arg\",\"inner_label\":\"arg\",\"qubits\":[0,1,2,3],\"type\":\"\",\"is_captured\":false}],\"outputs\":[{\"label\":\"\",\"inner_label\":null,\"qubits\":[3],\"type\":\"\",\"is_captured\":false},{\"label\":\"\",\"inner_label\":null,\"qubits\":[2],\"type\":\"\",\"is_captured\":false},{\"label\":\"\",\"inner_label\":null,\"qubits\":[1],\"type\":\"\",\"is_captured\":false},{\"label\":\"\",\"inner_label\":null,\"qubits\":[0],\"type\":\"\",\"is_captured\":false}]},\"control_qubits\":[],\"auxiliary_qubits\":[],\"target_qubits\":[0,1,2,3],\"operation_level\":\"UNKNOWN\",\"operation_type\":\"BIND\",\"gate\":\"\",\"is_daggered\":false,\"expanded\":false,\"show_expanded_label\":false,\"is_low_level_fallback\":false,\"is_measurement\":false},\"103\":{\"name\":\"Merge\",\"inner_label\":null,\"qasm_name\":\"\",\"details\":\"\",\"children\":[],\"children_ids\":[],\"operation_data\":null,\"operation_links\":{\"inputs\":[{\"label\":\"\",\"inner_label\":null,\"qubits\":[3],\"type\":\"\",\"is_captured\":false},{\"label\":\"\",\"inner_label\":null,\"qubits\":[2],\"type\":\"\",\"is_captured\":false},{\"label\":\"\",\"inner_label\":null,\"qubits\":[1],\"type\":\"\",\"is_captured\":false},{\"label\":\"\",\"inner_label\":null,\"qubits\":[0],\"type\":\"\",\"is_captured\":false}],\"outputs\":[{\"label\":\"arg\",\"inner_label\":\"arg\",\"qubits\":[0,1,2,3],\"type\":\"\",\"is_captured\":false}]},\"control_qubits\":[],\"auxiliary_qubits\":[],\"target_qubits\":[0,1,2,3],\"operation_level\":\"UNKNOWN\",\"operation_type\":\"BIND\",\"gate\":\"\",\"is_daggered\":false,\"expanded\":false,\"show_expanded_label\":false,\"is_low_level_fallback\":false,\"is_measurement\":false},\"104\":{\"name\":\"Sign\",\"inner_label\":\"\",\"qasm_name\":\"block_wrapper_5276fc27c48e4e7aa5cf39d74cbac03f__block_wrapper_343aa54b6e104e32ab54c43a749954f5__arithmetic__lessthan__sign\",\"details\":\"\",\"children\":[],\"children_ids\":[102,101,103],\"operation_data\":{\"approximated_depth\":1,\"width\":5,\"gate_count\":{}},\"operation_links\":{\"inputs\":[{\"label\":\"zero_is_less_than\",\"inner_label\":\"zero_sign\",\"qubits\":[7],\"type\":\"\",\"is_captured\":false},{\"label\":\"difference\",\"inner_label\":\"arg\",\"qubits\":[0,1,2,3],\"type\":\"\",\"is_captured\":false}],\"outputs\":[{\"label\":\"is_less_than\",\"inner_label\":\"sign\",\"qubits\":[7],\"type\":\"\",\"is_captured\":false},{\"label\":\"difference\",\"inner_label\":\"arg\",\"qubits\":[0,1,2,3],\"type\":\"\",\"is_captured\":false}]},\"control_qubits\":[],\"auxiliary_qubits\":[],\"target_qubits\":[0,1,2,3,7],\"operation_level\":\"ENGINE_CALL\",\"operation_type\":\"REGULAR\",\"gate\":\"\",\"is_daggered\":false,\"expanded\":false,\"show_expanded_label\":false,\"is_low_level_fallback\":false,\"is_measurement\":false},\"105\":{\"name\":\"h\",\"inner_label\":null,\"qasm_name\":\"h\",\"details\":\"\",\"children\":[],\"children_ids\":[],\"operation_data\":null,\"operation_links\":{\"inputs\":[{\"label\":\"\",\"inner_label\":null,\"qubits\":[3],\"type\":\"\",\"is_captured\":false}],\"outputs\":[{\"label\":\"\",\"inner_label\":null,\"qubits\":[3],\"type\":\"\",\"is_captured\":false}]},\"control_qubits\":[],\"auxiliary_qubits\":[],\"target_qubits\":[3],\"operation_level\":\"UNKNOWN\",\"operation_type\":\"ATOMIC\",\"gate\":\"H\",\"is_daggered\":false,\"expanded\":false,\"show_expanded_label\":false,\"is_low_level_fallback\":false,\"is_measurement\":false},\"106\":{\"name\":\"cp\",\"inner_label\":null,\"qasm_name\":\"cp\",\"details\":\"(π/2)\",\"children\":[],\"children_ids\":[],\"operation_data\":null,\"operation_links\":{\"inputs\":[{\"label\":\"\",\"inner_label\":null,\"qubits\":[3],\"type\":\"\",\"is_captured\":false},{\"label\":\"\",\"inner_label\":null,\"qubits\":[2],\"type\":\"\",\"is_captured\":false}],\"outputs\":[{\"label\":\"\",\"inner_label\":null,\"qubits\":[3],\"type\":\"\",\"is_captured\":false},{\"label\":\"\",\"inner_label\":null,\"qubits\":[2],\"type\":\"\",\"is_captured\":false}]},\"control_qubits\":[3],\"auxiliary_qubits\":[],\"target_qubits\":[2],\"operation_level\":\"UNKNOWN\",\"operation_type\":\"ATOMIC\",\"gate\":\"CPHASE\",\"is_daggered\":false,\"expanded\":false,\"show_expanded_label\":false,\"is_low_level_fallback\":false,\"is_measurement\":false},\"107\":{\"name\":\"cp\",\"inner_label\":null,\"qasm_name\":\"cp\",\"details\":\"(π/4)\",\"children\":[],\"children_ids\":[],\"operation_data\":null,\"operation_links\":{\"inputs\":[{\"label\":\"\",\"inner_label\":null,\"qubits\":[3],\"type\":\"\",\"is_captured\":false},{\"label\":\"\",\"inner_label\":null,\"qubits\":[1],\"type\":\"\",\"is_captured\":false}],\"outputs\":[{\"label\":\"\",\"inner_label\":null,\"qubits\":[3],\"type\":\"\",\"is_captured\":false},{\"label\":\"\",\"inner_label\":null,\"qubits\":[1],\"type\":\"\",\"is_captured\":false}]},\"control_qubits\":[3],\"auxiliary_qubits\":[],\"target_qubits\":[1],\"operation_level\":\"UNKNOWN\",\"operation_type\":\"ATOMIC\",\"gate\":\"CPHASE\",\"is_daggered\":false,\"expanded\":false,\"show_expanded_label\":false,\"is_low_level_fallback\":false,\"is_measurement\":false},\"108\":{\"name\":\"h\",\"inner_label\":null,\"qasm_name\":\"h\",\"details\":\"\",\"children\":[],\"children_ids\":[],\"operation_data\":null,\"operation_links\":{\"inputs\":[{\"label\":\"\",\"inner_label\":null,\"qubits\":[2],\"type\":\"\",\"is_captured\":false}],\"outputs\":[{\"label\":\"\",\"inner_label\":null,\"qubits\":[2],\"type\":\"\",\"is_captured\":false}]},\"control_qubits\":[],\"auxiliary_qubits\":[],\"target_qubits\":[2],\"operation_level\":\"UNKNOWN\",\"operation_type\":\"ATOMIC\",\"gate\":\"H\",\"is_daggered\":false,\"expanded\":false,\"show_expanded_label\":false,\"is_low_level_fallback\":false,\"is_measurement\":false},\"109\":{\"name\":\"cp\",\"inner_label\":null,\"qasm_name\":\"cp\",\"details\":\"(π/2)\",\"children\":[],\"children_ids\":[],\"operation_data\":null,\"operation_links\":{\"inputs\":[{\"label\":\"\",\"inner_label\":null,\"qubits\":[2],\"type\":\"\",\"is_captured\":false},{\"label\":\"\",\"inner_label\":null,\"qubits\":[1],\"type\":\"\",\"is_captured\":false}],\"outputs\":[{\"label\":\"\",\"inner_label\":null,\"qubits\":[2],\"type\":\"\",\"is_captured\":false},{\"label\":\"\",\"inner_label\":null,\"qubits\":[1],\"type\":\"\",\"is_captured\":false}]},\"control_qubits\":[2],\"auxiliary_qubits\":[],\"target_qubits\":[1],\"operation_level\":\"UNKNOWN\",\"operation_type\":\"ATOMIC\",\"gate\":\"CPHASE\",\"is_daggered\":false,\"expanded\":false,\"show_expanded_label\":false,\"is_low_level_fallback\":false,\"is_measurement\":false},\"110\":{\"name\":\"h\",\"inner_label\":null,\"qasm_name\":\"h\",\"details\":\"\",\"children\":[],\"children_ids\":[],\"operation_data\":null,\"operation_links\":{\"inputs\":[{\"label\":\"\",\"inner_label\":null,\"qubits\":[1],\"type\":\"\",\"is_captured\":false}],\"outputs\":[{\"label\":\"\",\"inner_label\":null,\"qubits\":[1],\"type\":\"\",\"is_captured\":false}]},\"control_qubits\":[],\"auxiliary_qubits\":[],\"target_qubits\":[1],\"operation_level\":\"UNKNOWN\",\"operation_type\":\"ATOMIC\",\"gate\":\"H\",\"is_daggered\":false,\"expanded\":false,\"show_expanded_label\":false,\"is_low_level_fallback\":false,\"is_measurement\":false},\"111\":{\"name\":\"qft3_dg\",\"inner_label\":null,\"qasm_name\":\"qft3_dg\",\"details\":\"\",\"children\":[],\"children_ids\":[105,106,107,108,109,110],\"operation_data\":null,\"operation_links\":{\"inputs\":[{\"label\":\"\",\"inner_label\":null,\"qubits\":[3],\"type\":\"\",\"is_captured\":false},{\"label\":\"\",\"inner_label\":null,\"qubits\":[2],\"type\":\"\",\"is_captured\":false},{\"label\":\"\",\"inner_label\":null,\"qubits\":[1],\"type\":\"\",\"is_captured\":false}],\"outputs\":[{\"label\":\"\",\"inner_label\":null,\"qubits\":[3],\"type\":\"\",\"is_captured\":false},{\"label\":\"\",\"inner_label\":null,\"qubits\":[2],\"type\":\"\",\"is_captured\":false},{\"label\":\"\",\"inner_label\":null,\"qubits\":[1],\"type\":\"\",\"is_captured\":false}]},\"control_qubits\":[],\"auxiliary_qubits\":[],\"target_qubits\":[1,2,3],\"operation_level\":\"ENGINE_CALL\",\"operation_type\":\"REGULAR\",\"gate\":\"\",\"is_daggered\":false,\"expanded\":false,\"show_expanded_label\":false,\"is_low_level_fallback\":false,\"is_measurement\":false},\"112\":{\"name\":\"p\",\"inner_label\":null,\"qasm_name\":\"p\",\"details\":\"(-π)\",\"children\":[],\"children_ids\":[],\"operation_data\":null,\"operation_links\":{\"inputs\":[{\"label\":\"\",\"inner_label\":null,\"qubits\":[1],\"type\":\"\",\"is_captured\":false}],\"outputs\":[{\"label\":\"\",\"inner_label\":null,\"qubits\":[1],\"type\":\"\",\"is_captured\":false}]},\"control_qubits\":[],\"auxiliary_qubits\":[],\"target_qubits\":[1],\"operation_level\":\"UNKNOWN\",\"operation_type\":\"ATOMIC\",\"gate\":\"PHASE\",\"is_daggered\":false,\"expanded\":false,\"show_expanded_label\":false,\"is_low_level_fallback\":false,\"is_measurement\":false},\"113\":{\"name\":\"p\",\"inner_label\":null,\"qasm_name\":\"p\",\"details\":\"(-3π/2)\",\"children\":[],\"children_ids\":[],\"operation_data\":null,\"operation_links\":{\"inputs\":[{\"label\":\"\",\"inner_label\":null,\"qubits\":[2],\"type\":\"\",\"is_captured\":false}],\"outputs\":[{\"label\":\"\",\"inner_label\":null,\"qubits\":[2],\"type\":\"\",\"is_captured\":false}]},\"control_qubits\":[],\"auxiliary_qubits\":[],\"target_qubits\":[2],\"operation_level\":\"UNKNOWN\",\"operation_type\":\"ATOMIC\",\"gate\":\"PHASE\",\"is_daggered\":false,\"expanded\":false,\"show_expanded_label\":false,\"is_low_level_fallback\":false,\"is_measurement\":false},\"114\":{\"name\":\"p\",\"inner_label\":null,\"qasm_name\":\"p\",\"details\":\"(-7π/4)\",\"children\":[],\"children_ids\":[],\"operation_data\":null,\"operation_links\":{\"inputs\":[{\"label\":\"\",\"inner_label\":null,\"qubits\":[3],\"type\":\"\",\"is_captured\":false}],\"outputs\":[{\"label\":\"\",\"inner_label\":null,\"qubits\":[3],\"type\":\"\",\"is_captured\":false}]},\"control_qubits\":[],\"auxiliary_qubits\":[],\"target_qubits\":[3],\"operation_level\":\"UNKNOWN\",\"operation_type\":\"ATOMIC\",\"gate\":\"PHASE\",\"is_daggered\":false,\"expanded\":false,\"show_expanded_label\":false,\"is_low_level_fallback\":false,\"is_measurement\":false},\"116\":{\"name\":\"cp\",\"inner_label\":null,\"qasm_name\":\"cp\",\"details\":\"(-π/2)\",\"children\":[],\"children_ids\":[],\"operation_data\":null,\"operation_links\":{\"inputs\":[{\"label\":\"\",\"inner_label\":null,\"qubits\":[2],\"type\":\"\",\"is_captured\":false},{\"label\":\"\",\"inner_label\":null,\"qubits\":[1],\"type\":\"\",\"is_captured\":false}],\"outputs\":[{\"label\":\"\",\"inner_label\":null,\"qubits\":[2],\"type\":\"\",\"is_captured\":false},{\"label\":\"\",\"inner_label\":null,\"qubits\":[1],\"type\":\"\",\"is_captured\":false}]},\"control_qubits\":[2],\"auxiliary_qubits\":[],\"target_qubits\":[1],\"operation_level\":\"UNKNOWN\",\"operation_type\":\"ATOMIC\",\"gate\":\"CPHASE\",\"is_daggered\":false,\"expanded\":false,\"show_expanded_label\":false,\"is_low_level_fallback\":false,\"is_measurement\":false},\"118\":{\"name\":\"cp\",\"inner_label\":null,\"qasm_name\":\"cp\",\"details\":\"(-π/4)\",\"children\":[],\"children_ids\":[],\"operation_data\":null,\"operation_links\":{\"inputs\":[{\"label\":\"\",\"inner_label\":null,\"qubits\":[3],\"type\":\"\",\"is_captured\":false},{\"label\":\"\",\"inner_label\":null,\"qubits\":[1],\"type\":\"\",\"is_captured\":false}],\"outputs\":[{\"label\":\"\",\"inner_label\":null,\"qubits\":[3],\"type\":\"\",\"is_captured\":false},{\"label\":\"\",\"inner_label\":null,\"qubits\":[1],\"type\":\"\",\"is_captured\":false}]},\"control_qubits\":[3],\"auxiliary_qubits\":[],\"target_qubits\":[1],\"operation_level\":\"UNKNOWN\",\"operation_type\":\"ATOMIC\",\"gate\":\"CPHASE\",\"is_daggered\":false,\"expanded\":false,\"show_expanded_label\":false,\"is_low_level_fallback\":false,\"is_measurement\":false},\"119\":{\"name\":\"cp\",\"inner_label\":null,\"qasm_name\":\"cp\",\"details\":\"(-π/2)\",\"children\":[],\"children_ids\":[],\"operation_data\":null,\"operation_links\":{\"inputs\":[{\"label\":\"\",\"inner_label\":null,\"qubits\":[3],\"type\":\"\",\"is_captured\":false},{\"label\":\"\",\"inner_label\":null,\"qubits\":[2],\"type\":\"\",\"is_captured\":false}],\"outputs\":[{\"label\":\"\",\"inner_label\":null,\"qubits\":[3],\"type\":\"\",\"is_captured\":false},{\"label\":\"\",\"inner_label\":null,\"qubits\":[2],\"type\":\"\",\"is_captured\":false}]},\"control_qubits\":[3],\"auxiliary_qubits\":[],\"target_qubits\":[2],\"operation_level\":\"UNKNOWN\",\"operation_type\":\"ATOMIC\",\"gate\":\"CPHASE\",\"is_daggered\":false,\"expanded\":false,\"show_expanded_label\":false,\"is_low_level_fallback\":false,\"is_measurement\":false},\"121\":{\"name\":\"qft3_dg_139639798373840\",\"inner_label\":null,\"qasm_name\":\"qft3_dg_139639798373840\",\"details\":\"\",\"children\":[],\"children_ids\":[110,116,108,118,119,105],\"operation_data\":null,\"operation_links\":{\"inputs\":[{\"label\":\"\",\"inner_label\":null,\"qubits\":[3],\"type\":\"\",\"is_captured\":false},{\"label\":\"\",\"inner_label\":null,\"qubits\":[2],\"type\":\"\",\"is_captured\":false},{\"label\":\"\",\"inner_label\":null,\"qubits\":[1],\"type\":\"\",\"is_captured\":false}],\"outputs\":[{\"label\":\"\",\"inner_label\":null,\"qubits\":[3],\"type\":\"\",\"is_captured\":false},{\"label\":\"\",\"inner_label\":null,\"qubits\":[2],\"type\":\"\",\"is_captured\":false},{\"label\":\"\",\"inner_label\":null,\"qubits\":[1],\"type\":\"\",\"is_captured\":false}]},\"control_qubits\":[],\"auxiliary_qubits\":[],\"target_qubits\":[1,2,3],\"operation_level\":\"ENGINE_CALL\",\"operation_type\":\"REGULAR\",\"gate\":\"\",\"is_daggered\":false,\"expanded\":false,\"show_expanded_label\":false,\"is_low_level_fallback\":false,\"is_measurement\":false},\"123\":{\"name\":\"Split\",\"inner_label\":null,\"qasm_name\":\"\",\"details\":\"\",\"children\":[],\"children_ids\":[],\"operation_data\":null,\"operation_links\":{\"inputs\":[{\"label\":\"sum\",\"inner_label\":\"sum\",\"qubits\":[0,1,2,3],\"type\":\"\",\"is_captured\":false}],\"outputs\":[{\"label\":\"\",\"inner_label\":null,\"qubits\":[3],\"type\":\"\",\"is_captured\":false},{\"label\":\"\",\"inner_label\":null,\"qubits\":[2],\"type\":\"\",\"is_captured\":false},{\"label\":\"\",\"inner_label\":null,\"qubits\":[1],\"type\":\"\",\"is_captured\":false},{\"label\":\"\",\"inner_label\":null,\"qubits\":[0],\"type\":\"\",\"is_captured\":false}]},\"control_qubits\":[],\"auxiliary_qubits\":[],\"target_qubits\":[0,1,2,3],\"operation_level\":\"UNKNOWN\",\"operation_type\":\"BIND\",\"gate\":\"\",\"is_daggered\":false,\"expanded\":false,\"show_expanded_label\":false,\"is_low_level_fallback\":false,\"is_measurement\":false},\"124\":{\"name\":\"Merge\",\"inner_label\":null,\"qasm_name\":\"\",\"details\":\"\",\"children\":[],\"children_ids\":[],\"operation_data\":null,\"operation_links\":{\"inputs\":[{\"label\":\"\",\"inner_label\":null,\"qubits\":[2],\"type\":\"\",\"is_captured\":false},{\"label\":\"\",\"inner_label\":null,\"qubits\":[1],\"type\":\"\",\"is_captured\":false},{\"label\":\"\",\"inner_label\":null,\"qubits\":[0],\"type\":\"\",\"is_captured\":false}],\"outputs\":[{\"label\":\"left_arg\",\"inner_label\":\"left_arg\",\"qubits\":[0,1,2],\"type\":\"\",\"is_captured\":false}]},\"control_qubits\":[],\"auxiliary_qubits\":[],\"target_qubits\":[0,1,2],\"operation_level\":\"UNKNOWN\",\"operation_type\":\"BIND\",\"gate\":\"\",\"is_daggered\":false,\"expanded\":false,\"show_expanded_label\":false,\"is_low_level_fallback\":false,\"is_measurement\":false},\"125\":{\"name\":\"free\",\"inner_label\":null,\"qasm_name\":\"\",\"details\":\"\",\"children\":[],\"children_ids\":[],\"operation_data\":null,\"operation_links\":{\"inputs\":[{\"label\":\"zero_sum\",\"inner_label\":\"zero_sum\",\"qubits\":[3],\"type\":\"\",\"is_captured\":false}],\"outputs\":[]},\"control_qubits\":[],\"auxiliary_qubits\":[],\"target_qubits\":[3],\"operation_level\":\"UNKNOWN\",\"operation_type\":\"FREE\",\"gate\":\"\",\"is_daggered\":false,\"expanded\":false,\"show_expanded_label\":false,\"is_low_level_fallback\":false,\"is_measurement\":false},\"126\":{\"name\":\"Adder_qinverse\",\"inner_label\":\"\",\"qasm_name\":\"block_wrapper_5276fc27c48e4e7aa5cf39d74cbac03f__block_wrapper_343aa54b6e104e32ab54c43a749954f5__arithmetic__lessthan__subtractor_1__adder_qinverse\",\"details\":\"\",\"children\":[],\"children_ids\":[123,111,112,113,114,121,11,124,125],\"operation_data\":{\"approximated_depth\":4,\"width\":4,\"gate_count\":{}},\"operation_links\":{\"inputs\":[{\"label\":\"difference\",\"inner_label\":\"sum\",\"qubits\":[0,1,2,3],\"type\":\"\",\"is_captured\":false}],\"outputs\":[{\"label\":\"left_arg\",\"inner_label\":\"left_arg\",\"qubits\":[0,1,2],\"type\":\"\",\"is_captured\":false}]},\"control_qubits\":[],\"auxiliary_qubits\":[],\"target_qubits\":[0,1,2,3],\"operation_level\":\"ENGINE_CALL\",\"operation_type\":\"REGULAR\",\"gate\":\"\",\"is_daggered\":false,\"expanded\":false,\"show_expanded_label\":false,\"is_low_level_fallback\":false,\"is_measurement\":false},\"127\":{\"name\":\"Subtractor_1\",\"inner_label\":\"\",\"qasm_name\":\"block_wrapper_5276fc27c48e4e7aa5cf39d74cbac03f__block_wrapper_343aa54b6e104e32ab54c43a749954f5__arithmetic__lessthan__subtractor_1\",\"details\":\"\",\"children\":[],\"children_ids\":[126],\"operation_data\":{\"approximated_depth\":null,\"width\":4,\"gate_count\":{}},\"operation_links\":{\"inputs\":[{\"label\":\"difference\",\"inner_label\":\"difference\",\"qubits\":[0,1,2,3],\"type\":\"\",\"is_captured\":false}],\"outputs\":[{\"label\":\"left_arg\",\"inner_label\":\"left_arg\",\"qubits\":[0,1,2],\"type\":\"\",\"is_captured\":false}]},\"control_qubits\":[],\"auxiliary_qubits\":[],\"target_qubits\":[0,1,2,3],\"operation_level\":\"ENGINE_CALL\",\"operation_type\":\"REGULAR\",\"gate\":\"\",\"is_daggered\":false,\"expanded\":false,\"show_expanded_label\":false,\"is_low_level_fallback\":false,\"is_measurement\":false},\"128\":{\"name\":\"allocate\",\"inner_label\":null,\"qasm_name\":\"\",\"details\":\"\",\"children\":[],\"children_ids\":[],\"operation_data\":null,\"operation_links\":{\"inputs\":[],\"outputs\":[{\"label\":\"zero_is_less_than\",\"inner_label\":\"zero_sign\",\"qubits\":[7],\"type\":\"\",\"is_captured\":false}]},\"control_qubits\":[],\"auxiliary_qubits\":[],\"target_qubits\":[7],\"operation_level\":\"UNKNOWN\",\"operation_type\":\"ALLOCATE\",\"gate\":\"\",\"is_daggered\":false,\"expanded\":false,\"show_expanded_label\":false,\"is_low_level_fallback\":false,\"is_measurement\":false},\"129\":{\"name\":\"LessThan\",\"inner_label\":\"\",\"qasm_name\":\"block_wrapper_5276fc27c48e4e7aa5cf39d74cbac03f__block_wrapper_343aa54b6e104e32ab54c43a749954f5__arithmetic__lessthan\",\"details\":\"\",\"children\":[],\"children_ids\":[128,100,104,127],\"operation_data\":{\"approximated_depth\":null,\"width\":8,\"gate_count\":{}},\"operation_links\":{\"inputs\":[{\"label\":\"x\",\"inner_label\":\"left_arg\",\"qubits\":[0,1,2],\"type\":\"\",\"is_captured\":false}],\"outputs\":[{\"label\":\"expression_result\",\"inner_label\":\"is_less_than\",\"qubits\":[7],\"type\":\"\",\"is_captured\":false},{\"label\":\"x\",\"inner_label\":\"left_arg\",\"qubits\":[0,1,2],\"type\":\"\",\"is_captured\":false}]},\"control_qubits\":[],\"auxiliary_qubits\":[3,4,5,6],\"target_qubits\":[0,1,2,3,4,5,6,7],\"operation_level\":\"ENGINE_CALL\",\"operation_type\":\"REGULAR\",\"gate\":\"\",\"is_daggered\":false,\"expanded\":false,\"show_expanded_label\":false,\"is_low_level_fallback\":false,\"is_measurement\":false},\"130\":{\"name\":\"assign\",\"inner_label\":\"\",\"qasm_name\":\"block_wrapper_5276fc27c48e4e7aa5cf39d74cbac03f__block_wrapper_343aa54b6e104e32ab54c43a749954f5__arithmetic\",\"details\":\"x < 0.5\",\"children\":[],\"children_ids\":[129],\"operation_data\":{\"approximated_depth\":null,\"width\":8,\"gate_count\":{}},\"operation_links\":{\"inputs\":[{\"label\":\"x\",\"inner_label\":\"x\",\"qubits\":[0,1,2],\"type\":\"\",\"is_captured\":false}],\"outputs\":[{\"label\":\"_tmp_0\",\"inner_label\":\"expression_result\",\"qubits\":[7],\"type\":\"\",\"is_captured\":false},{\"label\":\"x\",\"inner_label\":\"x\",\"qubits\":[0,1,2],\"type\":\"\",\"is_captured\":false}]},\"control_qubits\":[],\"auxiliary_qubits\":[3,4,5,6],\"target_qubits\":[0,1,2,3,4,5,6,7],\"operation_level\":\"QMOD_STATEMENT\",\"operation_type\":\"REGULAR\",\"gate\":\"\",\"is_daggered\":false,\"expanded\":false,\"show_expanded_label\":false,\"is_low_level_fallback\":false,\"is_measurement\":false},\"131\":{\"name\":\"within\",\"inner_label\":\"\",\"qasm_name\":\"block_wrapper_5276fc27c48e4e7aa5cf39d74cbac03f__block_wrapper_343aa54b6e104e32ab54c43a749954f5\",\"details\":\"\",\"children\":[],\"children_ids\":[130],\"operation_data\":{\"approximated_depth\":null,\"width\":8,\"gate_count\":{}},\"operation_links\":{\"inputs\":[{\"label\":\"x\",\"inner_label\":\"x\",\"qubits\":[0,1,2],\"type\":\"\",\"is_captured\":false}],\"outputs\":[{\"label\":\"_tmp\",\"inner_label\":\"_tmp_0\",\"qubits\":[7],\"type\":\"\",\"is_captured\":false},{\"label\":\"x\",\"inner_label\":\"x\",\"qubits\":[0,1,2],\"type\":\"\",\"is_captured\":false}]},\"control_qubits\":[],\"auxiliary_qubits\":[3,4,5,6],\"target_qubits\":[0,1,2,3,4,5,6,7],\"operation_level\":\"QMOD_STATEMENT\",\"operation_type\":\"INVISIBLE\",\"gate\":\"\",\"is_daggered\":false,\"expanded\":true,\"show_expanded_label\":true,\"is_low_level_fallback\":false,\"is_measurement\":false},\"132\":{\"name\":\"control [0]\",\"inner_label\":\"\",\"qasm_name\":\"main__block_wrapper_5276fc27c48e4e7aa5cf39d74cbac03f_part_0\",\"details\":\"x < 0.5\",\"children\":[],\"children_ids\":[131],\"operation_data\":{\"approximated_depth\":null,\"width\":8,\"gate_count\":{}},\"operation_links\":{\"inputs\":[{\"label\":\"x\",\"inner_label\":\"x\",\"qubits\":[0,1,2],\"type\":\"\",\"is_captured\":false}],\"outputs\":[{\"label\":\"_tmp\",\"inner_label\":\"_tmp\",\"qubits\":[7],\"type\":\"\",\"is_captured\":false},{\"label\":\"x\",\"inner_label\":\"x\",\"qubits\":[0,1,2],\"type\":\"\",\"is_captured\":false}]},\"control_qubits\":[],\"auxiliary_qubits\":[],\"target_qubits\":[0,1,2,3,4,5,6,7],\"operation_level\":\"QMOD_STATEMENT\",\"operation_type\":\"REGULAR\",\"gate\":\"\",\"is_daggered\":false,\"expanded\":false,\"show_expanded_label\":false,\"is_low_level_fallback\":false,\"is_measurement\":false},\"133\":{\"name\":\"allocate\",\"inner_label\":null,\"qasm_name\":\"\",\"details\":\"\",\"children\":[],\"children_ids\":[],\"operation_data\":null,\"operation_links\":{\"inputs\":[],\"outputs\":[{\"label\":\"flag\",\"inner_label\":\"ARG\",\"qubits\":[3],\"type\":\"\",\"is_captured\":false}]},\"control_qubits\":[],\"auxiliary_qubits\":[],\"target_qubits\":[3],\"operation_level\":\"UNKNOWN\",\"operation_type\":\"ALLOCATE\",\"gate\":\"\",\"is_daggered\":false,\"expanded\":false,\"show_expanded_label\":false,\"is_low_level_fallback\":false,\"is_measurement\":false},\"134\":{\"name\":\"cx\",\"inner_label\":null,\"qasm_name\":\"cx\",\"details\":\"\",\"children\":[],\"children_ids\":[],\"operation_data\":null,\"operation_links\":{\"inputs\":[{\"label\":\"\",\"inner_label\":null,\"qubits\":[3],\"type\":\"\",\"is_captured\":false},{\"label\":\"\",\"inner_label\":null,\"qubits\":[7],\"type\":\"\",\"is_captured\":false}],\"outputs\":[{\"label\":\"\",\"inner_label\":null,\"qubits\":[3],\"type\":\"\",\"is_captured\":false},{\"label\":\"\",\"inner_label\":null,\"qubits\":[7],\"type\":\"\",\"is_captured\":false}]},\"control_qubits\":[7],\"auxiliary_qubits\":[],\"target_qubits\":[3],\"operation_level\":\"UNKNOWN\",\"operation_type\":\"ATOMIC\",\"gate\":\"CX\",\"is_daggered\":false,\"expanded\":false,\"show_expanded_label\":false,\"is_low_level_fallback\":false,\"is_measurement\":false},\"135\":{\"name\":\"X\",\"inner_label\":\"\",\"qasm_name\":\"mcx_hybrid_gray_code_maslov15\",\"details\":\"\",\"children\":[],\"children_ids\":[134],\"operation_data\":{\"approximated_depth\":1,\"width\":2,\"gate_count\":{}},\"operation_links\":{\"inputs\":[{\"label\":\"flag\",\"inner_label\":\"TARGET\",\"qubits\":[3],\"type\":\"\",\"is_captured\":false},{\"label\":\"_tmp_0\",\"inner_label\":\"_tmp_0\",\"qubits\":[7],\"type\":\"\",\"is_captured\":false}],\"outputs\":[{\"label\":\"flag\",\"inner_label\":\"TARGET\",\"qubits\":[3],\"type\":\"\",\"is_captured\":false},{\"label\":\"_tmp_0\",\"inner_label\":\"_tmp_0\",\"qubits\":[7],\"type\":\"\",\"is_captured\":false}]},\"control_qubits\":[7],\"auxiliary_qubits\":[],\"target_qubits\":[7,3],\"operation_level\":\"QMOD_CALL\",\"operation_type\":\"REGULAR\",\"gate\":\"\",\"is_daggered\":false,\"expanded\":false,\"show_expanded_label\":false,\"is_low_level_fallback\":false,\"is_measurement\":false},\"136\":{\"name\":\"control\",\"inner_label\":\"\",\"qasm_name\":\"block_wrapper_5276fc27c48e4e7aa5cf39d74cbac03f__block_wrapper_cbef200052d54a879ff278046b565dd3__block_wrapper_ae6331ec4ada49e7b1c2c4ee91323681\",\"details\":\"x < 0.5\",\"children\":[],\"children_ids\":[135],\"operation_data\":{\"approximated_depth\":null,\"width\":2,\"gate_count\":{}},\"operation_links\":{\"inputs\":[{\"label\":\"flag\",\"inner_label\":\"flag\",\"qubits\":[3],\"type\":\"\",\"is_captured\":false},{\"label\":\"_tmp_0\",\"inner_label\":\"_tmp_0\",\"qubits\":[7],\"type\":\"\",\"is_captured\":false}],\"outputs\":[{\"label\":\"flag\",\"inner_label\":\"flag\",\"qubits\":[3],\"type\":\"\",\"is_captured\":false},{\"label\":\"_tmp_0\",\"inner_label\":\"_tmp_0\",\"qubits\":[7],\"type\":\"\",\"is_captured\":false}]},\"control_qubits\":[],\"auxiliary_qubits\":[],\"target_qubits\":[3,7],\"operation_level\":\"QMOD_STATEMENT\",\"operation_type\":\"REGULAR\",\"gate\":\"\",\"is_daggered\":false,\"expanded\":false,\"show_expanded_label\":false,\"is_low_level_fallback\":false,\"is_measurement\":false},\"137\":{\"name\":\"apply\",\"inner_label\":\"\",\"qasm_name\":\"block_wrapper_5276fc27c48e4e7aa5cf39d74cbac03f__block_wrapper_cbef200052d54a879ff278046b565dd3\",\"details\":\"\",\"children\":[],\"children_ids\":[136],\"operation_data\":{\"approximated_depth\":null,\"width\":2,\"gate_count\":{}},\"operation_links\":{\"inputs\":[{\"label\":\"_tmp\",\"inner_label\":\"_tmp_0\",\"qubits\":[7],\"type\":\"\",\"is_captured\":false},{\"label\":\"flag\",\"inner_label\":\"flag\",\"qubits\":[3],\"type\":\"\",\"is_captured\":false}],\"outputs\":[{\"label\":\"_tmp\",\"inner_label\":\"_tmp_0\",\"qubits\":[7],\"type\":\"\",\"is_captured\":false},{\"label\":\"flag\",\"inner_label\":\"flag\",\"qubits\":[3],\"type\":\"\",\"is_captured\":false}]},\"control_qubits\":[],\"auxiliary_qubits\":[],\"target_qubits\":[3,7],\"operation_level\":\"QMOD_STATEMENT\",\"operation_type\":\"INVISIBLE\",\"gate\":\"\",\"is_daggered\":false,\"expanded\":true,\"show_expanded_label\":true,\"is_low_level_fallback\":false,\"is_measurement\":false},\"138\":{\"name\":\"cx\",\"inner_label\":null,\"qasm_name\":\"cx\",\"details\":\"\",\"children\":[],\"children_ids\":[],\"operation_data\":null,\"operation_links\":{\"inputs\":[{\"label\":\"\",\"inner_label\":null,\"qubits\":[2],\"type\":\"\",\"is_captured\":false},{\"label\":\"\",\"inner_label\":null,\"qubits\":[8],\"type\":\"\",\"is_captured\":false}],\"outputs\":[{\"label\":\"\",\"inner_label\":null,\"qubits\":[2],\"type\":\"\",\"is_captured\":false},{\"label\":\"\",\"inner_label\":null,\"qubits\":[8],\"type\":\"\",\"is_captured\":false}]},\"control_qubits\":[2],\"auxiliary_qubits\":[],\"target_qubits\":[8],\"operation_level\":\"UNKNOWN\",\"operation_type\":\"ATOMIC\",\"gate\":\"CX\",\"is_daggered\":false,\"expanded\":false,\"show_expanded_label\":false,\"is_low_level_fallback\":false,\"is_measurement\":false},\"139\":{\"name\":\"x\",\"inner_label\":null,\"qasm_name\":\"x\",\"details\":\"\",\"children\":[],\"children_ids\":[],\"operation_data\":null,\"operation_links\":{\"inputs\":[{\"label\":\"\",\"inner_label\":null,\"qubits\":[9],\"type\":\"\",\"is_captured\":false}],\"outputs\":[{\"label\":\"\",\"inner_label\":null,\"qubits\":[9],\"type\":\"\",\"is_captured\":false}]},\"control_qubits\":[],\"auxiliary_qubits\":[],\"target_qubits\":[9],\"operation_level\":\"UNKNOWN\",\"operation_type\":\"ATOMIC\",\"gate\":\"X\",\"is_daggered\":false,\"expanded\":false,\"show_expanded_label\":false,\"is_low_level_fallback\":false,\"is_measurement\":false},\"142\":{\"name\":\"cx\",\"inner_label\":null,\"qasm_name\":\"cx\",\"details\":\"\",\"children\":[],\"children_ids\":[],\"operation_data\":null,\"operation_links\":{\"inputs\":[{\"label\":\"\",\"inner_label\":null,\"qubits\":[1],\"type\":\"\",\"is_captured\":false},{\"label\":\"\",\"inner_label\":null,\"qubits\":[9],\"type\":\"\",\"is_captured\":false}],\"outputs\":[{\"label\":\"\",\"inner_label\":null,\"qubits\":[1],\"type\":\"\",\"is_captured\":false},{\"label\":\"\",\"inner_label\":null,\"qubits\":[9],\"type\":\"\",\"is_captured\":false}]},\"control_qubits\":[9],\"auxiliary_qubits\":[],\"target_qubits\":[1],\"operation_level\":\"UNKNOWN\",\"operation_type\":\"ATOMIC\",\"gate\":\"CX\",\"is_daggered\":false,\"expanded\":false,\"show_expanded_label\":false,\"is_low_level_fallback\":false,\"is_measurement\":false},\"143\":{\"name\":\"cx\",\"inner_label\":null,\"qasm_name\":\"cx\",\"details\":\"\",\"children\":[],\"children_ids\":[],\"operation_data\":null,\"operation_links\":{\"inputs\":[{\"label\":\"\",\"inner_label\":null,\"qubits\":[9],\"type\":\"\",\"is_captured\":false},{\"label\":\"\",\"inner_label\":null,\"qubits\":[6],\"type\":\"\",\"is_captured\":false}],\"outputs\":[{\"label\":\"\",\"inner_label\":null,\"qubits\":[9],\"type\":\"\",\"is_captured\":false},{\"label\":\"\",\"inner_label\":null,\"qubits\":[6],\"type\":\"\",\"is_captured\":false}]},\"control_qubits\":[9],\"auxiliary_qubits\":[],\"target_qubits\":[6],\"operation_level\":\"UNKNOWN\",\"operation_type\":\"ATOMIC\",\"gate\":\"CX\",\"is_daggered\":false,\"expanded\":false,\"show_expanded_label\":false,\"is_low_level_fallback\":false,\"is_measurement\":false},\"144\":{\"name\":\"h\",\"inner_label\":null,\"qasm_name\":\"h\",\"details\":\"\",\"children\":[],\"children_ids\":[],\"operation_data\":null,\"operation_links\":{\"inputs\":[{\"label\":\"\",\"inner_label\":null,\"qubits\":[9],\"type\":\"\",\"is_captured\":false}],\"outputs\":[{\"label\":\"\",\"inner_label\":null,\"qubits\":[9],\"type\":\"\",\"is_captured\":false}]},\"control_qubits\":[],\"auxiliary_qubits\":[],\"target_qubits\":[9],\"operation_level\":\"UNKNOWN\",\"operation_type\":\"ATOMIC\",\"gate\":\"H\",\"is_daggered\":false,\"expanded\":false,\"show_expanded_label\":false,\"is_low_level_fallback\":false,\"is_measurement\":false},\"145\":{\"name\":\"cx\",\"inner_label\":null,\"qasm_name\":\"cx\",\"details\":\"\",\"children\":[],\"children_ids\":[],\"operation_data\":null,\"operation_links\":{\"inputs\":[{\"label\":\"\",\"inner_label\":null,\"qubits\":[1],\"type\":\"\",\"is_captured\":false},{\"label\":\"\",\"inner_label\":null,\"qubits\":[9],\"type\":\"\",\"is_captured\":false}],\"outputs\":[{\"label\":\"\",\"inner_label\":null,\"qubits\":[1],\"type\":\"\",\"is_captured\":false},{\"label\":\"\",\"inner_label\":null,\"qubits\":[9],\"type\":\"\",\"is_captured\":false}]},\"control_qubits\":[1],\"auxiliary_qubits\":[],\"target_qubits\":[9],\"operation_level\":\"UNKNOWN\",\"operation_type\":\"ATOMIC\",\"gate\":\"CX\",\"is_daggered\":false,\"expanded\":false,\"show_expanded_label\":false,\"is_low_level_fallback\":false,\"is_measurement\":false},\"146\":{\"name\":\"tdg\",\"inner_label\":null,\"qasm_name\":\"tdg\",\"details\":\"\",\"children\":[],\"children_ids\":[],\"operation_data\":null,\"operation_links\":{\"inputs\":[{\"label\":\"\",\"inner_label\":null,\"qubits\":[9],\"type\":\"\",\"is_captured\":false}],\"outputs\":[{\"label\":\"\",\"inner_label\":null,\"qubits\":[9],\"type\":\"\",\"is_captured\":false}]},\"control_qubits\":[],\"auxiliary_qubits\":[],\"target_qubits\":[9],\"operation_level\":\"UNKNOWN\",\"operation_type\":\"ATOMIC\",\"gate\":\"TDG\",\"is_daggered\":false,\"expanded\":false,\"show_expanded_label\":false,\"is_low_level_fallback\":false,\"is_measurement\":false},\"147\":{\"name\":\"cx\",\"inner_label\":null,\"qasm_name\":\"cx\",\"details\":\"\",\"children\":[],\"children_ids\":[],\"operation_data\":null,\"operation_links\":{\"inputs\":[{\"label\":\"\",\"inner_label\":null,\"qubits\":[9],\"type\":\"\",\"is_captured\":false},{\"label\":\"\",\"inner_label\":null,\"qubits\":[6],\"type\":\"\",\"is_captured\":false}],\"outputs\":[{\"label\":\"\",\"inner_label\":null,\"qubits\":[9],\"type\":\"\",\"is_captured\":false},{\"label\":\"\",\"inner_label\":null,\"qubits\":[6],\"type\":\"\",\"is_captured\":false}]},\"control_qubits\":[6],\"auxiliary_qubits\":[],\"target_qubits\":[9],\"operation_level\":\"UNKNOWN\",\"operation_type\":\"ATOMIC\",\"gate\":\"CX\",\"is_daggered\":false,\"expanded\":false,\"show_expanded_label\":false,\"is_low_level_fallback\":false,\"is_measurement\":false},\"148\":{\"name\":\"t\",\"inner_label\":null,\"qasm_name\":\"t\",\"details\":\"\",\"children\":[],\"children_ids\":[],\"operation_data\":null,\"operation_links\":{\"inputs\":[{\"label\":\"\",\"inner_label\":null,\"qubits\":[9],\"type\":\"\",\"is_captured\":false}],\"outputs\":[{\"label\":\"\",\"inner_label\":null,\"qubits\":[9],\"type\":\"\",\"is_captured\":false}]},\"control_qubits\":[],\"auxiliary_qubits\":[],\"target_qubits\":[9],\"operation_level\":\"UNKNOWN\",\"operation_type\":\"ATOMIC\",\"gate\":\"T\",\"is_daggered\":false,\"expanded\":false,\"show_expanded_label\":false,\"is_low_level_fallback\":false,\"is_measurement\":false},\"155\":{\"name\":\"cx\",\"inner_label\":null,\"qasm_name\":\"cx\",\"details\":\"\",\"children\":[],\"children_ids\":[],\"operation_data\":null,\"operation_links\":{\"inputs\":[{\"label\":\"\",\"inner_label\":null,\"qubits\":[1],\"type\":\"\",\"is_captured\":false},{\"label\":\"\",\"inner_label\":null,\"qubits\":[6],\"type\":\"\",\"is_captured\":false}],\"outputs\":[{\"label\":\"\",\"inner_label\":null,\"qubits\":[1],\"type\":\"\",\"is_captured\":false},{\"label\":\"\",\"inner_label\":null,\"qubits\":[6],\"type\":\"\",\"is_captured\":false}]},\"control_qubits\":[6],\"auxiliary_qubits\":[],\"target_qubits\":[1],\"operation_level\":\"UNKNOWN\",\"operation_type\":\"ATOMIC\",\"gate\":\"CX\",\"is_daggered\":false,\"expanded\":false,\"show_expanded_label\":false,\"is_low_level_fallback\":false,\"is_measurement\":false},\"156\":{\"name\":\"t\",\"inner_label\":null,\"qasm_name\":\"t\",\"details\":\"\",\"children\":[],\"children_ids\":[],\"operation_data\":null,\"operation_links\":{\"inputs\":[{\"label\":\"\",\"inner_label\":null,\"qubits\":[6],\"type\":\"\",\"is_captured\":false}],\"outputs\":[{\"label\":\"\",\"inner_label\":null,\"qubits\":[6],\"type\":\"\",\"is_captured\":false}]},\"control_qubits\":[],\"auxiliary_qubits\":[],\"target_qubits\":[6],\"operation_level\":\"UNKNOWN\",\"operation_type\":\"ATOMIC\",\"gate\":\"T\",\"is_daggered\":false,\"expanded\":false,\"show_expanded_label\":false,\"is_low_level_fallback\":false,\"is_measurement\":false},\"159\":{\"name\":\"ccx\",\"inner_label\":null,\"qasm_name\":\"ccx\",\"details\":\"\",\"children\":[],\"children_ids\":[144,145,146,147,148,145,146,147,25,148,144,155,156,30,155],\"operation_data\":null,\"operation_links\":{\"inputs\":[{\"label\":\"\",\"inner_label\":null,\"qubits\":[1],\"type\":\"\",\"is_captured\":false},{\"label\":\"\",\"inner_label\":null,\"qubits\":[9],\"type\":\"\",\"is_captured\":false},{\"label\":\"\",\"inner_label\":null,\"qubits\":[6],\"type\":\"\",\"is_captured\":false}],\"outputs\":[{\"label\":\"\",\"inner_label\":null,\"qubits\":[1],\"type\":\"\",\"is_captured\":false},{\"label\":\"\",\"inner_label\":null,\"qubits\":[9],\"type\":\"\",\"is_captured\":false},{\"label\":\"\",\"inner_label\":null,\"qubits\":[6],\"type\":\"\",\"is_captured\":false}]},\"control_qubits\":[],\"auxiliary_qubits\":[],\"target_qubits\":[9],\"operation_level\":\"ENGINE_CALL\",\"operation_type\":\"REGULAR\",\"gate\":\"\",\"is_daggered\":false,\"expanded\":false,\"show_expanded_label\":false,\"is_low_level_fallback\":false,\"is_measurement\":false},\"161\":{\"name\":\"cx\",\"inner_label\":null,\"qasm_name\":\"cx\",\"details\":\"\",\"children\":[],\"children_ids\":[],\"operation_data\":null,\"operation_links\":{\"inputs\":[{\"label\":\"\",\"inner_label\":null,\"qubits\":[4],\"type\":\"\",\"is_captured\":false},{\"label\":\"\",\"inner_label\":null,\"qubits\":[9],\"type\":\"\",\"is_captured\":false}],\"outputs\":[{\"label\":\"\",\"inner_label\":null,\"qubits\":[4],\"type\":\"\",\"is_captured\":false},{\"label\":\"\",\"inner_label\":null,\"qubits\":[9],\"type\":\"\",\"is_captured\":false}]},\"control_qubits\":[4],\"auxiliary_qubits\":[],\"target_qubits\":[9],\"operation_level\":\"UNKNOWN\",\"operation_type\":\"ATOMIC\",\"gate\":\"CX\",\"is_daggered\":false,\"expanded\":false,\"show_expanded_label\":false,\"is_low_level_fallback\":false,\"is_measurement\":false},\"163\":{\"name\":\"cx\",\"inner_label\":null,\"qasm_name\":\"cx\",\"details\":\"\",\"children\":[],\"children_ids\":[],\"operation_data\":null,\"operation_links\":{\"inputs\":[{\"label\":\"\",\"inner_label\":null,\"qubits\":[4],\"type\":\"\",\"is_captured\":false},{\"label\":\"\",\"inner_label\":null,\"qubits\":[2],\"type\":\"\",\"is_captured\":false}],\"outputs\":[{\"label\":\"\",\"inner_label\":null,\"qubits\":[4],\"type\":\"\",\"is_captured\":false},{\"label\":\"\",\"inner_label\":null,\"qubits\":[2],\"type\":\"\",\"is_captured\":false}]},\"control_qubits\":[2],\"auxiliary_qubits\":[],\"target_qubits\":[4],\"operation_level\":\"UNKNOWN\",\"operation_type\":\"ATOMIC\",\"gate\":\"CX\",\"is_daggered\":false,\"expanded\":false,\"show_expanded_label\":false,\"is_low_level_fallback\":false,\"is_measurement\":false},\"165\":{\"name\":\"cx\",\"inner_label\":null,\"qasm_name\":\"cx\",\"details\":\"\",\"children\":[],\"children_ids\":[],\"operation_data\":null,\"operation_links\":{\"inputs\":[{\"label\":\"\",\"inner_label\":null,\"qubits\":[4],\"type\":\"\",\"is_captured\":false},{\"label\":\"\",\"inner_label\":null,\"qubits\":[9],\"type\":\"\",\"is_captured\":false}],\"outputs\":[{\"label\":\"\",\"inner_label\":null,\"qubits\":[4],\"type\":\"\",\"is_captured\":false},{\"label\":\"\",\"inner_label\":null,\"qubits\":[9],\"type\":\"\",\"is_captured\":false}]},\"control_qubits\":[9],\"auxiliary_qubits\":[],\"target_qubits\":[4],\"operation_level\":\"UNKNOWN\",\"operation_type\":\"ATOMIC\",\"gate\":\"CX\",\"is_daggered\":false,\"expanded\":false,\"show_expanded_label\":false,\"is_low_level_fallback\":false,\"is_measurement\":false},\"173\":{\"name\":\"cx\",\"inner_label\":null,\"qasm_name\":\"cx\",\"details\":\"\",\"children\":[],\"children_ids\":[],\"operation_data\":null,\"operation_links\":{\"inputs\":[{\"label\":\"\",\"inner_label\":null,\"qubits\":[2],\"type\":\"\",\"is_captured\":false},{\"label\":\"\",\"inner_label\":null,\"qubits\":[9],\"type\":\"\",\"is_captured\":false}],\"outputs\":[{\"label\":\"\",\"inner_label\":null,\"qubits\":[2],\"type\":\"\",\"is_captured\":false},{\"label\":\"\",\"inner_label\":null,\"qubits\":[9],\"type\":\"\",\"is_captured\":false}]},\"control_qubits\":[9],\"auxiliary_qubits\":[],\"target_qubits\":[2],\"operation_level\":\"UNKNOWN\",\"operation_type\":\"ATOMIC\",\"gate\":\"CX\",\"is_daggered\":false,\"expanded\":false,\"show_expanded_label\":false,\"is_low_level_fallback\":false,\"is_measurement\":false},\"177\":{\"name\":\"ccx\",\"inner_label\":null,\"qasm_name\":\"ccx\",\"details\":\"\",\"children\":[],\"children_ids\":[17,163,19,165,21,163,19,165,43,21,17,173,148,48,173],\"operation_data\":null,\"operation_links\":{\"inputs\":[{\"label\":\"\",\"inner_label\":null,\"qubits\":[4],\"type\":\"\",\"is_captured\":false},{\"label\":\"\",\"inner_label\":null,\"qubits\":[2],\"type\":\"\",\"is_captured\":false},{\"label\":\"\",\"inner_label\":null,\"qubits\":[9],\"type\":\"\",\"is_captured\":false}],\"outputs\":[{\"label\":\"\",\"inner_label\":null,\"qubits\":[4],\"type\":\"\",\"is_captured\":false},{\"label\":\"\",\"inner_label\":null,\"qubits\":[2],\"type\":\"\",\"is_captured\":false},{\"label\":\"\",\"inner_label\":null,\"qubits\":[9],\"type\":\"\",\"is_captured\":false}]},\"control_qubits\":[],\"auxiliary_qubits\":[],\"target_qubits\":[4],\"operation_level\":\"ENGINE_CALL\",\"operation_type\":\"REGULAR\",\"gate\":\"\",\"is_daggered\":false,\"expanded\":false,\"show_expanded_label\":false,\"is_low_level_fallback\":false,\"is_measurement\":false},\"178\":{\"name\":\"cx\",\"inner_label\":null,\"qasm_name\":\"cx\",\"details\":\"\",\"children\":[],\"children_ids\":[],\"operation_data\":null,\"operation_links\":{\"inputs\":[{\"label\":\"\",\"inner_label\":null,\"qubits\":[8],\"type\":\"\",\"is_captured\":false},{\"label\":\"\",\"inner_label\":null,\"qubits\":[5],\"type\":\"\",\"is_captured\":false}],\"outputs\":[{\"label\":\"\",\"inner_label\":null,\"qubits\":[8],\"type\":\"\",\"is_captured\":false},{\"label\":\"\",\"inner_label\":null,\"qubits\":[5],\"type\":\"\",\"is_captured\":false}]},\"control_qubits\":[5],\"auxiliary_qubits\":[],\"target_qubits\":[8],\"operation_level\":\"UNKNOWN\",\"operation_type\":\"ATOMIC\",\"gate\":\"CX\",\"is_daggered\":false,\"expanded\":false,\"show_expanded_label\":false,\"is_low_level_fallback\":false,\"is_measurement\":false},\"179\":{\"name\":\"cx\",\"inner_label\":null,\"qasm_name\":\"cx\",\"details\":\"\",\"children\":[],\"children_ids\":[],\"operation_data\":null,\"operation_links\":{\"inputs\":[{\"label\":\"\",\"inner_label\":null,\"qubits\":[4],\"type\":\"\",\"is_captured\":false},{\"label\":\"\",\"inner_label\":null,\"qubits\":[8],\"type\":\"\",\"is_captured\":false}],\"outputs\":[{\"label\":\"\",\"inner_label\":null,\"qubits\":[4],\"type\":\"\",\"is_captured\":false},{\"label\":\"\",\"inner_label\":null,\"qubits\":[8],\"type\":\"\",\"is_captured\":false}]},\"control_qubits\":[4],\"auxiliary_qubits\":[],\"target_qubits\":[8],\"operation_level\":\"UNKNOWN\",\"operation_type\":\"ATOMIC\",\"gate\":\"CX\",\"is_daggered\":false,\"expanded\":false,\"show_expanded_label\":false,\"is_low_level_fallback\":false,\"is_measurement\":false},\"220\":{\"name\":\"Split\",\"inner_label\":null,\"qasm_name\":\"\",\"details\":\"\",\"children\":[],\"children_ids\":[],\"operation_data\":null,\"operation_links\":{\"inputs\":[{\"label\":\"aux\",\"inner_label\":\"aux\",\"qubits\":[9,4,5,6],\"type\":\"\",\"is_captured\":false}],\"outputs\":[{\"label\":\"\",\"inner_label\":null,\"qubits\":[4],\"type\":\"\",\"is_captured\":false},{\"label\":\"\",\"inner_label\":null,\"qubits\":[9],\"type\":\"\",\"is_captured\":false},{\"label\":\"\",\"inner_label\":null,\"qubits\":[6],\"type\":\"\",\"is_captured\":false},{\"label\":\"\",\"inner_label\":null,\"qubits\":[5],\"type\":\"\",\"is_captured\":false}]},\"control_qubits\":[],\"auxiliary_qubits\":[],\"target_qubits\":[9,4,5,6],\"operation_level\":\"UNKNOWN\",\"operation_type\":\"BIND\",\"gate\":\"\",\"is_daggered\":false,\"expanded\":false,\"show_expanded_label\":false,\"is_low_level_fallback\":false,\"is_measurement\":false},\"221\":{\"name\":\"Merge\",\"inner_label\":null,\"qasm_name\":\"\",\"details\":\"\",\"children\":[],\"children_ids\":[],\"operation_data\":null,\"operation_links\":{\"inputs\":[{\"label\":\"\",\"inner_label\":null,\"qubits\":[2],\"type\":\"\",\"is_captured\":false},{\"label\":\"\",\"inner_label\":null,\"qubits\":[1],\"type\":\"\",\"is_captured\":false},{\"label\":\"\",\"inner_label\":null,\"qubits\":[0],\"type\":\"\",\"is_captured\":false},{\"label\":\"\",\"inner_label\":null,\"qubits\":[8],\"type\":\"\",\"is_captured\":false}],\"outputs\":[{\"label\":\"sum\",\"inner_label\":\"sum\",\"qubits\":[0,1,2,8],\"type\":\"\",\"is_captured\":false}]},\"control_qubits\":[],\"auxiliary_qubits\":[],\"target_qubits\":[0,1,2,8],\"operation_level\":\"UNKNOWN\",\"operation_type\":\"BIND\",\"gate\":\"\",\"is_daggered\":false,\"expanded\":false,\"show_expanded_label\":false,\"is_low_level_fallback\":false,\"is_measurement\":false},\"222\":{\"name\":\"Merge\",\"inner_label\":null,\"qasm_name\":\"\",\"details\":\"\",\"children\":[],\"children_ids\":[],\"operation_data\":null,\"operation_links\":{\"inputs\":[{\"label\":\"\",\"inner_label\":null,\"qubits\":[4],\"type\":\"\",\"is_captured\":false},{\"label\":\"\",\"inner_label\":null,\"qubits\":[9],\"type\":\"\",\"is_captured\":false},{\"label\":\"\",\"inner_label\":null,\"qubits\":[6],\"type\":\"\",\"is_captured\":false},{\"label\":\"\",\"inner_label\":null,\"qubits\":[5],\"type\":\"\",\"is_captured\":false}],\"outputs\":[{\"label\":\"aux\",\"inner_label\":\"aux\",\"qubits\":[9,4,5,6],\"type\":\"\",\"is_captured\":false}]},\"control_qubits\":[],\"auxiliary_qubits\":[],\"target_qubits\":[9,4,5,6],\"operation_level\":\"UNKNOWN\",\"operation_type\":\"BIND\",\"gate\":\"\",\"is_daggered\":false,\"expanded\":false,\"show_expanded_label\":false,\"is_low_level_fallback\":false,\"is_measurement\":false},\"223\":{\"name\":\"allocate\",\"inner_label\":null,\"qasm_name\":\"\",\"details\":\"\",\"children\":[],\"children_ids\":[],\"operation_data\":null,\"operation_links\":{\"inputs\":[],\"outputs\":[{\"label\":\"aux\",\"inner_label\":\"aux\",\"qubits\":[9,4,5,6],\"type\":\"\",\"is_captured\":false}]},\"control_qubits\":[],\"auxiliary_qubits\":[],\"target_qubits\":[9,4,5,6],\"operation_level\":\"UNKNOWN\",\"operation_type\":\"ALLOCATE\",\"gate\":\"\",\"is_daggered\":false,\"expanded\":false,\"show_expanded_label\":false,\"is_low_level_fallback\":false,\"is_measurement\":false},\"224\":{\"name\":\"free\",\"inner_label\":null,\"qasm_name\":\"\",\"details\":\"\",\"children\":[],\"children_ids\":[],\"operation_data\":null,\"operation_links\":{\"inputs\":[{\"label\":\"aux\",\"inner_label\":\"aux\",\"qubits\":[9,4,5,6],\"type\":\"\",\"is_captured\":false}],\"outputs\":[]},\"control_qubits\":[],\"auxiliary_qubits\":[],\"target_qubits\":[9,4,5,6],\"operation_level\":\"UNKNOWN\",\"operation_type\":\"FREE\",\"gate\":\"\",\"is_daggered\":false,\"expanded\":false,\"show_expanded_label\":false,\"is_low_level_fallback\":false,\"is_measurement\":false},\"225\":{\"name\":\"Adder\",\"inner_label\":\"\",\"qasm_name\":\"block_wrapper_5276fc27c48e4e7aa5cf39d74cbac03f__block_wrapper_343aa54b6e104e32ab54c43a749954f5__arithmetic__lessthan__subtractor_0__adder\",\"details\":\"\",\"children\":[],\"children_ids\":[223,92,220,138,139,12,13,142,143,159,46,161,177,178,179,177,161,173,159,143,155,139,12,13,221,222,224],\"operation_data\":{\"approximated_depth\":13,\"width\":8,\"gate_count\":{}},\"operation_links\":{\"inputs\":[{\"label\":\"left_arg\",\"inner_label\":\"left_arg\",\"qubits\":[0,1,2],\"type\":\"\",\"is_captured\":false},{\"label\":\"zero_difference\",\"inner_label\":\"zero_sum\",\"qubits\":[8],\"type\":\"\",\"is_captured\":false}],\"outputs\":[{\"label\":\"difference\",\"inner_label\":\"sum\",\"qubits\":[0,1,2,8],\"type\":\"\",\"is_captured\":false}]},\"control_qubits\":[],\"auxiliary_qubits\":[9,4,5,6],\"target_qubits\":[0,1,2,8,9,4,5,6],\"operation_level\":\"ENGINE_CALL\",\"operation_type\":\"REGULAR\",\"gate\":\"\",\"is_daggered\":false,\"expanded\":false,\"show_expanded_label\":false,\"is_low_level_fallback\":false,\"is_measurement\":false},\"226\":{\"name\":\"allocate\",\"inner_label\":null,\"qasm_name\":\"\",\"details\":\"\",\"children\":[],\"children_ids\":[],\"operation_data\":null,\"operation_links\":{\"inputs\":[],\"outputs\":[{\"label\":\"zero_difference\",\"inner_label\":\"zero_sum\",\"qubits\":[8],\"type\":\"\",\"is_captured\":false}]},\"control_qubits\":[],\"auxiliary_qubits\":[],\"target_qubits\":[8],\"operation_level\":\"UNKNOWN\",\"operation_type\":\"ALLOCATE\",\"gate\":\"\",\"is_daggered\":false,\"expanded\":false,\"show_expanded_label\":false,\"is_low_level_fallback\":false,\"is_measurement\":false},\"227\":{\"name\":\"Subtractor_0_qinverse\",\"inner_label\":\"\",\"qasm_name\":\"block_wrapper_5276fc27c48e4e7aa5cf39d74cbac03f__block_wrapper_ec202210e960413b819e488727796544__arithmetic__lessthan_qinverse__subtractor_0_qinverse\",\"details\":\"\",\"children\":[],\"children_ids\":[226,225],\"operation_data\":{\"approximated_depth\":null,\"width\":8,\"gate_count\":{}},\"operation_links\":{\"inputs\":[{\"label\":\"left_arg\",\"inner_label\":\"left_arg\",\"qubits\":[0,1,2],\"type\":\"\",\"is_captured\":false}],\"outputs\":[{\"label\":\"difference\",\"inner_label\":\"difference\",\"qubits\":[0,1,2,8],\"type\":\"\",\"is_captured\":false}]},\"control_qubits\":[],\"auxiliary_qubits\":[9,4,5,6],\"target_qubits\":[0,1,2,4,5,6,8,9],\"operation_level\":\"ENGINE_CALL\",\"operation_type\":\"REGULAR\",\"gate\":\"\",\"is_daggered\":false,\"expanded\":false,\"show_expanded_label\":false,\"is_low_level_fallback\":false,\"is_measurement\":false},\"228\":{\"name\":\"cx\",\"inner_label\":null,\"qasm_name\":\"cx\",\"details\":\"\",\"children\":[],\"children_ids\":[],\"operation_data\":null,\"operation_links\":{\"inputs\":[{\"label\":\"\",\"inner_label\":null,\"qubits\":[8],\"type\":\"\",\"is_captured\":false},{\"label\":\"\",\"inner_label\":null,\"qubits\":[7],\"type\":\"\",\"is_captured\":false}],\"outputs\":[{\"label\":\"\",\"inner_label\":null,\"qubits\":[8],\"type\":\"\",\"is_captured\":false},{\"label\":\"\",\"inner_label\":null,\"qubits\":[7],\"type\":\"\",\"is_captured\":false}]},\"control_qubits\":[8],\"auxiliary_qubits\":[],\"target_qubits\":[7],\"operation_level\":\"UNKNOWN\",\"operation_type\":\"ATOMIC\",\"gate\":\"CX\",\"is_daggered\":false,\"expanded\":false,\"show_expanded_label\":false,\"is_low_level_fallback\":false,\"is_measurement\":false},\"229\":{\"name\":\"Split\",\"inner_label\":null,\"qasm_name\":\"\",\"details\":\"\",\"children\":[],\"children_ids\":[],\"operation_data\":null,\"operation_links\":{\"inputs\":[{\"label\":\"arg\",\"inner_label\":\"arg\",\"qubits\":[0,1,2,8],\"type\":\"\",\"is_captured\":false}],\"outputs\":[{\"label\":\"\",\"inner_label\":null,\"qubits\":[2],\"type\":\"\",\"is_captured\":false},{\"label\":\"\",\"inner_label\":null,\"qubits\":[1],\"type\":\"\",\"is_captured\":false},{\"label\":\"\",\"inner_label\":null,\"qubits\":[0],\"type\":\"\",\"is_captured\":false},{\"label\":\"\",\"inner_label\":null,\"qubits\":[8],\"type\":\"\",\"is_captured\":false}]},\"control_qubits\":[],\"auxiliary_qubits\":[],\"target_qubits\":[0,1,2,8],\"operation_level\":\"UNKNOWN\",\"operation_type\":\"BIND\",\"gate\":\"\",\"is_daggered\":false,\"expanded\":false,\"show_expanded_label\":false,\"is_low_level_fallback\":false,\"is_measurement\":false},\"230\":{\"name\":\"Merge\",\"inner_label\":null,\"qasm_name\":\"\",\"details\":\"\",\"children\":[],\"children_ids\":[],\"operation_data\":null,\"operation_links\":{\"inputs\":[{\"label\":\"\",\"inner_label\":null,\"qubits\":[2],\"type\":\"\",\"is_captured\":false},{\"label\":\"\",\"inner_label\":null,\"qubits\":[1],\"type\":\"\",\"is_captured\":false},{\"label\":\"\",\"inner_label\":null,\"qubits\":[0],\"type\":\"\",\"is_captured\":false},{\"label\":\"\",\"inner_label\":null,\"qubits\":[8],\"type\":\"\",\"is_captured\":false}],\"outputs\":[{\"label\":\"arg\",\"inner_label\":\"arg\",\"qubits\":[0,1,2,8],\"type\":\"\",\"is_captured\":false}]},\"control_qubits\":[],\"auxiliary_qubits\":[],\"target_qubits\":[0,1,2,8],\"operation_level\":\"UNKNOWN\",\"operation_type\":\"BIND\",\"gate\":\"\",\"is_daggered\":false,\"expanded\":false,\"show_expanded_label\":false,\"is_low_level_fallback\":false,\"is_measurement\":false},\"231\":{\"name\":\"free\",\"inner_label\":null,\"qasm_name\":\"\",\"details\":\"\",\"children\":[],\"children_ids\":[],\"operation_data\":null,\"operation_links\":{\"inputs\":[{\"label\":\"zero_sign\",\"inner_label\":\"zero_sign\",\"qubits\":[7],\"type\":\"\",\"is_captured\":false}],\"outputs\":[]},\"control_qubits\":[],\"auxiliary_qubits\":[],\"target_qubits\":[7],\"operation_level\":\"UNKNOWN\",\"operation_type\":\"FREE\",\"gate\":\"\",\"is_daggered\":false,\"expanded\":false,\"show_expanded_label\":false,\"is_low_level_fallback\":false,\"is_measurement\":false},\"232\":{\"name\":\"Sign_qinverse\",\"inner_label\":\"\",\"qasm_name\":\"block_wrapper_5276fc27c48e4e7aa5cf39d74cbac03f__block_wrapper_ec202210e960413b819e488727796544__arithmetic__lessthan_qinverse__sign_qinverse\",\"details\":\"\",\"children\":[],\"children_ids\":[229,228,230,231],\"operation_data\":{\"approximated_depth\":1,\"width\":5,\"gate_count\":{}},\"operation_links\":{\"inputs\":[{\"label\":\"is_less_than\",\"inner_label\":\"sign\",\"qubits\":[7],\"type\":\"\",\"is_captured\":false},{\"label\":\"difference\",\"inner_label\":\"arg\",\"qubits\":[0,1,2,8],\"type\":\"\",\"is_captured\":false}],\"outputs\":[{\"label\":\"difference\",\"inner_label\":\"arg\",\"qubits\":[0,1,2,8],\"type\":\"\",\"is_captured\":false}]},\"control_qubits\":[],\"auxiliary_qubits\":[],\"target_qubits\":[0,1,2,8,7],\"operation_level\":\"ENGINE_CALL\",\"operation_type\":\"REGULAR\",\"gate\":\"\",\"is_daggered\":false,\"expanded\":false,\"show_expanded_label\":false,\"is_low_level_fallback\":false,\"is_measurement\":false},\"273\":{\"name\":\"cx\",\"inner_label\":null,\"qasm_name\":\"cx\",\"details\":\"\",\"children\":[],\"children_ids\":[],\"operation_data\":null,\"operation_links\":{\"inputs\":[{\"label\":\"\",\"inner_label\":null,\"qubits\":[8],\"type\":\"\",\"is_captured\":false},{\"label\":\"\",\"inner_label\":null,\"qubits\":[6],\"type\":\"\",\"is_captured\":false}],\"outputs\":[{\"label\":\"\",\"inner_label\":null,\"qubits\":[8],\"type\":\"\",\"is_captured\":false},{\"label\":\"\",\"inner_label\":null,\"qubits\":[6],\"type\":\"\",\"is_captured\":false}]},\"control_qubits\":[6],\"auxiliary_qubits\":[],\"target_qubits\":[8],\"operation_level\":\"UNKNOWN\",\"operation_type\":\"ATOMIC\",\"gate\":\"CX\",\"is_daggered\":false,\"expanded\":false,\"show_expanded_label\":false,\"is_low_level_fallback\":false,\"is_measurement\":false},\"314\":{\"name\":\"Split\",\"inner_label\":null,\"qasm_name\":\"\",\"details\":\"\",\"children\":[],\"children_ids\":[],\"operation_data\":null,\"operation_links\":{\"inputs\":[{\"label\":\"sum\",\"inner_label\":\"sum\",\"qubits\":[0,1,2,8],\"type\":\"\",\"is_captured\":false}],\"outputs\":[{\"label\":\"\",\"inner_label\":null,\"qubits\":[2],\"type\":\"\",\"is_captured\":false},{\"label\":\"\",\"inner_label\":null,\"qubits\":[1],\"type\":\"\",\"is_captured\":false},{\"label\":\"\",\"inner_label\":null,\"qubits\":[0],\"type\":\"\",\"is_captured\":false},{\"label\":\"\",\"inner_label\":null,\"qubits\":[8],\"type\":\"\",\"is_captured\":false}]},\"control_qubits\":[],\"auxiliary_qubits\":[],\"target_qubits\":[0,1,2,8],\"operation_level\":\"UNKNOWN\",\"operation_type\":\"BIND\",\"gate\":\"\",\"is_daggered\":false,\"expanded\":false,\"show_expanded_label\":false,\"is_low_level_fallback\":false,\"is_measurement\":false},\"320\":{\"name\":\"free\",\"inner_label\":null,\"qasm_name\":\"\",\"details\":\"\",\"children\":[],\"children_ids\":[],\"operation_data\":null,\"operation_links\":{\"inputs\":[{\"label\":\"zero_sum\",\"inner_label\":\"zero_sum\",\"qubits\":[8],\"type\":\"\",\"is_captured\":false}],\"outputs\":[]},\"control_qubits\":[],\"auxiliary_qubits\":[],\"target_qubits\":[8],\"operation_level\":\"UNKNOWN\",\"operation_type\":\"FREE\",\"gate\":\"\",\"is_daggered\":false,\"expanded\":false,\"show_expanded_label\":false,\"is_low_level_fallback\":false,\"is_measurement\":false},\"321\":{\"name\":\"Adder_qinverse\",\"inner_label\":\"\",\"qasm_name\":\"block_wrapper_5276fc27c48e4e7aa5cf39d74cbac03f__block_wrapper_ec202210e960413b819e488727796544__arithmetic__lessthan_qinverse__subtractor_1_qinverse__adder_qinverse\",\"details\":\"\",\"children\":[],\"children_ids\":[96,314,93,14,13,12,28,16,32,46,34,50,178,273,50,34,33,32,16,15,14,13,12,138,124,95,97,320],\"operation_data\":{\"approximated_depth\":13,\"width\":8,\"gate_count\":{}},\"operation_links\":{\"inputs\":[{\"label\":\"difference\",\"inner_label\":\"sum\",\"qubits\":[0,1,2,8],\"type\":\"\",\"is_captured\":false}],\"outputs\":[{\"label\":\"left_arg\",\"inner_label\":\"left_arg\",\"qubits\":[0,1,2],\"type\":\"\",\"is_captured\":false}]},\"control_qubits\":[],\"auxiliary_qubits\":[4,5,6,7],\"target_qubits\":[0,1,2,8,4,5,6,7],\"operation_level\":\"ENGINE_CALL\",\"operation_type\":\"REGULAR\",\"gate\":\"\",\"is_daggered\":false,\"expanded\":false,\"show_expanded_label\":false,\"is_low_level_fallback\":false,\"is_measurement\":false},\"322\":{\"name\":\"Subtractor_1_qinverse\",\"inner_label\":\"\",\"qasm_name\":\"block_wrapper_5276fc27c48e4e7aa5cf39d74cbac03f__block_wrapper_ec202210e960413b819e488727796544__arithmetic__lessthan_qinverse__subtractor_1_qinverse\",\"details\":\"\",\"children\":[],\"children_ids\":[321],\"operation_data\":{\"approximated_depth\":null,\"width\":8,\"gate_count\":{}},\"operation_links\":{\"inputs\":[{\"label\":\"difference\",\"inner_label\":\"difference\",\"qubits\":[0,1,2,8],\"type\":\"\",\"is_captured\":false}],\"outputs\":[{\"label\":\"left_arg\",\"inner_label\":\"left_arg\",\"qubits\":[0,1,2],\"type\":\"\",\"is_captured\":false}]},\"control_qubits\":[],\"auxiliary_qubits\":[4,5,6,7],\"target_qubits\":[0,1,2,4,5,6,7,8],\"operation_level\":\"ENGINE_CALL\",\"operation_type\":\"REGULAR\",\"gate\":\"\",\"is_daggered\":false,\"expanded\":false,\"show_expanded_label\":false,\"is_low_level_fallback\":false,\"is_measurement\":false},\"323\":{\"name\":\"LessThan_qinverse\",\"inner_label\":\"\",\"qasm_name\":\"block_wrapper_5276fc27c48e4e7aa5cf39d74cbac03f__block_wrapper_ec202210e960413b819e488727796544__arithmetic__lessthan_qinverse\",\"details\":\"\",\"children\":[],\"children_ids\":[227,232,322],\"operation_data\":{\"approximated_depth\":null,\"width\":9,\"gate_count\":{}},\"operation_links\":{\"inputs\":[{\"label\":\"expression_result\",\"inner_label\":\"is_less_than\",\"qubits\":[7],\"type\":\"\",\"is_captured\":false},{\"label\":\"x\",\"inner_label\":\"left_arg\",\"qubits\":[0,1,2],\"type\":\"\",\"is_captured\":false}],\"outputs\":[{\"label\":\"x\",\"inner_label\":\"left_arg\",\"qubits\":[0,1,2],\"type\":\"\",\"is_captured\":false}]},\"control_qubits\":[],\"auxiliary_qubits\":[4,5,6,8,9],\"target_qubits\":[0,1,2,4,5,6,7,8,9],\"operation_level\":\"ENGINE_CALL\",\"operation_type\":\"REGULAR\",\"gate\":\"\",\"is_daggered\":false,\"expanded\":false,\"show_expanded_label\":false,\"is_low_level_fallback\":false,\"is_measurement\":false},\"324\":{\"name\":\"assign\",\"inner_label\":\"\",\"qasm_name\":\"block_wrapper_5276fc27c48e4e7aa5cf39d74cbac03f__block_wrapper_ec202210e960413b819e488727796544__arithmetic\",\"details\":\"x < 0.5\",\"children\":[],\"children_ids\":[323],\"operation_data\":{\"approximated_depth\":null,\"width\":9,\"gate_count\":{}},\"operation_links\":{\"inputs\":[{\"label\":\"_tmp_0\",\"inner_label\":\"expression_result\",\"qubits\":[7],\"type\":\"\",\"is_captured\":false},{\"label\":\"x\",\"inner_label\":\"x\",\"qubits\":[0,1,2],\"type\":\"\",\"is_captured\":false}],\"outputs\":[{\"label\":\"x\",\"inner_label\":\"x\",\"qubits\":[0,1,2],\"type\":\"\",\"is_captured\":false}]},\"control_qubits\":[],\"auxiliary_qubits\":[4,5,6,8,9],\"target_qubits\":[0,1,2,4,5,6,7,8,9],\"operation_level\":\"QMOD_STATEMENT\",\"operation_type\":\"REGULAR\",\"gate\":\"\",\"is_daggered\":false,\"expanded\":false,\"show_expanded_label\":false,\"is_low_level_fallback\":false,\"is_measurement\":false},\"325\":{\"name\":\"within\",\"inner_label\":\"\",\"qasm_name\":\"block_wrapper_5276fc27c48e4e7aa5cf39d74cbac03f__block_wrapper_ec202210e960413b819e488727796544\",\"details\":\"\",\"children\":[],\"children_ids\":[324],\"operation_data\":{\"approximated_depth\":null,\"width\":9,\"gate_count\":{}},\"operation_links\":{\"inputs\":[{\"label\":\"_tmp\",\"inner_label\":\"_tmp_0\",\"qubits\":[7],\"type\":\"\",\"is_captured\":false},{\"label\":\"x\",\"inner_label\":\"x\",\"qubits\":[0,1,2],\"type\":\"\",\"is_captured\":false}],\"outputs\":[{\"label\":\"x\",\"inner_label\":\"x\",\"qubits\":[0,1,2],\"type\":\"\",\"is_captured\":false}]},\"control_qubits\":[],\"auxiliary_qubits\":[4,5,6,8,9],\"target_qubits\":[0,1,2,4,5,6,7,8,9],\"operation_level\":\"QMOD_STATEMENT\",\"operation_type\":\"INVISIBLE\",\"gate\":\"\",\"is_daggered\":true,\"expanded\":true,\"show_expanded_label\":true,\"is_low_level_fallback\":false,\"is_measurement\":false},\"326\":{\"name\":\"control [1]\",\"inner_label\":\"\",\"qasm_name\":\"main__block_wrapper_5276fc27c48e4e7aa5cf39d74cbac03f_part_1\",\"details\":\"x < 0.5\",\"children\":[],\"children_ids\":[137,325],\"operation_data\":{\"approximated_depth\":null,\"width\":10,\"gate_count\":{}},\"operation_links\":{\"inputs\":[{\"label\":\"_tmp\",\"inner_label\":\"_tmp\",\"qubits\":[7],\"type\":\"\",\"is_captured\":false},{\"label\":\"flag\",\"inner_label\":\"flag\",\"qubits\":[3],\"type\":\"\",\"is_captured\":false},{\"label\":\"x\",\"inner_label\":\"x\",\"qubits\":[0,1,2],\"type\":\"\",\"is_captured\":false}],\"outputs\":[{\"label\":\"flag\",\"inner_label\":\"flag\",\"qubits\":[3],\"type\":\"\",\"is_captured\":false},{\"label\":\"x\",\"inner_label\":\"x\",\"qubits\":[0,1,2],\"type\":\"\",\"is_captured\":false}]},\"control_qubits\":[],\"auxiliary_qubits\":[],\"target_qubits\":[0,1,2,3,4,5,6,7,8,9],\"operation_level\":\"QMOD_STATEMENT\",\"operation_type\":\"REGULAR\",\"gate\":\"\",\"is_daggered\":false,\"expanded\":false,\"show_expanded_label\":false,\"is_low_level_fallback\":false,\"is_measurement\":false},\"327\":{\"name\":\"main\",\"inner_label\":null,\"qasm_name\":\"\",\"details\":\"\",\"children\":[],\"children_ids\":[0,10,132,133,326],\"operation_data\":{\"approximated_depth\":102,\"width\":10,\"gate_count\":{\"H\":33,\"CX\":109,\"X\":18,\"TDG\":36,\"T\":48,\"CPHASE\":6,\"PHASE\":3}},\"operation_links\":{\"inputs\":[],\"outputs\":[{\"label\":\"flag\",\"inner_label\":\"flag\",\"qubits\":[3],\"type\":\"\",\"is_captured\":false},{\"label\":\"x\",\"inner_label\":\"x\",\"qubits\":[0,1,2],\"type\":\"\",\"is_captured\":false}]},\"control_qubits\":[],\"auxiliary_qubits\":[],\"target_qubits\":[0,1,2,3,4,5,6,7,8,9],\"operation_level\":\"QMOD_CALL\",\"operation_type\":\"REGULAR\",\"gate\":\"\",\"is_daggered\":false,\"expanded\":false,\"show_expanded_label\":false,\"is_low_level_fallback\":false,\"is_measurement\":false}},\"main_operation_id\":327,\"program_data\":{\"hardware_data\":{\"basis_gates\":[\"x\",\"sxdg\",\"s\",\"sx\",\"sdg\",\"ry\",\"tdg\",\"rz\",\"p\",\"r\",\"cz\",\"cy\",\"cx\",\"u1\",\"z\",\"t\",\"rx\",\"h\",\"y\",\"u\",\"u2\",\"id\"],\"connectivity_map\":null,\"is_symmetric_connectivity\":true,\"backend_data\":null},\"circuit_metrics\":{\"depth\":170,\"count_ops\":{\"u\":118,\"cx\":121}}}}",
      "text/plain": [
       "https://platform.classiq.io/circuit/31oOvG1Sigdbup1veciDPF6JMFa?login=True&version=0.90.0"
      ]
     },
     "metadata": {
      "url": "https://platform.classiq.io/circuit/31oOvG1Sigdbup1veciDPF6JMFa?login=True&version=0.90.0"
     },
     "output_type": "display_data"
    },
    {
     "name": "stdout",
     "output_type": "stream",
     "text": [
      "Ex.3 Results:\n"
     ]
    },
    {
     "data": {
      "text/html": [
       "<div>\n",
       "<style scoped>\n",
       "    .dataframe tbody tr th:only-of-type {\n",
       "        vertical-align: middle;\n",
       "    }\n",
       "\n",
       "    .dataframe tbody tr th {\n",
       "        vertical-align: top;\n",
       "    }\n",
       "\n",
       "    .dataframe thead th {\n",
       "        text-align: right;\n",
       "    }\n",
       "</style>\n",
       "<table border=\"1\" class=\"dataframe\">\n",
       "  <thead>\n",
       "    <tr style=\"text-align: right;\">\n",
       "      <th></th>\n",
       "      <th>x</th>\n",
       "      <th>flag</th>\n",
       "      <th>count</th>\n",
       "      <th>probability</th>\n",
       "      <th>bitstring</th>\n",
       "    </tr>\n",
       "  </thead>\n",
       "  <tbody>\n",
       "    <tr>\n",
       "      <th>0</th>\n",
       "      <td>-0.75</td>\n",
       "      <td>1</td>\n",
       "      <td>295</td>\n",
       "      <td>0.144043</td>\n",
       "      <td>1101</td>\n",
       "    </tr>\n",
       "    <tr>\n",
       "      <th>1</th>\n",
       "      <td>0.75</td>\n",
       "      <td>0</td>\n",
       "      <td>275</td>\n",
       "      <td>0.134277</td>\n",
       "      <td>0011</td>\n",
       "    </tr>\n",
       "    <tr>\n",
       "      <th>2</th>\n",
       "      <td>-1.00</td>\n",
       "      <td>1</td>\n",
       "      <td>264</td>\n",
       "      <td>0.128906</td>\n",
       "      <td>1100</td>\n",
       "    </tr>\n",
       "    <tr>\n",
       "      <th>3</th>\n",
       "      <td>-0.25</td>\n",
       "      <td>1</td>\n",
       "      <td>253</td>\n",
       "      <td>0.123535</td>\n",
       "      <td>1111</td>\n",
       "    </tr>\n",
       "    <tr>\n",
       "      <th>4</th>\n",
       "      <td>0.25</td>\n",
       "      <td>1</td>\n",
       "      <td>252</td>\n",
       "      <td>0.123047</td>\n",
       "      <td>1001</td>\n",
       "    </tr>\n",
       "    <tr>\n",
       "      <th>5</th>\n",
       "      <td>-0.50</td>\n",
       "      <td>1</td>\n",
       "      <td>246</td>\n",
       "      <td>0.120117</td>\n",
       "      <td>1110</td>\n",
       "    </tr>\n",
       "    <tr>\n",
       "      <th>6</th>\n",
       "      <td>0.00</td>\n",
       "      <td>1</td>\n",
       "      <td>233</td>\n",
       "      <td>0.113770</td>\n",
       "      <td>1000</td>\n",
       "    </tr>\n",
       "    <tr>\n",
       "      <th>7</th>\n",
       "      <td>0.50</td>\n",
       "      <td>0</td>\n",
       "      <td>230</td>\n",
       "      <td>0.112305</td>\n",
       "      <td>0010</td>\n",
       "    </tr>\n",
       "  </tbody>\n",
       "</table>\n",
       "</div>"
      ],
      "text/plain": [
       "      x  flag  count  probability bitstring\n",
       "0 -0.75     1    295     0.144043      1101\n",
       "1  0.75     0    275     0.134277      0011\n",
       "2 -1.00     1    264     0.128906      1100\n",
       "3 -0.25     1    253     0.123535      1111\n",
       "4  0.25     1    252     0.123047      1001\n",
       "5 -0.50     1    246     0.120117      1110\n",
       "6  0.00     1    233     0.113770      1000\n",
       "7  0.50     0    230     0.112305      0010"
      ]
     },
     "metadata": {},
     "output_type": "display_data"
    }
   ],
   "source": [
    "from classiq import *\n",
    "\n",
    "\n",
    "@qfunc\n",
    "def main(x: Output[QNum[3, SIGNED, 2]], flag: Output[QBit]):\n",
    "    allocate(x)\n",
    "    hadamard_transform(x)\n",
    "\n",
    "    allocate(flag)\n",
    "    # Flip the state of flag if x < 0.5\n",
    "    control(x < 0.5, lambda: X(flag))  # Flip the state of flag if x < 0.5\n",
    "\n",
    "\n",
    "# Synthesize the model, show, execute and print results\n",
    "qprog = synthesize(main)\n",
    "show(qprog)\n",
    "\n",
    "with ExecutionSession(qprog) as es:\n",
    "    res = es.sample()\n",
    "    print(\"Ex.3 Results:\")\n",
    "    display(res.dataframe)"
   ]
  },
  {
   "cell_type": "markdown",
   "metadata": {},
   "source": [
    "### Solution 5: Computing x² Using Phase Operations"
   ]
  },
  {
   "cell_type": "markdown",
   "metadata": {},
   "source": [
    "#### Part A: Phase Encoding x²"
   ]
  },
  {
   "cell_type": "code",
   "execution_count": 23,
   "metadata": {},
   "outputs": [
    {
     "name": "stdout",
     "output_type": "stream",
     "text": [
      "Ex.6A Results:\n"
     ]
    },
    {
     "data": {
      "text/html": [
       "<div>\n",
       "<style scoped>\n",
       "    .dataframe tbody tr th:only-of-type {\n",
       "        vertical-align: middle;\n",
       "    }\n",
       "\n",
       "    .dataframe tbody tr th {\n",
       "        vertical-align: top;\n",
       "    }\n",
       "\n",
       "    .dataframe thead th {\n",
       "        text-align: right;\n",
       "    }\n",
       "</style>\n",
       "<table border=\"1\" class=\"dataframe\">\n",
       "  <thead>\n",
       "    <tr style=\"text-align: right;\">\n",
       "      <th></th>\n",
       "      <th>x</th>\n",
       "      <th>amplitude</th>\n",
       "      <th>probability</th>\n",
       "      <th>bitstring</th>\n",
       "    </tr>\n",
       "  </thead>\n",
       "  <tbody>\n",
       "    <tr>\n",
       "      <th>0</th>\n",
       "      <td>4</td>\n",
       "      <td>0.353553-0.000000j</td>\n",
       "      <td>0.125</td>\n",
       "      <td>100</td>\n",
       "    </tr>\n",
       "    <tr>\n",
       "      <th>1</th>\n",
       "      <td>0</td>\n",
       "      <td>0.353553+0.000000j</td>\n",
       "      <td>0.125</td>\n",
       "      <td>000</td>\n",
       "    </tr>\n",
       "    <tr>\n",
       "      <th>2</th>\n",
       "      <td>5</td>\n",
       "      <td>0.250000+0.250000j</td>\n",
       "      <td>0.125</td>\n",
       "      <td>101</td>\n",
       "    </tr>\n",
       "    <tr>\n",
       "      <th>3</th>\n",
       "      <td>1</td>\n",
       "      <td>0.250000+0.250000j</td>\n",
       "      <td>0.125</td>\n",
       "      <td>001</td>\n",
       "    </tr>\n",
       "    <tr>\n",
       "      <th>4</th>\n",
       "      <td>7</td>\n",
       "      <td>0.250000+0.250000j</td>\n",
       "      <td>0.125</td>\n",
       "      <td>111</td>\n",
       "    </tr>\n",
       "    <tr>\n",
       "      <th>5</th>\n",
       "      <td>3</td>\n",
       "      <td>0.250000+0.250000j</td>\n",
       "      <td>0.125</td>\n",
       "      <td>011</td>\n",
       "    </tr>\n",
       "    <tr>\n",
       "      <th>6</th>\n",
       "      <td>2</td>\n",
       "      <td>-0.353553+0.000000j</td>\n",
       "      <td>0.125</td>\n",
       "      <td>010</td>\n",
       "    </tr>\n",
       "    <tr>\n",
       "      <th>7</th>\n",
       "      <td>6</td>\n",
       "      <td>-0.353553+0.000000j</td>\n",
       "      <td>0.125</td>\n",
       "      <td>110</td>\n",
       "    </tr>\n",
       "  </tbody>\n",
       "</table>\n",
       "</div>"
      ],
      "text/plain": [
       "   x           amplitude  probability bitstring\n",
       "0  4  0.353553-0.000000j        0.125       100\n",
       "1  0  0.353553+0.000000j        0.125       000\n",
       "2  5  0.250000+0.250000j        0.125       101\n",
       "3  1  0.250000+0.250000j        0.125       001\n",
       "4  7  0.250000+0.250000j        0.125       111\n",
       "5  3  0.250000+0.250000j        0.125       011\n",
       "6  2 -0.353553+0.000000j        0.125       010\n",
       "7  6 -0.353553+0.000000j        0.125       110"
      ]
     },
     "metadata": {},
     "output_type": "display_data"
    }
   ],
   "source": [
    "import numpy as np\n",
    "\n",
    "from classiq import *\n",
    "from classiq.execution import ClassiqBackendPreferences, ExecutionPreferences\n",
    "\n",
    "\n",
    "@qfunc\n",
    "def main(x: Output[QNum[3]]):\n",
    "    allocate(x)\n",
    "    # Put x in uniform superposition\n",
    "    hadamard_transform(x)\n",
    "\n",
    "    # Encode x² into the phase\n",
    "    phase(x**2, 2 * np.pi / 8)\n",
    "\n",
    "\n",
    "# Synthesize the model and show\n",
    "qprog = synthesize(main)\n",
    "# show(qprog)\n",
    "\n",
    "# Specify execution preferences for state vector simulation\n",
    "preferences = ExecutionPreferences(\n",
    "    num_shots=1,\n",
    "    backend_preferences=ClassiqBackendPreferences(backend_name=\"simulator_statevector\"),\n",
    ")\n",
    "\n",
    "# Execute and print results:\n",
    "with ExecutionSession(qprog, preferences) as es:\n",
    "    res = es.sample()\n",
    "    print(\"Ex.6A Results:\")\n",
    "    display(res.dataframe)"
   ]
  },
  {
   "cell_type": "markdown",
   "metadata": {},
   "source": [
    "#### Bonus: Fourier Arithmetic\n"
   ]
  },
  {
   "cell_type": "code",
   "execution_count": 24,
   "metadata": {},
   "outputs": [
    {
     "name": "stdout",
     "output_type": "stream",
     "text": [
      "Ex.6B Results:\n"
     ]
    },
    {
     "data": {
      "text/html": [
       "<div>\n",
       "<style scoped>\n",
       "    .dataframe tbody tr th:only-of-type {\n",
       "        vertical-align: middle;\n",
       "    }\n",
       "\n",
       "    .dataframe tbody tr th {\n",
       "        vertical-align: top;\n",
       "    }\n",
       "\n",
       "    .dataframe thead th {\n",
       "        text-align: right;\n",
       "    }\n",
       "</style>\n",
       "<table border=\"1\" class=\"dataframe\">\n",
       "  <thead>\n",
       "    <tr style=\"text-align: right;\">\n",
       "      <th></th>\n",
       "      <th>x</th>\n",
       "      <th>res</th>\n",
       "      <th>count</th>\n",
       "      <th>probability</th>\n",
       "      <th>bitstring</th>\n",
       "    </tr>\n",
       "  </thead>\n",
       "  <tbody>\n",
       "    <tr>\n",
       "      <th>7</th>\n",
       "      <td>0</td>\n",
       "      <td>0</td>\n",
       "      <td>245</td>\n",
       "      <td>0.119629</td>\n",
       "      <td>0000000</td>\n",
       "    </tr>\n",
       "    <tr>\n",
       "      <th>4</th>\n",
       "      <td>1</td>\n",
       "      <td>1</td>\n",
       "      <td>253</td>\n",
       "      <td>0.123535</td>\n",
       "      <td>0001001</td>\n",
       "    </tr>\n",
       "    <tr>\n",
       "      <th>5</th>\n",
       "      <td>2</td>\n",
       "      <td>4</td>\n",
       "      <td>253</td>\n",
       "      <td>0.123535</td>\n",
       "      <td>0100010</td>\n",
       "    </tr>\n",
       "    <tr>\n",
       "      <th>0</th>\n",
       "      <td>3</td>\n",
       "      <td>9</td>\n",
       "      <td>273</td>\n",
       "      <td>0.133301</td>\n",
       "      <td>1001011</td>\n",
       "    </tr>\n",
       "    <tr>\n",
       "      <th>3</th>\n",
       "      <td>4</td>\n",
       "      <td>0</td>\n",
       "      <td>256</td>\n",
       "      <td>0.125000</td>\n",
       "      <td>0000100</td>\n",
       "    </tr>\n",
       "    <tr>\n",
       "      <th>2</th>\n",
       "      <td>5</td>\n",
       "      <td>9</td>\n",
       "      <td>258</td>\n",
       "      <td>0.125977</td>\n",
       "      <td>1001101</td>\n",
       "    </tr>\n",
       "    <tr>\n",
       "      <th>6</th>\n",
       "      <td>6</td>\n",
       "      <td>4</td>\n",
       "      <td>250</td>\n",
       "      <td>0.122070</td>\n",
       "      <td>0100110</td>\n",
       "    </tr>\n",
       "    <tr>\n",
       "      <th>1</th>\n",
       "      <td>7</td>\n",
       "      <td>1</td>\n",
       "      <td>260</td>\n",
       "      <td>0.126953</td>\n",
       "      <td>0001111</td>\n",
       "    </tr>\n",
       "  </tbody>\n",
       "</table>\n",
       "</div>"
      ],
      "text/plain": [
       "   x  res  count  probability bitstring\n",
       "7  0    0    245     0.119629   0000000\n",
       "4  1    1    253     0.123535   0001001\n",
       "5  2    4    253     0.123535   0100010\n",
       "0  3    9    273     0.133301   1001011\n",
       "3  4    0    256     0.125000   0000100\n",
       "2  5    9    258     0.125977   1001101\n",
       "6  6    4    250     0.122070   0100110\n",
       "1  7    1    260     0.126953   0001111"
      ]
     },
     "metadata": {},
     "output_type": "display_data"
    }
   ],
   "source": [
    "import numpy as np\n",
    "\n",
    "from classiq import *\n",
    "\n",
    "\n",
    "@qfunc\n",
    "def main(x: Output[QNum[3]], res: Output[QNum[4]]):\n",
    "    allocate(x)\n",
    "    hadamard_transform(x)\n",
    "    allocate(res)\n",
    "\n",
    "    # Use within_apply with QFT and phase operations\n",
    "    within_apply(\n",
    "        lambda: qft(res),\n",
    "        lambda: phase(\n",
    "            res * (x**2), 2 * np.pi / (2**res.size)\n",
    "        ),  # evaluates res += x**2  in the Fourier basis\n",
    "    )\n",
    "\n",
    "\n",
    "# Synthesize the model, show, execute and print results\n",
    "qprog = synthesize(main)\n",
    "# show(qprog)\n",
    "\n",
    "with ExecutionSession(qprog) as es:\n",
    "    res = es.sample()\n",
    "    print(\"Ex.6B Results:\")\n",
    "    res.dataframe.sort_values(by=\"x\", inplace=True)  # Sort by x for better readability\n",
    "    display(res.dataframe)"
   ]
  }
 ],
 "metadata": {
  "kernelspec": {
   "display_name": "classiq-venv",
   "language": "python",
   "name": "python3"
  },
  "language_info": {
   "codemirror_mode": {
    "name": "ipython",
    "version": 3
   },
   "file_extension": ".py",
   "mimetype": "text/x-python",
   "name": "python",
   "nbconvert_exporter": "python",
   "pygments_lexer": "ipython3",
   "version": "3.12.11"
  }
 },
 "nbformat": 4,
 "nbformat_minor": 4
}

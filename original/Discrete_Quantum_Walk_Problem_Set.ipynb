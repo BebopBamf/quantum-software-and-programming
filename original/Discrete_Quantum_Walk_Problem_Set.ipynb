{
 "cells": [
  {
   "cell_type": "markdown",
   "id": "ce42d2e1-b5fd-44ce-b48a-5dbc9543ebb2",
   "metadata": {
    "id": "ce42d2e1-b5fd-44ce-b48a-5dbc9543ebb2"
   },
   "source": [
    "# Homework Assignment Notebook - Discrete Quantum Walks"
   ]
  },
  {
   "cell_type": "markdown",
   "id": "31c04130-bb0e-46c6-859b-4631c9b4ed34",
   "metadata": {
    "id": "31c04130-bb0e-46c6-859b-4631c9b4ed34"
   },
   "source": [
    "This notebook, containing all required deliverables, should be submitted for the Discrete Quantum Walk module homework assignment."
   ]
  },
  {
   "cell_type": "markdown",
   "id": "1874a871-5f69-4524-97cb-57fc70ab4a02",
   "metadata": {},
   "source": [
    "The quantum equivalent of the random walk process can be established by defining a \"Coin Flip\" operator, $C$, and a \"Shift\" operator, $S$.\n",
    "\n",
    "$$\n",
    "C := \\sum_{j\\in V} |j\\rangle\\langle j| \\otimes\n",
    "(2|\\partial_j\\rangle\\langle\\partial_j| - I),\\\\\n",
    "S :=\n",
    "\\sum_{(j,k)\\in E}|j,k\\rangle\\langle k,j|.\n",
    "$$\n",
    "\n",
    "By applying these two operators many times in succession, we establish the equivalence of the random walk in the quantum realm."
   ]
  },
  {
   "cell_type": "markdown",
   "id": "bd7a5c38-c657-4837-af23-5833b0c9ab1f",
   "metadata": {
    "id": "bd7a5c38-c657-4837-af23-5833b0c9ab1f"
   },
   "source": [
    "## Your Assignment:"
   ]
  },
  {
   "cell_type": "markdown",
   "id": "8784f328-c664-48e7-a2b9-86c3ead473a0",
   "metadata": {
    "id": "8784f328-c664-48e7-a2b9-86c3ead473a0"
   },
   "source": [
    "Using the Qmod example from the lecture (4-node cycle), inspired by Andrew Childs’ [lecture notes](https://www.cs.umd.edu/~amchilds/qa/qa.pdf) (pp. 89–90), design a quantum walk operator for a 16-node line:\n"
   ]
  },
  {
   "cell_type": "markdown",
   "id": "83f417a5-7cd1-4d6f-b92f-075cc20c936c",
   "metadata": {},
   "source": [
    "<div style=\"text-align:center;\">\n",
    "    <img src=\"https://docs.classiq.io/resources/linear_graph_16_nodes.png\" alt=\"Linear 16-node Graph\" />\n",
    "</div>\n"
   ]
  },
  {
   "cell_type": "markdown",
   "id": "06c9689d-e982-4523-bb97-4de7edf36365",
   "metadata": {},
   "source": [
    "Use the in-class quantum walk circle example code and Child's lecture notes as your starting point.\n",
    "\n",
    "You may extend it beyond the assignment’s requirements and class coverage, generalizing your code into a general-purpose algorithm that handles all cases."
   ]
  },
  {
   "cell_type": "markdown",
   "id": "4d4c8502-9b99-4cfa-90f1-66020bf5570d",
   "metadata": {
    "id": "4d4c8502-9b99-4cfa-90f1-66020bf5570d"
   },
   "source": [
    "\n",
    "Your code and explanations should be included in the following section, which provides a step-by-step outline of what needs to be submitted."
   ]
  },
  {
   "cell_type": "markdown",
   "id": "05f506ff-7710-4c19-b11f-fb2c51053adf",
   "metadata": {
    "id": "05f506ff-7710-4c19-b11f-fb2c51053adf"
   },
   "source": [
    "## Your Solution:"
   ]
  },
  {
   "cell_type": "code",
   "execution_count": null,
   "id": "b27f2798-e81f-4fa3-9c5c-f2b8182da6c6",
   "metadata": {},
   "outputs": [],
   "source": [
    "from classiq import *"
   ]
  },
  {
   "cell_type": "code",
   "execution_count": 4,
   "id": "866298d0-3154-4f46-99c5-b17087910799",
   "metadata": {},
   "outputs": [],
   "source": [
    "#TODO: Insert your solution here, it should be written by you, \n",
    "# including checking that your algorithm produces the correct results.\n",
    "# Good luck!"
   ]
  },
  {
   "cell_type": "markdown",
   "id": "bc089452-c243-405b-8d11-9e1469f2dc15",
   "metadata": {
    "id": "bc089452-c243-405b-8d11-9e1469f2dc15"
   },
   "source": [
    "Don't forget to verify that your algorithm works for several initial states!\n"
   ]
  },
  {
   "cell_type": "markdown",
   "id": "3a990f56-3ee8-4b5d-adca-489ca5f053eb",
   "metadata": {},
   "source": [
    "Please upload this notebook with your solution via the submission form sent to you.\n"
   ]
  }
 ],
 "metadata": {
  "colab": {
   "provenance": []
  },
  "kernelspec": {
   "display_name": "Python 3 (ipykernel)",
   "language": "python",
   "name": "python3"
  },
  "language_info": {
   "codemirror_mode": {
    "name": "ipython",
    "version": 3
   },
   "file_extension": ".py",
   "mimetype": "text/x-python",
   "name": "python",
   "nbconvert_exporter": "python",
   "pygments_lexer": "ipython3",
   "version": "3.11.7"
  }
 },
 "nbformat": 4,
 "nbformat_minor": 5
}

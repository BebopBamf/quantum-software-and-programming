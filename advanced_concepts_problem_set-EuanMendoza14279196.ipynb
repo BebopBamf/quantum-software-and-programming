{
 "cells": [
  {
   "cell_type": "markdown",
   "id": "ce42d2e1-b5fd-44ce-b48a-5dbc9543ebb2",
   "metadata": {},
   "source": [
    "# Homework Assignment Notebook - Quantum Variables & Functions"
   ]
  },
  {
   "cell_type": "markdown",
   "id": "31c04130-bb0e-46c6-859b-4631c9b4ed34",
   "metadata": {},
   "source": [
    "This notebook, containing all required deliverables, should be submitted for the introduction to quantum programming session homework assignment."
   ]
  },
  {
   "cell_type": "markdown",
   "id": "bd7a5c38-c657-4837-af23-5833b0c9ab1f",
   "metadata": {},
   "source": [
    "## Your Assignment:"
   ]
  },
  {
   "cell_type": "markdown",
   "id": "8784f328-c664-48e7-a2b9-86c3ead473a0",
   "metadata": {},
   "source": [
    "After reviewing the [quantum variables and functions tutorial](https://docs.classiq.io/latest/classiq_101/classiq_concepts/design/quantum_variables_and_functions/), use the Classiq Python SDK with your preferred platform to:\n",
    "\n",
    "1. Design a quantum algorithm that prepares two qubits in the superposed state:\n",
    "\\begin{equation}\n",
    "\\frac{1}{\\sqrt{2}}|0\\rangle |0\\rangle+ \\frac{1}{2}|1\\rangle\\big(|0\\rangle+i |1\\rangle \\big) \n",
    "\\end{equation}\n",
    "To achieve this, create a function that uses the built-in `control` operators to apply rotations on a target qubit, conditioned on a control qubit. In your `main` function, declare and initialize the two required qubits as variables of your choice before invoking your function. \n",
    "Finally, execute your algorithm on the Classiq state vector simulator and verify that the final state matches the required superposition.\n",
    "\n",
    "    Note: do not use the controlled rotation built-in functions"
   ]
  },
  {
   "cell_type": "markdown",
   "id": "757de4fa-a49d-4ada-b0a7-dab54f0889df",
   "metadata": {},
   "source": [
    "2. Design a quantum algorithm for approximating the cosine function ($cos(x)$) in the range $x\\in[0,1)$.\n",
    "   For this task, initiate $x$ as a `QNum` variable of $3$ qubits, prepared in a superposition of the values:\n",
    "   \\begin{equation}\n",
    "   x\\in \\{\\frac{k}{8}: k=0,1,\\ldots,7\\}\n",
    "   \\end{equation}\n",
    "Hint: Think about how you could recreate the behavior of the cosine function using only basic arithmetic operations.\n",
    "\n",
    "   Aim for the highest accuracy possible. You can use the code in the “Your Solution” section to evaluate the accuracy of your approximation by comparing it with the classical computation of $cos(x)$ (through NumPy).\n"
   ]
  },
  {
   "cell_type": "markdown",
   "id": "4d4c8502-9b99-4cfa-90f1-66020bf5570d",
   "metadata": {},
   "source": [
    "\n",
    "\n",
    "Your code and explanations should be included in the following section, which provides a step-by-step outline of what needs to be submitted."
   ]
  },
  {
   "cell_type": "markdown",
   "id": "05f506ff-7710-4c19-b11f-fb2c51053adf",
   "metadata": {},
   "source": [
    "## Your Solution:"
   ]
  },
  {
   "cell_type": "markdown",
   "id": "6d64a1d5-fc86-471a-8d94-622debeb77a5",
   "metadata": {},
   "source": [
    "Follow the instructions in the #TODO comments in each snippet and insert your code to ensure the algorithms run correctly and produce the desired outcomes."
   ]
  },
  {
   "cell_type": "markdown",
   "id": "3b62c5ee-8be4-4fe3-a553-6f8dccdea950",
   "metadata": {},
   "source": [
    "1. Manual state preparation:\n",
    "\n",
    "To generate the required state, begin by defining a function that applies controlled operations to the target qubit. Note that the current function is just a placeholder allowing the rest of the code to run; update its signature and contents to produce the desired state."
   ]
  },
  {
   "cell_type": "code",
   "execution_count": 5,
   "id": "a3eaf77e-0dc4-4f74-a97a-8442f4687acd",
   "metadata": {},
   "outputs": [],
   "source": [
    "from classiq import *\n",
    "import numpy as np\n",
    "import json\n",
    "\n",
    "@qfunc\n",
    "def your_function(ctrl: QBit, target: QBit): # TODO: this is a placeholder signature so that the code in the notebook runs! \n",
    "    RY(np.pi/2, ctrl)\n",
    "    control(ctrl, lambda: RY(np.pi/2, target))\n",
    "    control(ctrl, lambda: RZ(np.pi/2, target))\n",
    "    \n",
    "                                        # Change the signature and name of the function to your signature and name\n",
    "    #pass # TODO: this is a placeholder so that the code in the notebook runs! Delete the pass and add your contents!\n"
   ]
  },
  {
   "cell_type": "markdown",
   "id": "fcdea70b-2f9d-47dd-ac60-9d25d4480bb6",
   "metadata": {},
   "source": [
    "Now, build your `main` function. Modify its signature and contents to declare, initialize, and (if necessary) prepare the required variables, before invoking the function defined earlier:"
   ]
  },
  {
   "cell_type": "code",
   "execution_count": 6,
   "id": "53f9c07b-b550-44a5-bf4b-4b35f9611a99",
   "metadata": {},
   "outputs": [],
   "source": [
    "@qfunc\n",
    "def main(ctrl: Output[QBit], target: Output[QBit]): # TODO: this is a placeholder signature so that the code in the notebook runs! \n",
    "    allocate(ctrl)   # TODO: this is a placeholder operation so that the code in the notebook runs! Change the contents to your contents!\n",
    "    allocate(target)   # TODO: this is a placeholder operation so that the code in the notebook runs! Change the contents to your contents!\n",
    "    your_function(ctrl, target) # TODO: this is a placeholder operation so that the code in the notebook runs! Change the contents to your contents!\n",
    "    \n",
    "# Creating the quantum model\n",
    "qmod = create_model(main)"
   ]
  },
  {
   "cell_type": "markdown",
   "id": "4c782a26-3054-4e30-9361-cc4c31f1adf8",
   "metadata": {},
   "source": [
    "Use the following code to synthesize the algorithm into a quantum program using the Classiq synthesis engine, setting the execution preferences to the Classiq state vector simulator:"
   ]
  },
  {
   "cell_type": "code",
   "execution_count": 7,
   "id": "acf20360-7d0b-4f43-81ca-1e774c67b587",
   "metadata": {},
   "outputs": [
    {
     "name": "stdout",
     "output_type": "stream",
     "text": [
      "Quantum program link: https://platform.classiq.io/circuit/32PavXLDubcL8LgTRoxOOjP7CJM\n"
     ]
    },
    {
     "data": {
      "application/vnd.classiq+qviz": "{\"version\":\"0.91.1\",\"interface_version\":\"12\",\"main_operation\":null,\"id_to_operations\":{\"0\":{\"name\":\"allocate\",\"inner_label\":null,\"qasm_name\":\"\",\"details\":\"\",\"children\":[],\"children_ids\":[],\"operation_data\":null,\"operation_links\":{\"inputs\":[],\"outputs\":[{\"label\":\"ctrl\",\"inner_label\":\"ARG\",\"qubits\":[0],\"type\":\"\",\"is_captured\":false}]},\"control_qubits\":[],\"auxiliary_qubits\":[],\"target_qubits\":[0],\"operation_level\":\"UNKNOWN\",\"operation_type\":\"ALLOCATE\",\"gate\":\"\",\"is_daggered\":false,\"expanded\":false,\"show_expanded_label\":false,\"is_low_level_fallback\":false,\"is_measurement\":false},\"1\":{\"name\":\"allocate\",\"inner_label\":null,\"qasm_name\":\"\",\"details\":\"\",\"children\":[],\"children_ids\":[],\"operation_data\":null,\"operation_links\":{\"inputs\":[],\"outputs\":[{\"label\":\"target\",\"inner_label\":\"ARG\",\"qubits\":[1],\"type\":\"\",\"is_captured\":false}]},\"control_qubits\":[],\"auxiliary_qubits\":[],\"target_qubits\":[1],\"operation_level\":\"UNKNOWN\",\"operation_type\":\"ALLOCATE\",\"gate\":\"\",\"is_daggered\":false,\"expanded\":false,\"show_expanded_label\":false,\"is_low_level_fallback\":false,\"is_measurement\":false},\"2\":{\"name\":\"ry\",\"inner_label\":null,\"qasm_name\":\"ry\",\"details\":\"(π/2)\",\"children\":[],\"children_ids\":[],\"operation_data\":null,\"operation_links\":{\"inputs\":[{\"label\":\"\",\"inner_label\":null,\"qubits\":[0],\"type\":\"\",\"is_captured\":false}],\"outputs\":[{\"label\":\"\",\"inner_label\":null,\"qubits\":[0],\"type\":\"\",\"is_captured\":false}]},\"control_qubits\":[],\"auxiliary_qubits\":[],\"target_qubits\":[0],\"operation_level\":\"UNKNOWN\",\"operation_type\":\"ATOMIC\",\"gate\":\"RY\",\"is_daggered\":false,\"expanded\":false,\"show_expanded_label\":false,\"is_low_level_fallback\":false,\"is_measurement\":false},\"3\":{\"name\":\"cry\",\"inner_label\":null,\"qasm_name\":\"cry\",\"details\":\"(π/2)\",\"children\":[],\"children_ids\":[],\"operation_data\":null,\"operation_links\":{\"inputs\":[{\"label\":\"\",\"inner_label\":null,\"qubits\":[1],\"type\":\"\",\"is_captured\":false},{\"label\":\"\",\"inner_label\":null,\"qubits\":[0],\"type\":\"\",\"is_captured\":false}],\"outputs\":[{\"label\":\"\",\"inner_label\":null,\"qubits\":[1],\"type\":\"\",\"is_captured\":false},{\"label\":\"\",\"inner_label\":null,\"qubits\":[0],\"type\":\"\",\"is_captured\":false}]},\"control_qubits\":[0],\"auxiliary_qubits\":[],\"target_qubits\":[1],\"operation_level\":\"UNKNOWN\",\"operation_type\":\"ATOMIC\",\"gate\":\"CRY\",\"is_daggered\":false,\"expanded\":false,\"show_expanded_label\":false,\"is_low_level_fallback\":false,\"is_measurement\":false},\"4\":{\"name\":\"crz\",\"inner_label\":null,\"qasm_name\":\"crz\",\"details\":\"(π/2)\",\"children\":[],\"children_ids\":[],\"operation_data\":null,\"operation_links\":{\"inputs\":[{\"label\":\"\",\"inner_label\":null,\"qubits\":[1],\"type\":\"\",\"is_captured\":false},{\"label\":\"\",\"inner_label\":null,\"qubits\":[0],\"type\":\"\",\"is_captured\":false}],\"outputs\":[{\"label\":\"\",\"inner_label\":null,\"qubits\":[1],\"type\":\"\",\"is_captured\":false},{\"label\":\"\",\"inner_label\":null,\"qubits\":[0],\"type\":\"\",\"is_captured\":false}]},\"control_qubits\":[0],\"auxiliary_qubits\":[],\"target_qubits\":[1],\"operation_level\":\"UNKNOWN\",\"operation_type\":\"ATOMIC\",\"gate\":\"CRZ\",\"is_daggered\":false,\"expanded\":false,\"show_expanded_label\":false,\"is_low_level_fallback\":false,\"is_measurement\":false},\"5\":{\"name\":\"your_function\",\"inner_label\":\"\",\"qasm_name\":\"main__your_function\",\"details\":\"\",\"children\":[],\"children_ids\":[2,3,4],\"operation_data\":{\"approximated_depth\":3,\"width\":2,\"gate_count\":{}},\"operation_links\":{\"inputs\":[{\"label\":\"target\",\"inner_label\":\"target\",\"qubits\":[1],\"type\":\"\",\"is_captured\":false},{\"label\":\"ctrl\",\"inner_label\":\"ctrl\",\"qubits\":[0],\"type\":\"\",\"is_captured\":false}],\"outputs\":[{\"label\":\"target\",\"inner_label\":\"target\",\"qubits\":[1],\"type\":\"\",\"is_captured\":false},{\"label\":\"ctrl\",\"inner_label\":\"ctrl\",\"qubits\":[0],\"type\":\"\",\"is_captured\":false}]},\"control_qubits\":[],\"auxiliary_qubits\":[],\"target_qubits\":[0,1],\"operation_level\":\"QMOD_CALL\",\"operation_type\":\"REGULAR\",\"gate\":\"\",\"is_daggered\":false,\"expanded\":false,\"show_expanded_label\":false,\"is_low_level_fallback\":false,\"is_measurement\":false},\"6\":{\"name\":\"main\",\"inner_label\":null,\"qasm_name\":\"\",\"details\":\"\",\"children\":[],\"children_ids\":[0,1,5],\"operation_data\":{\"approximated_depth\":3,\"width\":2,\"gate_count\":{\"RY\":1,\"CRY\":1,\"CRZ\":1}},\"operation_links\":{\"inputs\":[],\"outputs\":[{\"label\":\"target\",\"inner_label\":\"target\",\"qubits\":[1],\"type\":\"\",\"is_captured\":false},{\"label\":\"ctrl\",\"inner_label\":\"ctrl\",\"qubits\":[0],\"type\":\"\",\"is_captured\":false}]},\"control_qubits\":[],\"auxiliary_qubits\":[],\"target_qubits\":[0,1],\"operation_level\":\"QMOD_CALL\",\"operation_type\":\"REGULAR\",\"gate\":\"\",\"is_daggered\":false,\"expanded\":false,\"show_expanded_label\":false,\"is_low_level_fallback\":false,\"is_measurement\":false}},\"main_operation_id\":6,\"program_data\":{\"hardware_data\":{\"basis_gates\":[\"rz\",\"y\",\"r\",\"sdg\",\"rx\",\"s\",\"cy\",\"t\",\"z\",\"u1\",\"h\",\"cz\",\"ry\",\"tdg\",\"u\",\"x\",\"cx\",\"u2\",\"p\",\"sx\",\"id\",\"sxdg\"],\"connectivity_map\":null,\"is_symmetric_connectivity\":true,\"backend_data\":null},\"circuit_metrics\":{\"depth\":8,\"count_ops\":{\"u\":5,\"cx\":4}}}}",
      "text/plain": [
       "https://platform.classiq.io/circuit/32PavXLDubcL8LgTRoxOOjP7CJM?login=True&version=0.91.1"
      ]
     },
     "metadata": {
      "url": "https://platform.classiq.io/circuit/32PavXLDubcL8LgTRoxOOjP7CJM?login=True&version=0.91.1"
     },
     "output_type": "display_data"
    }
   ],
   "source": [
    "# from classiq import (ClassiqBackendPreferences,ClassiqSimulatorBackendNames, ExecutionPreferences)\n",
    "\n",
    "# Defining the backend as the Classiq state vector simulator\n",
    "state_vector=ClassiqBackendPreferences(\n",
    "        backend_name=ClassiqSimulatorBackendNames.SIMULATOR_STATEVECTOR)\n",
    "\n",
    "# Setting the execution preferences\n",
    "qmod = set_execution_preferences(qmod, ExecutionPreferences(backend_preferences=state_vector))\n",
    "\n",
    "# Synthesizing the model into a quantum program\n",
    "qprog= synthesize(qmod)\n",
    "show(qprog)"
   ]
  },
  {
   "cell_type": "markdown",
   "id": "0846c8ab-14fe-4b35-9b4e-dadac16b8a71",
   "metadata": {},
   "source": [
    "Finally, run the following code that executes the program on the Classiq simulator and displays the measurement outcomes along with their relative phases. Confirm that the results match your expectations.\n",
    "\n"
   ]
  },
  {
   "cell_type": "code",
   "execution_count": 8,
   "id": "fad5775d-3a6a-4a7a-a1db-61173e07553a",
   "metadata": {},
   "outputs": [
    {
     "name": "stdout",
     "output_type": "stream",
     "text": [
      "Probabilities = {'00': 0.4931640625, '01': 0.24365234375, '10': 0.0, '11': 0.26318359375}\n",
      "Relative phases = {'00': '0', '01': '-1π/4', '10': 'π', '11': '1π/4'}\n"
     ]
    }
   ],
   "source": [
    "import math\n",
    "from fractions import Fraction\n",
    "\n",
    "# Executing the quantum program\n",
    "job = execute(qprog)\n",
    "\n",
    "# Visualizing as a diagram in the IDE\n",
    "job.open_in_ide()\n",
    "\n",
    "# Retrieving the results as a nested data structure\n",
    "res = job.get_sample_result()\n",
    "\n",
    "# Extracting counts and state vector\n",
    "counts = res.counts\n",
    "state_vector = res.state_vector\n",
    "\n",
    "# Specify your desired key order\n",
    "raw_keys = [\"00\", \"01\", \"10\", \"11\"]\n",
    "\n",
    "# Normalize the counts by the total number of shots to receive probabilities\n",
    "probabilities = {\n",
    "    key: counts.get(key, 0) / 2048 for key in raw_keys\n",
    "}\n",
    "\n",
    "# Determine the global phase from the \"00\" key (if present)\n",
    "ref_val = state_vector.get(\"00\", 0j)\n",
    "ref_phase = math.atan2(ref_val.imag, ref_val.real)\n",
    "\n",
    "# Build the phase dictionary in a single pass\n",
    "phase_dict = {}\n",
    "for key in raw_keys:\n",
    "    val = state_vector.get(key, 0j)\n",
    "    angle = math.atan2(val.imag, val.real) - ref_phase  # subtract global phase\n",
    "\n",
    "    # Convert to fraction of π\n",
    "    frac = Fraction(angle / math.pi).limit_denominator(100)\n",
    "\n",
    "    # Format fraction as a string\n",
    "    if frac == 0:\n",
    "        phase_str = \"0\"\n",
    "    elif frac.denominator == 1:\n",
    "        if frac.numerator == 1:\n",
    "            phase_str = \"π\"\n",
    "        elif frac.numerator == -1:\n",
    "            phase_str = \"-π\"\n",
    "        else:\n",
    "            phase_str = f\"{frac.numerator}π\"\n",
    "    else:\n",
    "        phase_str = f\"{frac.numerator}π/{frac.denominator}\"\n",
    "    \n",
    "    phase_dict[key] = phase_str\n",
    "\n",
    "print(\"Probabilities =\", probabilities)\n",
    "print(\"Relative phases =\", phase_dict)"
   ]
  },
  {
   "cell_type": "markdown",
   "id": "bf8a0d4a-8714-43b6-935c-7c94e878d6bc",
   "metadata": {},
   "source": [
    "When running the above code, a new window will open and direct you to the IDE, allowing you to execute the circuit and observe the resulting diagram, complete with amplitudes and phases of the various states. Keep in mind that the phases are correct only up to a global phase, so only relative phases should be considered"
   ]
  },
  {
   "cell_type": "markdown",
   "id": "8abe1fd2-fce7-408a-b17c-96aa05a1856c",
   "metadata": {},
   "source": [
    "2. The approximation of the cosine function should be implemented within the following `compute_sin` function. Keep its name and variables unchanged, and fill in the necessary content."
   ]
  },
  {
   "cell_type": "code",
   "execution_count": 13,
   "id": "2303e64a-5559-4dfb-a5ce-fb3bc0d13cbf",
   "metadata": {},
   "outputs": [],
   "source": [
    "@qfunc\n",
    "def compute_cos(x: QNum, cos_x: Output[QNum]): # Do not change the variables declared in the signature and the name of function\n",
    "    allocate(3,cos_x) # TODO delete the content and write your own code contents \n",
    "    pass # TODO delete pass and write your own code contents"
   ]
  },
  {
   "cell_type": "markdown",
   "id": "795f6127-4f13-40ff-9cf6-989b56a26372",
   "metadata": {},
   "source": [
    "You can add further variables to the function, but make sure to take them into account when you call the function.  "
   ]
  },
  {
   "cell_type": "markdown",
   "id": "63d1c1a9-974c-418e-bcf6-2345dffd8688",
   "metadata": {},
   "source": [
    "Next, edit the `main` function below. Retain the same variables and declaration parameters, adding any additional variables as required, and include any necessary preparation steps before calling the `compute_cos` function: "
   ]
  },
  {
   "cell_type": "code",
   "execution_count": 14,
   "id": "c220a81e-ccf4-4b49-bcef-e8388f67444e",
   "metadata": {},
   "outputs": [],
   "source": [
    "@qfunc\n",
    "def main(x: Output[QNum[3,UNSIGNED,3]],cos_x: Output[QNum]): # Keep variable declarations, and add variables as needed.\n",
    "    allocate(3,x)\n",
    "    hadamard_transform(x)\n",
    "    #TODO add any other preparational steps aS needed\n",
    "    compute_cos(x,cos_x)\n",
    "    \n",
    "# Generating the model\n",
    "qmod = create_model(main)\n"
   ]
  },
  {
   "cell_type": "markdown",
   "id": "9c6e49cb-c85f-4d22-8cdb-0a649fd43b20",
   "metadata": {},
   "source": [
    "Synthesize and execute the circuit on the Classiq simulator (supporting up to 25 qubits) using the following code, outputting ordered pairs of the different $x$ and corresponding approximated $cos(x)$ values. "
   ]
  },
  {
   "cell_type": "code",
   "execution_count": 15,
   "id": "15861791-88ad-4048-a863-a7cd188f6059",
   "metadata": {},
   "outputs": [
    {
     "name": "stdout",
     "output_type": "stream",
     "text": [
      "Quantum program link: https://platform.classiq.io/circuit/32PRrjEtoFwhUTmY5jVc3WBOYan\n"
     ]
    },
    {
     "data": {
      "application/vnd.classiq+qviz": "{\"version\":\"0.91.1\",\"interface_version\":\"12\",\"main_operation\":null,\"id_to_operations\":{\"0\":{\"name\":\"allocate\",\"inner_label\":null,\"qasm_name\":\"\",\"details\":\"\",\"children\":[],\"children_ids\":[],\"operation_data\":null,\"operation_links\":{\"inputs\":[],\"outputs\":[{\"label\":\"x\",\"inner_label\":\"ARG\",\"qubits\":[3,4,5],\"type\":\"\",\"is_captured\":false}]},\"control_qubits\":[],\"auxiliary_qubits\":[],\"target_qubits\":[3,4,5],\"operation_level\":\"UNKNOWN\",\"operation_type\":\"ALLOCATE\",\"gate\":\"\",\"is_daggered\":false,\"expanded\":false,\"show_expanded_label\":false,\"is_low_level_fallback\":false,\"is_measurement\":false},\"1\":{\"name\":\"H\",\"inner_label\":null,\"qasm_name\":\"h\",\"details\":\"\",\"children\":[],\"children_ids\":[],\"operation_data\":null,\"operation_links\":{\"inputs\":[{\"label\":\"target[0]\",\"inner_label\":\"target[0]\",\"qubits\":[3],\"type\":\"\",\"is_captured\":false}],\"outputs\":[{\"label\":\"target[0]\",\"inner_label\":\"target[0]\",\"qubits\":[3],\"type\":\"\",\"is_captured\":false}]},\"control_qubits\":[],\"auxiliary_qubits\":[],\"target_qubits\":[3],\"operation_level\":\"UNKNOWN\",\"operation_type\":\"ATOMIC\",\"gate\":\"H\",\"is_daggered\":false,\"expanded\":false,\"show_expanded_label\":false,\"is_low_level_fallback\":false,\"is_measurement\":false},\"2\":{\"name\":\"H\",\"inner_label\":null,\"qasm_name\":\"h\",\"details\":\"\",\"children\":[],\"children_ids\":[],\"operation_data\":null,\"operation_links\":{\"inputs\":[{\"label\":\"target[1]\",\"inner_label\":\"target[1]\",\"qubits\":[4],\"type\":\"\",\"is_captured\":false}],\"outputs\":[{\"label\":\"target[1]\",\"inner_label\":\"target[1]\",\"qubits\":[4],\"type\":\"\",\"is_captured\":false}]},\"control_qubits\":[],\"auxiliary_qubits\":[],\"target_qubits\":[4],\"operation_level\":\"UNKNOWN\",\"operation_type\":\"ATOMIC\",\"gate\":\"H\",\"is_daggered\":false,\"expanded\":false,\"show_expanded_label\":false,\"is_low_level_fallback\":false,\"is_measurement\":false},\"3\":{\"name\":\"H\",\"inner_label\":null,\"qasm_name\":\"h\",\"details\":\"\",\"children\":[],\"children_ids\":[],\"operation_data\":null,\"operation_links\":{\"inputs\":[{\"label\":\"target[2]\",\"inner_label\":\"target[2]\",\"qubits\":[5],\"type\":\"\",\"is_captured\":false}],\"outputs\":[{\"label\":\"target[2]\",\"inner_label\":\"target[2]\",\"qubits\":[5],\"type\":\"\",\"is_captured\":false}]},\"control_qubits\":[],\"auxiliary_qubits\":[],\"target_qubits\":[5],\"operation_level\":\"UNKNOWN\",\"operation_type\":\"ATOMIC\",\"gate\":\"H\",\"is_daggered\":false,\"expanded\":false,\"show_expanded_label\":false,\"is_low_level_fallback\":false,\"is_measurement\":false},\"4\":{\"name\":\"pre__H__bind\",\"inner_label\":null,\"qasm_name\":\"\",\"details\":\"\",\"children\":[],\"children_ids\":[],\"operation_data\":null,\"operation_links\":{\"inputs\":[{\"label\":\"target\",\"inner_label\":\"target\",\"qubits\":[3,4,5],\"type\":\"\",\"is_captured\":false}],\"outputs\":[{\"label\":\"target[0]\",\"inner_label\":\"target[0]\",\"qubits\":[3],\"type\":\"\",\"is_captured\":false},{\"label\":\"\",\"inner_label\":null,\"qubits\":[4,5],\"type\":\"\",\"is_captured\":false}]},\"control_qubits\":[],\"auxiliary_qubits\":[],\"target_qubits\":[],\"operation_level\":\"UNKNOWN\",\"operation_type\":\"BIND\",\"gate\":\"\",\"is_daggered\":false,\"expanded\":false,\"show_expanded_label\":false,\"is_low_level_fallback\":false,\"is_measurement\":false},\"5\":{\"name\":\"pre__H__bind\",\"inner_label\":null,\"qasm_name\":\"\",\"details\":\"\",\"children\":[],\"children_ids\":[],\"operation_data\":null,\"operation_links\":{\"inputs\":[{\"label\":\"\",\"inner_label\":null,\"qubits\":[4,5],\"type\":\"\",\"is_captured\":false}],\"outputs\":[{\"label\":\"target[1]\",\"inner_label\":\"target[1]\",\"qubits\":[4],\"type\":\"\",\"is_captured\":false},{\"label\":\"\",\"inner_label\":null,\"qubits\":[5],\"type\":\"\",\"is_captured\":false}]},\"control_qubits\":[],\"auxiliary_qubits\":[],\"target_qubits\":[],\"operation_level\":\"UNKNOWN\",\"operation_type\":\"BIND\",\"gate\":\"\",\"is_daggered\":false,\"expanded\":false,\"show_expanded_label\":false,\"is_low_level_fallback\":false,\"is_measurement\":false},\"6\":{\"name\":\"pre__H__bind\",\"inner_label\":null,\"qasm_name\":\"\",\"details\":\"\",\"children\":[],\"children_ids\":[],\"operation_data\":null,\"operation_links\":{\"inputs\":[{\"label\":\"\",\"inner_label\":null,\"qubits\":[5],\"type\":\"\",\"is_captured\":false}],\"outputs\":[{\"label\":\"target[2]\",\"inner_label\":\"target[2]\",\"qubits\":[5],\"type\":\"\",\"is_captured\":false}]},\"control_qubits\":[],\"auxiliary_qubits\":[],\"target_qubits\":[],\"operation_level\":\"UNKNOWN\",\"operation_type\":\"BIND\",\"gate\":\"\",\"is_daggered\":false,\"expanded\":false,\"show_expanded_label\":false,\"is_low_level_fallback\":false,\"is_measurement\":false},\"7\":{\"name\":\"pre__output__bind\",\"inner_label\":null,\"qasm_name\":\"\",\"details\":\"\",\"children\":[],\"children_ids\":[],\"operation_data\":null,\"operation_links\":{\"inputs\":[{\"label\":\"target[0]\",\"inner_label\":\"target[0]\",\"qubits\":[3],\"type\":\"\",\"is_captured\":false},{\"label\":\"target[2]\",\"inner_label\":\"target[2]\",\"qubits\":[5],\"type\":\"\",\"is_captured\":false},{\"label\":\"target[1]\",\"inner_label\":\"target[1]\",\"qubits\":[4],\"type\":\"\",\"is_captured\":false}],\"outputs\":[{\"label\":\"target\",\"inner_label\":\"target\",\"qubits\":[3,4,5],\"type\":\"\",\"is_captured\":false}]},\"control_qubits\":[],\"auxiliary_qubits\":[],\"target_qubits\":[],\"operation_level\":\"UNKNOWN\",\"operation_type\":\"BIND\",\"gate\":\"\",\"is_daggered\":false,\"expanded\":false,\"show_expanded_label\":false,\"is_low_level_fallback\":false,\"is_measurement\":false},\"8\":{\"name\":\"pre__H__H__bind\",\"inner_label\":null,\"qasm_name\":\"\",\"details\":\"\",\"children\":[],\"children_ids\":[],\"operation_data\":null,\"operation_links\":{\"inputs\":[{\"label\":\"target\",\"inner_label\":\"target\",\"qubits\":[3,4,5],\"type\":\"\",\"is_captured\":false}],\"outputs\":[{\"label\":\"target[0]\",\"inner_label\":\"target[0]\",\"qubits\":[3],\"type\":\"\",\"is_captured\":false},{\"label\":\"target[1]\",\"inner_label\":\"target[1]\",\"qubits\":[4],\"type\":\"\",\"is_captured\":false},{\"label\":\"\",\"inner_label\":null,\"qubits\":[5],\"type\":\"\",\"is_captured\":false}]},\"control_qubits\":[],\"auxiliary_qubits\":[],\"target_qubits\":[],\"operation_level\":\"UNKNOWN\",\"operation_type\":\"BIND\",\"gate\":\"\",\"is_daggered\":false,\"expanded\":false,\"show_expanded_label\":false,\"is_low_level_fallback\":false,\"is_measurement\":false},\"9\":{\"name\":\"pre__H__H__H__bind\",\"inner_label\":null,\"qasm_name\":\"\",\"details\":\"\",\"children\":[],\"children_ids\":[],\"operation_data\":null,\"operation_links\":{\"inputs\":[{\"label\":\"target\",\"inner_label\":\"target\",\"qubits\":[3,4,5],\"type\":\"\",\"is_captured\":false}],\"outputs\":[{\"label\":\"target[0]\",\"inner_label\":\"target[0]\",\"qubits\":[3],\"type\":\"\",\"is_captured\":false},{\"label\":\"target[2]\",\"inner_label\":\"target[2]\",\"qubits\":[5],\"type\":\"\",\"is_captured\":false},{\"label\":\"target[1]\",\"inner_label\":\"target[1]\",\"qubits\":[4],\"type\":\"\",\"is_captured\":false}]},\"control_qubits\":[],\"auxiliary_qubits\":[],\"target_qubits\":[],\"operation_level\":\"UNKNOWN\",\"operation_type\":\"BIND\",\"gate\":\"\",\"is_daggered\":false,\"expanded\":false,\"show_expanded_label\":false,\"is_low_level_fallback\":false,\"is_measurement\":false},\"10\":{\"name\":\"hadamard_transform\",\"inner_label\":\"\",\"qasm_name\":\"main__hadamard_transform\",\"details\":\"\",\"children\":[],\"children_ids\":[9,1,2,3,7],\"operation_data\":{\"approximated_depth\":null,\"width\":3,\"gate_count\":{}},\"operation_links\":{\"inputs\":[{\"label\":\"x\",\"inner_label\":\"target\",\"qubits\":[3,4,5],\"type\":\"\",\"is_captured\":false}],\"outputs\":[{\"label\":\"x\",\"inner_label\":\"target\",\"qubits\":[3,4,5],\"type\":\"\",\"is_captured\":false}]},\"control_qubits\":[],\"auxiliary_qubits\":[],\"target_qubits\":[3,4,5],\"operation_level\":\"QMOD_CALL\",\"operation_type\":\"REGULAR\",\"gate\":\"\",\"is_daggered\":false,\"expanded\":false,\"show_expanded_label\":false,\"is_low_level_fallback\":false,\"is_measurement\":false},\"11\":{\"name\":\"allocate\",\"inner_label\":null,\"qasm_name\":\"\",\"details\":\"\",\"children\":[],\"children_ids\":[],\"operation_data\":null,\"operation_links\":{\"inputs\":[],\"outputs\":[{\"label\":\"cos_x\",\"inner_label\":\"ARG\",\"qubits\":[0,1,2],\"type\":\"\",\"is_captured\":false}]},\"control_qubits\":[],\"auxiliary_qubits\":[],\"target_qubits\":[0,1,2],\"operation_level\":\"UNKNOWN\",\"operation_type\":\"ALLOCATE\",\"gate\":\"\",\"is_daggered\":false,\"expanded\":false,\"show_expanded_label\":false,\"is_low_level_fallback\":false,\"is_measurement\":false},\"12\":{\"name\":\"compute_cos\",\"inner_label\":\"\",\"qasm_name\":\"main__compute_cos\",\"details\":\"\",\"children\":[],\"children_ids\":[11],\"operation_data\":{\"approximated_depth\":null,\"width\":6,\"gate_count\":{}},\"operation_links\":{\"inputs\":[{\"label\":\"x\",\"inner_label\":\"x\",\"qubits\":[3,4,5],\"type\":\"\",\"is_captured\":false}],\"outputs\":[{\"label\":\"cos_x\",\"inner_label\":\"cos_x\",\"qubits\":[0,1,2],\"type\":\"\",\"is_captured\":false},{\"label\":\"x\",\"inner_label\":\"x\",\"qubits\":[3,4,5],\"type\":\"\",\"is_captured\":false}]},\"control_qubits\":[],\"auxiliary_qubits\":[],\"target_qubits\":[0,1,2,3,4,5],\"operation_level\":\"QMOD_CALL\",\"operation_type\":\"REGULAR\",\"gate\":\"\",\"is_daggered\":false,\"expanded\":false,\"show_expanded_label\":false,\"is_low_level_fallback\":false,\"is_measurement\":false},\"13\":{\"name\":\"main\",\"inner_label\":null,\"qasm_name\":\"\",\"details\":\"\",\"children\":[],\"children_ids\":[0,10,12],\"operation_data\":{\"approximated_depth\":1,\"width\":6,\"gate_count\":{\"H\":3}},\"operation_links\":{\"inputs\":[],\"outputs\":[{\"label\":\"cos_x\",\"inner_label\":\"cos_x\",\"qubits\":[0,1,2],\"type\":\"\",\"is_captured\":false},{\"label\":\"x\",\"inner_label\":\"x\",\"qubits\":[3,4,5],\"type\":\"\",\"is_captured\":false}]},\"control_qubits\":[],\"auxiliary_qubits\":[],\"target_qubits\":[0,1,2,3,4,5],\"operation_level\":\"QMOD_CALL\",\"operation_type\":\"REGULAR\",\"gate\":\"\",\"is_daggered\":false,\"expanded\":false,\"show_expanded_label\":false,\"is_low_level_fallback\":false,\"is_measurement\":false}},\"main_operation_id\":13,\"program_data\":{\"hardware_data\":{\"basis_gates\":[\"y\",\"r\",\"u1\",\"cz\",\"rx\",\"id\",\"z\",\"u2\",\"tdg\",\"rz\",\"cx\",\"p\",\"x\",\"s\",\"ry\",\"sxdg\",\"sdg\",\"h\",\"t\",\"u\",\"sx\",\"cy\"],\"connectivity_map\":null,\"is_symmetric_connectivity\":true,\"backend_data\":null},\"circuit_metrics\":{\"depth\":1,\"count_ops\":{\"u\":3}}}}",
      "text/plain": [
       "https://platform.classiq.io/circuit/32PRrjEtoFwhUTmY5jVc3WBOYan?login=True&version=0.91.1"
      ]
     },
     "metadata": {
      "url": "https://platform.classiq.io/circuit/32PRrjEtoFwhUTmY5jVc3WBOYan?login=True&version=0.91.1"
     },
     "output_type": "display_data"
    },
    {
     "name": "stdout",
     "output_type": "stream",
     "text": [
      "(x, cos_x): [(0.0, 0), (0.125, 0), (0.25, 0), (0.375, 0), (0.5, 0), (0.625, 0), (0.75, 0), (0.875, 0)]\n"
     ]
    }
   ],
   "source": [
    "# Setting the constraints (up to 25 qubits) \n",
    "constraints = Constraints(max_width=25)\n",
    "qmod_with_constraints = set_constraints(qmod,constraints)\n",
    "#synthesizing the model to a quantum program\n",
    "qprog=synthesize(qmod_with_constraints)\n",
    "show(qprog)\n",
    "\n",
    "# Executing the quantum program\n",
    "job = execute(qprog)                                                                    \n",
    "res = job.get_sample_result() # A nested data structure storing the results\n",
    "\n",
    "# Extracting (x, cos_x) pairs from the parsed states and sorting them by x\n",
    "ordered_pairs = [(entry[\"x\"], entry[\"cos_x\"]) for entry in res.parsed_states.values()]\n",
    "ordered_pairs.sort(key=lambda pair: pair[0])\n",
    "print(\"(x, cos_x):\", ordered_pairs)"
   ]
  },
  {
   "cell_type": "markdown",
   "id": "e927062a-6c84-4d2f-bc7c-6d2facff40ea",
   "metadata": {},
   "source": [
    "Verify that the results make sense before continuing to evaluate the approximation accuracy."
   ]
  },
  {
   "cell_type": "markdown",
   "id": "98827c98-560c-4f92-a619-e123e290d0ab",
   "metadata": {},
   "source": [
    "Finally, use the following code to evaluate your quantum algorithm’s approximation accuracy by comparing its results to classical (NumPy-based) cosine values over the same domain, utilizing the maximal distance as the metric."
   ]
  },
  {
   "cell_type": "code",
   "execution_count": 16,
   "id": "68bcb2f6-df3c-4faf-82ec-20b64cc0001e",
   "metadata": {},
   "outputs": [],
   "source": [
    "import numpy as np\n",
    "\n",
    "def evaluate_score_prec(res):\n",
    "    \"\"\"\n",
    "    Evaluate the score based on the provided result object `res` and user-specified precision.\n",
    "\n",
    "    Parameters:\n",
    "        res: The result object containing `parsed_states` and other information.\n",
    "        user_input_precision: The precision level for the evaluation.\n",
    "\n",
    "    Returns:\n",
    "        max_distance: The maximum distance between expected and measured y values.\n",
    "    \"\"\"\n",
    "    # Constants:\n",
    "    calculated_precision = 3 # number of qubits used for the QNum variable x\n",
    "    domain = np.arange(0, 1, 1 / 2**calculated_precision)\n",
    "    expected_y = np.cos(domain) # Calculates the cos values classically with NumPy\n",
    "\n",
    "    # Extract parsed states\n",
    "    parsed_states = res.parsed_states\n",
    "    \n",
    "    # Sort parsed states by 'x' values\n",
    "    parsed_counts = sorted(parsed_states.items(), key=lambda item: item[1]['x'])\n",
    "    \n",
    "    # Form the dictionary with x and y values\n",
    "    results_dict = {float(s[1]['x']): float(s[1]['cos_x']) for s in parsed_counts}\n",
    "\n",
    "    # Verify all strings were sampled, also no superpositions\n",
    "    assert len(results_dict) == 2 ** calculated_precision, \\\n",
    "        f\"Expected {2 ** calculated_precision} unique states, but got {len(results_dict)}.\"\n",
    "\n",
    "    # Compare user's results against expected results:\n",
    "    measured_y = []\n",
    "    for x_val in domain:\n",
    "        # Find the floored x value that matches user precision\n",
    "        x_val_floored = int(x_val * (2 ** calculated_precision)) / (2 ** calculated_precision)\n",
    "        measured_y.append(results_dict.get(x_val_floored, 0))  # Default to 0 if key is missing\n",
    "\n",
    "    # Calculate the maximal distance metric:\n",
    "    max_distance = np.max(np.abs(expected_y - np.array(measured_y)))\n",
    "    return max_distance"
   ]
  },
  {
   "cell_type": "code",
   "execution_count": 17,
   "id": "c88dcd48-691e-499d-971a-5a3d4cb70e51",
   "metadata": {},
   "outputs": [
    {
     "name": "stdout",
     "output_type": "stream",
     "text": [
      "Maximal Distance: 1.0\n"
     ]
    }
   ],
   "source": [
    "max_distance = evaluate_score_prec(res)\n",
    "print(f\"Maximal Distance: {max_distance}\")"
   ]
  },
  {
   "cell_type": "markdown",
   "id": "bc089452-c243-405b-8d11-9e1469f2dc15",
   "metadata": {},
   "source": [
    "If you have followed the steps in this section and every code snippet runs successfully, congratulations! you’re done.\n",
    "Please upload this notebook via the submission form sent to you."
   ]
  }
 ],
 "metadata": {
  "kernelspec": {
   "display_name": "classiq-venv",
   "language": "python",
   "name": "python3"
  },
  "language_info": {
   "codemirror_mode": {
    "name": "ipython",
    "version": 3
   },
   "file_extension": ".py",
   "mimetype": "text/x-python",
   "name": "python",
   "nbconvert_exporter": "python",
   "pygments_lexer": "ipython3",
   "version": "3.12.11"
  }
 },
 "nbformat": 4,
 "nbformat_minor": 5
}

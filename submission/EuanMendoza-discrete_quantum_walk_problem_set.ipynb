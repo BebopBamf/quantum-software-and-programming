{
 "cells": [
  {
   "cell_type": "markdown",
   "id": "ce42d2e1-b5fd-44ce-b48a-5dbc9543ebb2",
   "metadata": {
    "id": "ce42d2e1-b5fd-44ce-b48a-5dbc9543ebb2"
   },
   "source": [
    "# Homework Assignment Notebook - Discrete Quantum Walks"
   ]
  },
  {
   "cell_type": "markdown",
   "id": "31c04130-bb0e-46c6-859b-4631c9b4ed34",
   "metadata": {
    "id": "31c04130-bb0e-46c6-859b-4631c9b4ed34"
   },
   "source": [
    "This notebook, containing all required deliverables, should be submitted for the Discrete Quantum Walk module homework assignment."
   ]
  },
  {
   "cell_type": "markdown",
   "id": "1874a871-5f69-4524-97cb-57fc70ab4a02",
   "metadata": {},
   "source": [
    "The quantum equivalent of the random walk process can be established by defining a \"Coin Flip\" operator, $C$, and a \"Shift\" operator, $S$.\n",
    "\n",
    "$$\n",
    "C := \\sum_{j\\in V} |j\\rangle\\langle j| \\otimes\n",
    "(2|\\partial_j\\rangle\\langle\\partial_j| - I),\\\\\n",
    "S :=\n",
    "\\sum_{(j,k)\\in E}|j,k\\rangle\\langle k,j|.\n",
    "$$\n",
    "\n",
    "By applying these two operators many times in succession, we establish the equivalence of the random walk in the quantum realm."
   ]
  },
  {
   "cell_type": "markdown",
   "id": "bd7a5c38-c657-4837-af23-5833b0c9ab1f",
   "metadata": {
    "id": "bd7a5c38-c657-4837-af23-5833b0c9ab1f"
   },
   "source": [
    "## Your Assignment:"
   ]
  },
  {
   "cell_type": "markdown",
   "id": "8784f328-c664-48e7-a2b9-86c3ead473a0",
   "metadata": {
    "id": "8784f328-c664-48e7-a2b9-86c3ead473a0"
   },
   "source": [
    "Using the Qmod example from the lecture (4-node cycle), inspired by Andrew Childs’ [lecture notes](https://www.cs.umd.edu/~amchilds/qa/qa.pdf) (pp. 89–90), design a quantum walk operator for a 16-node line:\n"
   ]
  },
  {
   "cell_type": "markdown",
   "id": "83f417a5-7cd1-4d6f-b92f-075cc20c936c",
   "metadata": {},
   "source": [
    "<div style=\"text-align:center;\">\n",
    "    <img src=\"https://docs.classiq.io/resources/linear_graph_16_nodes.png\" alt=\"Linear 16-node Graph\" />\n",
    "</div>\n"
   ]
  },
  {
   "cell_type": "markdown",
   "id": "06c9689d-e982-4523-bb97-4de7edf36365",
   "metadata": {},
   "source": [
    "Use the in-class quantum walk circle example code and Child's lecture notes as your starting point.\n",
    "\n",
    "You may extend it beyond the assignment’s requirements and class coverage, generalizing your code into a general-purpose algorithm that handles all cases."
   ]
  },
  {
   "cell_type": "markdown",
   "id": "4d4c8502-9b99-4cfa-90f1-66020bf5570d",
   "metadata": {
    "id": "4d4c8502-9b99-4cfa-90f1-66020bf5570d"
   },
   "source": [
    "\n",
    "Your code and explanations should be included in the following section, which provides a step-by-step outline of what needs to be submitted."
   ]
  },
  {
   "cell_type": "markdown",
   "id": "05f506ff-7710-4c19-b11f-fb2c51053adf",
   "metadata": {
    "id": "05f506ff-7710-4c19-b11f-fb2c51053adf"
   },
   "source": [
    "## Your Solution:"
   ]
  },
  {
   "cell_type": "code",
   "execution_count": 1,
   "id": "b27f2798-e81f-4fa3-9c5c-f2b8182da6c6",
   "metadata": {},
   "outputs": [],
   "source": [
    "from classiq import *"
   ]
  },
  {
   "cell_type": "code",
   "execution_count": 3,
   "id": "866298d0-3154-4f46-99c5-b17087910799",
   "metadata": {},
   "outputs": [
    {
     "name": "stdout",
     "output_type": "stream",
     "text": [
      "Quantum program link: https://platform.classiq.io/circuit/34jVQ42jynReRterwLQ5EmSBiiT\n"
     ]
    }
   ],
   "source": [
    "#TODO: Insert your solution here, it should be written by you, \n",
    "# including checking that your algorithm produces the correct results.\n",
    "# Good luck!\n",
    "\n",
    "size = 2\n",
    "\n",
    "@qfunc\n",
    "def prepare_minus(aux: Output[QBit]):\n",
    "  allocate(1,aux)\n",
    "  X(aux)\n",
    "  H(aux)\n",
    "\n",
    "@qfunc\n",
    "def diffuser_oracle(aux: QNum, x: QNum):\n",
    "  aux ^= (x!=0)\n",
    "\n",
    "@qfunc\n",
    "def zero_diffuser(x: QNum):\n",
    "  aux = QBit('aux')\n",
    "  within_apply(lambda: prepare_minus(aux),\n",
    "              lambda: diffuser_oracle(aux,x))\n",
    "# Newer option to do the oracle and preparation within one line with control and phase\n",
    "\n",
    "@qfunc\n",
    "def C_operator(vertices: QNum, adjacent_vertices: QNum):\n",
    "    for i in range(2**size):\n",
    "      prob = [0,0,0,0]\n",
    "      prob[(i+1)% 4]=0.5\n",
    "      prob[(i-1)% 4]=0.5\n",
    "      control(vertices==i,\n",
    "              lambda: within_apply(\n",
    "              lambda: inplace_prepare_state(probabilities=prob, bound=0.01, target=adjacent_vertices),\n",
    "              lambda: zero_diffuser(adjacent_vertices)))\n",
    "\n",
    "@qfunc\n",
    "def edge_oracle(res:Output[QBit], vertices: QNum, adjacent_vertices: QNum):\n",
    "  res |= (((vertices+adjacent_vertices)%2) ==1)\n",
    "\n",
    "\n",
    "@qfunc \n",
    "def bitwise_swap(x: QArray[QBit], y:QArray[QBit]):\n",
    "  for i in range(x.len):\n",
    "   SWAP(x[i],y[i])\n",
    "  \n",
    "\n",
    "@qfunc \n",
    "def S_operator(vertices:QNum, adjacent_vertices: QNum):\n",
    "    res = QNum('res')\n",
    "    edge_oracle(res,vertices,adjacent_vertices) \n",
    "    control(res==1,\n",
    "        lambda: bitwise_swap(vertices,adjacent_vertices))\n",
    "    free(res)\n",
    "\n",
    "@qfunc \n",
    "def main(vertices: Output[QNum], adjacent_vertices:Output[QNum]):\n",
    "    allocate(size, vertices)\n",
    "  inplace_prepare_state(probabilities=[1,0,0,0], bound=0.01, target=vertices),\n",
    "  \n",
    "    allocate(size, adjacent_vertices)\n",
    "  inplace_prepare_state(probabilities=[0,1,0,0], bound=0.01, target=adjacent_vertices),\n",
    "  C_operator(vertices,adjacent_vertices)\n",
    "  S_operator(vertices,adjacent_vertices)\n",
    "\n",
    "qmod = create_model(main)\n",
    "qprog = synthesize(qmod)\n",
    "show(qprog)\n",
    "\n"
   ]
  },
  {
   "cell_type": "code",
   "execution_count": null,
   "id": "8750b2e9-7cf4-40ab-8230-ad530ffa3918",
   "metadata": {},
   "outputs": [],
   "source": [
    "# Number of nodes in a graph\n",
    "N = 15"
   ]
  },
  {
   "cell_type": "markdown",
   "id": "bc089452-c243-405b-8d11-9e1469f2dc15",
   "metadata": {
    "id": "bc089452-c243-405b-8d11-9e1469f2dc15"
   },
   "source": [
    "Don't forget to verify that your algorithm works for several initial states!\n"
   ]
  },
  {
   "cell_type": "markdown",
   "id": "3a990f56-3ee8-4b5d-adca-489ca5f053eb",
   "metadata": {},
   "source": [
    "Please upload this notebook with your solution via the submission form sent to you.\n"
   ]
  }
 ],
 "metadata": {
  "colab": {
   "provenance": []
  },
  "kernelspec": {
   "display_name": "Python 3 (ipykernel)",
   "language": "python",
   "name": "python3"
  },
  "language_info": {
   "codemirror_mode": {
    "name": "ipython",
    "version": 3
   },
   "file_extension": ".py",
   "mimetype": "text/x-python",
   "name": "python",
   "nbconvert_exporter": "python",
   "pygments_lexer": "ipython3",
   "version": "3.12.12"
  }
 },
 "nbformat": 4,
 "nbformat_minor": 5
}

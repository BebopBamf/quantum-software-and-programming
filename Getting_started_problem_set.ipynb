{
 "cells": [
  {
   "cell_type": "markdown",
   "id": "ce42d2e1-b5fd-44ce-b48a-5dbc9543ebb2",
   "metadata": {},
   "source": [
    "# Homework Assignment Notebook - Introduction to Quantum Programming"
   ]
  },
  {
   "cell_type": "markdown",
   "id": "31c04130-bb0e-46c6-859b-4631c9b4ed34",
   "metadata": {},
   "source": [
    "This notebook, containing all required deliverables, should be submitted for the introduction to quantum programming session homework assignment."
   ]
  },
  {
   "cell_type": "markdown",
   "id": "bd7a5c38-c657-4837-af23-5833b0c9ab1f",
   "metadata": {},
   "source": [
    "## Your Assignment:"
   ]
  },
  {
   "cell_type": "markdown",
   "id": "8784f328-c664-48e7-a2b9-86c3ead473a0",
   "metadata": {},
   "source": [
    "After reviewing the [Classiq overview tutorial](https://docs.classiq.io/latest/explore/tutorials/basic_tutorials/the_classiq_tutorial/classiq_overview_tutorial/) and the related tutorials on [synthesis](https://docs.classiq.io/latest/explore/tutorials/basic_tutorials/the_classiq_tutorial/synthesis_tutorial/) and [execution](https://docs.classiq.io/latest/explore/tutorials/basic_tutorials/the_classiq_tutorial/execution_tutorial/), use the Classiq Python SDK with your preferred platform to:\n",
    "\n",
    "1. Create a quantum algorithm that explicitly prepares a general `n`-qubit GHZ state:\n",
    "  \\begin{equation}\n",
    "   |GHZ\\rangle_8=\\frac{1}{\\sqrt{2}}|0\\rangle^{\\otimes n}+\\frac{1}{\\sqrt{2}}|1\\rangle^{\\otimes n}=\\frac{1}{\\sqrt{2}}|000\\ldots\\rangle+\\frac{1}{\\sqrt{2}}|111\\ldots\\rangle\n",
    "  \\end{equation}\n",
    "    The GHZ state is a multi-qubit generalization of the Bell state for more than two qubits. To create the algorithm, implement a  function that iterates over all qubits and applies the necessary controlled operations, and a `main` function that initializes the qubits and prepares them for the operation of the function. After designing your algorithm, execute your code for 8 qubits to verify its correctness.\n",
    "\n"
   ]
  },
  {
   "cell_type": "markdown",
   "id": "01fe7c18-b789-440c-87d8-22e8a1ebdc50",
   "metadata": {},
   "source": [
    "2. Synthesize nine distinct implementations of an Multi-Control-X (MCX) with $20$ control qubits and one target qubit, varying the `max width` constraint within the range $[22,30]$. For each implementation, optimize for minimal depth.\n",
    "\n",
    "    Finally, plot the transpiled circuit depth as a function of the circuit width (the number of qubits used) for each width in the given range. Explain the results."
   ]
  },
  {
   "cell_type": "markdown",
   "id": "4d4c8502-9b99-4cfa-90f1-66020bf5570d",
   "metadata": {},
   "source": [
    "\n",
    "\n",
    "Your code and explanations should be included in the following section, which provides a step-by-step outline of what needs to be submitted."
   ]
  },
  {
   "cell_type": "markdown",
   "id": "05f506ff-7710-4c19-b11f-fb2c51053adf",
   "metadata": {},
   "source": [
    "## Your Solution:"
   ]
  },
  {
   "cell_type": "markdown",
   "id": "54238311-38de-4d8c-bae6-725c1c1a738a",
   "metadata": {},
   "source": [
    "Follow the instructions in the #TODO comments in each snippet and insert your code to ensure the algorithms run correctly and produce the desired outcomes."
   ]
  },
  {
   "cell_type": "markdown",
   "id": "76a2127f-63d2-4c26-bb01-454c2e6749d6",
   "metadata": {},
   "source": [
    "1. Create your general GHZ algorithm following these steps.\n",
    "\n",
    "Write your function here, leave the function name and signature as it is, and change the content of the function:"
   ]
  },
  {
   "cell_type": "code",
   "execution_count": null,
   "id": "381bbe7f-9f5d-47d5-81b9-10104e5676da",
   "metadata": {},
   "outputs": [],
   "source": [
    "from classiq import *\n",
    "\n",
    "@qfunc\n",
    "def iterative_cx(reg: QArray):\n",
    "    X(reg[1]) #TODO: this is a placeholder operation so that the code in the notebook runs! change the contents to your contents!\n"
   ]
  },
  {
   "cell_type": "markdown",
   "id": "304b11c6-4a25-4fa1-b8d3-815efcd1282d",
   "metadata": {},
   "source": [
    "Implement your `main` function here, declaring and initializing the `QArray` variable `reg` with $8$ qubits, and performing any  necessary preparation operations before invoking the `iterative_cx` function (Note: Your implementation should be general for any number of qubits. The `reg` variable is initiated to $8$ qubits only to verify its correctness):"
   ]
  },
  {
   "cell_type": "code",
   "execution_count": null,
   "id": "49c24d39-ee67-4132-b791-9d305fbf4724",
   "metadata": {},
   "outputs": [],
   "source": [
    "@qfunc\n",
    "def main(reg: Output[QArray]):\n",
    "    allocate(8, reg) # Allocation\n",
    "    #TODO: add any preparation operations needed before invoking the function\n",
    "    iterative_cx(reg)\n",
    "\n",
    "# Creating the model\n",
    "qmod=create_model(main)\n",
    "\n",
    "# Synthesizing the model into a quantum program\n",
    "qprog = synthesize(create_model(main))\n",
    "# Displaying the circuit using the IDE’s visualization tool\n",
    "show(qprog)\n"
   ]
  },
  {
   "cell_type": "markdown",
   "id": "610d0a05-16ff-449b-b176-26dc26c1cca7",
   "metadata": {},
   "source": [
    "Finally, use this snippet to execute the obtained quantum program on the Classiq simulator (with the default number of shots $shots=2048$) to verify your code:"
   ]
  },
  {
   "cell_type": "code",
   "execution_count": null,
   "id": "58114087-7fa4-4881-8231-6a5ee54a2e71",
   "metadata": {},
   "outputs": [],
   "source": [
    "# Executing the quantum program\n",
    "job = execute(qprog)\n",
    "\n",
    "# Visualizing the measurements as a diagram in the IDE\n",
    "job.open_in_ide()\n",
    "\n",
    "# Retrieving the results as a nested data structure\n",
    "res = job.get_sample_result()\n",
    "\n",
    "# Extracting probabilities\n",
    "counts = res.counts\n",
    "probabilities = {key: value / 2048 for key, value in counts.items()}\n",
    "print(\"Probabilities:\", probabilities)"
   ]
  },
  {
   "cell_type": "markdown",
   "id": "8abe1fd2-fce7-408a-b17c-96aa05a1856c",
   "metadata": {},
   "source": [
    "2. To implement the required optimized MCX circuits, start by developing an MCX algorithm configured for $20$ control qubits and $1$ target qubit\n",
    "\n",
    "The `main` function below is a placeholder to ensure the subsequent code snippets run correctly. Update the function signature and contents to align with the required MCX algorithm."
   ]
  },
  {
   "cell_type": "code",
   "execution_count": null,
   "id": "2303e64a-5559-4dfb-a5ce-fb3bc0d13cbf",
   "metadata": {},
   "outputs": [],
   "source": [
    "@qfunc\n",
    "def main(x: Output[QBit]): #TODO: Change the function signature to the required MCX algorithm\n",
    "    allocate(1, x) #TODO: Change the function contents to the required MCX algorithm\n",
    "    H(x)\n",
    "qmod = create_model(main)"
   ]
  },
  {
   "cell_type": "markdown",
   "id": "63d1c1a9-974c-418e-bcf6-2345dffd8688",
   "metadata": {},
   "source": [
    "You can use the following code snippet as a starting point to extract the circuit depth and width for generating your plot:"
   ]
  },
  {
   "cell_type": "code",
   "execution_count": null,
   "id": "c220a81e-ccf4-4b49-bcef-e8388f67444e",
   "metadata": {},
   "outputs": [],
   "source": [
    "import numpy as np\n",
    "\n",
    "width=2 #TODO: Change the value to the desired max width constraint\n",
    "\n",
    "# Setting constraints and optimization preferences on the circuit synthesis engine\n",
    "qmod_with_constraints = set_constraints(qmod, Constraints(optimization_parameter=\"depth\",max_width= width))\n",
    "\n",
    "# Synthesizing into a quantum program and extracting the width and depth\n",
    "quantum_program=synthesize(qmod_with_constraints)\n",
    "\n",
    "# Extracting width and depth and printing\n",
    "circuit_width = quantum_program.data.width\n",
    "circuit_depth = quantum_program.transpiled_circuit.depth\n",
    "\n",
    "print(\"Width=\",circuit_width)\n",
    "print(\"Depth=\",circuit_depth)"
   ]
  },
  {
   "cell_type": "markdown",
   "id": "bc089452-c243-405b-8d11-9e1469f2dc15",
   "metadata": {},
   "source": [
    "Use the `matplotlib` library to generate your plot, and include a markdown cell to explain your results after the plot."
   ]
  },
  {
   "cell_type": "markdown",
   "id": "5eba71b3-8e17-4d33-b9c0-300839b51fc2",
   "metadata": {},
   "source": [
    "If you have followed the steps in this section and every code snippet runs successfully, congratulations! you’re done.\n",
    "Please upload this notebook via the submission form sent to you."
   ]
  },
  {
   "cell_type": "code",
   "execution_count": null,
   "id": "4e019545-3fb5-4a2c-986d-c13c73c4e9f0",
   "metadata": {},
   "outputs": [],
   "source": []
  }
 ],
 "metadata": {
  "kernelspec": {
   "display_name": "Python 3 (ipykernel)",
   "language": "python",
   "name": "python3"
  },
  "language_info": {
   "codemirror_mode": {
    "name": "ipython",
    "version": 3
   },
   "file_extension": ".py",
   "mimetype": "text/x-python",
   "name": "python",
   "nbconvert_exporter": "python",
   "pygments_lexer": "ipython3",
   "version": "3.11.7"
  }
 },
 "nbformat": 4,
 "nbformat_minor": 5
}
